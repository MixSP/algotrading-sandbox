{
 "cells": [
  {
   "cell_type": "markdown",
   "id": "ab994b0d-3541-466f-a67d-d1d6424d9ccf",
   "metadata": {},
   "source": [
    "# Импорты"
   ]
  },
  {
   "cell_type": "code",
   "execution_count": 1,
   "id": "ab1d7921-a76a-4653-92ab-50586ed67b78",
   "metadata": {},
   "outputs": [],
   "source": [
    "from pathlib import Path\n",
    "import sys\n",
    "\n",
    "sys.path.append(str(Path.cwd().parent))"
   ]
  },
  {
   "cell_type": "code",
   "execution_count": 2,
   "id": "1952569f-11a8-48cc-a53e-156fa5458f31",
   "metadata": {},
   "outputs": [
    {
     "name": "stderr",
     "output_type": "stream",
     "text": [
      "C:\\Users\\MixSP\\Envs\\dsml\\Lib\\site-packages\\backtesting\\_plotting.py:55: UserWarning: Jupyter Notebook detected. Setting Bokeh output to notebook. This may not work in Jupyter clients without JavaScript support, such as old IDEs. Reset with `backtesting.set_bokeh_output(notebook=False)`.\n",
      "  warnings.warn('Jupyter Notebook detected. '\n"
     ]
    },
    {
     "data": {
      "text/html": [
       "    <style>\n",
       "        .bk-notebook-logo {\n",
       "            display: block;\n",
       "            width: 20px;\n",
       "            height: 20px;\n",
       "            background-image: url(data:image/png;base64,iVBORw0KGgoAAAANSUhEUgAAABQAAAAUCAYAAACNiR0NAAAABHNCSVQICAgIfAhkiAAAAAlwSFlzAAALEgAACxIB0t1+/AAAABx0RVh0U29mdHdhcmUAQWRvYmUgRmlyZXdvcmtzIENTNui8sowAAAOkSURBVDiNjZRtaJVlGMd/1/08zzln5zjP1LWcU9N0NkN8m2CYjpgQYQXqSs0I84OLIC0hkEKoPtiH3gmKoiJDU7QpLgoLjLIQCpEsNJ1vqUOdO7ppbuec5+V+rj4ctwzd8IIbbi6u+8f1539dt3A78eXC7QizUF7gyV1fD1Yqg4JWz84yffhm0qkFqBogB9rM8tZdtwVsPUhWhGcFJngGeWrPzHm5oaMmkfEg1usvLFyc8jLRqDOMru7AyC8saQr7GG7f5fvDeH7Ej8CM66nIF+8yngt6HWaKh7k49Soy9nXurCi1o3qUbS3zWfrYeQDTB/Qj6kX6Ybhw4B+bOYoLKCC9H3Nu/leUTZ1JdRWkkn2ldcCamzrcf47KKXdAJllSlxAOkRgyHsGC/zRday5Qld9DyoM4/q/rUoy/CXh3jzOu3bHUVZeU+DEn8FInkPBFlu3+nW3Nw0mk6vCDiWg8CeJaxEwuHS3+z5RgY+YBR6V1Z1nxSOfoaPa4LASWxxdNp+VWTk7+4vzaou8v8PN+xo+KY2xsw6une2frhw05CTYOmQvsEhjhWjn0bmXPjpE1+kplmmkP3suftwTubK9Vq22qKmrBhpY4jvd5afdRA3wGjFAgcnTK2s4hY0/GPNIb0nErGMCRxWOOX64Z8RAC4oCXdklmEvcL8o0BfkNK4lUg9HTl+oPlQxdNo3Mg4Nv175e/1LDGzZen30MEjRUtmXSfiTVu1kK8W4txyV6BMKlbgk3lMwYCiusNy9fVfvvwMxv8Ynl6vxoByANLTWplvuj/nF9m2+PDtt1eiHPBr1oIfhCChQMBw6Aw0UulqTKZdfVvfG7VcfIqLG9bcldL/+pdWTLxLUy8Qq38heUIjh4XlzZxzQm19lLFlr8vdQ97rjZVOLf8nclzckbcD4wxXMidpX30sFd37Fv/GtwwhzhxGVAprjbg0gCAEeIgwCZyTV2Z1REEW8O4py0wsjeloKoMr6iCY6dP92H6Vw/oTyICIthibxjm/DfN9lVz8IqtqKYLUXfoKVMVQVVJOElGjrnnUt9T9wbgp8AyYKaGlqingHZU/uG2NTZSVqwHQTWkx9hxjkpWDaCg6Ckj5qebgBVbT3V3NNXMSiWSDdGV3hrtzla7J+duwPOToIg42ChPQOQjspnSlp1V+Gjdged7+8UN5CRAV7a5EdFNwCjEaBR27b3W890TE7g24NAP/mMDXRWrGoFPQI9ls/MWO2dWFAar/xcOIImbbpA3zgAAAABJRU5ErkJggg==);\n",
       "        }\n",
       "    </style>\n",
       "    <div>\n",
       "        <a href=\"https://bokeh.org\" target=\"_blank\" class=\"bk-notebook-logo\"></a>\n",
       "        <span id=\"c47e4d64-46f7-454b-9e0c-7d073578518d\">Loading BokehJS ...</span>\n",
       "    </div>\n"
      ]
     },
     "metadata": {},
     "output_type": "display_data"
    },
    {
     "data": {
      "application/javascript": [
       "'use strict';\n",
       "(function(root) {\n",
       "  function now() {\n",
       "    return new Date();\n",
       "  }\n",
       "\n",
       "  const force = true;\n",
       "\n",
       "  if (typeof root._bokeh_onload_callbacks === \"undefined\" || force === true) {\n",
       "    root._bokeh_onload_callbacks = [];\n",
       "    root._bokeh_is_loading = undefined;\n",
       "  }\n",
       "\n",
       "const JS_MIME_TYPE = 'application/javascript';\n",
       "  const HTML_MIME_TYPE = 'text/html';\n",
       "  const EXEC_MIME_TYPE = 'application/vnd.bokehjs_exec.v0+json';\n",
       "  const CLASS_NAME = 'output_bokeh rendered_html';\n",
       "\n",
       "  /**\n",
       "   * Render data to the DOM node\n",
       "   */\n",
       "  function render(props, node) {\n",
       "    const script = document.createElement(\"script\");\n",
       "    node.appendChild(script);\n",
       "  }\n",
       "\n",
       "  /**\n",
       "   * Handle when an output is cleared or removed\n",
       "   */\n",
       "  function handleClearOutput(event, handle) {\n",
       "    function drop(id) {\n",
       "      const view = Bokeh.index.get_by_id(id)\n",
       "      if (view != null) {\n",
       "        view.model.document.clear()\n",
       "        Bokeh.index.delete(view)\n",
       "      }\n",
       "    }\n",
       "\n",
       "    const cell = handle.cell;\n",
       "\n",
       "    const id = cell.output_area._bokeh_element_id;\n",
       "    const server_id = cell.output_area._bokeh_server_id;\n",
       "\n",
       "    // Clean up Bokeh references\n",
       "    if (id != null) {\n",
       "      drop(id)\n",
       "    }\n",
       "\n",
       "    if (server_id !== undefined) {\n",
       "      // Clean up Bokeh references\n",
       "      const cmd_clean = \"from bokeh.io.state import curstate; print(curstate().uuid_to_server['\" + server_id + \"'].get_sessions()[0].document.roots[0]._id)\";\n",
       "      cell.notebook.kernel.execute(cmd_clean, {\n",
       "        iopub: {\n",
       "          output: function(msg) {\n",
       "            const id = msg.content.text.trim()\n",
       "            drop(id)\n",
       "          }\n",
       "        }\n",
       "      });\n",
       "      // Destroy server and session\n",
       "      const cmd_destroy = \"import bokeh.io.notebook as ion; ion.destroy_server('\" + server_id + \"')\";\n",
       "      cell.notebook.kernel.execute(cmd_destroy);\n",
       "    }\n",
       "  }\n",
       "\n",
       "  /**\n",
       "   * Handle when a new output is added\n",
       "   */\n",
       "  function handleAddOutput(event, handle) {\n",
       "    const output_area = handle.output_area;\n",
       "    const output = handle.output;\n",
       "\n",
       "    // limit handleAddOutput to display_data with EXEC_MIME_TYPE content only\n",
       "    if ((output.output_type != \"display_data\") || (!Object.prototype.hasOwnProperty.call(output.data, EXEC_MIME_TYPE))) {\n",
       "      return\n",
       "    }\n",
       "\n",
       "    const toinsert = output_area.element.find(\".\" + CLASS_NAME.split(' ')[0]);\n",
       "\n",
       "    if (output.metadata[EXEC_MIME_TYPE][\"id\"] !== undefined) {\n",
       "      toinsert[toinsert.length - 1].firstChild.textContent = output.data[JS_MIME_TYPE];\n",
       "      // store reference to embed id on output_area\n",
       "      output_area._bokeh_element_id = output.metadata[EXEC_MIME_TYPE][\"id\"];\n",
       "    }\n",
       "    if (output.metadata[EXEC_MIME_TYPE][\"server_id\"] !== undefined) {\n",
       "      const bk_div = document.createElement(\"div\");\n",
       "      bk_div.innerHTML = output.data[HTML_MIME_TYPE];\n",
       "      const script_attrs = bk_div.children[0].attributes;\n",
       "      for (let i = 0; i < script_attrs.length; i++) {\n",
       "        toinsert[toinsert.length - 1].firstChild.setAttribute(script_attrs[i].name, script_attrs[i].value);\n",
       "        toinsert[toinsert.length - 1].firstChild.textContent = bk_div.children[0].textContent\n",
       "      }\n",
       "      // store reference to server id on output_area\n",
       "      output_area._bokeh_server_id = output.metadata[EXEC_MIME_TYPE][\"server_id\"];\n",
       "    }\n",
       "  }\n",
       "\n",
       "  function register_renderer(events, OutputArea) {\n",
       "\n",
       "    function append_mime(data, metadata, element) {\n",
       "      // create a DOM node to render to\n",
       "      const toinsert = this.create_output_subarea(\n",
       "        metadata,\n",
       "        CLASS_NAME,\n",
       "        EXEC_MIME_TYPE\n",
       "      );\n",
       "      this.keyboard_manager.register_events(toinsert);\n",
       "      // Render to node\n",
       "      const props = {data: data, metadata: metadata[EXEC_MIME_TYPE]};\n",
       "      render(props, toinsert[toinsert.length - 1]);\n",
       "      element.append(toinsert);\n",
       "      return toinsert\n",
       "    }\n",
       "\n",
       "    /* Handle when an output is cleared or removed */\n",
       "    events.on('clear_output.CodeCell', handleClearOutput);\n",
       "    events.on('delete.Cell', handleClearOutput);\n",
       "\n",
       "    /* Handle when a new output is added */\n",
       "    events.on('output_added.OutputArea', handleAddOutput);\n",
       "\n",
       "    /**\n",
       "     * Register the mime type and append_mime function with output_area\n",
       "     */\n",
       "    OutputArea.prototype.register_mime_type(EXEC_MIME_TYPE, append_mime, {\n",
       "      /* Is output safe? */\n",
       "      safe: true,\n",
       "      /* Index of renderer in `output_area.display_order` */\n",
       "      index: 0\n",
       "    });\n",
       "  }\n",
       "\n",
       "  // register the mime type if in Jupyter Notebook environment and previously unregistered\n",
       "  if (root.Jupyter !== undefined) {\n",
       "    const events = require('base/js/events');\n",
       "    const OutputArea = require('notebook/js/outputarea').OutputArea;\n",
       "\n",
       "    if (OutputArea.prototype.mime_types().indexOf(EXEC_MIME_TYPE) == -1) {\n",
       "      register_renderer(events, OutputArea);\n",
       "    }\n",
       "  }\n",
       "  if (typeof (root._bokeh_timeout) === \"undefined\" || force === true) {\n",
       "    root._bokeh_timeout = Date.now() + 5000;\n",
       "    root._bokeh_failed_load = false;\n",
       "  }\n",
       "\n",
       "  const NB_LOAD_WARNING = {'data': {'text/html':\n",
       "     \"<div style='background-color: #fdd'>\\n\"+\n",
       "     \"<p>\\n\"+\n",
       "     \"BokehJS does not appear to have successfully loaded. If loading BokehJS from CDN, this \\n\"+\n",
       "     \"may be due to a slow or bad network connection. Possible fixes:\\n\"+\n",
       "     \"</p>\\n\"+\n",
       "     \"<ul>\\n\"+\n",
       "     \"<li>re-rerun `output_notebook()` to attempt to load from CDN again, or</li>\\n\"+\n",
       "     \"<li>use INLINE resources instead, as so:</li>\\n\"+\n",
       "     \"</ul>\\n\"+\n",
       "     \"<code>\\n\"+\n",
       "     \"from bokeh.resources import INLINE\\n\"+\n",
       "     \"output_notebook(resources=INLINE)\\n\"+\n",
       "     \"</code>\\n\"+\n",
       "     \"</div>\"}};\n",
       "\n",
       "  function display_loaded(error = null) {\n",
       "    const el = document.getElementById(\"c47e4d64-46f7-454b-9e0c-7d073578518d\");\n",
       "    if (el != null) {\n",
       "      const html = (() => {\n",
       "        if (typeof root.Bokeh === \"undefined\") {\n",
       "          if (error == null) {\n",
       "            return \"BokehJS is loading ...\";\n",
       "          } else {\n",
       "            return \"BokehJS failed to load.\";\n",
       "          }\n",
       "        } else {\n",
       "          const prefix = `BokehJS ${root.Bokeh.version}`;\n",
       "          if (error == null) {\n",
       "            return `${prefix} successfully loaded.`;\n",
       "          } else {\n",
       "            return `${prefix} <b>encountered errors</b> while loading and may not function as expected.`;\n",
       "          }\n",
       "        }\n",
       "      })();\n",
       "      el.innerHTML = html;\n",
       "\n",
       "      if (error != null) {\n",
       "        const wrapper = document.createElement(\"div\");\n",
       "        wrapper.style.overflow = \"auto\";\n",
       "        wrapper.style.height = \"5em\";\n",
       "        wrapper.style.resize = \"vertical\";\n",
       "        const content = document.createElement(\"div\");\n",
       "        content.style.fontFamily = \"monospace\";\n",
       "        content.style.whiteSpace = \"pre-wrap\";\n",
       "        content.style.backgroundColor = \"rgb(255, 221, 221)\";\n",
       "        content.textContent = error.stack ?? error.toString();\n",
       "        wrapper.append(content);\n",
       "        el.append(wrapper);\n",
       "      }\n",
       "    } else if (Date.now() < root._bokeh_timeout) {\n",
       "      setTimeout(() => display_loaded(error), 100);\n",
       "    }\n",
       "  }\n",
       "\n",
       "  function run_callbacks() {\n",
       "    try {\n",
       "      root._bokeh_onload_callbacks.forEach(function(callback) {\n",
       "        if (callback != null)\n",
       "          callback();\n",
       "      });\n",
       "    } finally {\n",
       "      delete root._bokeh_onload_callbacks\n",
       "    }\n",
       "    console.debug(\"Bokeh: all callbacks have finished\");\n",
       "  }\n",
       "\n",
       "  function load_libs(css_urls, js_urls, callback) {\n",
       "    if (css_urls == null) css_urls = [];\n",
       "    if (js_urls == null) js_urls = [];\n",
       "\n",
       "    root._bokeh_onload_callbacks.push(callback);\n",
       "    if (root._bokeh_is_loading > 0) {\n",
       "      console.debug(\"Bokeh: BokehJS is being loaded, scheduling callback at\", now());\n",
       "      return null;\n",
       "    }\n",
       "    if (js_urls == null || js_urls.length === 0) {\n",
       "      run_callbacks();\n",
       "      return null;\n",
       "    }\n",
       "    console.debug(\"Bokeh: BokehJS not loaded, scheduling load and callback at\", now());\n",
       "    root._bokeh_is_loading = css_urls.length + js_urls.length;\n",
       "\n",
       "    function on_load() {\n",
       "      root._bokeh_is_loading--;\n",
       "      if (root._bokeh_is_loading === 0) {\n",
       "        console.debug(\"Bokeh: all BokehJS libraries/stylesheets loaded\");\n",
       "        run_callbacks()\n",
       "      }\n",
       "    }\n",
       "\n",
       "    function on_error(url) {\n",
       "      console.error(\"failed to load \" + url);\n",
       "    }\n",
       "\n",
       "    for (let i = 0; i < css_urls.length; i++) {\n",
       "      const url = css_urls[i];\n",
       "      const element = document.createElement(\"link\");\n",
       "      element.onload = on_load;\n",
       "      element.onerror = on_error.bind(null, url);\n",
       "      element.rel = \"stylesheet\";\n",
       "      element.type = \"text/css\";\n",
       "      element.href = url;\n",
       "      console.debug(\"Bokeh: injecting link tag for BokehJS stylesheet: \", url);\n",
       "      document.body.appendChild(element);\n",
       "    }\n",
       "\n",
       "    for (let i = 0; i < js_urls.length; i++) {\n",
       "      const url = js_urls[i];\n",
       "      const element = document.createElement('script');\n",
       "      element.onload = on_load;\n",
       "      element.onerror = on_error.bind(null, url);\n",
       "      element.async = false;\n",
       "      element.src = url;\n",
       "      console.debug(\"Bokeh: injecting script tag for BokehJS library: \", url);\n",
       "      document.head.appendChild(element);\n",
       "    }\n",
       "  };\n",
       "\n",
       "  function inject_raw_css(css) {\n",
       "    const element = document.createElement(\"style\");\n",
       "    element.appendChild(document.createTextNode(css));\n",
       "    document.body.appendChild(element);\n",
       "  }\n",
       "\n",
       "  const js_urls = [\"https://cdn.bokeh.org/bokeh/release/bokeh-3.8.0.min.js\", \"https://cdn.bokeh.org/bokeh/release/bokeh-gl-3.8.0.min.js\", \"https://cdn.bokeh.org/bokeh/release/bokeh-widgets-3.8.0.min.js\", \"https://cdn.bokeh.org/bokeh/release/bokeh-tables-3.8.0.min.js\", \"https://cdn.bokeh.org/bokeh/release/bokeh-mathjax-3.8.0.min.js\"];\n",
       "  const css_urls = [];\n",
       "\n",
       "  const inline_js = [    function(Bokeh) {\n",
       "      Bokeh.set_log_level(\"info\");\n",
       "    },\n",
       "function(Bokeh) {\n",
       "    }\n",
       "  ];\n",
       "\n",
       "  function run_inline_js() {\n",
       "    if (root.Bokeh !== undefined || force === true) {\n",
       "      try {\n",
       "            for (let i = 0; i < inline_js.length; i++) {\n",
       "      inline_js[i].call(root, root.Bokeh);\n",
       "    }\n",
       "\n",
       "      } catch (error) {display_loaded(error);throw error;\n",
       "      }if (force === true) {\n",
       "        display_loaded();\n",
       "      }} else if (Date.now() < root._bokeh_timeout) {\n",
       "      setTimeout(run_inline_js, 100);\n",
       "    } else if (!root._bokeh_failed_load) {\n",
       "      console.log(\"Bokeh: BokehJS failed to load within specified timeout.\");\n",
       "      root._bokeh_failed_load = true;\n",
       "    } else if (force !== true) {\n",
       "      const cell = $(document.getElementById(\"c47e4d64-46f7-454b-9e0c-7d073578518d\")).parents('.cell').data().cell;\n",
       "      cell.output_area.append_execute_result(NB_LOAD_WARNING)\n",
       "    }\n",
       "  }\n",
       "\n",
       "  if (root._bokeh_is_loading === 0) {\n",
       "    console.debug(\"Bokeh: BokehJS loaded, going straight to plotting\");\n",
       "    run_inline_js();\n",
       "  } else {\n",
       "    load_libs(css_urls, js_urls, function() {\n",
       "      console.debug(\"Bokeh: BokehJS plotting callback run at\", now());\n",
       "      run_inline_js();\n",
       "    });\n",
       "  }\n",
       "}(window));"
      ],
      "application/vnd.bokehjs_load.v0+json": "'use strict';\n(function(root) {\n  function now() {\n    return new Date();\n  }\n\n  const force = true;\n\n  if (typeof root._bokeh_onload_callbacks === \"undefined\" || force === true) {\n    root._bokeh_onload_callbacks = [];\n    root._bokeh_is_loading = undefined;\n  }\n\n\n  if (typeof (root._bokeh_timeout) === \"undefined\" || force === true) {\n    root._bokeh_timeout = Date.now() + 5000;\n    root._bokeh_failed_load = false;\n  }\n\n  const NB_LOAD_WARNING = {'data': {'text/html':\n     \"<div style='background-color: #fdd'>\\n\"+\n     \"<p>\\n\"+\n     \"BokehJS does not appear to have successfully loaded. If loading BokehJS from CDN, this \\n\"+\n     \"may be due to a slow or bad network connection. Possible fixes:\\n\"+\n     \"</p>\\n\"+\n     \"<ul>\\n\"+\n     \"<li>re-rerun `output_notebook()` to attempt to load from CDN again, or</li>\\n\"+\n     \"<li>use INLINE resources instead, as so:</li>\\n\"+\n     \"</ul>\\n\"+\n     \"<code>\\n\"+\n     \"from bokeh.resources import INLINE\\n\"+\n     \"output_notebook(resources=INLINE)\\n\"+\n     \"</code>\\n\"+\n     \"</div>\"}};\n\n  function display_loaded(error = null) {\n    const el = document.getElementById(\"c47e4d64-46f7-454b-9e0c-7d073578518d\");\n    if (el != null) {\n      const html = (() => {\n        if (typeof root.Bokeh === \"undefined\") {\n          if (error == null) {\n            return \"BokehJS is loading ...\";\n          } else {\n            return \"BokehJS failed to load.\";\n          }\n        } else {\n          const prefix = `BokehJS ${root.Bokeh.version}`;\n          if (error == null) {\n            return `${prefix} successfully loaded.`;\n          } else {\n            return `${prefix} <b>encountered errors</b> while loading and may not function as expected.`;\n          }\n        }\n      })();\n      el.innerHTML = html;\n\n      if (error != null) {\n        const wrapper = document.createElement(\"div\");\n        wrapper.style.overflow = \"auto\";\n        wrapper.style.height = \"5em\";\n        wrapper.style.resize = \"vertical\";\n        const content = document.createElement(\"div\");\n        content.style.fontFamily = \"monospace\";\n        content.style.whiteSpace = \"pre-wrap\";\n        content.style.backgroundColor = \"rgb(255, 221, 221)\";\n        content.textContent = error.stack ?? error.toString();\n        wrapper.append(content);\n        el.append(wrapper);\n      }\n    } else if (Date.now() < root._bokeh_timeout) {\n      setTimeout(() => display_loaded(error), 100);\n    }\n  }\n\n  function run_callbacks() {\n    try {\n      root._bokeh_onload_callbacks.forEach(function(callback) {\n        if (callback != null)\n          callback();\n      });\n    } finally {\n      delete root._bokeh_onload_callbacks\n    }\n    console.debug(\"Bokeh: all callbacks have finished\");\n  }\n\n  function load_libs(css_urls, js_urls, callback) {\n    if (css_urls == null) css_urls = [];\n    if (js_urls == null) js_urls = [];\n\n    root._bokeh_onload_callbacks.push(callback);\n    if (root._bokeh_is_loading > 0) {\n      console.debug(\"Bokeh: BokehJS is being loaded, scheduling callback at\", now());\n      return null;\n    }\n    if (js_urls == null || js_urls.length === 0) {\n      run_callbacks();\n      return null;\n    }\n    console.debug(\"Bokeh: BokehJS not loaded, scheduling load and callback at\", now());\n    root._bokeh_is_loading = css_urls.length + js_urls.length;\n\n    function on_load() {\n      root._bokeh_is_loading--;\n      if (root._bokeh_is_loading === 0) {\n        console.debug(\"Bokeh: all BokehJS libraries/stylesheets loaded\");\n        run_callbacks()\n      }\n    }\n\n    function on_error(url) {\n      console.error(\"failed to load \" + url);\n    }\n\n    for (let i = 0; i < css_urls.length; i++) {\n      const url = css_urls[i];\n      const element = document.createElement(\"link\");\n      element.onload = on_load;\n      element.onerror = on_error.bind(null, url);\n      element.rel = \"stylesheet\";\n      element.type = \"text/css\";\n      element.href = url;\n      console.debug(\"Bokeh: injecting link tag for BokehJS stylesheet: \", url);\n      document.body.appendChild(element);\n    }\n\n    for (let i = 0; i < js_urls.length; i++) {\n      const url = js_urls[i];\n      const element = document.createElement('script');\n      element.onload = on_load;\n      element.onerror = on_error.bind(null, url);\n      element.async = false;\n      element.src = url;\n      console.debug(\"Bokeh: injecting script tag for BokehJS library: \", url);\n      document.head.appendChild(element);\n    }\n  };\n\n  function inject_raw_css(css) {\n    const element = document.createElement(\"style\");\n    element.appendChild(document.createTextNode(css));\n    document.body.appendChild(element);\n  }\n\n  const js_urls = [\"https://cdn.bokeh.org/bokeh/release/bokeh-3.8.0.min.js\", \"https://cdn.bokeh.org/bokeh/release/bokeh-gl-3.8.0.min.js\", \"https://cdn.bokeh.org/bokeh/release/bokeh-widgets-3.8.0.min.js\", \"https://cdn.bokeh.org/bokeh/release/bokeh-tables-3.8.0.min.js\", \"https://cdn.bokeh.org/bokeh/release/bokeh-mathjax-3.8.0.min.js\"];\n  const css_urls = [];\n\n  const inline_js = [    function(Bokeh) {\n      Bokeh.set_log_level(\"info\");\n    },\nfunction(Bokeh) {\n    }\n  ];\n\n  function run_inline_js() {\n    if (root.Bokeh !== undefined || force === true) {\n      try {\n            for (let i = 0; i < inline_js.length; i++) {\n      inline_js[i].call(root, root.Bokeh);\n    }\n\n      } catch (error) {display_loaded(error);throw error;\n      }if (force === true) {\n        display_loaded();\n      }} else if (Date.now() < root._bokeh_timeout) {\n      setTimeout(run_inline_js, 100);\n    } else if (!root._bokeh_failed_load) {\n      console.log(\"Bokeh: BokehJS failed to load within specified timeout.\");\n      root._bokeh_failed_load = true;\n    } else if (force !== true) {\n      const cell = $(document.getElementById(\"c47e4d64-46f7-454b-9e0c-7d073578518d\")).parents('.cell').data().cell;\n      cell.output_area.append_execute_result(NB_LOAD_WARNING)\n    }\n  }\n\n  if (root._bokeh_is_loading === 0) {\n    console.debug(\"Bokeh: BokehJS loaded, going straight to plotting\");\n    run_inline_js();\n  } else {\n    load_libs(css_urls, js_urls, function() {\n      console.debug(\"Bokeh: BokehJS plotting callback run at\", now());\n      run_inline_js();\n    });\n  }\n}(window));"
     },
     "metadata": {},
     "output_type": "display_data"
    }
   ],
   "source": [
    "import pandas as pd\n",
    "from backtesting import Backtest\n",
    "from backtesting.lib import FractionalBacktest\n",
    "\n",
    "from strategies.ma_crossover import MaCrossover\n",
    "from utils.utils import time_series_split"
   ]
  },
  {
   "cell_type": "markdown",
   "id": "5021e0bd-a8b6-45d4-9c1f-cb2d61a96a1e",
   "metadata": {},
   "source": [
    "# Работа с данными"
   ]
  },
  {
   "cell_type": "code",
   "execution_count": 3,
   "id": "724fda28-41ef-4493-a7c8-2c02c491da76",
   "metadata": {},
   "outputs": [
    {
     "name": "stdout",
     "output_type": "stream",
     "text": [
      "(119828, 6)\n"
     ]
    },
    {
     "data": {
      "text/html": [
       "<div>\n",
       "<style scoped>\n",
       "    .dataframe tbody tr th:only-of-type {\n",
       "        vertical-align: middle;\n",
       "    }\n",
       "\n",
       "    .dataframe tbody tr th {\n",
       "        vertical-align: top;\n",
       "    }\n",
       "\n",
       "    .dataframe thead th {\n",
       "        text-align: right;\n",
       "    }\n",
       "</style>\n",
       "<table border=\"1\" class=\"dataframe\">\n",
       "  <thead>\n",
       "    <tr style=\"text-align: right;\">\n",
       "      <th></th>\n",
       "      <th>Timestamp</th>\n",
       "      <th>Open</th>\n",
       "      <th>High</th>\n",
       "      <th>Low</th>\n",
       "      <th>Close</th>\n",
       "      <th>Volume</th>\n",
       "    </tr>\n",
       "  </thead>\n",
       "  <tbody>\n",
       "    <tr>\n",
       "      <th>0</th>\n",
       "      <td>2012-01-01 10:00:00</td>\n",
       "      <td>4.58</td>\n",
       "      <td>4.58</td>\n",
       "      <td>4.58</td>\n",
       "      <td>4.58</td>\n",
       "      <td>0.0</td>\n",
       "    </tr>\n",
       "    <tr>\n",
       "      <th>1</th>\n",
       "      <td>2012-01-01 11:00:00</td>\n",
       "      <td>4.58</td>\n",
       "      <td>4.58</td>\n",
       "      <td>4.58</td>\n",
       "      <td>4.58</td>\n",
       "      <td>0.0</td>\n",
       "    </tr>\n",
       "    <tr>\n",
       "      <th>2</th>\n",
       "      <td>2012-01-01 12:00:00</td>\n",
       "      <td>4.58</td>\n",
       "      <td>4.58</td>\n",
       "      <td>4.58</td>\n",
       "      <td>4.58</td>\n",
       "      <td>0.0</td>\n",
       "    </tr>\n",
       "    <tr>\n",
       "      <th>3</th>\n",
       "      <td>2012-01-01 13:00:00</td>\n",
       "      <td>4.58</td>\n",
       "      <td>4.58</td>\n",
       "      <td>4.58</td>\n",
       "      <td>4.58</td>\n",
       "      <td>0.0</td>\n",
       "    </tr>\n",
       "    <tr>\n",
       "      <th>4</th>\n",
       "      <td>2012-01-01 14:00:00</td>\n",
       "      <td>4.58</td>\n",
       "      <td>4.58</td>\n",
       "      <td>4.58</td>\n",
       "      <td>4.58</td>\n",
       "      <td>0.0</td>\n",
       "    </tr>\n",
       "  </tbody>\n",
       "</table>\n",
       "</div>"
      ],
      "text/plain": [
       "             Timestamp  Open  High   Low  Close  Volume\n",
       "0  2012-01-01 10:00:00  4.58  4.58  4.58   4.58     0.0\n",
       "1  2012-01-01 11:00:00  4.58  4.58  4.58   4.58     0.0\n",
       "2  2012-01-01 12:00:00  4.58  4.58  4.58   4.58     0.0\n",
       "3  2012-01-01 13:00:00  4.58  4.58  4.58   4.58     0.0\n",
       "4  2012-01-01 14:00:00  4.58  4.58  4.58   4.58     0.0"
      ]
     },
     "execution_count": 3,
     "metadata": {},
     "output_type": "execute_result"
    }
   ],
   "source": [
    "btc_1h_df = pd.read_csv(\"../data/btcusd_1hour.csv\")\n",
    "\n",
    "print(btc_1h_df.shape)\n",
    "btc_1h_df.head()"
   ]
  },
  {
   "cell_type": "code",
   "execution_count": 4,
   "id": "c8749703-7e92-46fb-be96-17d324c3fa81",
   "metadata": {},
   "outputs": [
    {
     "name": "stdout",
     "output_type": "stream",
     "text": [
      "<class 'pandas.core.frame.DataFrame'>\n",
      "RangeIndex: 119828 entries, 0 to 119827\n",
      "Data columns (total 6 columns):\n",
      " #   Column     Non-Null Count   Dtype  \n",
      "---  ------     --------------   -----  \n",
      " 0   Timestamp  119828 non-null  object \n",
      " 1   Open       119828 non-null  float64\n",
      " 2   High       119828 non-null  float64\n",
      " 3   Low        119828 non-null  float64\n",
      " 4   Close      119828 non-null  float64\n",
      " 5   Volume     119828 non-null  float64\n",
      "dtypes: float64(5), object(1)\n",
      "memory usage: 5.5+ MB\n"
     ]
    }
   ],
   "source": [
    "btc_1h_df.info()"
   ]
  },
  {
   "cell_type": "code",
   "execution_count": 5,
   "id": "f8e05ac8-3b3b-46a4-bbb1-232d9efb55d7",
   "metadata": {},
   "outputs": [
    {
     "name": "stdout",
     "output_type": "stream",
     "text": [
      "TRAIN: 2012-01-01 10:00:00 → 2020-03-15 01:00:00\n",
      "TEST: 2020-03-15 02:00:00 → 2022-12-08 14:00:00\n",
      "OOT: 2022-12-08 15:00:00 → 2025-09-02 23:00:00\n"
     ]
    }
   ],
   "source": [
    "# TRAIN/TEST/OOT split\n",
    "btc_1h_train_df, btc_1h_test_df, btc_1h_oot_df = time_series_split(\n",
    "    btc_1h_df, train_size=0.6, test_size=0.2, oot_size=0.2\n",
    ")\n",
    "\n",
    "btc_1h_train_df[\"Timestamp\"] = pd.to_datetime(btc_1h_train_df[\"Timestamp\"])\n",
    "btc_1h_train_df.set_index(\"Timestamp\", inplace=True)\n",
    "\n",
    "btc_1h_test_df[\"Timestamp\"] = pd.to_datetime(btc_1h_test_df[\"Timestamp\"])\n",
    "btc_1h_test_df.set_index(\"Timestamp\", inplace=True)\n",
    "\n",
    "btc_1h_oot_df[\"Timestamp\"] = pd.to_datetime(btc_1h_oot_df[\"Timestamp\"])\n",
    "btc_1h_oot_df.set_index(\"Timestamp\", inplace=True)"
   ]
  },
  {
   "cell_type": "code",
   "execution_count": 6,
   "id": "af88ca6c-02a0-4c0f-bbc6-8fc62cf10cbf",
   "metadata": {},
   "outputs": [
    {
     "name": "stdout",
     "output_type": "stream",
     "text": [
      "<class 'pandas.core.frame.DataFrame'>\n",
      "DatetimeIndex: 71896 entries, 2012-01-01 10:00:00 to 2020-03-15 01:00:00\n",
      "Data columns (total 5 columns):\n",
      " #   Column  Non-Null Count  Dtype  \n",
      "---  ------  --------------  -----  \n",
      " 0   Open    71896 non-null  float64\n",
      " 1   High    71896 non-null  float64\n",
      " 2   Low     71896 non-null  float64\n",
      " 3   Close   71896 non-null  float64\n",
      " 4   Volume  71896 non-null  float64\n",
      "dtypes: float64(5)\n",
      "memory usage: 3.3 MB\n"
     ]
    }
   ],
   "source": [
    "btc_1h_train_df.info()"
   ]
  },
  {
   "cell_type": "markdown",
   "id": "5e3d2761-2c35-4d17-b84c-d9a42b9e39f7",
   "metadata": {},
   "source": [
    "## Простой тест"
   ]
  },
  {
   "cell_type": "code",
   "execution_count": 7,
   "id": "a2773894-7ca8-4cf0-afc4-ba263f52f939",
   "metadata": {
    "scrolled": true
   },
   "outputs": [
    {
     "data": {
      "application/vnd.jupyter.widget-view+json": {
       "model_id": "90caac33fec640348b66d85826474e5a",
       "version_major": 2,
       "version_minor": 0
      },
      "text/plain": [
       "FractionalBacktest.run:   0%|          | 0/71696 [00:00<?, ?bar/s]"
      ]
     },
     "metadata": {},
     "output_type": "display_data"
    },
    {
     "data": {
      "text/plain": [
       "Start                     2012-01-01 10:00:00\n",
       "End                       2020-03-15 01:00:00\n",
       "Duration                   2995 days 15:00:00\n",
       "Exposure Time [%]                    99.55491\n",
       "Equity Final [$]                  71176.30744\n",
       "Equity Peak [$]                   95936.06814\n",
       "Commissions [$]                    27390.9028\n",
       "Return [%]                        71076.30744\n",
       "Buy & Hold Return [%]             81384.61538\n",
       "Return (Ann.) [%]                   122.52639\n",
       "Volatility (Ann.) [%]                 221.748\n",
       "CAGR [%]                            122.60811\n",
       "Sharpe Ratio                          0.55255\n",
       "Sortino Ratio                         2.17923\n",
       "Calmar Ratio                          1.32963\n",
       "Alpha [%]                         62019.31647\n",
       "Beta                                  0.11129\n",
       "Max. Drawdown [%]                   -92.15057\n",
       "Avg. Drawdown [%]                    -4.82981\n",
       "Max. Drawdown Duration      445 days 09:00:00\n",
       "Avg. Drawdown Duration        9 days 10:00:00\n",
       "# Trades                                  377\n",
       "Win Rate [%]                         36.60477\n",
       "Best Trade [%]                      440.03688\n",
       "Worst Trade [%]                      -67.1411\n",
       "Avg. Trade [%]                        1.75834\n",
       "Max. Trade Duration          93 days 13:00:00\n",
       "Avg. Trade Duration           7 days 22:00:00\n",
       "Profit Factor                         2.38282\n",
       "Expectancy [%]                        3.87341\n",
       "SQN                                   1.11798\n",
       "Kelly Criterion                       0.08794\n",
       "_strategy                         MaCrossover\n",
       "_equity_curve                             ...\n",
       "_trades                            Size  E...\n",
       "dtype: object"
      ]
     },
     "execution_count": 7,
     "metadata": {},
     "output_type": "execute_result"
    }
   ],
   "source": [
    "bt_train = FractionalBacktest(\n",
    "    btc_1h_train_df,\n",
    "    fractional_unit=1e-8,\n",
    "    strategy=MaCrossover,\n",
    "    cash=100,\n",
    "    commission=0.0018,\n",
    "    margin=1.0,\n",
    "    spread=0.0003,\n",
    "    trade_on_close=False,\n",
    "    exclusive_orders=False,\n",
    "    finalize_trades=True,\n",
    ")\n",
    "bt_train.run()"
   ]
  },
  {
   "cell_type": "code",
   "execution_count": 8,
   "id": "ccc43060-2bfb-4647-acf8-94a556ccee40",
   "metadata": {
    "scrolled": true
   },
   "outputs": [
    {
     "data": {
      "application/vnd.jupyter.widget-view+json": {
       "model_id": "6a50b718d79f434e83658e19348eb588",
       "version_major": 2,
       "version_minor": 0
      },
      "text/plain": [
       "FractionalBacktest.run:   0%|          | 0/23765 [00:00<?, ?bar/s]"
      ]
     },
     "metadata": {},
     "output_type": "display_data"
    },
    {
     "data": {
      "text/plain": [
       "Start                     2020-03-15 02:00:00\n",
       "End                       2022-12-08 14:00:00\n",
       "Duration                    998 days 12:00:00\n",
       "Exposure Time [%]                    98.56875\n",
       "Equity Final [$]                     49.23394\n",
       "Equity Peak [$]                     148.89641\n",
       "Commissions [$]                      43.08757\n",
       "Return [%]                          -50.76606\n",
       "Buy & Hold Return [%]               185.53179\n",
       "Return (Ann.) [%]                   -22.80945\n",
       "Volatility (Ann.) [%]                58.79558\n",
       "CAGR [%]                            -22.81945\n",
       "Sharpe Ratio                         -0.38794\n",
       "Sortino Ratio                         -0.4802\n",
       "Calmar Ratio                         -0.32302\n",
       "Alpha [%]                            -52.3643\n",
       "Beta                                  0.00861\n",
       "Max. Drawdown [%]                    -70.6128\n",
       "Avg. Drawdown [%]                   -12.06703\n",
       "Max. Drawdown Duration      563 days 18:00:00\n",
       "Avg. Drawdown Duration       49 days 04:00:00\n",
       "# Trades                                  159\n",
       "Win Rate [%]                         27.04403\n",
       "Best Trade [%]                        87.6213\n",
       "Worst Trade [%]                     -14.11554\n",
       "Avg. Trade [%]                        -0.4462\n",
       "Max. Trade Duration          38 days 15:00:00\n",
       "Avg. Trade Duration           6 days 05:00:00\n",
       "Profit Factor                          1.0167\n",
       "Expectancy [%]                        0.05034\n",
       "SQN                                  -0.50503\n",
       "Kelly Criterion                      -0.04068\n",
       "_strategy                         MaCrossover\n",
       "_equity_curve                             ...\n",
       "_trades                           Size  En...\n",
       "dtype: object"
      ]
     },
     "execution_count": 8,
     "metadata": {},
     "output_type": "execute_result"
    }
   ],
   "source": [
    "bt_test = FractionalBacktest(\n",
    "    btc_1h_test_df,\n",
    "    fractional_unit=1e-8,\n",
    "    strategy=MaCrossover,\n",
    "    cash=100,\n",
    "    commission=0.0018,\n",
    "    margin=1.0,\n",
    "    spread=0.0003,\n",
    "    trade_on_close=False,\n",
    "    exclusive_orders=False,\n",
    "    finalize_trades=True,\n",
    ")\n",
    "bt_test.run()"
   ]
  },
  {
   "cell_type": "code",
   "execution_count": 9,
   "id": "3e5eee24-e0c9-483c-9c28-687539509f8b",
   "metadata": {
    "scrolled": true
   },
   "outputs": [
    {
     "data": {
      "application/vnd.jupyter.widget-view+json": {
       "model_id": "bef9b06b69c8442ea8db511b411c6ef6",
       "version_major": 2,
       "version_minor": 0
      },
      "text/plain": [
       "FractionalBacktest.run:   0%|          | 0/23767 [00:00<?, ?bar/s]"
      ]
     },
     "metadata": {},
     "output_type": "display_data"
    },
    {
     "data": {
      "text/plain": [
       "Start                     2022-12-08 15:00:00\n",
       "End                       2025-09-02 23:00:00\n",
       "Duration                    999 days 08:00:00\n",
       "Exposure Time [%]                    99.13214\n",
       "Equity Final [$]                     85.07914\n",
       "Equity Peak [$]                     160.91942\n",
       "Commissions [$]                      58.05016\n",
       "Return [%]                          -14.92086\n",
       "Buy & Hold Return [%]               561.97166\n",
       "Return (Ann.) [%]                    -5.72741\n",
       "Volatility (Ann.) [%]                45.23145\n",
       "CAGR [%]                             -5.73112\n",
       "Sharpe Ratio                         -0.12662\n",
       "Sortino Ratio                        -0.18325\n",
       "Calmar Ratio                         -0.10887\n",
       "Alpha [%]                           -70.51448\n",
       "Beta                                  0.09893\n",
       "Max. Drawdown [%]                   -52.60953\n",
       "Avg. Drawdown [%]                    -4.01282\n",
       "Max. Drawdown Duration      532 days 06:00:00\n",
       "Avg. Drawdown Duration       24 days 03:00:00\n",
       "# Trades                                  161\n",
       "Win Rate [%]                         30.43478\n",
       "Best Trade [%]                       37.33012\n",
       "Worst Trade [%]                     -10.49471\n",
       "Avg. Trade [%]                       -0.10081\n",
       "Max. Trade Duration          29 days 13:00:00\n",
       "Avg. Trade Duration           6 days 04:00:00\n",
       "Profit Factor                         1.04551\n",
       "Expectancy [%]                        0.08781\n",
       "SQN                                  -0.18506\n",
       "Kelly Criterion                      -0.01463\n",
       "_strategy                         MaCrossover\n",
       "_equity_curve                             ...\n",
       "_trades                           Size  En...\n",
       "dtype: object"
      ]
     },
     "execution_count": 9,
     "metadata": {},
     "output_type": "execute_result"
    }
   ],
   "source": [
    "bt_oot = FractionalBacktest(\n",
    "    btc_1h_oot_df,\n",
    "    fractional_unit=1e-8,\n",
    "    strategy=MaCrossover,\n",
    "    cash=100,\n",
    "    commission=0.0018,\n",
    "    margin=1.0,\n",
    "    spread=0.0003,\n",
    "    trade_on_close=False,\n",
    "    exclusive_orders=False,\n",
    "    finalize_trades=True,\n",
    ")\n",
    "bt_oot.run()"
   ]
  },
  {
   "cell_type": "markdown",
   "id": "296dd85b-39e9-4aef-a630-67a914ef9f9d",
   "metadata": {},
   "source": [
    "## Простая оптимизация"
   ]
  },
  {
   "cell_type": "code",
   "execution_count": 10,
   "id": "03b08867-c692-49ae-a0fa-b4100b46fe3a",
   "metadata": {
    "collapsed": true,
    "jupyter": {
     "outputs_hidden": true
    },
    "scrolled": true
   },
   "outputs": [
    {
     "data": {
      "application/vnd.jupyter.widget-view+json": {
       "model_id": "fbc1a5819eaa460ba42612b39368f96d",
       "version_major": 2,
       "version_minor": 0
      },
      "text/plain": [
       "Backtest.optimize:   0%|          | 0/1000 [00:00<?, ?it/s]"
      ]
     },
     "metadata": {},
     "output_type": "display_data"
    },
    {
     "data": {
      "application/vnd.jupyter.widget-view+json": {
       "model_id": "33ef11df47f54dd5be259ebaff3fdb8f",
       "version_major": 2,
       "version_minor": 0
      },
      "text/plain": [
       "FractionalBacktest.run:   0%|          | 0/23639 [00:00<?, ?bar/s]"
      ]
     },
     "metadata": {},
     "output_type": "display_data"
    },
    {
     "data": {
      "application/vnd.jupyter.widget-view+json": {
       "model_id": "bea4a4f536864187adf0c2f78099c02c",
       "version_major": 2,
       "version_minor": 0
      },
      "text/plain": [
       "FractionalBacktest.run:   0%|          | 0/23484 [00:00<?, ?bar/s]"
      ]
     },
     "metadata": {},
     "output_type": "display_data"
    },
    {
     "data": {
      "application/vnd.jupyter.widget-view+json": {
       "model_id": "831b835e442f4ecebe1a2d0cfdffb688",
       "version_major": 2,
       "version_minor": 0
      },
      "text/plain": [
       "FractionalBacktest.run:   0%|          | 0/23615 [00:00<?, ?bar/s]"
      ]
     },
     "metadata": {},
     "output_type": "display_data"
    },
    {
     "data": {
      "application/vnd.jupyter.widget-view+json": {
       "model_id": "50a6e15dbe2448a7b4179e3758947a0a",
       "version_major": 2,
       "version_minor": 0
      },
      "text/plain": [
       "FractionalBacktest.run:   0%|          | 0/23798 [00:00<?, ?bar/s]"
      ]
     },
     "metadata": {},
     "output_type": "display_data"
    },
    {
     "data": {
      "application/vnd.jupyter.widget-view+json": {
       "model_id": "ff2c29cc84554a6188489c5ea16f7598",
       "version_major": 2,
       "version_minor": 0
      },
      "text/plain": [
       "FractionalBacktest.run:   0%|          | 0/23517 [00:00<?, ?bar/s]"
      ]
     },
     "metadata": {},
     "output_type": "display_data"
    },
    {
     "data": {
      "application/vnd.jupyter.widget-view+json": {
       "model_id": "8eb61a3cda724c2598e4db93837e54bd",
       "version_major": 2,
       "version_minor": 0
      },
      "text/plain": [
       "FractionalBacktest.run:   0%|          | 0/23781 [00:00<?, ?bar/s]"
      ]
     },
     "metadata": {},
     "output_type": "display_data"
    },
    {
     "data": {
      "application/vnd.jupyter.widget-view+json": {
       "model_id": "a3b35993d5664ae0975dbf7091a06544",
       "version_major": 2,
       "version_minor": 0
      },
      "text/plain": [
       "FractionalBacktest.run:   0%|          | 0/23905 [00:00<?, ?bar/s]"
      ]
     },
     "metadata": {},
     "output_type": "display_data"
    },
    {
     "data": {
      "application/vnd.jupyter.widget-view+json": {
       "model_id": "4ea7c0daa33f4f9cafa30566294d9357",
       "version_major": 2,
       "version_minor": 0
      },
      "text/plain": [
       "FractionalBacktest.run:   0%|          | 0/23692 [00:00<?, ?bar/s]"
      ]
     },
     "metadata": {},
     "output_type": "display_data"
    },
    {
     "data": {
      "application/vnd.jupyter.widget-view+json": {
       "model_id": "006d7724905f4b25918bb90463a1b0c9",
       "version_major": 2,
       "version_minor": 0
      },
      "text/plain": [
       "FractionalBacktest.run:   0%|          | 0/23569 [00:00<?, ?bar/s]"
      ]
     },
     "metadata": {},
     "output_type": "display_data"
    },
    {
     "data": {
      "application/vnd.jupyter.widget-view+json": {
       "model_id": "7dedb3bae0404a53ae687b24ee57af50",
       "version_major": 2,
       "version_minor": 0
      },
      "text/plain": [
       "FractionalBacktest.run:   0%|          | 0/23857 [00:00<?, ?bar/s]"
      ]
     },
     "metadata": {},
     "output_type": "display_data"
    },
    {
     "data": {
      "application/vnd.jupyter.widget-view+json": {
       "model_id": "ae799bfa54f7474fad628a5e86ac343c",
       "version_major": 2,
       "version_minor": 0
      },
      "text/plain": [
       "FractionalBacktest.run:   0%|          | 0/23718 [00:00<?, ?bar/s]"
      ]
     },
     "metadata": {},
     "output_type": "display_data"
    },
    {
     "data": {
      "application/vnd.jupyter.widget-view+json": {
       "model_id": "fc3d9984f3e04d2ab796acf68776f06b",
       "version_major": 2,
       "version_minor": 0
      },
      "text/plain": [
       "FractionalBacktest.run:   0%|          | 0/23631 [00:00<?, ?bar/s]"
      ]
     },
     "metadata": {},
     "output_type": "display_data"
    },
    {
     "data": {
      "application/vnd.jupyter.widget-view+json": {
       "model_id": "c3daf22577bb448aada505a48113c940",
       "version_major": 2,
       "version_minor": 0
      },
      "text/plain": [
       "FractionalBacktest.run:   0%|          | 0/23475 [00:00<?, ?bar/s]"
      ]
     },
     "metadata": {},
     "output_type": "display_data"
    },
    {
     "data": {
      "application/vnd.jupyter.widget-view+json": {
       "model_id": "176170edade84d2d94f31209896d0962",
       "version_major": 2,
       "version_minor": 0
      },
      "text/plain": [
       "FractionalBacktest.run:   0%|          | 0/23475 [00:00<?, ?bar/s]"
      ]
     },
     "metadata": {},
     "output_type": "display_data"
    },
    {
     "data": {
      "application/vnd.jupyter.widget-view+json": {
       "model_id": "25efdb7406a84f03b156e79e0338c96d",
       "version_major": 2,
       "version_minor": 0
      },
      "text/plain": [
       "FractionalBacktest.run:   0%|          | 0/23475 [00:00<?, ?bar/s]"
      ]
     },
     "metadata": {},
     "output_type": "display_data"
    },
    {
     "data": {
      "application/vnd.jupyter.widget-view+json": {
       "model_id": "2c7e4691a943436aab55ee7524b63692",
       "version_major": 2,
       "version_minor": 0
      },
      "text/plain": [
       "FractionalBacktest.run:   0%|          | 0/23475 [00:00<?, ?bar/s]"
      ]
     },
     "metadata": {},
     "output_type": "display_data"
    },
    {
     "data": {
      "application/vnd.jupyter.widget-view+json": {
       "model_id": "8a29b129863d4f80b8d9c6cdb9f210e8",
       "version_major": 2,
       "version_minor": 0
      },
      "text/plain": [
       "FractionalBacktest.run:   0%|          | 0/23475 [00:00<?, ?bar/s]"
      ]
     },
     "metadata": {},
     "output_type": "display_data"
    },
    {
     "data": {
      "application/vnd.jupyter.widget-view+json": {
       "model_id": "4355561da06f40ec8e6d67123c3a64d9",
       "version_major": 2,
       "version_minor": 0
      },
      "text/plain": [
       "FractionalBacktest.run:   0%|          | 0/23475 [00:00<?, ?bar/s]"
      ]
     },
     "metadata": {},
     "output_type": "display_data"
    },
    {
     "data": {
      "application/vnd.jupyter.widget-view+json": {
       "model_id": "627bf478e4664efe927930e6b8a82c9a",
       "version_major": 2,
       "version_minor": 0
      },
      "text/plain": [
       "FractionalBacktest.run:   0%|          | 0/23475 [00:00<?, ?bar/s]"
      ]
     },
     "metadata": {},
     "output_type": "display_data"
    },
    {
     "data": {
      "application/vnd.jupyter.widget-view+json": {
       "model_id": "00a1e9927b884654a3b57c47ae8b37de",
       "version_major": 2,
       "version_minor": 0
      },
      "text/plain": [
       "FractionalBacktest.run:   0%|          | 0/23475 [00:00<?, ?bar/s]"
      ]
     },
     "metadata": {},
     "output_type": "display_data"
    },
    {
     "data": {
      "application/vnd.jupyter.widget-view+json": {
       "model_id": "a9ed62862ad441f9bed2e4ee19ed4e8f",
       "version_major": 2,
       "version_minor": 0
      },
      "text/plain": [
       "FractionalBacktest.run:   0%|          | 0/23475 [00:00<?, ?bar/s]"
      ]
     },
     "metadata": {},
     "output_type": "display_data"
    },
    {
     "data": {
      "application/vnd.jupyter.widget-view+json": {
       "model_id": "39ff6a277bcb4679ad866fe88f01e002",
       "version_major": 2,
       "version_minor": 0
      },
      "text/plain": [
       "FractionalBacktest.run:   0%|          | 0/23475 [00:00<?, ?bar/s]"
      ]
     },
     "metadata": {},
     "output_type": "display_data"
    },
    {
     "data": {
      "application/vnd.jupyter.widget-view+json": {
       "model_id": "bde7db6c89da41e18e3191f08e7188ce",
       "version_major": 2,
       "version_minor": 0
      },
      "text/plain": [
       "FractionalBacktest.run:   0%|          | 0/23475 [00:00<?, ?bar/s]"
      ]
     },
     "metadata": {},
     "output_type": "display_data"
    },
    {
     "data": {
      "application/vnd.jupyter.widget-view+json": {
       "model_id": "bfbbffb8b9af4156b9278a00d4a6969c",
       "version_major": 2,
       "version_minor": 0
      },
      "text/plain": [
       "FractionalBacktest.run:   0%|          | 0/23475 [00:00<?, ?bar/s]"
      ]
     },
     "metadata": {},
     "output_type": "display_data"
    },
    {
     "data": {
      "application/vnd.jupyter.widget-view+json": {
       "model_id": "7a185f4fbe774f99a41c7931e42d1aa0",
       "version_major": 2,
       "version_minor": 0
      },
      "text/plain": [
       "FractionalBacktest.run:   0%|          | 0/23475 [00:00<?, ?bar/s]"
      ]
     },
     "metadata": {},
     "output_type": "display_data"
    },
    {
     "data": {
      "application/vnd.jupyter.widget-view+json": {
       "model_id": "d1d5b4ceace54306a4b761920b52542d",
       "version_major": 2,
       "version_minor": 0
      },
      "text/plain": [
       "FractionalBacktest.run:   0%|          | 0/23475 [00:00<?, ?bar/s]"
      ]
     },
     "metadata": {},
     "output_type": "display_data"
    },
    {
     "data": {
      "application/vnd.jupyter.widget-view+json": {
       "model_id": "91a6d55e74964e8f8ffb829668ee4ff6",
       "version_major": 2,
       "version_minor": 0
      },
      "text/plain": [
       "FractionalBacktest.run:   0%|          | 0/23580 [00:00<?, ?bar/s]"
      ]
     },
     "metadata": {},
     "output_type": "display_data"
    },
    {
     "data": {
      "application/vnd.jupyter.widget-view+json": {
       "model_id": "a631366d60a847388f0c8ed83bc00336",
       "version_major": 2,
       "version_minor": 0
      },
      "text/plain": [
       "FractionalBacktest.run:   0%|          | 0/23475 [00:00<?, ?bar/s]"
      ]
     },
     "metadata": {},
     "output_type": "display_data"
    },
    {
     "data": {
      "application/vnd.jupyter.widget-view+json": {
       "model_id": "0f5d43274f9c48878ef53662549bdb44",
       "version_major": 2,
       "version_minor": 0
      },
      "text/plain": [
       "FractionalBacktest.run:   0%|          | 0/23475 [00:00<?, ?bar/s]"
      ]
     },
     "metadata": {},
     "output_type": "display_data"
    },
    {
     "data": {
      "application/vnd.jupyter.widget-view+json": {
       "model_id": "ad18c08e5308439daf130f398a45d936",
       "version_major": 2,
       "version_minor": 0
      },
      "text/plain": [
       "FractionalBacktest.run:   0%|          | 0/23475 [00:00<?, ?bar/s]"
      ]
     },
     "metadata": {},
     "output_type": "display_data"
    },
    {
     "data": {
      "application/vnd.jupyter.widget-view+json": {
       "model_id": "cfc85d2786544b38a8168b09531b50a5",
       "version_major": 2,
       "version_minor": 0
      },
      "text/plain": [
       "FractionalBacktest.run:   0%|          | 0/23774 [00:00<?, ?bar/s]"
      ]
     },
     "metadata": {},
     "output_type": "display_data"
    },
    {
     "data": {
      "application/vnd.jupyter.widget-view+json": {
       "model_id": "84f5186694724e32915780396588cfb4",
       "version_major": 2,
       "version_minor": 0
      },
      "text/plain": [
       "FractionalBacktest.run:   0%|          | 0/23475 [00:00<?, ?bar/s]"
      ]
     },
     "metadata": {},
     "output_type": "display_data"
    },
    {
     "data": {
      "application/vnd.jupyter.widget-view+json": {
       "model_id": "51ff0559567647a0bc3b2c2244c862d3",
       "version_major": 2,
       "version_minor": 0
      },
      "text/plain": [
       "FractionalBacktest.run:   0%|          | 0/23592 [00:00<?, ?bar/s]"
      ]
     },
     "metadata": {},
     "output_type": "display_data"
    },
    {
     "data": {
      "application/vnd.jupyter.widget-view+json": {
       "model_id": "8b12e2c14abc477bb1ca7eaa5a47b826",
       "version_major": 2,
       "version_minor": 0
      },
      "text/plain": [
       "FractionalBacktest.run:   0%|          | 0/23731 [00:00<?, ?bar/s]"
      ]
     },
     "metadata": {},
     "output_type": "display_data"
    },
    {
     "data": {
      "application/vnd.jupyter.widget-view+json": {
       "model_id": "fd91c31575a14cf69810ed060bd4efbe",
       "version_major": 2,
       "version_minor": 0
      },
      "text/plain": [
       "FractionalBacktest.run:   0%|          | 0/23648 [00:00<?, ?bar/s]"
      ]
     },
     "metadata": {},
     "output_type": "display_data"
    },
    {
     "data": {
      "application/vnd.jupyter.widget-view+json": {
       "model_id": "20cff4a23eda4647876b1c31c9dce837",
       "version_major": 2,
       "version_minor": 0
      },
      "text/plain": [
       "FractionalBacktest.run:   0%|          | 0/23494 [00:00<?, ?bar/s]"
      ]
     },
     "metadata": {},
     "output_type": "display_data"
    },
    {
     "data": {
      "application/vnd.jupyter.widget-view+json": {
       "model_id": "ad64661e0a6e4511b37a0dcbda7ae0a3",
       "version_major": 2,
       "version_minor": 0
      },
      "text/plain": [
       "FractionalBacktest.run:   0%|          | 0/23810 [00:00<?, ?bar/s]"
      ]
     },
     "metadata": {},
     "output_type": "display_data"
    },
    {
     "data": {
      "application/vnd.jupyter.widget-view+json": {
       "model_id": "f25927926b894ecd9cea297ca3baf61c",
       "version_major": 2,
       "version_minor": 0
      },
      "text/plain": [
       "FractionalBacktest.run:   0%|          | 0/23580 [00:00<?, ?bar/s]"
      ]
     },
     "metadata": {},
     "output_type": "display_data"
    },
    {
     "data": {
      "application/vnd.jupyter.widget-view+json": {
       "model_id": "82837dea073043a3979c766dc9eff8bf",
       "version_major": 2,
       "version_minor": 0
      },
      "text/plain": [
       "FractionalBacktest.run:   0%|          | 0/23781 [00:00<?, ?bar/s]"
      ]
     },
     "metadata": {},
     "output_type": "display_data"
    },
    {
     "data": {
      "application/vnd.jupyter.widget-view+json": {
       "model_id": "a55c8179918f4f5d8a42034d9b7fadf2",
       "version_major": 2,
       "version_minor": 0
      },
      "text/plain": [
       "FractionalBacktest.run:   0%|          | 0/23630 [00:00<?, ?bar/s]"
      ]
     },
     "metadata": {},
     "output_type": "display_data"
    },
    {
     "data": {
      "application/vnd.jupyter.widget-view+json": {
       "model_id": "217ab60992d349d6b8f43127b8293ea7",
       "version_major": 2,
       "version_minor": 0
      },
      "text/plain": [
       "FractionalBacktest.run:   0%|          | 0/23498 [00:00<?, ?bar/s]"
      ]
     },
     "metadata": {},
     "output_type": "display_data"
    },
    {
     "data": {
      "application/vnd.jupyter.widget-view+json": {
       "model_id": "d05b1aeaa5544cf58e2d1bca8ba6121d",
       "version_major": 2,
       "version_minor": 0
      },
      "text/plain": [
       "FractionalBacktest.run:   0%|          | 0/23608 [00:00<?, ?bar/s]"
      ]
     },
     "metadata": {},
     "output_type": "display_data"
    },
    {
     "data": {
      "application/vnd.jupyter.widget-view+json": {
       "model_id": "633d5725d56448feb1068809c937f559",
       "version_major": 2,
       "version_minor": 0
      },
      "text/plain": [
       "FractionalBacktest.run:   0%|          | 0/23535 [00:00<?, ?bar/s]"
      ]
     },
     "metadata": {},
     "output_type": "display_data"
    },
    {
     "data": {
      "application/vnd.jupyter.widget-view+json": {
       "model_id": "76061658999247c2932d23b211bc2e0f",
       "version_major": 2,
       "version_minor": 0
      },
      "text/plain": [
       "FractionalBacktest.run:   0%|          | 0/23789 [00:00<?, ?bar/s]"
      ]
     },
     "metadata": {},
     "output_type": "display_data"
    },
    {
     "data": {
      "application/vnd.jupyter.widget-view+json": {
       "model_id": "f56c0645f76540398282780a66d44350",
       "version_major": 2,
       "version_minor": 0
      },
      "text/plain": [
       "FractionalBacktest.run:   0%|          | 0/23843 [00:00<?, ?bar/s]"
      ]
     },
     "metadata": {},
     "output_type": "display_data"
    },
    {
     "data": {
      "application/vnd.jupyter.widget-view+json": {
       "model_id": "05d1af2f8c8a43f49c70bb1edf7bb2d6",
       "version_major": 2,
       "version_minor": 0
      },
      "text/plain": [
       "FractionalBacktest.run:   0%|          | 0/23748 [00:00<?, ?bar/s]"
      ]
     },
     "metadata": {},
     "output_type": "display_data"
    },
    {
     "data": {
      "application/vnd.jupyter.widget-view+json": {
       "model_id": "d9c0e2ad44fd427d9622626625632b0e",
       "version_major": 2,
       "version_minor": 0
      },
      "text/plain": [
       "FractionalBacktest.run:   0%|          | 0/23863 [00:00<?, ?bar/s]"
      ]
     },
     "metadata": {},
     "output_type": "display_data"
    },
    {
     "data": {
      "application/vnd.jupyter.widget-view+json": {
       "model_id": "4749a67ab5d64fa9adfb5eff506bf224",
       "version_major": 2,
       "version_minor": 0
      },
      "text/plain": [
       "FractionalBacktest.run:   0%|          | 0/23718 [00:00<?, ?bar/s]"
      ]
     },
     "metadata": {},
     "output_type": "display_data"
    },
    {
     "data": {
      "application/vnd.jupyter.widget-view+json": {
       "model_id": "bb032de39229479d818f0934eaed59ca",
       "version_major": 2,
       "version_minor": 0
      },
      "text/plain": [
       "FractionalBacktest.run:   0%|          | 0/23600 [00:00<?, ?bar/s]"
      ]
     },
     "metadata": {},
     "output_type": "display_data"
    },
    {
     "data": {
      "application/vnd.jupyter.widget-view+json": {
       "model_id": "e43943e589c24b7a92e908df8f8c1e60",
       "version_major": 2,
       "version_minor": 0
      },
      "text/plain": [
       "FractionalBacktest.run:   0%|          | 0/23847 [00:00<?, ?bar/s]"
      ]
     },
     "metadata": {},
     "output_type": "display_data"
    },
    {
     "data": {
      "application/vnd.jupyter.widget-view+json": {
       "model_id": "3346cde2a6054fdba439e5cfbfd5b10c",
       "version_major": 2,
       "version_minor": 0
      },
      "text/plain": [
       "FractionalBacktest.run:   0%|          | 0/23539 [00:00<?, ?bar/s]"
      ]
     },
     "metadata": {},
     "output_type": "display_data"
    },
    {
     "data": {
      "application/vnd.jupyter.widget-view+json": {
       "model_id": "e0e445e3739b4668a5c981a2084360ca",
       "version_major": 2,
       "version_minor": 0
      },
      "text/plain": [
       "FractionalBacktest.run:   0%|          | 0/23792 [00:00<?, ?bar/s]"
      ]
     },
     "metadata": {},
     "output_type": "display_data"
    },
    {
     "data": {
      "application/vnd.jupyter.widget-view+json": {
       "model_id": "65d1432b4c82432c9ace9208382cedfc",
       "version_major": 2,
       "version_minor": 0
      },
      "text/plain": [
       "FractionalBacktest.run:   0%|          | 0/23698 [00:00<?, ?bar/s]"
      ]
     },
     "metadata": {},
     "output_type": "display_data"
    },
    {
     "data": {
      "application/vnd.jupyter.widget-view+json": {
       "model_id": "1483ca70a5d748aeb38d0e62f9ae1784",
       "version_major": 2,
       "version_minor": 0
      },
      "text/plain": [
       "FractionalBacktest.run:   0%|          | 0/23513 [00:00<?, ?bar/s]"
      ]
     },
     "metadata": {},
     "output_type": "display_data"
    },
    {
     "data": {
      "application/vnd.jupyter.widget-view+json": {
       "model_id": "aa7eea2eab934abfbd81a79acfd7b64d",
       "version_major": 2,
       "version_minor": 0
      },
      "text/plain": [
       "FractionalBacktest.run:   0%|          | 0/23475 [00:00<?, ?bar/s]"
      ]
     },
     "metadata": {},
     "output_type": "display_data"
    },
    {
     "data": {
      "application/vnd.jupyter.widget-view+json": {
       "model_id": "d8881531553b4e26ac592c0d86269aa3",
       "version_major": 2,
       "version_minor": 0
      },
      "text/plain": [
       "FractionalBacktest.run:   0%|          | 0/23515 [00:00<?, ?bar/s]"
      ]
     },
     "metadata": {},
     "output_type": "display_data"
    },
    {
     "data": {
      "application/vnd.jupyter.widget-view+json": {
       "model_id": "5a2090762f7d4974bd99346898c9704b",
       "version_major": 2,
       "version_minor": 0
      },
      "text/plain": [
       "FractionalBacktest.run:   0%|          | 0/23790 [00:00<?, ?bar/s]"
      ]
     },
     "metadata": {},
     "output_type": "display_data"
    },
    {
     "data": {
      "application/vnd.jupyter.widget-view+json": {
       "model_id": "f7f567bf828341c0922e97f56c1c4fad",
       "version_major": 2,
       "version_minor": 0
      },
      "text/plain": [
       "FractionalBacktest.run:   0%|          | 0/23540 [00:00<?, ?bar/s]"
      ]
     },
     "metadata": {},
     "output_type": "display_data"
    },
    {
     "data": {
      "application/vnd.jupyter.widget-view+json": {
       "model_id": "bc718ccd808d4e95a89d02f657cc76bc",
       "version_major": 2,
       "version_minor": 0
      },
      "text/plain": [
       "FractionalBacktest.run:   0%|          | 0/23499 [00:00<?, ?bar/s]"
      ]
     },
     "metadata": {},
     "output_type": "display_data"
    },
    {
     "data": {
      "application/vnd.jupyter.widget-view+json": {
       "model_id": "14a3f6e358ac415b9d0639e4f65c9dd9",
       "version_major": 2,
       "version_minor": 0
      },
      "text/plain": [
       "FractionalBacktest.run:   0%|          | 0/23581 [00:00<?, ?bar/s]"
      ]
     },
     "metadata": {},
     "output_type": "display_data"
    },
    {
     "data": {
      "application/vnd.jupyter.widget-view+json": {
       "model_id": "a1c8baa1311e4af584ad26a98dcd57aa",
       "version_major": 2,
       "version_minor": 0
      },
      "text/plain": [
       "FractionalBacktest.run:   0%|          | 0/23513 [00:00<?, ?bar/s]"
      ]
     },
     "metadata": {},
     "output_type": "display_data"
    },
    {
     "data": {
      "application/vnd.jupyter.widget-view+json": {
       "model_id": "4c78bed7698a446a96558ab614d8506d",
       "version_major": 2,
       "version_minor": 0
      },
      "text/plain": [
       "FractionalBacktest.run:   0%|          | 0/23475 [00:00<?, ?bar/s]"
      ]
     },
     "metadata": {},
     "output_type": "display_data"
    },
    {
     "data": {
      "application/vnd.jupyter.widget-view+json": {
       "model_id": "ad6228056e424e4d9c622e5a9a31555d",
       "version_major": 2,
       "version_minor": 0
      },
      "text/plain": [
       "FractionalBacktest.run:   0%|          | 0/23540 [00:00<?, ?bar/s]"
      ]
     },
     "metadata": {},
     "output_type": "display_data"
    },
    {
     "data": {
      "application/vnd.jupyter.widget-view+json": {
       "model_id": "37349f0964ec4f96a7a2bd6beca22362",
       "version_major": 2,
       "version_minor": 0
      },
      "text/plain": [
       "FractionalBacktest.run:   0%|          | 0/23513 [00:00<?, ?bar/s]"
      ]
     },
     "metadata": {},
     "output_type": "display_data"
    },
    {
     "data": {
      "application/vnd.jupyter.widget-view+json": {
       "model_id": "f9d5d10f448a421e9305a49fdc01b698",
       "version_major": 2,
       "version_minor": 0
      },
      "text/plain": [
       "FractionalBacktest.run:   0%|          | 0/23492 [00:00<?, ?bar/s]"
      ]
     },
     "metadata": {},
     "output_type": "display_data"
    },
    {
     "data": {
      "application/vnd.jupyter.widget-view+json": {
       "model_id": "17651271fb094c009cff8a26626ba7b2",
       "version_major": 2,
       "version_minor": 0
      },
      "text/plain": [
       "FractionalBacktest.run:   0%|          | 0/23475 [00:00<?, ?bar/s]"
      ]
     },
     "metadata": {},
     "output_type": "display_data"
    },
    {
     "data": {
      "application/vnd.jupyter.widget-view+json": {
       "model_id": "2e22b7ff2dd643dcb54861c15793131f",
       "version_major": 2,
       "version_minor": 0
      },
      "text/plain": [
       "FractionalBacktest.run:   0%|          | 0/23497 [00:00<?, ?bar/s]"
      ]
     },
     "metadata": {},
     "output_type": "display_data"
    },
    {
     "data": {
      "application/vnd.jupyter.widget-view+json": {
       "model_id": "3be4dad4c12341c48433d527a0b02d1d",
       "version_major": 2,
       "version_minor": 0
      },
      "text/plain": [
       "FractionalBacktest.run:   0%|          | 0/23589 [00:00<?, ?bar/s]"
      ]
     },
     "metadata": {},
     "output_type": "display_data"
    },
    {
     "data": {
      "application/vnd.jupyter.widget-view+json": {
       "model_id": "8e9a086485054d308b141e16de90afad",
       "version_major": 2,
       "version_minor": 0
      },
      "text/plain": [
       "FractionalBacktest.run:   0%|          | 0/23497 [00:00<?, ?bar/s]"
      ]
     },
     "metadata": {},
     "output_type": "display_data"
    },
    {
     "data": {
      "application/vnd.jupyter.widget-view+json": {
       "model_id": "56605daaea3d48d5b9b2d9854e99a1c5",
       "version_major": 2,
       "version_minor": 0
      },
      "text/plain": [
       "FractionalBacktest.run:   0%|          | 0/23492 [00:00<?, ?bar/s]"
      ]
     },
     "metadata": {},
     "output_type": "display_data"
    },
    {
     "data": {
      "application/vnd.jupyter.widget-view+json": {
       "model_id": "def11253a20c4cab8dd67da039e59f77",
       "version_major": 2,
       "version_minor": 0
      },
      "text/plain": [
       "FractionalBacktest.run:   0%|          | 0/23505 [00:00<?, ?bar/s]"
      ]
     },
     "metadata": {},
     "output_type": "display_data"
    },
    {
     "data": {
      "application/vnd.jupyter.widget-view+json": {
       "model_id": "4c1a6f4943e54637b09669a3c6ea29bb",
       "version_major": 2,
       "version_minor": 0
      },
      "text/plain": [
       "FractionalBacktest.run:   0%|          | 0/23486 [00:00<?, ?bar/s]"
      ]
     },
     "metadata": {},
     "output_type": "display_data"
    },
    {
     "data": {
      "application/vnd.jupyter.widget-view+json": {
       "model_id": "8e7f47ca16344b3aa2f6c7b03aafcbd8",
       "version_major": 2,
       "version_minor": 0
      },
      "text/plain": [
       "FractionalBacktest.run:   0%|          | 0/23917 [00:00<?, ?bar/s]"
      ]
     },
     "metadata": {},
     "output_type": "display_data"
    },
    {
     "data": {
      "application/vnd.jupyter.widget-view+json": {
       "model_id": "0098c83438a64b6d9490b5d5e9e93ac6",
       "version_major": 2,
       "version_minor": 0
      },
      "text/plain": [
       "FractionalBacktest.run:   0%|          | 0/23741 [00:00<?, ?bar/s]"
      ]
     },
     "metadata": {},
     "output_type": "display_data"
    },
    {
     "data": {
      "application/vnd.jupyter.widget-view+json": {
       "model_id": "f6836e5ef1614827943186439e51a490",
       "version_major": 2,
       "version_minor": 0
      },
      "text/plain": [
       "FractionalBacktest.run:   0%|          | 0/23520 [00:00<?, ?bar/s]"
      ]
     },
     "metadata": {},
     "output_type": "display_data"
    },
    {
     "data": {
      "application/vnd.jupyter.widget-view+json": {
       "model_id": "6e1de7b2616d42f487f3725502a2e5a3",
       "version_major": 2,
       "version_minor": 0
      },
      "text/plain": [
       "FractionalBacktest.run:   0%|          | 0/23490 [00:00<?, ?bar/s]"
      ]
     },
     "metadata": {},
     "output_type": "display_data"
    },
    {
     "data": {
      "application/vnd.jupyter.widget-view+json": {
       "model_id": "f5e4cdf7eeec43ad8b856db33f960ad6",
       "version_major": 2,
       "version_minor": 0
      },
      "text/plain": [
       "FractionalBacktest.run:   0%|          | 0/23839 [00:00<?, ?bar/s]"
      ]
     },
     "metadata": {},
     "output_type": "display_data"
    },
    {
     "data": {
      "application/vnd.jupyter.widget-view+json": {
       "model_id": "eb3d3a01de1447aeb35711ccc49f9358",
       "version_major": 2,
       "version_minor": 0
      },
      "text/plain": [
       "FractionalBacktest.run:   0%|          | 0/23540 [00:00<?, ?bar/s]"
      ]
     },
     "metadata": {},
     "output_type": "display_data"
    },
    {
     "data": {
      "application/vnd.jupyter.widget-view+json": {
       "model_id": "740815ebc2874380860346b8c0f44ed3",
       "version_major": 2,
       "version_minor": 0
      },
      "text/plain": [
       "FractionalBacktest.run:   0%|          | 0/23480 [00:00<?, ?bar/s]"
      ]
     },
     "metadata": {},
     "output_type": "display_data"
    },
    {
     "data": {
      "application/vnd.jupyter.widget-view+json": {
       "model_id": "9d22f3d7caa24e77ba32a277ada1a1df",
       "version_major": 2,
       "version_minor": 0
      },
      "text/plain": [
       "FractionalBacktest.run:   0%|          | 0/23868 [00:00<?, ?bar/s]"
      ]
     },
     "metadata": {},
     "output_type": "display_data"
    },
    {
     "data": {
      "application/vnd.jupyter.widget-view+json": {
       "model_id": "6902de2bbffb41b1bacbb5c7a45a18b3",
       "version_major": 2,
       "version_minor": 0
      },
      "text/plain": [
       "FractionalBacktest.run:   0%|          | 0/23568 [00:00<?, ?bar/s]"
      ]
     },
     "metadata": {},
     "output_type": "display_data"
    },
    {
     "data": {
      "application/vnd.jupyter.widget-view+json": {
       "model_id": "b0a9351967284594b80633e34cecbda9",
       "version_major": 2,
       "version_minor": 0
      },
      "text/plain": [
       "FractionalBacktest.run:   0%|          | 0/23475 [00:00<?, ?bar/s]"
      ]
     },
     "metadata": {},
     "output_type": "display_data"
    },
    {
     "data": {
      "application/vnd.jupyter.widget-view+json": {
       "model_id": "e8f576c8b6c5401284e1c8cfc489769f",
       "version_major": 2,
       "version_minor": 0
      },
      "text/plain": [
       "FractionalBacktest.run:   0%|          | 0/23513 [00:00<?, ?bar/s]"
      ]
     },
     "metadata": {},
     "output_type": "display_data"
    },
    {
     "data": {
      "application/vnd.jupyter.widget-view+json": {
       "model_id": "1a7238d33fcb472285dc1decebeb9cc2",
       "version_major": 2,
       "version_minor": 0
      },
      "text/plain": [
       "FractionalBacktest.run:   0%|          | 0/23696 [00:00<?, ?bar/s]"
      ]
     },
     "metadata": {},
     "output_type": "display_data"
    },
    {
     "data": {
      "application/vnd.jupyter.widget-view+json": {
       "model_id": "bb5f6900e1f54bbf872bb24af71ec5e0",
       "version_major": 2,
       "version_minor": 0
      },
      "text/plain": [
       "FractionalBacktest.run:   0%|          | 0/23475 [00:00<?, ?bar/s]"
      ]
     },
     "metadata": {},
     "output_type": "display_data"
    },
    {
     "data": {
      "application/vnd.jupyter.widget-view+json": {
       "model_id": "e1041303ff1d4dc39609a01b9cd790eb",
       "version_major": 2,
       "version_minor": 0
      },
      "text/plain": [
       "FractionalBacktest.run:   0%|          | 0/23557 [00:00<?, ?bar/s]"
      ]
     },
     "metadata": {},
     "output_type": "display_data"
    },
    {
     "data": {
      "application/vnd.jupyter.widget-view+json": {
       "model_id": "62f18de034884bbc9495b8c757b4f550",
       "version_major": 2,
       "version_minor": 0
      },
      "text/plain": [
       "FractionalBacktest.run:   0%|          | 0/23798 [00:00<?, ?bar/s]"
      ]
     },
     "metadata": {},
     "output_type": "display_data"
    },
    {
     "data": {
      "application/vnd.jupyter.widget-view+json": {
       "model_id": "87dafe336a074f3a851832fc65aaee36",
       "version_major": 2,
       "version_minor": 0
      },
      "text/plain": [
       "FractionalBacktest.run:   0%|          | 0/23520 [00:00<?, ?bar/s]"
      ]
     },
     "metadata": {},
     "output_type": "display_data"
    },
    {
     "data": {
      "application/vnd.jupyter.widget-view+json": {
       "model_id": "f5fd737c73904f3ab7ad40fa89a21ec3",
       "version_major": 2,
       "version_minor": 0
      },
      "text/plain": [
       "FractionalBacktest.run:   0%|          | 0/23475 [00:00<?, ?bar/s]"
      ]
     },
     "metadata": {},
     "output_type": "display_data"
    },
    {
     "data": {
      "application/vnd.jupyter.widget-view+json": {
       "model_id": "f858631a6ee14c90b2f3a61f486e96ae",
       "version_major": 2,
       "version_minor": 0
      },
      "text/plain": [
       "FractionalBacktest.run:   0%|          | 0/23502 [00:00<?, ?bar/s]"
      ]
     },
     "metadata": {},
     "output_type": "display_data"
    },
    {
     "data": {
      "application/vnd.jupyter.widget-view+json": {
       "model_id": "5faeee3a05384057b967fbf11bf6f351",
       "version_major": 2,
       "version_minor": 0
      },
      "text/plain": [
       "FractionalBacktest.run:   0%|          | 0/23741 [00:00<?, ?bar/s]"
      ]
     },
     "metadata": {},
     "output_type": "display_data"
    },
    {
     "data": {
      "application/vnd.jupyter.widget-view+json": {
       "model_id": "07680823edab4b9dbe8a1ae1e03aa040",
       "version_major": 2,
       "version_minor": 0
      },
      "text/plain": [
       "FractionalBacktest.run:   0%|          | 0/23505 [00:00<?, ?bar/s]"
      ]
     },
     "metadata": {},
     "output_type": "display_data"
    },
    {
     "data": {
      "application/vnd.jupyter.widget-view+json": {
       "model_id": "1d73363a406b437499d29f18a1753c28",
       "version_major": 2,
       "version_minor": 0
      },
      "text/plain": [
       "FractionalBacktest.run:   0%|          | 0/23810 [00:00<?, ?bar/s]"
      ]
     },
     "metadata": {},
     "output_type": "display_data"
    },
    {
     "data": {
      "application/vnd.jupyter.widget-view+json": {
       "model_id": "30cb0075c46947c1bbe2b16f2188f424",
       "version_major": 2,
       "version_minor": 0
      },
      "text/plain": [
       "FractionalBacktest.run:   0%|          | 0/23663 [00:00<?, ?bar/s]"
      ]
     },
     "metadata": {},
     "output_type": "display_data"
    },
    {
     "data": {
      "application/vnd.jupyter.widget-view+json": {
       "model_id": "69ff86ae670c4234ae01b69fbaca5714",
       "version_major": 2,
       "version_minor": 0
      },
      "text/plain": [
       "FractionalBacktest.run:   0%|          | 0/23475 [00:00<?, ?bar/s]"
      ]
     },
     "metadata": {},
     "output_type": "display_data"
    },
    {
     "data": {
      "application/vnd.jupyter.widget-view+json": {
       "model_id": "1bc702e0cd7343f98a9a4aa5513525a5",
       "version_major": 2,
       "version_minor": 0
      },
      "text/plain": [
       "FractionalBacktest.run:   0%|          | 0/23510 [00:00<?, ?bar/s]"
      ]
     },
     "metadata": {},
     "output_type": "display_data"
    },
    {
     "data": {
      "application/vnd.jupyter.widget-view+json": {
       "model_id": "83fc80f3509c4001bb38e324c81687d9",
       "version_major": 2,
       "version_minor": 0
      },
      "text/plain": [
       "FractionalBacktest.run:   0%|          | 0/23641 [00:00<?, ?bar/s]"
      ]
     },
     "metadata": {},
     "output_type": "display_data"
    },
    {
     "data": {
      "application/vnd.jupyter.widget-view+json": {
       "model_id": "9079ed6240f14489aa97d5b9303e633c",
       "version_major": 2,
       "version_minor": 0
      },
      "text/plain": [
       "FractionalBacktest.run:   0%|          | 0/23781 [00:00<?, ?bar/s]"
      ]
     },
     "metadata": {},
     "output_type": "display_data"
    },
    {
     "data": {
      "application/vnd.jupyter.widget-view+json": {
       "model_id": "8b3ce9e13e9342258b9839750c865ebe",
       "version_major": 2,
       "version_minor": 0
      },
      "text/plain": [
       "FractionalBacktest.run:   0%|          | 0/23709 [00:00<?, ?bar/s]"
      ]
     },
     "metadata": {},
     "output_type": "display_data"
    },
    {
     "data": {
      "application/vnd.jupyter.widget-view+json": {
       "model_id": "570708ca8ca4455181d8c599ef739927",
       "version_major": 2,
       "version_minor": 0
      },
      "text/plain": [
       "FractionalBacktest.run:   0%|          | 0/23594 [00:00<?, ?bar/s]"
      ]
     },
     "metadata": {},
     "output_type": "display_data"
    },
    {
     "data": {
      "application/vnd.jupyter.widget-view+json": {
       "model_id": "976cbdb9419249e0b37b6fb098447758",
       "version_major": 2,
       "version_minor": 0
      },
      "text/plain": [
       "FractionalBacktest.run:   0%|          | 0/23505 [00:00<?, ?bar/s]"
      ]
     },
     "metadata": {},
     "output_type": "display_data"
    },
    {
     "data": {
      "application/vnd.jupyter.widget-view+json": {
       "model_id": "caae9eb597a74934ab53efd846da500e",
       "version_major": 2,
       "version_minor": 0
      },
      "text/plain": [
       "FractionalBacktest.run:   0%|          | 0/23664 [00:00<?, ?bar/s]"
      ]
     },
     "metadata": {},
     "output_type": "display_data"
    },
    {
     "data": {
      "application/vnd.jupyter.widget-view+json": {
       "model_id": "641355fea9584407ab464b7231e76c94",
       "version_major": 2,
       "version_minor": 0
      },
      "text/plain": [
       "FractionalBacktest.run:   0%|          | 0/23475 [00:00<?, ?bar/s]"
      ]
     },
     "metadata": {},
     "output_type": "display_data"
    },
    {
     "data": {
      "application/vnd.jupyter.widget-view+json": {
       "model_id": "8958fe65f8a048e497615c0be729634f",
       "version_major": 2,
       "version_minor": 0
      },
      "text/plain": [
       "FractionalBacktest.run:   0%|          | 0/23475 [00:00<?, ?bar/s]"
      ]
     },
     "metadata": {},
     "output_type": "display_data"
    },
    {
     "data": {
      "application/vnd.jupyter.widget-view+json": {
       "model_id": "6aba4f7cb39a40d19c030ed15b47a222",
       "version_major": 2,
       "version_minor": 0
      },
      "text/plain": [
       "FractionalBacktest.run:   0%|          | 0/23814 [00:00<?, ?bar/s]"
      ]
     },
     "metadata": {},
     "output_type": "display_data"
    },
    {
     "data": {
      "application/vnd.jupyter.widget-view+json": {
       "model_id": "c0bab176bc1a4ef29c5464a235d34f6f",
       "version_major": 2,
       "version_minor": 0
      },
      "text/plain": [
       "FractionalBacktest.run:   0%|          | 0/23505 [00:00<?, ?bar/s]"
      ]
     },
     "metadata": {},
     "output_type": "display_data"
    },
    {
     "data": {
      "application/vnd.jupyter.widget-view+json": {
       "model_id": "40b131021c9349a1beb2c97c7a8ed31e",
       "version_major": 2,
       "version_minor": 0
      },
      "text/plain": [
       "FractionalBacktest.run:   0%|          | 0/23520 [00:00<?, ?bar/s]"
      ]
     },
     "metadata": {},
     "output_type": "display_data"
    },
    {
     "data": {
      "application/vnd.jupyter.widget-view+json": {
       "model_id": "6838796b14ab44b281c79a2678566850",
       "version_major": 2,
       "version_minor": 0
      },
      "text/plain": [
       "FractionalBacktest.run:   0%|          | 0/23475 [00:00<?, ?bar/s]"
      ]
     },
     "metadata": {},
     "output_type": "display_data"
    },
    {
     "data": {
      "application/vnd.jupyter.widget-view+json": {
       "model_id": "bafa8565e12c4d20bcce379a4fe34c0c",
       "version_major": 2,
       "version_minor": 0
      },
      "text/plain": [
       "FractionalBacktest.run:   0%|          | 0/23501 [00:00<?, ?bar/s]"
      ]
     },
     "metadata": {},
     "output_type": "display_data"
    },
    {
     "data": {
      "application/vnd.jupyter.widget-view+json": {
       "model_id": "5d6caaa789764363a9180736f465a194",
       "version_major": 2,
       "version_minor": 0
      },
      "text/plain": [
       "FractionalBacktest.run:   0%|          | 0/23488 [00:00<?, ?bar/s]"
      ]
     },
     "metadata": {},
     "output_type": "display_data"
    },
    {
     "data": {
      "application/vnd.jupyter.widget-view+json": {
       "model_id": "b060661aac154687bb11adaa74557211",
       "version_major": 2,
       "version_minor": 0
      },
      "text/plain": [
       "FractionalBacktest.run:   0%|          | 0/23910 [00:00<?, ?bar/s]"
      ]
     },
     "metadata": {},
     "output_type": "display_data"
    },
    {
     "data": {
      "application/vnd.jupyter.widget-view+json": {
       "model_id": "80ea1039c84d49b0a4bef69148f5814b",
       "version_major": 2,
       "version_minor": 0
      },
      "text/plain": [
       "FractionalBacktest.run:   0%|          | 0/23483 [00:00<?, ?bar/s]"
      ]
     },
     "metadata": {},
     "output_type": "display_data"
    },
    {
     "data": {
      "application/vnd.jupyter.widget-view+json": {
       "model_id": "0f815273b6734b78a4bb189e0c88773e",
       "version_major": 2,
       "version_minor": 0
      },
      "text/plain": [
       "FractionalBacktest.run:   0%|          | 0/23520 [00:00<?, ?bar/s]"
      ]
     },
     "metadata": {},
     "output_type": "display_data"
    },
    {
     "data": {
      "application/vnd.jupyter.widget-view+json": {
       "model_id": "8821220d0efc48a19b2d637116636557",
       "version_major": 2,
       "version_minor": 0
      },
      "text/plain": [
       "FractionalBacktest.run:   0%|          | 0/23477 [00:00<?, ?bar/s]"
      ]
     },
     "metadata": {},
     "output_type": "display_data"
    },
    {
     "data": {
      "application/vnd.jupyter.widget-view+json": {
       "model_id": "4e1e8deee4494b3db9dfce7c3710dd32",
       "version_major": 2,
       "version_minor": 0
      },
      "text/plain": [
       "FractionalBacktest.run:   0%|          | 0/23514 [00:00<?, ?bar/s]"
      ]
     },
     "metadata": {},
     "output_type": "display_data"
    },
    {
     "data": {
      "application/vnd.jupyter.widget-view+json": {
       "model_id": "1413ea587611427490c35d4fe6439549",
       "version_major": 2,
       "version_minor": 0
      },
      "text/plain": [
       "FractionalBacktest.run:   0%|          | 0/23475 [00:00<?, ?bar/s]"
      ]
     },
     "metadata": {},
     "output_type": "display_data"
    },
    {
     "data": {
      "application/vnd.jupyter.widget-view+json": {
       "model_id": "bd311d4c085b4f3b8f3fa70681ad9eba",
       "version_major": 2,
       "version_minor": 0
      },
      "text/plain": [
       "FractionalBacktest.run:   0%|          | 0/23510 [00:00<?, ?bar/s]"
      ]
     },
     "metadata": {},
     "output_type": "display_data"
    },
    {
     "data": {
      "application/vnd.jupyter.widget-view+json": {
       "model_id": "6e91235da7aa4c979a092ae9092c7af5",
       "version_major": 2,
       "version_minor": 0
      },
      "text/plain": [
       "FractionalBacktest.run:   0%|          | 0/23745 [00:00<?, ?bar/s]"
      ]
     },
     "metadata": {},
     "output_type": "display_data"
    },
    {
     "data": {
      "application/vnd.jupyter.widget-view+json": {
       "model_id": "fb5affd9b92b41b088ae7461a783fe98",
       "version_major": 2,
       "version_minor": 0
      },
      "text/plain": [
       "FractionalBacktest.run:   0%|          | 0/23499 [00:00<?, ?bar/s]"
      ]
     },
     "metadata": {},
     "output_type": "display_data"
    },
    {
     "data": {
      "application/vnd.jupyter.widget-view+json": {
       "model_id": "d7d8a9585d5a4077b915edc9d1700d1c",
       "version_major": 2,
       "version_minor": 0
      },
      "text/plain": [
       "FractionalBacktest.run:   0%|          | 0/23489 [00:00<?, ?bar/s]"
      ]
     },
     "metadata": {},
     "output_type": "display_data"
    },
    {
     "data": {
      "application/vnd.jupyter.widget-view+json": {
       "model_id": "c6166fdcdd96416dafbfed589f7a60a8",
       "version_major": 2,
       "version_minor": 0
      },
      "text/plain": [
       "FractionalBacktest.run:   0%|          | 0/23694 [00:00<?, ?bar/s]"
      ]
     },
     "metadata": {},
     "output_type": "display_data"
    },
    {
     "data": {
      "application/vnd.jupyter.widget-view+json": {
       "model_id": "8f944497a64a493a822a2ad8bbcabc51",
       "version_major": 2,
       "version_minor": 0
      },
      "text/plain": [
       "FractionalBacktest.run:   0%|          | 0/23518 [00:00<?, ?bar/s]"
      ]
     },
     "metadata": {},
     "output_type": "display_data"
    },
    {
     "data": {
      "application/vnd.jupyter.widget-view+json": {
       "model_id": "dcc2399df52e4423981a58f55dc5fb8b",
       "version_major": 2,
       "version_minor": 0
      },
      "text/plain": [
       "FractionalBacktest.run:   0%|          | 0/23496 [00:00<?, ?bar/s]"
      ]
     },
     "metadata": {},
     "output_type": "display_data"
    },
    {
     "data": {
      "application/vnd.jupyter.widget-view+json": {
       "model_id": "20350b73e051469bb6e5cca3e68b1e25",
       "version_major": 2,
       "version_minor": 0
      },
      "text/plain": [
       "FractionalBacktest.run:   0%|          | 0/23525 [00:00<?, ?bar/s]"
      ]
     },
     "metadata": {},
     "output_type": "display_data"
    },
    {
     "data": {
      "application/vnd.jupyter.widget-view+json": {
       "model_id": "00e700f41f3242d0832c6b7317546b69",
       "version_major": 2,
       "version_minor": 0
      },
      "text/plain": [
       "FractionalBacktest.run:   0%|          | 0/23491 [00:00<?, ?bar/s]"
      ]
     },
     "metadata": {},
     "output_type": "display_data"
    },
    {
     "data": {
      "application/vnd.jupyter.widget-view+json": {
       "model_id": "5a94ebfea4c94a7599ce940a9a46b243",
       "version_major": 2,
       "version_minor": 0
      },
      "text/plain": [
       "FractionalBacktest.run:   0%|          | 0/23913 [00:00<?, ?bar/s]"
      ]
     },
     "metadata": {},
     "output_type": "display_data"
    },
    {
     "data": {
      "application/vnd.jupyter.widget-view+json": {
       "model_id": "14138686513b452fbb0ecd10ef098461",
       "version_major": 2,
       "version_minor": 0
      },
      "text/plain": [
       "FractionalBacktest.run:   0%|          | 0/23475 [00:00<?, ?bar/s]"
      ]
     },
     "metadata": {},
     "output_type": "display_data"
    },
    {
     "data": {
      "application/vnd.jupyter.widget-view+json": {
       "model_id": "07e1d1902dd8453eb915bfed3a6c6eee",
       "version_major": 2,
       "version_minor": 0
      },
      "text/plain": [
       "FractionalBacktest.run:   0%|          | 0/23502 [00:00<?, ?bar/s]"
      ]
     },
     "metadata": {},
     "output_type": "display_data"
    },
    {
     "data": {
      "application/vnd.jupyter.widget-view+json": {
       "model_id": "15e5f358ce6c46cdbc855afb60114412",
       "version_major": 2,
       "version_minor": 0
      },
      "text/plain": [
       "FractionalBacktest.run:   0%|          | 0/23765 [00:00<?, ?bar/s]"
      ]
     },
     "metadata": {},
     "output_type": "display_data"
    },
    {
     "data": {
      "application/vnd.jupyter.widget-view+json": {
       "model_id": "46258d94688248e0b088dbfc5b2b2877",
       "version_major": 2,
       "version_minor": 0
      },
      "text/plain": [
       "FractionalBacktest.run:   0%|          | 0/23489 [00:00<?, ?bar/s]"
      ]
     },
     "metadata": {},
     "output_type": "display_data"
    },
    {
     "data": {
      "application/vnd.jupyter.widget-view+json": {
       "model_id": "2a11b4a631ee4598b292b1bfcb97f370",
       "version_major": 2,
       "version_minor": 0
      },
      "text/plain": [
       "FractionalBacktest.run:   0%|          | 0/23520 [00:00<?, ?bar/s]"
      ]
     },
     "metadata": {},
     "output_type": "display_data"
    },
    {
     "data": {
      "application/vnd.jupyter.widget-view+json": {
       "model_id": "500b7c78ab3640e2b2ed272d6e1092ad",
       "version_major": 2,
       "version_minor": 0
      },
      "text/plain": [
       "FractionalBacktest.run:   0%|          | 0/23475 [00:00<?, ?bar/s]"
      ]
     },
     "metadata": {},
     "output_type": "display_data"
    },
    {
     "data": {
      "application/vnd.jupyter.widget-view+json": {
       "model_id": "47368e375d184e8ebe9bbb2a4860012c",
       "version_major": 2,
       "version_minor": 0
      },
      "text/plain": [
       "FractionalBacktest.run:   0%|          | 0/23475 [00:00<?, ?bar/s]"
      ]
     },
     "metadata": {},
     "output_type": "display_data"
    },
    {
     "data": {
      "application/vnd.jupyter.widget-view+json": {
       "model_id": "e86afb74abd44ca49aae3e765834d061",
       "version_major": 2,
       "version_minor": 0
      },
      "text/plain": [
       "FractionalBacktest.run:   0%|          | 0/23475 [00:00<?, ?bar/s]"
      ]
     },
     "metadata": {},
     "output_type": "display_data"
    },
    {
     "data": {
      "application/vnd.jupyter.widget-view+json": {
       "model_id": "6c7e8acb3d9a4c6e8e2002b984e08a37",
       "version_major": 2,
       "version_minor": 0
      },
      "text/plain": [
       "FractionalBacktest.run:   0%|          | 0/23483 [00:00<?, ?bar/s]"
      ]
     },
     "metadata": {},
     "output_type": "display_data"
    },
    {
     "data": {
      "application/vnd.jupyter.widget-view+json": {
       "model_id": "5888842e10b742368605c987e4c1c256",
       "version_major": 2,
       "version_minor": 0
      },
      "text/plain": [
       "FractionalBacktest.run:   0%|          | 0/23497 [00:00<?, ?bar/s]"
      ]
     },
     "metadata": {},
     "output_type": "display_data"
    },
    {
     "data": {
      "application/vnd.jupyter.widget-view+json": {
       "model_id": "ceda377d08b24288ba9f61bab41067e4",
       "version_major": 2,
       "version_minor": 0
      },
      "text/plain": [
       "FractionalBacktest.run:   0%|          | 0/23708 [00:00<?, ?bar/s]"
      ]
     },
     "metadata": {},
     "output_type": "display_data"
    },
    {
     "data": {
      "application/vnd.jupyter.widget-view+json": {
       "model_id": "1220246747494a9c8563de491a60345e",
       "version_major": 2,
       "version_minor": 0
      },
      "text/plain": [
       "FractionalBacktest.run:   0%|          | 0/23494 [00:00<?, ?bar/s]"
      ]
     },
     "metadata": {},
     "output_type": "display_data"
    },
    {
     "data": {
      "application/vnd.jupyter.widget-view+json": {
       "model_id": "0e16ec7e1de34d9ab8c254288370146b",
       "version_major": 2,
       "version_minor": 0
      },
      "text/plain": [
       "FractionalBacktest.run:   0%|          | 0/23491 [00:00<?, ?bar/s]"
      ]
     },
     "metadata": {},
     "output_type": "display_data"
    },
    {
     "data": {
      "application/vnd.jupyter.widget-view+json": {
       "model_id": "13eced467cb6483298779ae5b781db49",
       "version_major": 2,
       "version_minor": 0
      },
      "text/plain": [
       "FractionalBacktest.run:   0%|          | 0/23602 [00:00<?, ?bar/s]"
      ]
     },
     "metadata": {},
     "output_type": "display_data"
    },
    {
     "data": {
      "application/vnd.jupyter.widget-view+json": {
       "model_id": "2f4d86a801384fbe88f87eb597ab9e0a",
       "version_major": 2,
       "version_minor": 0
      },
      "text/plain": [
       "FractionalBacktest.run:   0%|          | 0/23520 [00:00<?, ?bar/s]"
      ]
     },
     "metadata": {},
     "output_type": "display_data"
    },
    {
     "data": {
      "application/vnd.jupyter.widget-view+json": {
       "model_id": "56de3eab903c45a28c550d8478194dc3",
       "version_major": 2,
       "version_minor": 0
      },
      "text/plain": [
       "FractionalBacktest.run:   0%|          | 0/23525 [00:00<?, ?bar/s]"
      ]
     },
     "metadata": {},
     "output_type": "display_data"
    },
    {
     "data": {
      "application/vnd.jupyter.widget-view+json": {
       "model_id": "a4db33b4b18741168eac8fe19b0f16ba",
       "version_major": 2,
       "version_minor": 0
      },
      "text/plain": [
       "FractionalBacktest.run:   0%|          | 0/23525 [00:00<?, ?bar/s]"
      ]
     },
     "metadata": {},
     "output_type": "display_data"
    },
    {
     "data": {
      "application/vnd.jupyter.widget-view+json": {
       "model_id": "7b3b0326da924a55ad7c69a51579f0a9",
       "version_major": 2,
       "version_minor": 0
      },
      "text/plain": [
       "FractionalBacktest.run:   0%|          | 0/23491 [00:00<?, ?bar/s]"
      ]
     },
     "metadata": {},
     "output_type": "display_data"
    },
    {
     "data": {
      "application/vnd.jupyter.widget-view+json": {
       "model_id": "18ff65b521764af58f432e3aa98e435e",
       "version_major": 2,
       "version_minor": 0
      },
      "text/plain": [
       "FractionalBacktest.run:   0%|          | 0/23898 [00:00<?, ?bar/s]"
      ]
     },
     "metadata": {},
     "output_type": "display_data"
    },
    {
     "data": {
      "application/vnd.jupyter.widget-view+json": {
       "model_id": "b75b8631acea407f8bedf7c53791a79e",
       "version_major": 2,
       "version_minor": 0
      },
      "text/plain": [
       "FractionalBacktest.run:   0%|          | 0/23504 [00:00<?, ?bar/s]"
      ]
     },
     "metadata": {},
     "output_type": "display_data"
    },
    {
     "data": {
      "application/vnd.jupyter.widget-view+json": {
       "model_id": "8ecc3d53325744f2991739425ce2a5ce",
       "version_major": 2,
       "version_minor": 0
      },
      "text/plain": [
       "FractionalBacktest.run:   0%|          | 0/23485 [00:00<?, ?bar/s]"
      ]
     },
     "metadata": {},
     "output_type": "display_data"
    },
    {
     "data": {
      "application/vnd.jupyter.widget-view+json": {
       "model_id": "bc5a94074ffc43eba880fd26a6f69011",
       "version_major": 2,
       "version_minor": 0
      },
      "text/plain": [
       "FractionalBacktest.run:   0%|          | 0/23502 [00:00<?, ?bar/s]"
      ]
     },
     "metadata": {},
     "output_type": "display_data"
    },
    {
     "data": {
      "application/vnd.jupyter.widget-view+json": {
       "model_id": "0830fd29b1364f85b6929973241d3260",
       "version_major": 2,
       "version_minor": 0
      },
      "text/plain": [
       "FractionalBacktest.run:   0%|          | 0/23525 [00:00<?, ?bar/s]"
      ]
     },
     "metadata": {},
     "output_type": "display_data"
    },
    {
     "data": {
      "application/vnd.jupyter.widget-view+json": {
       "model_id": "6c1c9ac7047a47f2a81a1af9a27b14a4",
       "version_major": 2,
       "version_minor": 0
      },
      "text/plain": [
       "FractionalBacktest.run:   0%|          | 0/23701 [00:00<?, ?bar/s]"
      ]
     },
     "metadata": {},
     "output_type": "display_data"
    },
    {
     "data": {
      "application/vnd.jupyter.widget-view+json": {
       "model_id": "a157d948d4364078a3978a12efc7aaaf",
       "version_major": 2,
       "version_minor": 0
      },
      "text/plain": [
       "FractionalBacktest.run:   0%|          | 0/23475 [00:00<?, ?bar/s]"
      ]
     },
     "metadata": {},
     "output_type": "display_data"
    },
    {
     "data": {
      "application/vnd.jupyter.widget-view+json": {
       "model_id": "d9c63966a7a040179d65fc78f6a3e59e",
       "version_major": 2,
       "version_minor": 0
      },
      "text/plain": [
       "FractionalBacktest.run:   0%|          | 0/23475 [00:00<?, ?bar/s]"
      ]
     },
     "metadata": {},
     "output_type": "display_data"
    },
    {
     "data": {
      "application/vnd.jupyter.widget-view+json": {
       "model_id": "cc75ee4ae73a4a45adc768f2f1d1d036",
       "version_major": 2,
       "version_minor": 0
      },
      "text/plain": [
       "FractionalBacktest.run:   0%|          | 0/23502 [00:00<?, ?bar/s]"
      ]
     },
     "metadata": {},
     "output_type": "display_data"
    },
    {
     "data": {
      "application/vnd.jupyter.widget-view+json": {
       "model_id": "2e2ac1a0e3144cd6833dab9a15ddcf41",
       "version_major": 2,
       "version_minor": 0
      },
      "text/plain": [
       "FractionalBacktest.run:   0%|          | 0/23587 [00:00<?, ?bar/s]"
      ]
     },
     "metadata": {},
     "output_type": "display_data"
    },
    {
     "data": {
      "application/vnd.jupyter.widget-view+json": {
       "model_id": "dc9b88aedc6b4a2db49c78daf87a1222",
       "version_major": 2,
       "version_minor": 0
      },
      "text/plain": [
       "FractionalBacktest.run:   0%|          | 0/23505 [00:00<?, ?bar/s]"
      ]
     },
     "metadata": {},
     "output_type": "display_data"
    },
    {
     "data": {
      "application/vnd.jupyter.widget-view+json": {
       "model_id": "d1f6fd902c9749b58b3763660b61e48b",
       "version_major": 2,
       "version_minor": 0
      },
      "text/plain": [
       "FractionalBacktest.run:   0%|          | 0/23520 [00:00<?, ?bar/s]"
      ]
     },
     "metadata": {},
     "output_type": "display_data"
    },
    {
     "data": {
      "application/vnd.jupyter.widget-view+json": {
       "model_id": "630cacadb1244a2eab5652380196f63d",
       "version_major": 2,
       "version_minor": 0
      },
      "text/plain": [
       "FractionalBacktest.run:   0%|          | 0/23488 [00:00<?, ?bar/s]"
      ]
     },
     "metadata": {},
     "output_type": "display_data"
    },
    {
     "data": {
      "application/vnd.jupyter.widget-view+json": {
       "model_id": "b21c5e8907944c0495b3472cd630f740",
       "version_major": 2,
       "version_minor": 0
      },
      "text/plain": [
       "FractionalBacktest.run:   0%|          | 0/23485 [00:00<?, ?bar/s]"
      ]
     },
     "metadata": {},
     "output_type": "display_data"
    },
    {
     "data": {
      "application/vnd.jupyter.widget-view+json": {
       "model_id": "bd5368942d9c446f982bdbda8da3fd92",
       "version_major": 2,
       "version_minor": 0
      },
      "text/plain": [
       "FractionalBacktest.run:   0%|          | 0/23475 [00:00<?, ?bar/s]"
      ]
     },
     "metadata": {},
     "output_type": "display_data"
    },
    {
     "data": {
      "application/vnd.jupyter.widget-view+json": {
       "model_id": "586a37a8b9c4480eafeb422153083c01",
       "version_major": 2,
       "version_minor": 0
      },
      "text/plain": [
       "FractionalBacktest.run:   0%|          | 0/23569 [00:00<?, ?bar/s]"
      ]
     },
     "metadata": {},
     "output_type": "display_data"
    },
    {
     "data": {
      "application/vnd.jupyter.widget-view+json": {
       "model_id": "6dd9b056fcd84bc9ae6bc2ed5b86278d",
       "version_major": 2,
       "version_minor": 0
      },
      "text/plain": [
       "FractionalBacktest.run:   0%|          | 0/23483 [00:00<?, ?bar/s]"
      ]
     },
     "metadata": {},
     "output_type": "display_data"
    },
    {
     "data": {
      "application/vnd.jupyter.widget-view+json": {
       "model_id": "ce14ddfef5b6441d8431d78bc82b60d6",
       "version_major": 2,
       "version_minor": 0
      },
      "text/plain": [
       "FractionalBacktest.run:   0%|          | 0/23497 [00:00<?, ?bar/s]"
      ]
     },
     "metadata": {},
     "output_type": "display_data"
    },
    {
     "data": {
      "application/vnd.jupyter.widget-view+json": {
       "model_id": "129b106f548f4adfb33d3e3c9b8e641b",
       "version_major": 2,
       "version_minor": 0
      },
      "text/plain": [
       "FractionalBacktest.run:   0%|          | 0/23511 [00:00<?, ?bar/s]"
      ]
     },
     "metadata": {},
     "output_type": "display_data"
    },
    {
     "data": {
      "application/vnd.jupyter.widget-view+json": {
       "model_id": "6a377af43b5247219233c51fc705e71b",
       "version_major": 2,
       "version_minor": 0
      },
      "text/plain": [
       "FractionalBacktest.run:   0%|          | 0/23510 [00:00<?, ?bar/s]"
      ]
     },
     "metadata": {},
     "output_type": "display_data"
    },
    {
     "data": {
      "application/vnd.jupyter.widget-view+json": {
       "model_id": "c4d76e26a2414a57a050940547e317bc",
       "version_major": 2,
       "version_minor": 0
      },
      "text/plain": [
       "FractionalBacktest.run:   0%|          | 0/23517 [00:00<?, ?bar/s]"
      ]
     },
     "metadata": {},
     "output_type": "display_data"
    },
    {
     "data": {
      "application/vnd.jupyter.widget-view+json": {
       "model_id": "012b5e7f200a4bea832e33bd7c485c99",
       "version_major": 2,
       "version_minor": 0
      },
      "text/plain": [
       "FractionalBacktest.run:   0%|          | 0/23492 [00:00<?, ?bar/s]"
      ]
     },
     "metadata": {},
     "output_type": "display_data"
    },
    {
     "data": {
      "application/vnd.jupyter.widget-view+json": {
       "model_id": "791681c6449241ecaccefc16d3a99d21",
       "version_major": 2,
       "version_minor": 0
      },
      "text/plain": [
       "FractionalBacktest.run:   0%|          | 0/23502 [00:00<?, ?bar/s]"
      ]
     },
     "metadata": {},
     "output_type": "display_data"
    },
    {
     "data": {
      "application/vnd.jupyter.widget-view+json": {
       "model_id": "fa7a3529a373452eb6ea9928e64d8ba6",
       "version_major": 2,
       "version_minor": 0
      },
      "text/plain": [
       "FractionalBacktest.run:   0%|          | 0/23682 [00:00<?, ?bar/s]"
      ]
     },
     "metadata": {},
     "output_type": "display_data"
    },
    {
     "data": {
      "application/vnd.jupyter.widget-view+json": {
       "model_id": "d956f7e6167041c68f0ff82f81c13938",
       "version_major": 2,
       "version_minor": 0
      },
      "text/plain": [
       "FractionalBacktest.run:   0%|          | 0/23501 [00:00<?, ?bar/s]"
      ]
     },
     "metadata": {},
     "output_type": "display_data"
    },
    {
     "data": {
      "application/vnd.jupyter.widget-view+json": {
       "model_id": "e629124b528a4d97a8447b210ad2690b",
       "version_major": 2,
       "version_minor": 0
      },
      "text/plain": [
       "FractionalBacktest.run:   0%|          | 0/23834 [00:00<?, ?bar/s]"
      ]
     },
     "metadata": {},
     "output_type": "display_data"
    },
    {
     "data": {
      "application/vnd.jupyter.widget-view+json": {
       "model_id": "8a322ce8af6f4f448656825d0d30cfb8",
       "version_major": 2,
       "version_minor": 0
      },
      "text/plain": [
       "FractionalBacktest.run:   0%|          | 0/23507 [00:00<?, ?bar/s]"
      ]
     },
     "metadata": {},
     "output_type": "display_data"
    },
    {
     "data": {
      "application/vnd.jupyter.widget-view+json": {
       "model_id": "2e7687e4fcfb43978bb1021466476018",
       "version_major": 2,
       "version_minor": 0
      },
      "text/plain": [
       "FractionalBacktest.run:   0%|          | 0/23518 [00:00<?, ?bar/s]"
      ]
     },
     "metadata": {},
     "output_type": "display_data"
    },
    {
     "data": {
      "application/vnd.jupyter.widget-view+json": {
       "model_id": "50b2f728e78e48c09ac634b66ef96a4c",
       "version_major": 2,
       "version_minor": 0
      },
      "text/plain": [
       "FractionalBacktest.run:   0%|          | 0/23498 [00:00<?, ?bar/s]"
      ]
     },
     "metadata": {},
     "output_type": "display_data"
    },
    {
     "data": {
      "application/vnd.jupyter.widget-view+json": {
       "model_id": "5c5d059480c8467aac7fca1f67751bb8",
       "version_major": 2,
       "version_minor": 0
      },
      "text/plain": [
       "FractionalBacktest.run:   0%|          | 0/23475 [00:00<?, ?bar/s]"
      ]
     },
     "metadata": {},
     "output_type": "display_data"
    },
    {
     "data": {
      "application/vnd.jupyter.widget-view+json": {
       "model_id": "9c02f8e8c6f443a3a16af5dcc1ebe89c",
       "version_major": 2,
       "version_minor": 0
      },
      "text/plain": [
       "FractionalBacktest.run:   0%|          | 0/23505 [00:00<?, ?bar/s]"
      ]
     },
     "metadata": {},
     "output_type": "display_data"
    },
    {
     "data": {
      "application/vnd.jupyter.widget-view+json": {
       "model_id": "a1c20835c0744eab81f4fec998ecdbf4",
       "version_major": 2,
       "version_minor": 0
      },
      "text/plain": [
       "FractionalBacktest.run:   0%|          | 0/23486 [00:00<?, ?bar/s]"
      ]
     },
     "metadata": {},
     "output_type": "display_data"
    },
    {
     "data": {
      "application/vnd.jupyter.widget-view+json": {
       "model_id": "c31ffa78df324985bc3c508d71559c47",
       "version_major": 2,
       "version_minor": 0
      },
      "text/plain": [
       "FractionalBacktest.run:   0%|          | 0/23534 [00:00<?, ?bar/s]"
      ]
     },
     "metadata": {},
     "output_type": "display_data"
    },
    {
     "data": {
      "application/vnd.jupyter.widget-view+json": {
       "model_id": "d30b8326f7a34dbcabdef8d9c23648e0",
       "version_major": 2,
       "version_minor": 0
      },
      "text/plain": [
       "FractionalBacktest.run:   0%|          | 0/23487 [00:00<?, ?bar/s]"
      ]
     },
     "metadata": {},
     "output_type": "display_data"
    },
    {
     "data": {
      "application/vnd.jupyter.widget-view+json": {
       "model_id": "962d1355b0164c5586998fe7ab9276cb",
       "version_major": 2,
       "version_minor": 0
      },
      "text/plain": [
       "FractionalBacktest.run:   0%|          | 0/23494 [00:00<?, ?bar/s]"
      ]
     },
     "metadata": {},
     "output_type": "display_data"
    },
    {
     "data": {
      "application/vnd.jupyter.widget-view+json": {
       "model_id": "0f1105db3c8d45c58f3569863f49d54a",
       "version_major": 2,
       "version_minor": 0
      },
      "text/plain": [
       "FractionalBacktest.run:   0%|          | 0/23847 [00:00<?, ?bar/s]"
      ]
     },
     "metadata": {},
     "output_type": "display_data"
    },
    {
     "data": {
      "application/vnd.jupyter.widget-view+json": {
       "model_id": "7ef67022cf6444bb8ed48af84dbaeec3",
       "version_major": 2,
       "version_minor": 0
      },
      "text/plain": [
       "FractionalBacktest.run:   0%|          | 0/23496 [00:00<?, ?bar/s]"
      ]
     },
     "metadata": {},
     "output_type": "display_data"
    },
    {
     "data": {
      "application/vnd.jupyter.widget-view+json": {
       "model_id": "b559eba5663545f3b036bd1e7f17db06",
       "version_major": 2,
       "version_minor": 0
      },
      "text/plain": [
       "FractionalBacktest.run:   0%|          | 0/23475 [00:00<?, ?bar/s]"
      ]
     },
     "metadata": {},
     "output_type": "display_data"
    },
    {
     "data": {
      "application/vnd.jupyter.widget-view+json": {
       "model_id": "47eb917fd1f244d6921bee4531856820",
       "version_major": 2,
       "version_minor": 0
      },
      "text/plain": [
       "FractionalBacktest.run:   0%|          | 0/23475 [00:00<?, ?bar/s]"
      ]
     },
     "metadata": {},
     "output_type": "display_data"
    },
    {
     "data": {
      "application/vnd.jupyter.widget-view+json": {
       "model_id": "93229a9562f940a2b764c46280ce4bed",
       "version_major": 2,
       "version_minor": 0
      },
      "text/plain": [
       "FractionalBacktest.run:   0%|          | 0/23505 [00:00<?, ?bar/s]"
      ]
     },
     "metadata": {},
     "output_type": "display_data"
    },
    {
     "data": {
      "application/vnd.jupyter.widget-view+json": {
       "model_id": "8973a8f4967642d8a471b193ae04273b",
       "version_major": 2,
       "version_minor": 0
      },
      "text/plain": [
       "FractionalBacktest.run:   0%|          | 0/23718 [00:00<?, ?bar/s]"
      ]
     },
     "metadata": {},
     "output_type": "display_data"
    },
    {
     "data": {
      "application/vnd.jupyter.widget-view+json": {
       "model_id": "8f0832ed59644cc1abac5da7f92190a3",
       "version_major": 2,
       "version_minor": 0
      },
      "text/plain": [
       "FractionalBacktest.run:   0%|          | 0/23489 [00:00<?, ?bar/s]"
      ]
     },
     "metadata": {},
     "output_type": "display_data"
    },
    {
     "data": {
      "application/vnd.jupyter.widget-view+json": {
       "model_id": "729b43d8f8f54588b07529c5eab29d96",
       "version_major": 2,
       "version_minor": 0
      },
      "text/plain": [
       "FractionalBacktest.run:   0%|          | 0/23494 [00:00<?, ?bar/s]"
      ]
     },
     "metadata": {},
     "output_type": "display_data"
    },
    {
     "data": {
      "application/vnd.jupyter.widget-view+json": {
       "model_id": "a5ae89ddec114224bbe746f5bef86a82",
       "version_major": 2,
       "version_minor": 0
      },
      "text/plain": [
       "FractionalBacktest.run:   0%|          | 0/23928 [00:00<?, ?bar/s]"
      ]
     },
     "metadata": {},
     "output_type": "display_data"
    },
    {
     "data": {
      "application/vnd.jupyter.widget-view+json": {
       "model_id": "770a76c021f54266b7156e4c64198e17",
       "version_major": 2,
       "version_minor": 0
      },
      "text/plain": [
       "FractionalBacktest.run:   0%|          | 0/23511 [00:00<?, ?bar/s]"
      ]
     },
     "metadata": {},
     "output_type": "display_data"
    },
    {
     "data": {
      "application/vnd.jupyter.widget-view+json": {
       "model_id": "064e186df1ea48f3918cdf6f779f7d47",
       "version_major": 2,
       "version_minor": 0
      },
      "text/plain": [
       "FractionalBacktest.run:   0%|          | 0/23518 [00:00<?, ?bar/s]"
      ]
     },
     "metadata": {},
     "output_type": "display_data"
    },
    {
     "data": {
      "application/vnd.jupyter.widget-view+json": {
       "model_id": "d16c21c143c84b4dab13a703f3b51428",
       "version_major": 2,
       "version_minor": 0
      },
      "text/plain": [
       "FractionalBacktest.run:   0%|          | 0/23482 [00:00<?, ?bar/s]"
      ]
     },
     "metadata": {},
     "output_type": "display_data"
    },
    {
     "data": {
      "application/vnd.jupyter.widget-view+json": {
       "model_id": "7c58f127334347578fde292924e60705",
       "version_major": 2,
       "version_minor": 0
      },
      "text/plain": [
       "FractionalBacktest.run:   0%|          | 0/23478 [00:00<?, ?bar/s]"
      ]
     },
     "metadata": {},
     "output_type": "display_data"
    },
    {
     "data": {
      "application/vnd.jupyter.widget-view+json": {
       "model_id": "8d808613c647414e83aa150883e1b352",
       "version_major": 2,
       "version_minor": 0
      },
      "text/plain": [
       "FractionalBacktest.run:   0%|          | 0/23499 [00:00<?, ?bar/s]"
      ]
     },
     "metadata": {},
     "output_type": "display_data"
    },
    {
     "data": {
      "application/vnd.jupyter.widget-view+json": {
       "model_id": "621017ce927d4a029cb6a00b74ae7617",
       "version_major": 2,
       "version_minor": 0
      },
      "text/plain": [
       "FractionalBacktest.run:   0%|          | 0/23864 [00:00<?, ?bar/s]"
      ]
     },
     "metadata": {},
     "output_type": "display_data"
    },
    {
     "data": {
      "application/vnd.jupyter.widget-view+json": {
       "model_id": "b533395d6ed34c02a421e43a38704b2f",
       "version_major": 2,
       "version_minor": 0
      },
      "text/plain": [
       "FractionalBacktest.run:   0%|          | 0/23500 [00:00<?, ?bar/s]"
      ]
     },
     "metadata": {},
     "output_type": "display_data"
    },
    {
     "data": {
      "application/vnd.jupyter.widget-view+json": {
       "model_id": "98c98d886d244a2191d6c57db39d94db",
       "version_major": 2,
       "version_minor": 0
      },
      "text/plain": [
       "FractionalBacktest.run:   0%|          | 0/23835 [00:00<?, ?bar/s]"
      ]
     },
     "metadata": {},
     "output_type": "display_data"
    },
    {
     "data": {
      "application/vnd.jupyter.widget-view+json": {
       "model_id": "c81c50d2268245dd9f011dc1a0a466e4",
       "version_major": 2,
       "version_minor": 0
      },
      "text/plain": [
       "FractionalBacktest.run:   0%|          | 0/23488 [00:00<?, ?bar/s]"
      ]
     },
     "metadata": {},
     "output_type": "display_data"
    },
    {
     "data": {
      "application/vnd.jupyter.widget-view+json": {
       "model_id": "db28292bc213478da14d7ab1285a7afd",
       "version_major": 2,
       "version_minor": 0
      },
      "text/plain": [
       "FractionalBacktest.run:   0%|          | 0/23518 [00:00<?, ?bar/s]"
      ]
     },
     "metadata": {},
     "output_type": "display_data"
    },
    {
     "data": {
      "application/vnd.jupyter.widget-view+json": {
       "model_id": "ed6af92f65fb40d8b7e29ebd3e92e43c",
       "version_major": 2,
       "version_minor": 0
      },
      "text/plain": [
       "FractionalBacktest.run:   0%|          | 0/23495 [00:00<?, ?bar/s]"
      ]
     },
     "metadata": {},
     "output_type": "display_data"
    },
    {
     "data": {
      "application/vnd.jupyter.widget-view+json": {
       "model_id": "c4376eaa7c924cb8adb3a1584848db9f",
       "version_major": 2,
       "version_minor": 0
      },
      "text/plain": [
       "FractionalBacktest.run:   0%|          | 0/23475 [00:00<?, ?bar/s]"
      ]
     },
     "metadata": {},
     "output_type": "display_data"
    },
    {
     "data": {
      "application/vnd.jupyter.widget-view+json": {
       "model_id": "a0254cc7417d4ff2b1942e33086c8327",
       "version_major": 2,
       "version_minor": 0
      },
      "text/plain": [
       "FractionalBacktest.run:   0%|          | 0/23501 [00:00<?, ?bar/s]"
      ]
     },
     "metadata": {},
     "output_type": "display_data"
    },
    {
     "data": {
      "application/vnd.jupyter.widget-view+json": {
       "model_id": "5ca0d3cacdf442a8b509aee2deae0085",
       "version_major": 2,
       "version_minor": 0
      },
      "text/plain": [
       "FractionalBacktest.run:   0%|          | 0/23645 [00:00<?, ?bar/s]"
      ]
     },
     "metadata": {},
     "output_type": "display_data"
    },
    {
     "data": {
      "application/vnd.jupyter.widget-view+json": {
       "model_id": "f504581ead8047a08050207a12a4e4d3",
       "version_major": 2,
       "version_minor": 0
      },
      "text/plain": [
       "FractionalBacktest.run:   0%|          | 0/23787 [00:00<?, ?bar/s]"
      ]
     },
     "metadata": {},
     "output_type": "display_data"
    },
    {
     "data": {
      "application/vnd.jupyter.widget-view+json": {
       "model_id": "b4e7ee2aed9745979269dddac7ea0795",
       "version_major": 2,
       "version_minor": 0
      },
      "text/plain": [
       "FractionalBacktest.run:   0%|          | 0/23518 [00:00<?, ?bar/s]"
      ]
     },
     "metadata": {},
     "output_type": "display_data"
    },
    {
     "data": {
      "application/vnd.jupyter.widget-view+json": {
       "model_id": "9059cada086944c8a2c0c8b03d6cc8bb",
       "version_major": 2,
       "version_minor": 0
      },
      "text/plain": [
       "FractionalBacktest.run:   0%|          | 0/23490 [00:00<?, ?bar/s]"
      ]
     },
     "metadata": {},
     "output_type": "display_data"
    },
    {
     "data": {
      "application/vnd.jupyter.widget-view+json": {
       "model_id": "70da7cc4769f4a0c906e9e18c21781ea",
       "version_major": 2,
       "version_minor": 0
      },
      "text/plain": [
       "FractionalBacktest.run:   0%|          | 0/23493 [00:00<?, ?bar/s]"
      ]
     },
     "metadata": {},
     "output_type": "display_data"
    },
    {
     "data": {
      "application/vnd.jupyter.widget-view+json": {
       "model_id": "3036958d3c204f558917fc1e0b640857",
       "version_major": 2,
       "version_minor": 0
      },
      "text/plain": [
       "FractionalBacktest.run:   0%|          | 0/23673 [00:00<?, ?bar/s]"
      ]
     },
     "metadata": {},
     "output_type": "display_data"
    },
    {
     "data": {
      "application/vnd.jupyter.widget-view+json": {
       "model_id": "50f4452ee4ef406a959adefe89638941",
       "version_major": 2,
       "version_minor": 0
      },
      "text/plain": [
       "FractionalBacktest.run:   0%|          | 0/23475 [00:00<?, ?bar/s]"
      ]
     },
     "metadata": {},
     "output_type": "display_data"
    },
    {
     "data": {
      "application/vnd.jupyter.widget-view+json": {
       "model_id": "d4c54e30bb284e9b825994731f069294",
       "version_major": 2,
       "version_minor": 0
      },
      "text/plain": [
       "FractionalBacktest.run:   0%|          | 0/23501 [00:00<?, ?bar/s]"
      ]
     },
     "metadata": {},
     "output_type": "display_data"
    },
    {
     "data": {
      "application/vnd.jupyter.widget-view+json": {
       "model_id": "fc213b76d6d54a748a055bb1eb1fb58d",
       "version_major": 2,
       "version_minor": 0
      },
      "text/plain": [
       "FractionalBacktest.run:   0%|          | 0/23561 [00:00<?, ?bar/s]"
      ]
     },
     "metadata": {},
     "output_type": "display_data"
    },
    {
     "data": {
      "application/vnd.jupyter.widget-view+json": {
       "model_id": "bdc08229a964466f97cf00c9c60e4cd6",
       "version_major": 2,
       "version_minor": 0
      },
      "text/plain": [
       "FractionalBacktest.run:   0%|          | 0/23861 [00:00<?, ?bar/s]"
      ]
     },
     "metadata": {},
     "output_type": "display_data"
    },
    {
     "data": {
      "application/vnd.jupyter.widget-view+json": {
       "model_id": "eba2f18d47fa4803baf6dcb0f5a99c0b",
       "version_major": 2,
       "version_minor": 0
      },
      "text/plain": [
       "FractionalBacktest.run:   0%|          | 0/23475 [00:00<?, ?bar/s]"
      ]
     },
     "metadata": {},
     "output_type": "display_data"
    },
    {
     "data": {
      "application/vnd.jupyter.widget-view+json": {
       "model_id": "98deea9d70244c9badcfcf7b67993286",
       "version_major": 2,
       "version_minor": 0
      },
      "text/plain": [
       "FractionalBacktest.run:   0%|          | 0/23505 [00:00<?, ?bar/s]"
      ]
     },
     "metadata": {},
     "output_type": "display_data"
    },
    {
     "data": {
      "application/vnd.jupyter.widget-view+json": {
       "model_id": "2dfa5ce782f7495ab45d34352f5d1aa9",
       "version_major": 2,
       "version_minor": 0
      },
      "text/plain": [
       "FractionalBacktest.run:   0%|          | 0/23486 [00:00<?, ?bar/s]"
      ]
     },
     "metadata": {},
     "output_type": "display_data"
    },
    {
     "data": {
      "application/vnd.jupyter.widget-view+json": {
       "model_id": "86227b44c5484e87b53e0b2455ee545d",
       "version_major": 2,
       "version_minor": 0
      },
      "text/plain": [
       "FractionalBacktest.run:   0%|          | 0/23872 [00:00<?, ?bar/s]"
      ]
     },
     "metadata": {},
     "output_type": "display_data"
    },
    {
     "data": {
      "application/vnd.jupyter.widget-view+json": {
       "model_id": "0627af26d8084283bda10b8d34bab22c",
       "version_major": 2,
       "version_minor": 0
      },
      "text/plain": [
       "FractionalBacktest.run:   0%|          | 0/23523 [00:00<?, ?bar/s]"
      ]
     },
     "metadata": {},
     "output_type": "display_data"
    },
    {
     "data": {
      "application/vnd.jupyter.widget-view+json": {
       "model_id": "f19149c77a364a52b097b29ec1e35215",
       "version_major": 2,
       "version_minor": 0
      },
      "text/plain": [
       "FractionalBacktest.run:   0%|          | 0/23645 [00:00<?, ?bar/s]"
      ]
     },
     "metadata": {},
     "output_type": "display_data"
    },
    {
     "data": {
      "application/vnd.jupyter.widget-view+json": {
       "model_id": "236ae984c3a1480289dfc8df09542247",
       "version_major": 2,
       "version_minor": 0
      },
      "text/plain": [
       "FractionalBacktest.run:   0%|          | 0/23505 [00:00<?, ?bar/s]"
      ]
     },
     "metadata": {},
     "output_type": "display_data"
    },
    {
     "data": {
      "application/vnd.jupyter.widget-view+json": {
       "model_id": "17b8155cc7e945ffa5dadb4e073b6b59",
       "version_major": 2,
       "version_minor": 0
      },
      "text/plain": [
       "FractionalBacktest.run:   0%|          | 0/23504 [00:00<?, ?bar/s]"
      ]
     },
     "metadata": {},
     "output_type": "display_data"
    },
    {
     "data": {
      "application/vnd.jupyter.widget-view+json": {
       "model_id": "5ed3124360f944309d12639a1e892a66",
       "version_major": 2,
       "version_minor": 0
      },
      "text/plain": [
       "FractionalBacktest.run:   0%|          | 0/23569 [00:00<?, ?bar/s]"
      ]
     },
     "metadata": {},
     "output_type": "display_data"
    },
    {
     "data": {
      "application/vnd.jupyter.widget-view+json": {
       "model_id": "39f8737be4c3453eb54f94384841440e",
       "version_major": 2,
       "version_minor": 0
      },
      "text/plain": [
       "FractionalBacktest.run:   0%|          | 0/23483 [00:00<?, ?bar/s]"
      ]
     },
     "metadata": {},
     "output_type": "display_data"
    },
    {
     "data": {
      "application/vnd.jupyter.widget-view+json": {
       "model_id": "bea378f9ad894469a441a44342bf9388",
       "version_major": 2,
       "version_minor": 0
      },
      "text/plain": [
       "FractionalBacktest.run:   0%|          | 0/23497 [00:00<?, ?bar/s]"
      ]
     },
     "metadata": {},
     "output_type": "display_data"
    },
    {
     "data": {
      "application/vnd.jupyter.widget-view+json": {
       "model_id": "78e172322fa84588b012debcb05fbf67",
       "version_major": 2,
       "version_minor": 0
      },
      "text/plain": [
       "FractionalBacktest.run:   0%|          | 0/23766 [00:00<?, ?bar/s]"
      ]
     },
     "metadata": {},
     "output_type": "display_data"
    },
    {
     "data": {
      "application/vnd.jupyter.widget-view+json": {
       "model_id": "4539cf684d1f421db50fb2817bb662c7",
       "version_major": 2,
       "version_minor": 0
      },
      "text/plain": [
       "FractionalBacktest.run:   0%|          | 0/23723 [00:00<?, ?bar/s]"
      ]
     },
     "metadata": {},
     "output_type": "display_data"
    },
    {
     "data": {
      "application/vnd.jupyter.widget-view+json": {
       "model_id": "3de23bfdcbf941aab3ac4770dbe3c2c6",
       "version_major": 2,
       "version_minor": 0
      },
      "text/plain": [
       "FractionalBacktest.run:   0%|          | 0/23499 [00:00<?, ?bar/s]"
      ]
     },
     "metadata": {},
     "output_type": "display_data"
    },
    {
     "data": {
      "application/vnd.jupyter.widget-view+json": {
       "model_id": "bef22e48c3004351b56cc14386911218",
       "version_major": 2,
       "version_minor": 0
      },
      "text/plain": [
       "FractionalBacktest.run:   0%|          | 0/23512 [00:00<?, ?bar/s]"
      ]
     },
     "metadata": {},
     "output_type": "display_data"
    },
    {
     "data": {
      "application/vnd.jupyter.widget-view+json": {
       "model_id": "06fd04211b934721a8ba5a2ec43a0367",
       "version_major": 2,
       "version_minor": 0
      },
      "text/plain": [
       "FractionalBacktest.run:   0%|          | 0/23492 [00:00<?, ?bar/s]"
      ]
     },
     "metadata": {},
     "output_type": "display_data"
    },
    {
     "data": {
      "application/vnd.jupyter.widget-view+json": {
       "model_id": "4d93e15ce7674d5b8df9ed5ccd3597ab",
       "version_major": 2,
       "version_minor": 0
      },
      "text/plain": [
       "FractionalBacktest.run:   0%|          | 0/23517 [00:00<?, ?bar/s]"
      ]
     },
     "metadata": {},
     "output_type": "display_data"
    },
    {
     "data": {
      "application/vnd.jupyter.widget-view+json": {
       "model_id": "4f4029724e394dbba806d53bba94e8dd",
       "version_major": 2,
       "version_minor": 0
      },
      "text/plain": [
       "FractionalBacktest.run:   0%|          | 0/23525 [00:00<?, ?bar/s]"
      ]
     },
     "metadata": {},
     "output_type": "display_data"
    },
    {
     "data": {
      "application/vnd.jupyter.widget-view+json": {
       "model_id": "ed9283ce71034e85a86f63ea7700a9ab",
       "version_major": 2,
       "version_minor": 0
      },
      "text/plain": [
       "FractionalBacktest.run:   0%|          | 0/23491 [00:00<?, ?bar/s]"
      ]
     },
     "metadata": {},
     "output_type": "display_data"
    },
    {
     "data": {
      "application/vnd.jupyter.widget-view+json": {
       "model_id": "61c02b6980174451a1f8a6ed10e0b164",
       "version_major": 2,
       "version_minor": 0
      },
      "text/plain": [
       "FractionalBacktest.run:   0%|          | 0/23743 [00:00<?, ?bar/s]"
      ]
     },
     "metadata": {},
     "output_type": "display_data"
    },
    {
     "data": {
      "application/vnd.jupyter.widget-view+json": {
       "model_id": "dc49d9660389445f84f57e5e52921c49",
       "version_major": 2,
       "version_minor": 0
      },
      "text/plain": [
       "FractionalBacktest.run:   0%|          | 0/23501 [00:00<?, ?bar/s]"
      ]
     },
     "metadata": {},
     "output_type": "display_data"
    },
    {
     "data": {
      "application/vnd.jupyter.widget-view+json": {
       "model_id": "5d570240c04f4a5dbf6f194da18c4afd",
       "version_major": 2,
       "version_minor": 0
      },
      "text/plain": [
       "FractionalBacktest.run:   0%|          | 0/23563 [00:00<?, ?bar/s]"
      ]
     },
     "metadata": {},
     "output_type": "display_data"
    },
    {
     "data": {
      "application/vnd.jupyter.widget-view+json": {
       "model_id": "f43de5ffeebc4862b90e48b980e34d04",
       "version_major": 2,
       "version_minor": 0
      },
      "text/plain": [
       "FractionalBacktest.run:   0%|          | 0/23487 [00:00<?, ?bar/s]"
      ]
     },
     "metadata": {},
     "output_type": "display_data"
    },
    {
     "data": {
      "application/vnd.jupyter.widget-view+json": {
       "model_id": "95e7575fffad4bf2a3a31e2e9f9a2a93",
       "version_major": 2,
       "version_minor": 0
      },
      "text/plain": [
       "FractionalBacktest.run:   0%|          | 0/23475 [00:00<?, ?bar/s]"
      ]
     },
     "metadata": {},
     "output_type": "display_data"
    },
    {
     "data": {
      "application/vnd.jupyter.widget-view+json": {
       "model_id": "a81c7a25cbd74f9db3afe0744c9ef76d",
       "version_major": 2,
       "version_minor": 0
      },
      "text/plain": [
       "FractionalBacktest.run:   0%|          | 0/23535 [00:00<?, ?bar/s]"
      ]
     },
     "metadata": {},
     "output_type": "display_data"
    },
    {
     "data": {
      "application/vnd.jupyter.widget-view+json": {
       "model_id": "e9655cc32aff49d3849dde8a7409d8f8",
       "version_major": 2,
       "version_minor": 0
      },
      "text/plain": [
       "FractionalBacktest.run:   0%|          | 0/23505 [00:00<?, ?bar/s]"
      ]
     },
     "metadata": {},
     "output_type": "display_data"
    },
    {
     "data": {
      "application/vnd.jupyter.widget-view+json": {
       "model_id": "3328b0930d7947f1b7faaf8ef7182315",
       "version_major": 2,
       "version_minor": 0
      },
      "text/plain": [
       "FractionalBacktest.run:   0%|          | 0/23486 [00:00<?, ?bar/s]"
      ]
     },
     "metadata": {},
     "output_type": "display_data"
    },
    {
     "data": {
      "application/vnd.jupyter.widget-view+json": {
       "model_id": "8acd8030797149f3a479f9d312df1c5d",
       "version_major": 2,
       "version_minor": 0
      },
      "text/plain": [
       "FractionalBacktest.run:   0%|          | 0/23680 [00:00<?, ?bar/s]"
      ]
     },
     "metadata": {},
     "output_type": "display_data"
    },
    {
     "data": {
      "application/vnd.jupyter.widget-view+json": {
       "model_id": "0f0ccc61f9b344108bb57469231f35ec",
       "version_major": 2,
       "version_minor": 0
      },
      "text/plain": [
       "FractionalBacktest.run:   0%|          | 0/23511 [00:00<?, ?bar/s]"
      ]
     },
     "metadata": {},
     "output_type": "display_data"
    },
    {
     "data": {
      "application/vnd.jupyter.widget-view+json": {
       "model_id": "e7f37fb1ed5f41509e8f4047a33f5aae",
       "version_major": 2,
       "version_minor": 0
      },
      "text/plain": [
       "FractionalBacktest.run:   0%|          | 0/23516 [00:00<?, ?bar/s]"
      ]
     },
     "metadata": {},
     "output_type": "display_data"
    },
    {
     "data": {
      "application/vnd.jupyter.widget-view+json": {
       "model_id": "2eb4e4aab4f644699c5e3db8ad312177",
       "version_major": 2,
       "version_minor": 0
      },
      "text/plain": [
       "FractionalBacktest.run:   0%|          | 0/23478 [00:00<?, ?bar/s]"
      ]
     },
     "metadata": {},
     "output_type": "display_data"
    },
    {
     "data": {
      "application/vnd.jupyter.widget-view+json": {
       "model_id": "0534eb55f231423fb296aa3ca0554e25",
       "version_major": 2,
       "version_minor": 0
      },
      "text/plain": [
       "FractionalBacktest.run:   0%|          | 0/23641 [00:00<?, ?bar/s]"
      ]
     },
     "metadata": {},
     "output_type": "display_data"
    },
    {
     "data": {
      "application/vnd.jupyter.widget-view+json": {
       "model_id": "ff10d722261e4b63b5ae24334e46b323",
       "version_major": 2,
       "version_minor": 0
      },
      "text/plain": [
       "FractionalBacktest.run:   0%|          | 0/23501 [00:00<?, ?bar/s]"
      ]
     },
     "metadata": {},
     "output_type": "display_data"
    },
    {
     "data": {
      "application/vnd.jupyter.widget-view+json": {
       "model_id": "65bdd381744346d6a5b7571d121fa563",
       "version_major": 2,
       "version_minor": 0
      },
      "text/plain": [
       "FractionalBacktest.run:   0%|          | 0/23701 [00:00<?, ?bar/s]"
      ]
     },
     "metadata": {},
     "output_type": "display_data"
    },
    {
     "data": {
      "application/vnd.jupyter.widget-view+json": {
       "model_id": "3ec16626158046bda9d5119da7ce81d7",
       "version_major": 2,
       "version_minor": 0
      },
      "text/plain": [
       "FractionalBacktest.run:   0%|          | 0/23488 [00:00<?, ?bar/s]"
      ]
     },
     "metadata": {},
     "output_type": "display_data"
    },
    {
     "data": {
      "application/vnd.jupyter.widget-view+json": {
       "model_id": "3238347ff6514fe3aba505d3adb116bf",
       "version_major": 2,
       "version_minor": 0
      },
      "text/plain": [
       "FractionalBacktest.run:   0%|          | 0/23505 [00:00<?, ?bar/s]"
      ]
     },
     "metadata": {},
     "output_type": "display_data"
    },
    {
     "data": {
      "application/vnd.jupyter.widget-view+json": {
       "model_id": "6711008f647a4adda3f8c2af4b263778",
       "version_major": 2,
       "version_minor": 0
      },
      "text/plain": [
       "FractionalBacktest.run:   0%|          | 0/23887 [00:00<?, ?bar/s]"
      ]
     },
     "metadata": {},
     "output_type": "display_data"
    },
    {
     "data": {
      "application/vnd.jupyter.widget-view+json": {
       "model_id": "8419f8fbe1e543f68a4ca21805ccd05f",
       "version_major": 2,
       "version_minor": 0
      },
      "text/plain": [
       "FractionalBacktest.run:   0%|          | 0/23481 [00:00<?, ?bar/s]"
      ]
     },
     "metadata": {},
     "output_type": "display_data"
    },
    {
     "data": {
      "application/vnd.jupyter.widget-view+json": {
       "model_id": "69ccdd658b5d48feb64f49f9a54c5180",
       "version_major": 2,
       "version_minor": 0
      },
      "text/plain": [
       "FractionalBacktest.run:   0%|          | 0/23482 [00:00<?, ?bar/s]"
      ]
     },
     "metadata": {},
     "output_type": "display_data"
    },
    {
     "data": {
      "application/vnd.jupyter.widget-view+json": {
       "model_id": "eb1ba3d40c684fd8b61e27fb2a16cae0",
       "version_major": 2,
       "version_minor": 0
      },
      "text/plain": [
       "FractionalBacktest.run:   0%|          | 0/23615 [00:00<?, ?bar/s]"
      ]
     },
     "metadata": {},
     "output_type": "display_data"
    },
    {
     "data": {
      "application/vnd.jupyter.widget-view+json": {
       "model_id": "08b107387502463e91e14e7b140aa769",
       "version_major": 2,
       "version_minor": 0
      },
      "text/plain": [
       "FractionalBacktest.run:   0%|          | 0/23583 [00:00<?, ?bar/s]"
      ]
     },
     "metadata": {},
     "output_type": "display_data"
    },
    {
     "data": {
      "application/vnd.jupyter.widget-view+json": {
       "model_id": "758f172c508f4f49918596fc9e44bead",
       "version_major": 2,
       "version_minor": 0
      },
      "text/plain": [
       "FractionalBacktest.run:   0%|          | 0/23475 [00:00<?, ?bar/s]"
      ]
     },
     "metadata": {},
     "output_type": "display_data"
    },
    {
     "data": {
      "application/vnd.jupyter.widget-view+json": {
       "model_id": "37a0aef737ef4a16b3080bed3231ce91",
       "version_major": 2,
       "version_minor": 0
      },
      "text/plain": [
       "FractionalBacktest.run:   0%|          | 0/23500 [00:00<?, ?bar/s]"
      ]
     },
     "metadata": {},
     "output_type": "display_data"
    },
    {
     "data": {
      "application/vnd.jupyter.widget-view+json": {
       "model_id": "770114c7907f43cd8b6a3360af13be31",
       "version_major": 2,
       "version_minor": 0
      },
      "text/plain": [
       "FractionalBacktest.run:   0%|          | 0/23475 [00:00<?, ?bar/s]"
      ]
     },
     "metadata": {},
     "output_type": "display_data"
    },
    {
     "data": {
      "application/vnd.jupyter.widget-view+json": {
       "model_id": "e4e1df863f8b4b2ab0fce0a2f41cb4eb",
       "version_major": 2,
       "version_minor": 0
      },
      "text/plain": [
       "FractionalBacktest.run:   0%|          | 0/23520 [00:00<?, ?bar/s]"
      ]
     },
     "metadata": {},
     "output_type": "display_data"
    },
    {
     "data": {
      "application/vnd.jupyter.widget-view+json": {
       "model_id": "6b110cedc19e48058089f7b42bf43f3e",
       "version_major": 2,
       "version_minor": 0
      },
      "text/plain": [
       "FractionalBacktest.run:   0%|          | 0/23525 [00:00<?, ?bar/s]"
      ]
     },
     "metadata": {},
     "output_type": "display_data"
    },
    {
     "data": {
      "application/vnd.jupyter.widget-view+json": {
       "model_id": "838f01627ddf42f29a95e2515e5f4640",
       "version_major": 2,
       "version_minor": 0
      },
      "text/plain": [
       "FractionalBacktest.run:   0%|          | 0/23505 [00:00<?, ?bar/s]"
      ]
     },
     "metadata": {},
     "output_type": "display_data"
    },
    {
     "data": {
      "application/vnd.jupyter.widget-view+json": {
       "model_id": "22508ea9625c4c4caf14cc13ab80aa23",
       "version_major": 2,
       "version_minor": 0
      },
      "text/plain": [
       "FractionalBacktest.run:   0%|          | 0/23486 [00:00<?, ?bar/s]"
      ]
     },
     "metadata": {},
     "output_type": "display_data"
    },
    {
     "data": {
      "application/vnd.jupyter.widget-view+json": {
       "model_id": "44295a180ba9443cbc985de8190d972e",
       "version_major": 2,
       "version_minor": 0
      },
      "text/plain": [
       "FractionalBacktest.run:   0%|          | 0/23508 [00:00<?, ?bar/s]"
      ]
     },
     "metadata": {},
     "output_type": "display_data"
    },
    {
     "data": {
      "application/vnd.jupyter.widget-view+json": {
       "model_id": "2144fe56359e4e0ca8f61e32812222d2",
       "version_major": 2,
       "version_minor": 0
      },
      "text/plain": [
       "FractionalBacktest.run:   0%|          | 0/23487 [00:00<?, ?bar/s]"
      ]
     },
     "metadata": {},
     "output_type": "display_data"
    },
    {
     "data": {
      "application/vnd.jupyter.widget-view+json": {
       "model_id": "6fb98054ac594feaba3152b0ea3a7894",
       "version_major": 2,
       "version_minor": 0
      },
      "text/plain": [
       "FractionalBacktest.run:   0%|          | 0/23495 [00:00<?, ?bar/s]"
      ]
     },
     "metadata": {},
     "output_type": "display_data"
    },
    {
     "data": {
      "application/vnd.jupyter.widget-view+json": {
       "model_id": "e2361261e7d54e40978e956afa20ebe4",
       "version_major": 2,
       "version_minor": 0
      },
      "text/plain": [
       "FractionalBacktest.run:   0%|          | 0/23730 [00:00<?, ?bar/s]"
      ]
     },
     "metadata": {},
     "output_type": "display_data"
    },
    {
     "data": {
      "application/vnd.jupyter.widget-view+json": {
       "model_id": "0a0fd73756f74b08a7bc70a30a12f037",
       "version_major": 2,
       "version_minor": 0
      },
      "text/plain": [
       "FractionalBacktest.run:   0%|          | 0/23520 [00:00<?, ?bar/s]"
      ]
     },
     "metadata": {},
     "output_type": "display_data"
    },
    {
     "data": {
      "application/vnd.jupyter.widget-view+json": {
       "model_id": "0dfb5968bce94ea0870527e1283be5b3",
       "version_major": 2,
       "version_minor": 0
      },
      "text/plain": [
       "FractionalBacktest.run:   0%|          | 0/23518 [00:00<?, ?bar/s]"
      ]
     },
     "metadata": {},
     "output_type": "display_data"
    },
    {
     "data": {
      "application/vnd.jupyter.widget-view+json": {
       "model_id": "371b84ed5119452384f50bb9bb950734",
       "version_major": 2,
       "version_minor": 0
      },
      "text/plain": [
       "FractionalBacktest.run:   0%|          | 0/23493 [00:00<?, ?bar/s]"
      ]
     },
     "metadata": {},
     "output_type": "display_data"
    },
    {
     "data": {
      "application/vnd.jupyter.widget-view+json": {
       "model_id": "9e9023f6a25b46f8b5ce1333e28e7031",
       "version_major": 2,
       "version_minor": 0
      },
      "text/plain": [
       "FractionalBacktest.run:   0%|          | 0/23488 [00:00<?, ?bar/s]"
      ]
     },
     "metadata": {},
     "output_type": "display_data"
    },
    {
     "data": {
      "application/vnd.jupyter.widget-view+json": {
       "model_id": "16c9798212094cb8b93bc1ca4a168ae7",
       "version_major": 2,
       "version_minor": 0
      },
      "text/plain": [
       "FractionalBacktest.run:   0%|          | 0/23475 [00:00<?, ?bar/s]"
      ]
     },
     "metadata": {},
     "output_type": "display_data"
    },
    {
     "data": {
      "application/vnd.jupyter.widget-view+json": {
       "model_id": "5c89e4a8b29c401db31fc3faa1b6180b",
       "version_major": 2,
       "version_minor": 0
      },
      "text/plain": [
       "FractionalBacktest.run:   0%|          | 0/23502 [00:00<?, ?bar/s]"
      ]
     },
     "metadata": {},
     "output_type": "display_data"
    },
    {
     "data": {
      "application/vnd.jupyter.widget-view+json": {
       "model_id": "6132046c93d64fc98796bf38b09eaa41",
       "version_major": 2,
       "version_minor": 0
      },
      "text/plain": [
       "FractionalBacktest.run:   0%|          | 0/23805 [00:00<?, ?bar/s]"
      ]
     },
     "metadata": {},
     "output_type": "display_data"
    },
    {
     "data": {
      "application/vnd.jupyter.widget-view+json": {
       "model_id": "390fda702d374126b7b546347c22041d",
       "version_major": 2,
       "version_minor": 0
      },
      "text/plain": [
       "FractionalBacktest.run:   0%|          | 0/23491 [00:00<?, ?bar/s]"
      ]
     },
     "metadata": {},
     "output_type": "display_data"
    },
    {
     "data": {
      "application/vnd.jupyter.widget-view+json": {
       "model_id": "8e94bcd32f0548189d93d2ca8cdd190f",
       "version_major": 2,
       "version_minor": 0
      },
      "text/plain": [
       "FractionalBacktest.run:   0%|          | 0/23493 [00:00<?, ?bar/s]"
      ]
     },
     "metadata": {},
     "output_type": "display_data"
    },
    {
     "data": {
      "application/vnd.jupyter.widget-view+json": {
       "model_id": "8c9cb4b0bd81439dadc9c2d4caf701da",
       "version_major": 2,
       "version_minor": 0
      },
      "text/plain": [
       "FractionalBacktest.run:   0%|          | 0/23844 [00:00<?, ?bar/s]"
      ]
     },
     "metadata": {},
     "output_type": "display_data"
    },
    {
     "data": {
      "application/vnd.jupyter.widget-view+json": {
       "model_id": "ac32953309044bdbb94b3f238c037e16",
       "version_major": 2,
       "version_minor": 0
      },
      "text/plain": [
       "FractionalBacktest.run:   0%|          | 0/23488 [00:00<?, ?bar/s]"
      ]
     },
     "metadata": {},
     "output_type": "display_data"
    },
    {
     "data": {
      "application/vnd.jupyter.widget-view+json": {
       "model_id": "3fc202d5f976481d9cc9bb8a1537d7d7",
       "version_major": 2,
       "version_minor": 0
      },
      "text/plain": [
       "FractionalBacktest.run:   0%|          | 0/23505 [00:00<?, ?bar/s]"
      ]
     },
     "metadata": {},
     "output_type": "display_data"
    },
    {
     "data": {
      "application/vnd.jupyter.widget-view+json": {
       "model_id": "a15707d3f6524049882f299b33647de3",
       "version_major": 2,
       "version_minor": 0
      },
      "text/plain": [
       "FractionalBacktest.run:   0%|          | 0/23751 [00:00<?, ?bar/s]"
      ]
     },
     "metadata": {},
     "output_type": "display_data"
    },
    {
     "data": {
      "application/vnd.jupyter.widget-view+json": {
       "model_id": "203a33d67a0043b185aee3c4af47f432",
       "version_major": 2,
       "version_minor": 0
      },
      "text/plain": [
       "FractionalBacktest.run:   0%|          | 0/23508 [00:00<?, ?bar/s]"
      ]
     },
     "metadata": {},
     "output_type": "display_data"
    },
    {
     "data": {
      "application/vnd.jupyter.widget-view+json": {
       "model_id": "1e953cc9cd034399b8efb98562b2651b",
       "version_major": 2,
       "version_minor": 0
      },
      "text/plain": [
       "FractionalBacktest.run:   0%|          | 0/23494 [00:00<?, ?bar/s]"
      ]
     },
     "metadata": {},
     "output_type": "display_data"
    },
    {
     "data": {
      "application/vnd.jupyter.widget-view+json": {
       "model_id": "24689156df0349f68436ea4ebbde1a8a",
       "version_major": 2,
       "version_minor": 0
      },
      "text/plain": [
       "FractionalBacktest.run:   0%|          | 0/23794 [00:00<?, ?bar/s]"
      ]
     },
     "metadata": {},
     "output_type": "display_data"
    },
    {
     "data": {
      "application/vnd.jupyter.widget-view+json": {
       "model_id": "31d891680a3a43588a64052e68cbeab0",
       "version_major": 2,
       "version_minor": 0
      },
      "text/plain": [
       "FractionalBacktest.run:   0%|          | 0/23501 [00:00<?, ?bar/s]"
      ]
     },
     "metadata": {},
     "output_type": "display_data"
    },
    {
     "data": {
      "application/vnd.jupyter.widget-view+json": {
       "model_id": "bef88dd2bae646bc87e0c3d287d4c031",
       "version_major": 2,
       "version_minor": 0
      },
      "text/plain": [
       "FractionalBacktest.run:   0%|          | 0/23492 [00:00<?, ?bar/s]"
      ]
     },
     "metadata": {},
     "output_type": "display_data"
    }
   ],
   "source": [
    "stats_test = bt_test.optimize(\n",
    "    ma_short_timeperiod=list(range(5, 100, 5)),\n",
    "    ma_long_timeperiod=list(range(10, 500, 10)),\n",
    "    ma_short_type=[\"SMA\", \"EMA\"],\n",
    "    ma_long_type=[\"SMA\", \"EMA\"],\n",
    "    maximize=\"Sortino Ratio\",\n",
    "    method=\"sambo\",\n",
    "    max_tries=1000,\n",
    "    constraint=lambda param: param.ma_short_timeperiod < param.ma_long_timeperiod,\n",
    "    random_state=244,\n",
    ")"
   ]
  },
  {
   "cell_type": "code",
   "execution_count": 11,
   "id": "2849c6fb-807f-4048-8041-853b351be336",
   "metadata": {},
   "outputs": [
    {
     "data": {
      "text/plain": [
       "<Strategy MaCrossover(ma_short_timeperiod=71,ma_long_timeperiod=473,ma_short_type=EMA,ma_long_type=SMA)>"
      ]
     },
     "execution_count": 11,
     "metadata": {},
     "output_type": "execute_result"
    }
   ],
   "source": [
    "stats_test[\"_strategy\"]"
   ]
  },
  {
   "cell_type": "code",
   "execution_count": 12,
   "id": "f81863bf-ee5b-47fe-b857-4d5b08ba350f",
   "metadata": {},
   "outputs": [
    {
     "data": {
      "text/plain": [
       "Start                     2020-03-15 02:00:00\n",
       "End                       2022-12-08 14:00:00\n",
       "Duration                    998 days 12:00:00\n",
       "Exposure Time [%]                     96.2028\n",
       "Equity Final [$]                    302.16005\n",
       "Equity Peak [$]                      409.4834\n",
       "Commissions [$]                      54.78817\n",
       "Return [%]                          202.16005\n",
       "Buy & Hold Return [%]               147.18774\n",
       "Return (Ann.) [%]                    49.78281\n",
       "Volatility (Ann.) [%]               102.51086\n",
       "CAGR [%]                             49.81312\n",
       "Sharpe Ratio                          0.48563\n",
       "Sortino Ratio                          1.2062\n",
       "Calmar Ratio                          0.95929\n",
       "Alpha [%]                           193.93558\n",
       "Beta                                  0.05588\n",
       "Max. Drawdown [%]                   -51.89532\n",
       "Avg. Drawdown [%]                    -3.56642\n",
       "Max. Drawdown Duration      654 days 15:00:00\n",
       "Avg. Drawdown Duration       10 days 18:00:00\n",
       "# Trades                                   66\n",
       "Win Rate [%]                         28.78788\n",
       "Best Trade [%]                       76.57814\n",
       "Worst Trade [%]                     -12.27127\n",
       "Avg. Trade [%]                        1.69094\n",
       "Max. Trade Duration          62 days 15:00:00\n",
       "Avg. Trade Duration          14 days 14:00:00\n",
       "Profit Factor                         1.74218\n",
       "Expectancy [%]                        2.81839\n",
       "SQN                                   0.78534\n",
       "Kelly Criterion                       0.07089\n",
       "_strategy                 MaCrossover(ma_s...\n",
       "_equity_curve                             ...\n",
       "_trades                          Size  Ent...\n",
       "dtype: object"
      ]
     },
     "execution_count": 12,
     "metadata": {},
     "output_type": "execute_result"
    }
   ],
   "source": [
    "stats_test"
   ]
  },
  {
   "cell_type": "code",
   "execution_count": 13,
   "id": "29e41e63-e79c-4828-9d4c-88bbde715643",
   "metadata": {},
   "outputs": [
    {
     "data": {
      "text/plain": [
       "<Strategy MaCrossover(ma_short_timeperiod=71,ma_long_timeperiod=473,ma_short_type=EMA,ma_long_type=SMA)>"
      ]
     },
     "execution_count": 13,
     "metadata": {},
     "output_type": "execute_result"
    }
   ],
   "source": [
    "stats_test[\"_strategy\"]"
   ]
  },
  {
   "cell_type": "code",
   "execution_count": 14,
   "id": "9d3599f8-1bf2-42f4-91cd-1488e22e5f06",
   "metadata": {},
   "outputs": [
    {
     "data": {
      "text/plain": [
       "{'ma_short_timeperiod': 71,\n",
       " 'ma_long_timeperiod': 473,\n",
       " 'ma_short_type': 'EMA',\n",
       " 'ma_long_type': 'SMA'}"
      ]
     },
     "execution_count": 14,
     "metadata": {},
     "output_type": "execute_result"
    }
   ],
   "source": [
    "best_params = stats_test._strategy.__dict__[\"_params\"]\n",
    "best_params"
   ]
  },
  {
   "cell_type": "code",
   "execution_count": 15,
   "id": "ac3734ea-66a3-46b9-ac95-d8e71ace78b2",
   "metadata": {},
   "outputs": [
    {
     "data": {
      "application/vnd.jupyter.widget-view+json": {
       "model_id": "ab7c0c054d864bc28d7802d8b05ed049",
       "version_major": 2,
       "version_minor": 0
      },
      "text/plain": [
       "FractionalBacktest.run:   0%|          | 0/23494 [00:00<?, ?bar/s]"
      ]
     },
     "metadata": {},
     "output_type": "display_data"
    },
    {
     "name": "stdout",
     "output_type": "stream",
     "text": [
      "Start                     2022-12-08 15:00:00\n",
      "End                       2025-09-02 23:00:00\n",
      "Duration                    999 days 08:00:00\n",
      "Exposure Time [%]                    97.25039\n",
      "Equity Final [$]                    184.89974\n",
      "Equity Peak [$]                      220.2782\n",
      "Commissions [$]                      32.25588\n",
      "Return [%]                           84.89974\n",
      "Buy & Hold Return [%]               566.61471\n",
      "Return (Ann.) [%]                    25.15026\n",
      "Volatility (Ann.) [%]                59.26124\n",
      "CAGR [%]                             25.16899\n",
      "Sharpe Ratio                           0.4244\n",
      "Sortino Ratio                         0.83516\n",
      "Calmar Ratio                          0.68434\n",
      "Alpha [%]                            17.39822\n",
      "Beta                                  0.11913\n",
      "Max. Drawdown [%]                   -36.75131\n",
      "Avg. Drawdown [%]                    -3.10479\n",
      "Max. Drawdown Duration      389 days 16:00:00\n",
      "Avg. Drawdown Duration       13 days 12:00:00\n",
      "# Trades                                   64\n",
      "Win Rate [%]                          32.8125\n",
      "Best Trade [%]                       48.98418\n",
      "Worst Trade [%]                     -12.61592\n",
      "Avg. Trade [%]                        0.96579\n",
      "Max. Trade Duration          74 days 02:00:00\n",
      "Avg. Trade Duration          15 days 05:00:00\n",
      "Profit Factor                         1.58407\n",
      "Expectancy [%]                        1.59988\n",
      "SQN                                   0.70121\n",
      "Kelly Criterion                       0.08326\n",
      "_strategy                 MaCrossover(ma_s...\n",
      "_equity_curve                             ...\n",
      "_trades                          Size  Ent...\n",
      "dtype: object\n"
     ]
    }
   ],
   "source": [
    "bt_oot_fin = FractionalBacktest(\n",
    "    btc_1h_oot_df,\n",
    "    fractional_unit=1e-8,\n",
    "    strategy=MaCrossover,\n",
    "    cash=100,\n",
    "    commission=0.0018,\n",
    "    margin=1.0,\n",
    "    spread=0.0003,\n",
    "    trade_on_close=False,\n",
    "    exclusive_orders=False,\n",
    "    finalize_trades=True,\n",
    ")\n",
    "\n",
    "stats_oot_fin = bt_oot_fin.run(**best_params)\n",
    "print(stats_oot_fin)"
   ]
  },
  {
   "cell_type": "code",
   "execution_count": null,
   "id": "160cc803-9746-433f-b09d-df478c12abcc",
   "metadata": {
    "scrolled": true
   },
   "outputs": [],
   "source": [
    "bt_oot_fin.plot()"
   ]
  },
  {
   "cell_type": "markdown",
   "id": "53b827c3-9c80-406d-96ab-9ebdedd7d531",
   "metadata": {},
   "source": [
    "## Walk-forward оптимизация"
   ]
  },
  {
   "cell_type": "code",
   "execution_count": 17,
   "id": "dc8df5b0-7bbd-4e3f-9791-a83b3d84c4bd",
   "metadata": {},
   "outputs": [
    {
     "name": "stdout",
     "output_type": "stream",
     "text": [
      "(71896, 5) (23965, 5)\n",
      "(95861, 5)\n"
     ]
    }
   ],
   "source": [
    "print(btc_1h_train_df.shape, btc_1h_test_df.shape)\n",
    "btc_1h_tt_df = pd.concat([btc_1h_train_df, btc_1h_test_df])\n",
    "print(btc_1h_tt_df.shape)"
   ]
  },
  {
   "cell_type": "code",
   "execution_count": 18,
   "id": "40292983-3789-4be8-856c-48d01fdd28b2",
   "metadata": {},
   "outputs": [],
   "source": [
    "def optimize_on_window(df, strategy_cls, cash=100, commission=0.0018, spread=0.0003, random_state=244):\n",
    "    bt = FractionalBacktest(\n",
    "        data=df,\n",
    "        fractional_unit=1e-8,\n",
    "        strategy=strategy_cls,\n",
    "        cash=cash,\n",
    "        commission=commission,\n",
    "        margin=1.0,\n",
    "        spread=spread,\n",
    "        trade_on_close=False,\n",
    "        exclusive_orders=False,\n",
    "        finalize_trades=True\n",
    "    )\n",
    "\n",
    "    stats = bt.optimize(\n",
    "        ma_short_timeperiod=list(range(5, 100, 5)),\n",
    "        ma_long_timeperiod=list(range(10, 500, 10)),\n",
    "        ma_short_type=[\"SMA\", \"EMA\"],\n",
    "        ma_long_type=[\"SMA\", \"EMA\"],\n",
    "        maximize=\"Sortino Ratio\",\n",
    "        method=\"sambo\",\n",
    "        max_tries=500,\n",
    "        constraint=lambda param: param.ma_short_timeperiod < param.ma_long_timeperiod,\n",
    "        random_state=random_state,\n",
    "    )\n",
    "\n",
    "    return stats"
   ]
  },
  {
   "cell_type": "code",
   "execution_count": 19,
   "id": "c711da9f-732c-4a47-9242-831ee97fce46",
   "metadata": {},
   "outputs": [],
   "source": [
    "def walk_forward(df, strategy_cls, train_size, test_size):\n",
    "    i = 0\n",
    "    n = len(df)\n",
    "    start = 0\n",
    "    results = []\n",
    "\n",
    "    while start + train_size + test_size <= n:\n",
    "        print('fold', i)\n",
    "        train_slice = df.iloc[start : start + train_size]\n",
    "        test_slice  = df.iloc[start + train_size : start + train_size + test_size]\n",
    "\n",
    "        optimized_stat = optimize_on_window(df=train_slice, strategy_cls=strategy_cls)\n",
    "        best_params = optimized_stat._strategy.__dict__[\"_params\"]\n",
    "\n",
    "        bt_test = FractionalBacktest(\n",
    "            data=test_slice,\n",
    "            fractional_unit=1e-8,\n",
    "            cash=100,\n",
    "            strategy=strategy_cls,\n",
    "            commission=0.0018,\n",
    "            margin=1.0,\n",
    "            spread=0.0003,\n",
    "            trade_on_close=False,\n",
    "            exclusive_orders=False,\n",
    "            finalize_trades=True\n",
    "        )\n",
    "        test_stat = bt_test.run(**best_params)\n",
    "\n",
    "        results.append({\n",
    "            \"fold\": i,\n",
    "            \"train_start\": train_slice.index[0],\n",
    "            \"train_end\": train_slice.index[-1],\n",
    "            \"test_start\": test_slice.index[0],\n",
    "            \"test_end\": test_slice.index[-1],\n",
    "            \"best_params\": best_params,\n",
    "            'train_stat': optimized_stat,\n",
    "            'test_stat': test_stat\n",
    "        })\n",
    "\n",
    "        i += 1\n",
    "        start += test_size\n",
    "\n",
    "    return results"
   ]
  },
  {
   "cell_type": "code",
   "execution_count": null,
   "id": "5c0d8a0f-e84b-46e9-bcfa-24a9402f5ba6",
   "metadata": {
    "scrolled": true
   },
   "outputs": [],
   "source": [
    "wf_results = walk_forward(\n",
    "    btc_1h_tt_df,\n",
    "    MaCrossover,\n",
    "    train_size=int(365 * 3 * 24), # TRAIN - 3 года\n",
    "    test_size=int(365 / 1.5 * 24), # TEST - ~8 мес.\n",
    ")"
   ]
  },
  {
   "cell_type": "code",
   "execution_count": 21,
   "id": "db7b9961-674d-4239-9d68-db7dad79d33b",
   "metadata": {
    "scrolled": true
   },
   "outputs": [
    {
     "name": "stdout",
     "output_type": "stream",
     "text": [
      "FOLD 1\n",
      "TRAIN: 2012-01-01 10:00:00 -> 2014-12-31 09:00:00 (1094 days 23:00:00)\n",
      "TEST: 2014-12-31 10:00:00 -> 2015-08-31 17:00:00 (243 days 07:00:00)\n",
      "PARAMS: {'ma_short_timeperiod': 95, 'ma_long_timeperiod': 187, 'ma_short_type': 'SMA', 'ma_long_type': 'SMA'}\n",
      "TRAIN Sharpe: 0.61\n",
      "TEST Sharpe:  0.93\n",
      "TRAIN Sortino: 8.04\n",
      "TEST Sortino:  3.82\n",
      "TRAIN Calmar: 6.72\n",
      "TEST Calmar:  3.69\n",
      "\n",
      "FOLD 2\n",
      "TRAIN: 2012-08-31 18:00:00 -> 2015-08-31 17:00:00 (1094 days 23:00:00)\n",
      "TEST: 2015-08-31 18:00:00 -> 2016-05-01 01:00:00 (243 days 07:00:00)\n",
      "PARAMS: {'ma_short_timeperiod': 95, 'ma_long_timeperiod': 185, 'ma_short_type': 'SMA', 'ma_long_type': 'SMA'}\n",
      "TRAIN Sharpe: 0.69\n",
      "TEST Sharpe:  0.71\n",
      "TRAIN Sortino: 12.41\n",
      "TEST Sortino:  2.57\n",
      "TRAIN Calmar: 9.57\n",
      "TEST Calmar:  3.06\n",
      "\n",
      "FOLD 3\n",
      "TRAIN: 2013-05-02 02:00:00 -> 2016-05-01 01:00:00 (1094 days 23:00:00)\n",
      "TEST: 2016-05-01 02:00:00 -> 2016-12-30 09:00:00 (243 days 07:00:00)\n",
      "PARAMS: {'ma_short_timeperiod': 66, 'ma_long_timeperiod': 192, 'ma_short_type': 'SMA', 'ma_long_type': 'SMA'}\n",
      "TRAIN Sharpe: 1.01\n",
      "TEST Sharpe:  1.07\n",
      "TRAIN Sortino: 9.51\n",
      "TEST Sortino:  4.0\n",
      "TRAIN Calmar: 8.06\n",
      "TEST Calmar:  3.31\n",
      "\n",
      "FOLD 4\n",
      "TRAIN: 2013-12-31 10:00:00 -> 2016-12-30 09:00:00 (1094 days 23:00:00)\n",
      "TEST: 2016-12-30 10:00:00 -> 2017-08-30 17:00:00 (243 days 07:00:00)\n",
      "PARAMS: {'ma_short_timeperiod': 28, 'ma_long_timeperiod': 275, 'ma_short_type': 'EMA', 'ma_long_type': 'SMA'}\n",
      "TRAIN Sharpe: 1.03\n",
      "TEST Sharpe:  0.94\n",
      "TRAIN Sortino: 4.43\n",
      "TEST Sortino:  10.84\n",
      "TRAIN Calmar: 4.28\n",
      "TEST Calmar:  13.24\n",
      "\n",
      "FOLD 5\n",
      "TRAIN: 2014-08-31 18:00:00 -> 2017-08-30 17:00:00 (1094 days 23:00:00)\n",
      "TEST: 2017-08-30 18:00:00 -> 2018-05-01 01:00:00 (243 days 07:00:00)\n",
      "PARAMS: {'ma_short_timeperiod': 39, 'ma_long_timeperiod': 266, 'ma_short_type': 'EMA', 'ma_long_type': 'SMA'}\n",
      "TRAIN Sharpe: 0.96\n",
      "TEST Sharpe:  0.53\n",
      "TRAIN Sortino: 4.71\n",
      "TEST Sortino:  3.65\n",
      "TRAIN Calmar: 4.5\n",
      "TEST Calmar:  5.09\n",
      "\n",
      "FOLD 6\n",
      "TRAIN: 2015-05-02 02:00:00 -> 2018-05-01 01:00:00 (1094 days 23:00:00)\n",
      "TEST: 2018-05-01 02:00:00 -> 2018-12-30 09:00:00 (243 days 07:00:00)\n",
      "PARAMS: {'ma_short_timeperiod': 11, 'ma_long_timeperiod': 452, 'ma_short_type': 'SMA', 'ma_long_type': 'EMA'}\n",
      "TRAIN Sharpe: 0.95\n",
      "TEST Sharpe:  -0.17\n",
      "TRAIN Sortino: 6.91\n",
      "TEST Sortino:  -0.26\n",
      "TRAIN Calmar: 7.36\n",
      "TEST Calmar:  -0.2\n",
      "\n",
      "FOLD 7\n",
      "TRAIN: 2015-12-31 10:00:00 -> 2018-12-30 09:00:00 (1094 days 23:00:00)\n",
      "TEST: 2018-12-30 10:00:00 -> 2019-08-30 17:00:00 (243 days 07:00:00)\n",
      "PARAMS: {'ma_short_timeperiod': 14, 'ma_long_timeperiod': 357, 'ma_short_type': 'SMA', 'ma_long_type': 'EMA'}\n",
      "TRAIN Sharpe: 0.89\n",
      "TEST Sharpe:  0.79\n",
      "TRAIN Sortino: 5.06\n",
      "TEST Sortino:  4.62\n",
      "TRAIN Calmar: 6.01\n",
      "TEST Calmar:  5.58\n",
      "\n",
      "FOLD 8\n",
      "TRAIN: 2016-08-30 18:00:00 -> 2019-08-30 17:00:00 (1094 days 23:00:00)\n",
      "TEST: 2019-08-30 18:00:00 -> 2020-04-30 01:00:00 (243 days 07:00:00)\n",
      "PARAMS: {'ma_short_timeperiod': 11, 'ma_long_timeperiod': 450, 'ma_short_type': 'SMA', 'ma_long_type': 'EMA'}\n",
      "TRAIN Sharpe: 0.88\n",
      "TEST Sharpe:  0.41\n",
      "TRAIN Sortino: 6.43\n",
      "TEST Sortino:  0.98\n",
      "TRAIN Calmar: 7.23\n",
      "TEST Calmar:  0.81\n",
      "\n",
      "FOLD 9\n",
      "TRAIN: 2017-05-01 02:00:00 -> 2020-04-30 01:00:00 (1094 days 23:00:00)\n",
      "TEST: 2020-04-30 02:00:00 -> 2020-12-29 09:00:00 (243 days 07:00:00)\n",
      "PARAMS: {'ma_short_timeperiod': 12, 'ma_long_timeperiod': 434, 'ma_short_type': 'SMA', 'ma_long_type': 'EMA'}\n",
      "TRAIN Sharpe: 0.77\n",
      "TEST Sharpe:  0.85\n",
      "TRAIN Sortino: 3.96\n",
      "TEST Sortino:  2.59\n",
      "TRAIN Calmar: 4.22\n",
      "TEST Calmar:  2.77\n",
      "\n",
      "FOLD 10\n",
      "TRAIN: 2017-12-30 10:00:00 -> 2020-12-29 09:00:00 (1094 days 23:00:00)\n",
      "TEST: 2020-12-29 10:00:00 -> 2021-08-29 17:00:00 (243 days 07:00:00)\n",
      "PARAMS: {'ma_short_timeperiod': 95, 'ma_long_timeperiod': 490, 'ma_short_type': 'EMA', 'ma_long_type': 'SMA'}\n",
      "TRAIN Sharpe: 0.74\n",
      "TEST Sharpe:  -0.42\n",
      "TRAIN Sortino: 2.58\n",
      "TEST Sortino:  -0.51\n",
      "TRAIN Calmar: 2.05\n",
      "TEST Calmar:  -0.46\n",
      "\n",
      "FOLD 11\n",
      "TRAIN: 2018-08-30 18:00:00 -> 2021-08-29 17:00:00 (1094 days 23:00:00)\n",
      "TEST: 2021-08-29 18:00:00 -> 2022-04-30 01:00:00 (243 days 07:00:00)\n",
      "PARAMS: {'ma_short_timeperiod': 74, 'ma_long_timeperiod': 471, 'ma_short_type': 'EMA', 'ma_long_type': 'EMA'}\n",
      "TRAIN Sharpe: 0.7\n",
      "TEST Sharpe:  0.36\n",
      "TRAIN Sortino: 2.54\n",
      "TEST Sortino:  0.72\n",
      "TRAIN Calmar: 2.58\n",
      "TEST Calmar:  0.56\n",
      "\n"
     ]
    }
   ],
   "source": [
    "for i, fold in enumerate(wf_results, start=1):\n",
    "    print(f'FOLD {i}')\n",
    "    print(f'TRAIN: {fold[\"train_start\"]} -> {fold[\"train_end\"]} ({fold[\"train_end\"]-fold[\"train_start\"]})')\n",
    "    print(f'TEST: {fold[\"test_start\"]} -> {fold[\"test_end\"]} ({fold[\"test_end\"]-fold[\"test_start\"]})')\n",
    "    print('PARAMS:', fold['train_stat']._strategy.__dict__[\"_params\"])\n",
    "    print(f'TRAIN Sharpe:', round(fold['train_stat']['Sharpe Ratio'], 2))\n",
    "    print(f'TEST Sharpe: ', round(fold['test_stat']['Sharpe Ratio'], 2))\n",
    "    print(f'TRAIN Sortino:', round(fold['train_stat']['Sortino Ratio'], 2))\n",
    "    print(f'TEST Sortino: ', round(fold['test_stat']['Sortino Ratio'], 2))\n",
    "    print(f'TRAIN Calmar:', round(fold['train_stat']['Calmar Ratio'], 2))\n",
    "    print(f'TEST Calmar: ', round(fold['test_stat']['Calmar Ratio'], 2))\n",
    "\n",
    "    print()"
   ]
  },
  {
   "cell_type": "code",
   "execution_count": 22,
   "id": "cdfbf1f0-fc17-4789-a940-cdcc1da0ec6e",
   "metadata": {},
   "outputs": [],
   "source": [
    "best_params_wf = {\n",
    "    'ma_short_timeperiod': 74,\n",
    "    'ma_long_timeperiod': 471,\n",
    "    'ma_short_type': 'EMA',\n",
    "    'ma_long_type': 'EMA'\n",
    "}"
   ]
  },
  {
   "cell_type": "code",
   "execution_count": 29,
   "id": "e6abe3fc-a908-4108-94f3-ae0843d1544f",
   "metadata": {},
   "outputs": [
    {
     "data": {
      "application/vnd.jupyter.widget-view+json": {
       "model_id": "090dce38132042fb8160a4b7cd4bf3a4",
       "version_major": 2,
       "version_minor": 0
      },
      "text/plain": [
       "FractionalBacktest.run:   0%|          | 0/23494 [00:00<?, ?bar/s]"
      ]
     },
     "metadata": {},
     "output_type": "display_data"
    },
    {
     "name": "stdout",
     "output_type": "stream",
     "text": [
      "Start                     2022-12-08 15:00:00\n",
      "End                       2025-09-02 23:00:00\n",
      "Duration                    999 days 08:00:00\n",
      "Exposure Time [%]                    97.25039\n",
      "Equity Final [$]                    184.89974\n",
      "Equity Peak [$]                      220.2782\n",
      "Commissions [$]                      32.25588\n",
      "Return [%]                           84.89974\n",
      "Buy & Hold Return [%]               566.61471\n",
      "Return (Ann.) [%]                    25.15026\n",
      "Volatility (Ann.) [%]                59.26124\n",
      "CAGR [%]                             25.16899\n",
      "Sharpe Ratio                           0.4244\n",
      "Sortino Ratio                         0.83516\n",
      "Calmar Ratio                          0.68434\n",
      "Alpha [%]                            17.39822\n",
      "Beta                                  0.11913\n",
      "Max. Drawdown [%]                   -36.75131\n",
      "Avg. Drawdown [%]                    -3.10479\n",
      "Max. Drawdown Duration      389 days 16:00:00\n",
      "Avg. Drawdown Duration       13 days 12:00:00\n",
      "# Trades                                   64\n",
      "Win Rate [%]                          32.8125\n",
      "Best Trade [%]                       48.98418\n",
      "Worst Trade [%]                     -12.61592\n",
      "Avg. Trade [%]                        0.96579\n",
      "Max. Trade Duration          74 days 02:00:00\n",
      "Avg. Trade Duration          15 days 05:00:00\n",
      "Profit Factor                         1.58407\n",
      "Expectancy [%]                        1.59988\n",
      "SQN                                   0.70121\n",
      "Kelly Criterion                       0.08326\n",
      "_strategy                 MaCrossover(ma_s...\n",
      "_equity_curve                             ...\n",
      "_trades                          Size  Ent...\n",
      "dtype: object\n"
     ]
    }
   ],
   "source": [
    "bt_oot_fin2 = FractionalBacktest(\n",
    "    btc_1h_oot_df,\n",
    "    fractional_unit=1e-8,\n",
    "    strategy=MaCrossover,\n",
    "    cash=100,\n",
    "    commission=0.0018,\n",
    "    margin=1.0,\n",
    "    spread=0.0003,\n",
    "    trade_on_close=False,\n",
    "    exclusive_orders=False,\n",
    "    finalize_trades=True,\n",
    ")\n",
    "\n",
    "# stats_oot_fin2 = bt_oot_fin2.run(**best_params_wf)\n",
    "stats_oot_fin2 = bt_oot_fin2.run(**best_params)\n",
    "print(stats_oot_fin2)"
   ]
  },
  {
   "cell_type": "code",
   "execution_count": 24,
   "id": "04c4d198-2c5c-4462-9f78-7bd55219ebe3",
   "metadata": {},
   "outputs": [],
   "source": [
    "stats_oot_fin2_red = pd.DataFrame([stats_oot_fin2.to_dict()]).iloc[0, :-3]"
   ]
  },
  {
   "cell_type": "code",
   "execution_count": 25,
   "id": "eea95088-8fd1-4006-8998-976f96bec97b",
   "metadata": {},
   "outputs": [],
   "source": [
    "stats_oot_fin2_red = stats_oot_fin2_red.apply(\n",
    "    lambda x: round(x, 2) if isinstance(x, float) else x\n",
    ")"
   ]
  },
  {
   "cell_type": "code",
   "execution_count": 26,
   "id": "7d4c48b2-473a-49dc-a8ed-eb0f46da9924",
   "metadata": {
    "scrolled": true
   },
   "outputs": [
    {
     "data": {
      "text/plain": [
       "Start                     2022-12-08 15:00:00\n",
       "End                       2025-09-02 23:00:00\n",
       "Duration                    999 days 08:00:00\n",
       "Exposure Time [%]                       97.25\n",
       "Equity Final [$]                        184.9\n",
       "Equity Peak [$]                        220.28\n",
       "Commissions [$]                         32.26\n",
       "Return [%]                               84.9\n",
       "Buy & Hold Return [%]                  566.61\n",
       "Return (Ann.) [%]                       25.15\n",
       "Volatility (Ann.) [%]                   59.26\n",
       "CAGR [%]                                25.17\n",
       "Sharpe Ratio                             0.42\n",
       "Sortino Ratio                            0.84\n",
       "Calmar Ratio                             0.68\n",
       "Alpha [%]                                17.4\n",
       "Beta                                     0.12\n",
       "Max. Drawdown [%]                      -36.75\n",
       "Avg. Drawdown [%]                        -3.1\n",
       "Max. Drawdown Duration      389 days 16:00:00\n",
       "Avg. Drawdown Duration       13 days 12:00:00\n",
       "# Trades                                   64\n",
       "Win Rate [%]                            32.81\n",
       "Best Trade [%]                          48.98\n",
       "Worst Trade [%]                        -12.62\n",
       "Avg. Trade [%]                           0.97\n",
       "Max. Trade Duration          74 days 02:00:00\n",
       "Avg. Trade Duration          15 days 05:00:00\n",
       "Profit Factor                            1.58\n",
       "Expectancy [%]                            1.6\n",
       "SQN                                       0.7\n",
       "Kelly Criterion                          0.08\n",
       "Name: 0, dtype: object"
      ]
     },
     "execution_count": 26,
     "metadata": {},
     "output_type": "execute_result"
    }
   ],
   "source": [
    "stats_oot_fin2_red"
   ]
  },
  {
   "cell_type": "code",
   "execution_count": 27,
   "id": "38c91093-46fe-4528-a8d1-3d93aa49a277",
   "metadata": {},
   "outputs": [
    {
     "name": "stderr",
     "output_type": "stream",
     "text": [
      "C:\\Users\\MixSP\\Envs\\dsml\\Lib\\site-packages\\backtesting\\_plotting.py:141: UserWarning: Data contains too many candlesticks to plot; downsampling to '4h'. See `Backtest.plot(resample=...)`\n",
      "  warnings.warn(f\"Data contains too many candlesticks to plot; downsampling to {freq!r}. \"\n"
     ]
    },
    {
     "data": {
      "text/html": [
       "\n",
       "  <div id=\"fa3a47fb-4149-4c10-a58d-674f37da25db\" data-root-id=\"p1737\" style=\"display: contents;\"></div>\n"
      ]
     },
     "metadata": {},
     "output_type": "display_data"
    },
    {
     "data": {
      "application/javascript": [
       "(function(root) {\n",
       "  function embed_document(root) {\n",
       "  const docs_json = {\"bfcf192c-7476-424d-94dd-c6fefeb3f7b6\":{\"version\":\"3.8.0\",\"title\":\"Bokeh Application\",\"config\":{\"type\":\"object\",\"name\":\"DocumentConfig\",\"id\":\"p1739\",\"attributes\":{\"notifications\":{\"type\":\"object\",\"name\":\"Notifications\",\"id\":\"p1740\"}}},\"roots\":[{\"type\":\"object\",\"name\":\"GridPlot\",\"id\":\"p1737\",\"attributes\":{\"rows\":null,\"cols\":null,\"sizing_mode\":\"stretch_width\",\"toolbar\":{\"type\":\"object\",\"name\":\"Toolbar\",\"id\":\"p1736\",\"attributes\":{\"tools\":[{\"type\":\"object\",\"name\":\"ToolProxy\",\"id\":\"p1723\",\"attributes\":{\"tools\":[{\"type\":\"object\",\"name\":\"PanTool\",\"id\":\"p1461\",\"attributes\":{\"dimensions\":\"width\"}},{\"type\":\"object\",\"name\":\"PanTool\",\"id\":\"p1561\",\"attributes\":{\"dimensions\":\"width\"}},{\"type\":\"object\",\"name\":\"PanTool\",\"id\":\"p1414\",\"attributes\":{\"dimensions\":\"width\"}},{\"type\":\"object\",\"name\":\"PanTool\",\"id\":\"p1619\",\"attributes\":{\"dimensions\":\"width\"}}]}},{\"type\":\"object\",\"name\":\"ToolProxy\",\"id\":\"p1724\",\"attributes\":{\"tools\":[{\"type\":\"object\",\"name\":\"WheelZoomTool\",\"id\":\"p1462\",\"attributes\":{\"dimensions\":\"width\",\"renderers\":\"auto\",\"maintain_focus\":false}},{\"type\":\"object\",\"name\":\"WheelZoomTool\",\"id\":\"p1562\",\"attributes\":{\"dimensions\":\"width\",\"renderers\":\"auto\",\"maintain_focus\":false}},{\"type\":\"object\",\"name\":\"WheelZoomTool\",\"id\":\"p1415\",\"attributes\":{\"dimensions\":\"width\",\"renderers\":\"auto\",\"maintain_focus\":false}},{\"type\":\"object\",\"name\":\"WheelZoomTool\",\"id\":\"p1620\",\"attributes\":{\"dimensions\":\"width\",\"renderers\":\"auto\",\"maintain_focus\":false}}]}},{\"type\":\"object\",\"name\":\"ToolProxy\",\"id\":\"p1725\",\"attributes\":{\"tools\":[{\"type\":\"object\",\"name\":\"WheelPanTool\",\"id\":\"p1463\"},{\"type\":\"object\",\"name\":\"WheelPanTool\",\"id\":\"p1563\"},{\"type\":\"object\",\"name\":\"WheelPanTool\",\"id\":\"p1416\"},{\"type\":\"object\",\"name\":\"WheelPanTool\",\"id\":\"p1621\"}]}},{\"type\":\"object\",\"name\":\"ToolProxy\",\"id\":\"p1726\",\"attributes\":{\"tools\":[{\"type\":\"object\",\"name\":\"BoxZoomTool\",\"id\":\"p1464\",\"attributes\":{\"dimensions\":\"both\",\"overlay\":{\"type\":\"object\",\"name\":\"BoxAnnotation\",\"id\":\"p1465\",\"attributes\":{\"syncable\":false,\"line_color\":\"black\",\"line_alpha\":1.0,\"line_width\":2,\"line_dash\":[4,4],\"fill_color\":\"lightgrey\",\"fill_alpha\":0.5,\"level\":\"overlay\",\"visible\":false,\"left\":{\"type\":\"number\",\"value\":\"nan\"},\"right\":{\"type\":\"number\",\"value\":\"nan\"},\"top\":{\"type\":\"number\",\"value\":\"nan\"},\"bottom\":{\"type\":\"number\",\"value\":\"nan\"},\"left_units\":\"canvas\",\"right_units\":\"canvas\",\"top_units\":\"canvas\",\"bottom_units\":\"canvas\",\"handles\":{\"type\":\"object\",\"name\":\"BoxInteractionHandles\",\"id\":\"p1471\",\"attributes\":{\"all\":{\"type\":\"object\",\"name\":\"AreaVisuals\",\"id\":\"p1470\",\"attributes\":{\"fill_color\":\"white\",\"hover_fill_color\":\"lightgray\"}}}}}}}},{\"type\":\"object\",\"name\":\"BoxZoomTool\",\"id\":\"p1564\",\"attributes\":{\"dimensions\":\"both\",\"overlay\":{\"type\":\"object\",\"name\":\"BoxAnnotation\",\"id\":\"p1565\",\"attributes\":{\"syncable\":false,\"line_color\":\"black\",\"line_alpha\":1.0,\"line_width\":2,\"line_dash\":[4,4],\"fill_color\":\"lightgrey\",\"fill_alpha\":0.5,\"level\":\"overlay\",\"visible\":false,\"left\":{\"type\":\"number\",\"value\":\"nan\"},\"right\":{\"type\":\"number\",\"value\":\"nan\"},\"top\":{\"type\":\"number\",\"value\":\"nan\"},\"bottom\":{\"type\":\"number\",\"value\":\"nan\"},\"left_units\":\"canvas\",\"right_units\":\"canvas\",\"top_units\":\"canvas\",\"bottom_units\":\"canvas\",\"handles\":{\"type\":\"object\",\"name\":\"BoxInteractionHandles\",\"id\":\"p1571\",\"attributes\":{\"all\":{\"type\":\"object\",\"name\":\"AreaVisuals\",\"id\":\"p1570\",\"attributes\":{\"fill_color\":\"white\",\"hover_fill_color\":\"lightgray\"}}}}}}}},{\"type\":\"object\",\"name\":\"BoxZoomTool\",\"id\":\"p1417\",\"attributes\":{\"dimensions\":\"both\",\"overlay\":{\"type\":\"object\",\"name\":\"BoxAnnotation\",\"id\":\"p1418\",\"attributes\":{\"syncable\":false,\"line_color\":\"black\",\"line_alpha\":1.0,\"line_width\":2,\"line_dash\":[4,4],\"fill_color\":\"lightgrey\",\"fill_alpha\":0.5,\"level\":\"overlay\",\"visible\":false,\"left\":{\"type\":\"number\",\"value\":\"nan\"},\"right\":{\"type\":\"number\",\"value\":\"nan\"},\"top\":{\"type\":\"number\",\"value\":\"nan\"},\"bottom\":{\"type\":\"number\",\"value\":\"nan\"},\"left_units\":\"canvas\",\"right_units\":\"canvas\",\"top_units\":\"canvas\",\"bottom_units\":\"canvas\",\"handles\":{\"type\":\"object\",\"name\":\"BoxInteractionHandles\",\"id\":\"p1424\",\"attributes\":{\"all\":{\"type\":\"object\",\"name\":\"AreaVisuals\",\"id\":\"p1423\",\"attributes\":{\"fill_color\":\"white\",\"hover_fill_color\":\"lightgray\"}}}}}}}},{\"type\":\"object\",\"name\":\"BoxZoomTool\",\"id\":\"p1622\",\"attributes\":{\"dimensions\":\"both\",\"overlay\":{\"type\":\"object\",\"name\":\"BoxAnnotation\",\"id\":\"p1623\",\"attributes\":{\"syncable\":false,\"line_color\":\"black\",\"line_alpha\":1.0,\"line_width\":2,\"line_dash\":[4,4],\"fill_color\":\"lightgrey\",\"fill_alpha\":0.5,\"level\":\"overlay\",\"visible\":false,\"left\":{\"type\":\"number\",\"value\":\"nan\"},\"right\":{\"type\":\"number\",\"value\":\"nan\"},\"top\":{\"type\":\"number\",\"value\":\"nan\"},\"bottom\":{\"type\":\"number\",\"value\":\"nan\"},\"left_units\":\"canvas\",\"right_units\":\"canvas\",\"top_units\":\"canvas\",\"bottom_units\":\"canvas\",\"handles\":{\"type\":\"object\",\"name\":\"BoxInteractionHandles\",\"id\":\"p1629\",\"attributes\":{\"all\":{\"type\":\"object\",\"name\":\"AreaVisuals\",\"id\":\"p1628\",\"attributes\":{\"fill_color\":\"white\",\"hover_fill_color\":\"lightgray\"}}}}}}}}]}},{\"type\":\"object\",\"name\":\"ToolProxy\",\"id\":\"p1727\",\"attributes\":{\"tools\":[{\"type\":\"object\",\"name\":\"UndoTool\",\"id\":\"p1472\"},{\"type\":\"object\",\"name\":\"UndoTool\",\"id\":\"p1572\"},{\"type\":\"object\",\"name\":\"UndoTool\",\"id\":\"p1425\"},{\"type\":\"object\",\"name\":\"UndoTool\",\"id\":\"p1630\"}]}},{\"type\":\"object\",\"name\":\"ToolProxy\",\"id\":\"p1728\",\"attributes\":{\"tools\":[{\"type\":\"object\",\"name\":\"RedoTool\",\"id\":\"p1473\"},{\"type\":\"object\",\"name\":\"RedoTool\",\"id\":\"p1573\"},{\"type\":\"object\",\"name\":\"RedoTool\",\"id\":\"p1426\"},{\"type\":\"object\",\"name\":\"RedoTool\",\"id\":\"p1631\"}]}},{\"type\":\"object\",\"name\":\"ToolProxy\",\"id\":\"p1729\",\"attributes\":{\"tools\":[{\"type\":\"object\",\"name\":\"ResetTool\",\"id\":\"p1474\"},{\"type\":\"object\",\"name\":\"ResetTool\",\"id\":\"p1574\"},{\"type\":\"object\",\"name\":\"ResetTool\",\"id\":\"p1427\"},{\"type\":\"object\",\"name\":\"ResetTool\",\"id\":\"p1632\"}]}},{\"type\":\"object\",\"name\":\"SaveTool\",\"id\":\"p1730\"},{\"type\":\"object\",\"name\":\"ToolProxy\",\"id\":\"p1731\",\"attributes\":{\"tools\":[{\"type\":\"object\",\"name\":\"HoverTool\",\"id\":\"p1497\",\"attributes\":{\"renderers\":[{\"type\":\"object\",\"name\":\"GlyphRenderer\",\"id\":\"p1494\",\"attributes\":{\"data_source\":{\"type\":\"object\",\"name\":\"ColumnDataSource\",\"id\":\"p1429\",\"attributes\":{\"selected\":{\"type\":\"object\",\"name\":\"Selection\",\"id\":\"p1430\",\"attributes\":{\"indices\":[],\"line_indices\":[]}},\"selection_policy\":{\"type\":\"object\",\"name\":\"UnionRenderers\",\"id\":\"p1431\"},\"data\":{\"type\":\"map\",\"entries\":[[\"index\",{\"type\":\"ndarray\",\"array\":{\"type\":\"bytes\",\"data\":\"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\"},\"shape\":[5994],\"dtype\":\"int32\",\"order\":\"little\"}],[\"Open\",{\"type\":\"ndarray\",\"array\":{\"type\":\"bytes\",\"data\":\"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\"},\"shape\":[5994],\"dtype\":\"float64\",\"order\":\"little\"}],[\"High\",{\"type\":\"ndarray\",\"array\":{\"type\":\"bytes\",\"data\":\"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\"},\"shape\":[5994],\"dtype\":\"float64\",\"order\":\"little\"}],[\"Low\",{\"type\":\"ndarray\",\"array\":{\"type\":\"bytes\",\"data\":\"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\"},\"shape\":[5994],\"dtype\":\"float64\",\"order\":\"little\"}],[\"Close\",{\"type\":\"ndarray\",\"array\":{\"type\":\"bytes\",\"data\":\"H4sIAAEAAAAC/13ad7QUxfM//DFnXbMf46oEMV6zmBgxB/QqKohpQUQxwBowo2PE7IIJxbBmMeCaE+qYM66IImBYEJTMVUEBUZ/v85tXe87c/ed9qrqqurq6uqbDRlEUpf3qcfT//66EYzNMP0N/mWEMkzr6bfRb5F6Hb+b56Tvk39P+cV4+DvofkH83bz8KfrwIL2f/engnvJ/eA1C/6Vut6L/Jn/tlxj8kw7R7hlEJfTy6L3wI//MMk9Phoewcpj3GXwHqL52j33/5syS7d2l/0PjMR9qd3H74XeEx2vdGH56Xj2Dajb72uIv+e5ArkTtae+D3RNOPNoPL5v2Iz6Lfi13zEp0NL4IDWslfiH8yGsalMC/o09AhPw+Eu+Kfiiaf6jc9jz67kX6T3vj9yZ2ODvEuo8/O86Mg3z/vT3pmfvxRoC+BA1qNh350Bn6Ix8X4A/N6/8VjN+0H4x8Edya/D7kj0Xugi7AN/hbs7IhmN9kdLa7xDuj26HXoLQW3ogfjrcm3Q4d+tsMnF22kvV3er7gtun0rPX4m2+J3wg/jDPksHxN0fEArORiHOLGT7JfP8/QC/Nbzf1N+3mN5ksif5MxWeXRWK7mQNyexd0J+HcbnwFvgDexci74GqnfR9a1ocsmN9K5v5fcg8oO1q79xqMPf4U8g/2ur+v8h/Bz+oH0i+aXVvWXUu7/wl/0yh2mk3q0BO8AP4KvwHXpD4HGj1Y3R6gY8LcPkLvQQOA72/krdGZPRF8JlYLcx6is6yTDddox1h+6EPgx9JL3+9F7GH45/HLqk/WP0s+wMw78NPqz9QzgOfyR7n+G/C2vaZ7AXxncEer9W4zsUNsOB+f7ToehztYc4Pa79J/zCN+Y7w2idb3zvvpH/8EXtnbRvRe8k2A2eB7uQaw93gXuyV0KvTb5v3l56ObwlL58cia+fdFd+8T/ZBga707/O2rcnfxr+I/BG2JudgegEHfrZix8XoPmbik/KXnQRvLnVOM6if4b28+E5+MPIDdf/z+h/yG0yNuPvnGG8NmyD/zy9keSHwh3wj4D7w4PZvx1WyT8EK+Su0T4AbT6iQfgdsv7TrnB3/uyKXoWfl+Evjm6h/yd7P7Ef6B/RDXJj0Z9p/xR/OhSvaAK5VFzHw3HajTM5HN+44mPwwzw35/M4uZh+d/3BSN7E5jEtw7AuatpfwH8cfT+8Eh7H3sn0DiDfhN4Cbg4XZXmd7C2/T/va/jbDuLv2o/C3g6vBtuQ2JwfjTrAd/uHsN8ND8U+Afcmfp/0g/Bg/6G+M3kr/bdD8iDpCemno5w1y92h/Gg7BHwZfwe8gPuYhuiPLt2iDb+VfhvGKcLz2k9Bny89d5O/66G1hM/wUrp/ppYvQK2V0NBm9kX43ZX9l8sGfAlwDfxv4C/2Z/PvI+pmDfzS9PnAPekX9d8M/C+Kn632bi0c0mt17jPck/d2HPlF/TfjXoefSq6NHjM3FL+2i/TB0T3Q3ctqjvcfm6nA6GKKjm6yPPjDUzbPN8xDyz+E/kF93Yb2ls/BhrA4l6kU6hv5e+G+SD3VqEvpbcqPzdSuek+8/+hh/B+PtCDcWj03hIvK/sz+FHn/S97T/gp6h/Vvr5DvrZAz8AX5iXXyOHm19jMOv0w98cvGH8Bt6U9CTyU1FT6MfaP1GE/F/RM+AC2HQmw99nxN+JZ+yNwLeSe8x7Vegh0J1J74chvrTWftu+tkE7oh/lX3Qj9l+Mhr8le+6/WUH9HGwF7ma9s3tn6bhj8gweZ/8QriY/duqcCV669uPbYAeGvab/B9lPMuF/Qr/r7ZuvpRPD8vX6RA/OcC67z3O+QK9hTqgXkR90fvB+fR/0M9n+vkgX0ejruz1CHUTfR7cNes3vUb/PcZn9Ff4e42XlxlGb6A/hj/BpzOMPyJ3DP6D8FR270MvNiGjR2SYnDzBvRQ7w9APwo3J7UyvA9wO/s7+ReTOnuA8R/9acrfCK7QPIr+A3Or8H8GPT9Cra1+W/EL6b7D3NPpuco+Ti9CnkNue3DhxmA8nwm/hcuTvNq7x+NPgZPxO7DXph/3oGPzO+ThFe8MD2TkaXj4+N//xUez3R5fQYX7DvI4Mcvp5Rr8fwRTW4Ffissp3mZ1F6Ee1H8FOT/yr8P+HfyD/x8BP4RfkJsEP4Kva32bvdfzP2ftS+/vo5+HF5A+D15DbSHtXfPOdnArL5DYnJ1+TEvoBdC9+XN9qnJPJfYePjk5CD9V+NfoS7fvgH4wewJ44pr3RffJ5GDAyzjTY2Y+8fqNz835HvfP9xc15+9FB6EPIhTy8XHtYL9Z3/Aj+E+TMa3KlPJn3nX37987/37tHzTC9KsPkHHgdfmfYjH80PAiuq3179k5hvw/6EnJvox9DPweX+CHjr/KD70WG6c3aH4Af6SfovYV+Ef0I+4/D+7XfCp/AvwlNPrkH3qe9C+xgHFOzuCXPfGffIJ7voN9Hr8nuU3AgO4PQI9i7Er8XfMi83M3eLeh2+m1Cb6/9N/M91nyrG0moy+rm/234Mlo+xWH9hLpzL1Snk4fVoUfhN3Ch+mU9JjPVr7XQ/7aS/0q770nsuxOPwp+iv2r+exj9QP8Feg+g34TPk/sTPqT/x4zrFePeX5w2Eu898d8lv6v2juK6jzifD//U/il8w/zWyQ9GX6j9UfgIfsiTGnvD8e+lfxs0z9EV5M1/dB1cSO5ZeCO5X8TzD+OaYFzqQryFeJyu/Xh838/kDPwGXE5/i7P/Pf1/4eR8XqXqS9zD+M6k35ufl+TzNQlx3hJeDfu0iuNz5CdrHw9fIvcaufvIGX9sPtPdtFsv8QFwR/KHwX3ZGyUeg1vFSR2P9gp5JV+XR9uPpMuQX4GdD+Tpaq32LSvBqfl9SRL2T6tOyO1joq/y6yj9EN6svSP6WDjfPvNZ+AZ8cZxzP3pr+tvR25w/O6G3t+7YjzuQ7wT3xG9CD6DXGb8L/jD0h/l1G7+fx2SQ9svw74f98E8hx24c6DNb+bm4fregZ/8bvav9Zfy36b+DfzZ+Ed+44h3xd8PfLT/OSHu8t/Y98vJBLu0Ky2FfTe8mdvCT0N/+2g/A34jcMuid0TuQ12+0ayt8jfwT5J6FI/J5lNwBzXOyovb12HlunO+vPJJP6S3wSvi0c88w9Lf0JtAbrf2nVu2b6K+t/tc2fvxofbgm/qrkN2iVj8YT357Pqyh8zyahT7Nuu1iPnfP7vugfdqL8fjlyLoh979Je+XNMvKP1uzL+kvB6/Z8PnReik9C38bc9vvWZ7p3Pr3R3ctZt1FP7GfgJvn7icN65B/8q/BvhFdqfRF9I7ix86y++Eg7Wj7xNxTkemF+HkfyM25E7yfwvbd43Me8bt6LXhufhn8feXXC/VvVqH/gaPfUter0VOn8nX/JjXXoz8eVj9CN6ov7/ztfN+GNy3+fXQbIKui29FdCbwRi2ge3I7Uh/c9hf+1H62Q7uhC+OyS7ondGHsHcWvvjFt+X7iw4i3xX/BPyD6aPjE9F7w+vcd5zvvuQo9yG98Lvjj0UvcB/Sgp4W7p3h1vp9S38v8+tBOC8/H6m4x+pFOglOIz+XfAN/NlxS3rxK/wP4uXb5ENXhCq2+g6F+W29xnD/HJ93VAeftdEX7ie3g3vYZ7ez7T7cPPdR+fyj+yfi7OX9srt05LG7Cd+6KOqHPpn+F89LWzk//klsW/3vyC8g/j55F7mv9LO+8tRS9iL2J9F4j9y68M39+S+/Ffwn/BliBw1ud9xZj/2P68/izUPub8CJ4d97/9CR4Ir0Brc5vv/HnHfgD/uutzpvGnYhfclz+/Bg7r8bObSm/0lHkJmj/Gd1g/zNyn6BHoz8kNw4GPX5EIQ5T4dH8ugaeCc83X03o7nB3dv7W34rmc2Pt6ORZ9p1/01eNI8xHOGevSb74Q+7cHZuPaCdy7hHiw6B8j56B14VzrvYh8FJ8GF8O+8LbtcNYPkVD8uf3+Hq0PIjcX0TsJM7f8TD8DcUl3Bu8p/1LdMgz+Z9YR/EvaPzIeklXZu9T7YPhk/COVvceY9Db0ZvCzuviPRK/p/kc2CoPTuOffE/u4p/4pu4zojDeB1qtW/cSMT/TYfk8D/cjsXUcsRcbR3o++kK4fb4uRT3hvrApfz+ULoW/xfe5dZeG+iiP/q+AZfxucOc8P07gbdrX074yu4Hejtyq5NbI3+8kW6J3zGOyZyt9/LgNXFt7ezT/km3zcYnd88QhLkt+n7ufiNwHRKc4x57h3Hop2vk6GQDL2i/T7v4gul57uD8alD+Pxw/mz9PJExAdh/O1e454mHbn8/TaVvdT52i/Sv/O7+kD5AK6D4nuQd9OD526P4meyuv/dx9Whe5RYveZ6Z3w9fx9S/wCezejg/836Lc9OoZb4HeGQ+hH5mkGue/hBO33w3Phxfq7iJ2jYf98/9Gt0PxG5jVNIDp2z5Qcij5Z+wnoI7UfhY+Oj4Xk0mPQPdHH6feQvL0EP+7XSg6mbWD/fP6F8abuz6KX2fsKvY08t/6ixeH61qP1F68Y7nPZ/ZG+uMefwI/w0+9y8iEPkhH5vItf0S6/oqfJvZi/101eyK+PeGSeTl/N68XPtrIb1hM/orvy7UlYH7X8+FLrMnol799/6+ZhaD3GIc4D4eXQPETWZeo+LpE38TJwrvPqNPvXr51X98y/fyVLhvcq++dP8+f65Lj8+SUtw2Psq7toD+ePodC9QXwJuUvRF9GvQPwkvKs61yTkolPRp7U6Pw1E6yfhV3wxu+G8dUSrc1i/cblzaxhPcji8Ckbi8kX+fBmFc2igT8z7Gd2sX/4lPfRjPAl/ohC/cv5cl55J7vS8vxE66kPu5Lxc7HyYiGeatIqjd/O4GV1CX4h2PkyD3wPQvcgZx3/3fdvKn/DeG+7bPoXhHj/cK7gniYajh7DjfSJ1j5UcGO4j+OU8m/InOTEfp3Rb/KVgoJ1D423QO+TP09FuaOfgqDP6aHgk/j7jcv87COsh6gm74++HDv3szz/n+2RV9AbozcL9GL3VtG8F5Wu8PrkN4ULn8ZXptc3fIyTt0e5bos3y/sTu+aKH0M7lccd8XOL98+s7FZ9oX3Tcapza04Py9yLpnmjzEoVxNeX7S4twe/iPe4ar3CucbtwV9xPmNQr3JCGPh+bzJdpD+z75e49kSD4OybXwHvgYefcLyRh+ryY/C3Aq/r/kfqc3Cv2CftxzpH/BUF/cR0U/409hz/1V+lv+PiTcr8buRdI5+JNb3Zssx/5a1pV1GD2SfwdI2hhHoMO7w1B8/19Jb9F+K9q9YOK+O7mAffeHcTP6UvJ90MdB98/pvJDX/G8xvsXYdW8The8UfjSdHP0Ync7N3xsFOnbf919/YZ5+Fb+F+fup5Bt86yO9flyuLqXnwvvgS9pH0B9J/1E0jC6H1Xy+/tfOXuxdIB6OJh+/SQ4m7reSr0N9zN9HJ73ZORI/1OHwf5ZO+bob3ieig9HhXeZQeAL+yfT8/yU+Df9i+hX8q/L3z+nRvhvnu1f3rhvdbJ/SFx4e/t9B3ztz4l05ngFfZNc7c/pJ/v9I4T06np1/F0r/Qm/KjyX090d4j5iQ6ye8e8fe/6LwPh7e/zY0rvDu4H8eUfjfxz75/xnFXfLvFMmu6KDXDz/8z2RLenu1srM/ufA/lK1a/W8qvMeH/0/9Br2DJIvT/zH/bhfe1dI03PNrD/N+S/5dIw7va+G9JrwTbNXq3XF5uIZ+Nm71nhDeQbyTxP5nlrZp1R7yMryPweSwPD8N9cz9buJ/eql3tHhf+n21XweHjc//72c98+B9KanDcfj3od8R//fz/5uK/U8pepPcePxvyT0Hh+Yx/M8nuYO8/wOlH2u334/Ws+9fpdX5FqbuQVLnkfgn7f/AmfhL5u9Zwv1IfAF+R+c6mG6iPfDdh8fh3uUQtPvg5HP0XPJbuRd72H1Yu8b/w+LdGTbuQX+fYak/vDLD6i0N9wgN95DwBe1LTPR+3hBv8v+wP4Pc4/qpNrxX4I/Qn/bqbfTuJ6ffZAD7N2unH7EXPdvKr+HsPkL+zjwdv87uaO2T8MWh+AZkL/2F3Vnk63AsfJHc03Ac/kh2fqQ/E9IvfQVHkXuL3kTjOXSi+68MG3tkWDoAPd041sro4ioTvR+xw378Gnt/4RtnYy5/YHER+XnaYWx+043Zh41Ad8j3H2+gfb0MqytrX5b8lvJmO7gqufZwMbiG9mnGuTh6v4nec/KY7oo+mD5+sad+L+Tfe/jzyP+h/bJJWXzfFedx5P6l19DP7/TWI79dhulek9TdSeIA19ROrrQJ/hL4S2fYaJNhdSPYlhx+3G6S74J+VoGFDIsLjPtX/n9hXJ/w+xf8MeZnovZd8HvDrsYn76Kr8R9C783v042nK7obP3Yxnln6fVY/Nf1+jv8O+m14B6yL93hyH+v3Jfwv4df4LfAb+sZdmoQf7OCn//BnNXHdlb+bo/mfHoA+Gn2geHcxbvOd7IGeLF/CfMqj6qv8Hatf8xB9oL0D+YP0w160I/7B/Ngyn2/VncXbfESd+XMC+fPY60fefKUXkTuf/mmwL9Re7a//MvkB+jlDeyc0f6KT9duR/A75fC7ON+6V+WH9NORzsqHxwQb7jQo71md6rX4eJX8juQvxB5I/N68XX0r+FP6clI9PYvzpTcbzBHo0/VfY+wU9ld50dn9FzyKHTv/G7/hTJrdbhtW9MiwelmHcNcPoiAwbg+EPcPvJWftlk+334YnwEu09MyziR10zrN6DPnqK+4op7snQXTMs3pBh9Qr8czMslTJsnE+vX4Zpgd7uU9y/kF8NvxN7W2nfAn0BO6eycy/5m/DvgKfrdwC9i8mdBY/nZ6C75+02+vCnJ7lLxWewuDw72X0fXDzDUvsMG/0zjI9Bn0K/k3i2016kt4T2383rGvi7sB/6/Zv+ZPgb+wvN5xj0bPRyxt+iv4/ZmaG/oezfrL/r0bei72LnPvST6FfoP8KPfvQG6uc8/XQhN4RfIR5/yOd16E3N6PRg/RxBLtXfsubBeKMVzdcI/dwNh9N/id2Z+hePxpnmu2KeD5ZH25jvXuwOlHfyMNmf/HnkLqTXH/bAP5yc9sYp4r8PWnt6EPok4+pNznqpnsHefujgp7wthvW4FAzx2ZDeWvn+GjuzQy/dybjGm6+vxOcz8TVf8UhxvDc/7411xOkP8UaXrNe4iX3+VVci/7V5eoud0K+8jN/X3wR+0E+v034yP+RXPIh8X35U2X+R3ZDHN5F/gLx+q/Kr8SW72lP+lF7QPhY9il8rm4e9jXPLn91TwH0zbGyYYbzyz/Zb5DfI6HTTDJOVMqyKc/Eh/U6Cq4vDmvoN8VS30kHi/rR5kG/FM1rlwZ7kutC7xPyok+ke8BgY6uFl7Kr7JfW8pN5HF6GfYf+mfL1PQj6Eensd+if2fxev+eIxQTy+E6dnMiy9JY4foe8S77PIX0h/D3LTje81dmaTe5NeP/020O/+4p2T3HDzN4i9q9GX6X9bejsYl7xO35Enqxrft/JHPYqnQPW8NJHeX/Iy1O9fyLXk86Jay+dtYt1E6nlpEfwEyt+UH9F0+A17/8KwjulHU1r5EfqxPiL20rr2H/X3PL5+o93RW+hnZf7vSm837fPtb3ob11HaD2PX/iXZlx2Yhu/MSbBH/vtTVTca7MbdyfnOVDug19XPBN8nmD7uu9wvw+QG+7Kr8cN+zT6vsQb92P7sFHrn0Ktpv4h+X/T56EvJXaf/W/EHoc9i7zL0Hdqvwh8PfU+rFeMeYD7OFMdjjbsXvvhUTxVX9TO6hby6GqmDxUfF1Xc/OUP81LGYfvIYvIjdxdQJdSz1fUs6WC+7wl3wfVeKod36KC6A1kMJP1HHGvIyMf7oduOzryl+wR/rIZmLv8yU3PqNVoA/0bcPSdTjaA3rxnc4WdL4FodL88e4S9Zb6Qf25okX/0s/tfoe2s+kP+X3P4n9cmodx6/Rt24b39H/Me93xO/qWnk/U35E/Pi/ApDFo0t+31T8zDheNP5J+Iupi+urw+uqj3ervzfij1V3/8LfK6u7pf/94vuYYWOTDKtTya2V0cWNtB9H72h4M/kr2bmF3G2/+H9Chuk15K9S73vS+4r9g6bax0/1zp9h6YwM0+4ZFj9kbxE725HfZqp3V3ZWmcbfae5zYHOGxf7T1Ilp9uPT/M+GXO8Mq3vAy7Qfk2F8A70T2Dspby8+kd7x9DrDr41nOe17weXpt6fPz6ib9oPxr+Df+fq/ndwQ9s+Cx9KDaUwfnZArnobfjp2B4namfvaBK9H7TnzHmA96ybqQfCRupVXx94Qb8mvO1Ny4S4vQc8XnN/P5qfn9XH8TYQu5P+mtb5xbGte2xrUvemv03uS2Qnfi1wbozfjPnzT4ve1075wwmeF/HRnG96PHZlidlmHjE+11ODvD4tyZmfxHs+y/Mox/neV/C7MzOx/Ndt8O34BPZXKlafQ/zjBdbbb6ATtnGJ8z2/sA/R7o/dB76W8n8ofN9n1gZ7sM013IbwS7zbYPJf8s/gZzMj2YfjLHe0fL/8PC/hnW7s6w/ESG1bMyLHbNMPqsxfqhv5A/tQybV6HHXnmdFvdH6HUzrLfNMF47w5buGTZKGVYG8edU/fbRfiX5AeRGsvtBhs1P6/8Zem/qbwR57YUX2HsVfq19Hvklf/UdyOhkgTiMN/63yB+dyRUuyrB56K/2IxmWhmVYvgR9b4Yt2stX/Cof2Al4V4ZNn7M7LsPae+zPITeevSnaJ+lnFP8PxJ8lnmf86n2f/88b11XG+RC5b4xzvrhONo+/kx8ujs9m2NRNvL/L8qJld/O7hPk6wjzdJt6vka+xg9/8MHn+RRfoV37UL2dnTXaGyMP35f2eGV06S753tH7aaH/TepiDvzL9gv6GGM+++jtWfyeg9yD3Q6ZXXWA9yetqe/E5Xvs2/Nl2jntbfq2Af22G8S1zvDvQe4ZczP4e5K4j90uGtWXEZ3Xxts6qZbS4x4fzfwV51T3DakEe7iBfdpZfnfE3ww/rYq2Mrm8Nl5afbX61nxQ/66P+m/mdjr8Nvd3ZPVX+Hswv+drYXp4uz4+N2ZeHVeuzhf/NK+bHU+VPeV306vr9hx/ouIP1YTw1/lW7sXsK/h4ZVv4V7z/kxePGtxT/+RUfIk/2JLeU9VWTbxsYx58Z3bSl9bYZ/za1Dlajt6p5XF+7eU83xt9eP9ZxUV2rvg7lddE6LVqfVeu4oZ4WBrN3i/Zh/LjafD7Anyet16/ozWWnBc4x/kX8+h5fPS3Ip4Y8Kz4p3teI/5Xm62LYB9/8JAeY31/UsW/52UBP1L+61zyBH++qb+upk3uaV/lX2pfdtfHle2VH+YZfVPej/dGHmveZ4mPdNXrnv19F9Sw52/z5zqUjrPP9rPO/fb8TdaOHdQ/TYzJsXsl8jUVvp1/f3eJN6sls+4UF6uC76KXUmbp6uKX6+ID2zdWprfU/k1+3slNutd+ZkWEx7GMas9xD2icsbXzLsruE9aDfdJDxPg/P1+9pxtEBX138r95vyM5j2tXP9HXt34Zxav+eH+/Cq8m/pH0FebKhvFk7T9c64Zvn5t3Mg31NZF1Wdsy3N++sfnQ2P74z1Rjte1DaBZb4BaO95uTmJeoiPkPFZyC9fuie8Dj8f83z+uJRNN6Pzder9p1Pmo9XzPN0/PnkxL3qu1aSr9GS/DEf8Rf4p9E/Xx70hh/qx3c52sL4VuXf1/R+nOV/MfJsYrZfj4bJr17ybsWM39hd+0j7/w8zjM6eKQ9n+k6gb0f/hv57pnsw/M2dBybP9A6DX+T/EeIkXpHzQfyO9WIfEBfEeydx214cJ9HbxPibyA0wz9uRs+9uiHt8lXgfC1cXtwn6Hcuvifxch73F9OM8UPpU//34/QIssdOTnT74x+TnJVkX/bPz0ijnIeeReCD9z9h7GaIbU9Gvm8e74TPsPGye1ZnSffIgnNO+1e9z+G+QG8HON/QXkF9IbnHjHq/d+FPzF4U6+S18Df9S+bsvdD5M2hnPynBF495d+/Ew6N87J/e9L9oHlOwPCpvn9xFF+7zoS/Ntv11e0vdPfanTS09Tr5yr6vaxUQ9oP1BxzqrZJybd8vuFJt+vQj/1qj/5o9S9Irmt9bsfueb8Prp4nv7syyr98vus8iG+q8fjL4eexq+NfGft35rCvmsZ+wT7xpa/fQd/5M+v/FmC/Br2mfY31V78ukP8K+Lp+1037qLzY9NPxu382fKhfmBRv6Ux9O1HasZR/c547BfSH/T/Obt19CvaR+Gn9J/z/dnceOyLo1/z5/iS83Kz82/1Kfacj8v48cf0bzWea/Ln/yb5kV5K/h7jDPQN5Jzr4ne066cUznvhfCeOxZPZvQxtn9lyaR4rzn0tV7AX7geuhdfh87sWzo9V49eeXK8f5840xNl8pPar4ZxRcN9RNX8tY9kzrxX51thOXu5qH9lVPpbk9RHmyT1ALN9bjiN/DDn7ysoJzvfh/KGfsv1mfKR9Zw/9DGTPuS79Wf7PzJ/Digtb8vcB+C3279UZxjdVfji3RfbzcbgPcM5JIuNyrirL72b2WtbhXzg//imuL7I70LyoE6m6VT0XWncRuqF+1OVbvEyIq/xznknP1788aTbvLbvoz36rfhA7B+rHPVfcI3+u+u+cv36+LtftB+vu0crqX9JGPjrPFdT3aAt0R/6ok7HzWGNv80SvZj+Z2ucXnfvDvrG2K7sLwr5av+TiW/kd7kO+QM+2n/gJPUa782nxSfr2w9HoObnzaDXc3z3kO2SfXR1O/zL7lO749pvVNe03nF/SQ9Ankb9Qf+H+pBd7AfHTc9BlfvYmv792++L4m3A/ax9i/5mEc0rNvrLF/e/p9gEz7Q/sQ5LvyDmnRPvY72zBru97Mdwz/UP+L/uQd9kN/X2Ifkw/4/SzHPt/4q+lH/e+cfB7TeN6B32Afs5h9150inav3Qj9Bn9eJcev4iL7o3/5s7p47Qnv5t+v/Pke3mLc75Ebx++nxcX+snQtfJDcDvZVTeQOgq/Nyt2rV8/mT3dx2QAez++x9v197Nu3gcdnmJbt18fPcI+ZvRtElQyTtbwHPOE9YLDzwmPwRvxHZjgXOVf85Z1hL/2dpZ9D5dMSzgsr8eNN/fxCvzOc4x1jP+8UP+tvF/Rt+q3Rnwon8m8F/RX4ETvHHI0Wl+RTeLPz0VbkluJ3Ez/X1d4X/wX0stqNK4nQ3lVKP/FnDv/pN4r62QeG89kp4nMHO6/r7yH8GfxfwXwfJR96yI+QD/ug7f+Te6yPF+Xn5Wh5GP8pz6rqzoPq2Ej5Gc5hz4Y6ot58SG5F9Xgi/bvUsfvn5O4xSgfTe5rerXm5hnuQaHHtu8E+4V6ZHDux/X+1r++I71bsexD5fpTdU7eEe9/TfR/tt4r2c0Xfv4J9fIv749g9VcN7QNm+sMhOyfe25UT7IPegVfu16EJ299LvAezwrxb5Tv7P99n5oQWmO/A7fAedb6KZ4neguB2q7h/cKv5Dwnlb/849DeNs6pffz9btlwu3G+fN2u/Njy8K+0X3n7G4FJwbCvaxFfenNfvvmn1o4l2tyT1oi/1Uxb6zdD/+Gfrvwp8wr85jabgv6kB+Df14f6gX8+1N7qMS+5nSBHl2ozjtKG4ni2NlTu5dr/o7lO+R+7JSs/y8gR3vKo3ryf9tPW5r3a1t3e2s/qvz6cnO71Xr2Hk/OVd9951Kv1Q3ZqkXJ6kXzerna96LV/POfPN052ntJ073Hq3unqhuLfAduFk9f137CTNy9a3xhbo7Bp4M3/A9mZlh9Xt64X35X/0sbRzL+u66Pyr63ofvXnK/eOzse/wQ/svwKnx09Da7N4vfp/i+8+nX0Pt0kb3oBPK+p9Wn1PXB6u6j6vce5M1T6Wv1eZF5GJufl9JI9ErkX+L3Xfr7AL4FZxvPMvx733diOPvXwW7sP8Ov9uxPMF++W1XfmeoN/LyG/nH02ob9EXs/QfvARgMd8Wd5fvoOVRfyb01xPVT7rujN4KBW/g7hz1X8u5NfvstF8aq630rMa7HC3qszc/4kdXb9fyHtYFz/msdVxXUN6zLsY29l7xM4j96V5jnsIy8mf6f+RmsP97ArWMe+U9WD1BX3k9XT1YuO6ku4tz8BfZS6oY7EO6gn7juLR+bvN8M9eKg7ReeJxH1psjy5GfxSv5K37VvdO8YXiseGvvf+n1Fa0vg2Mv77xdf+ovSF+XvHPHyFdh9dXFe8u4mXfXU823xbL8nombn/ncSLzcrtVxvyvvh9fh+Uuo+O8VPzH71B75P8+k3lf/FM7aejK9rtX4vbsvM/fsrb2L14Yv1Vf6Q/Hn7Hzjf02akeCVfTbh9dfN7+0P9z4l7Wx1H6OYRe2Nfa51afVj+PUod7qK+n47MX7c7u0eTU+0T9L3X3HdgXnWi/Bv+tDBuDtZfRN5G7dbp6TH4n/GvxP4HT6I1lZ5HvzvL8Mr7Sd+i7W+2bf4MPkXOeKLUX9zfwnQdKr4nHM75fbcX93/y7R+J7WTpG+xr4l+NrTzvNzJ1rGm3k85b5ehRdCHvieydp7Cnvd6LXRb0gl/SR7+pmeh79oCfPGnfz6135+Ai6Mz/35+cZ4tKd3uP48jNyvo6dkxP1rXojWt2rdkSrA2lX/Pb2M0fBw9WRu9SRcM8wKbxj+K5vpF5594y8kxXDe8IIdcc5uuS8UvJu1hhF3nm6+AP7LdC7bdW5pfE4OX6V+FVaTl30jpouo97Oo78KvneYqvpZYr+4bKt3af6kZ6q74Z3yAvV7S/Xfe14jEocx7HrXa/yjLpMvuc9J/L+mOIy++6doln4Wkp9HbiP7Wvdf4X9ojXCu8P+JkvNAeWn7Zee42P+JqkGO/abltYf7t/Xs85cM9+vi4ryXeJdNzXfVOTPEteH9Ld7HeLyTlm6TT+F/fL4bUVv6G+N7b2v4X2DRu2cc3kEjfPu+4hPyeGj+/aw4nH33Q1X3VUm499lef/6nWGzmn/uaBB0dpx02/C+xEb6n/p9YjaF30qhqXLfDJ/Pvxw3/S4i+YmcNcfM/hsS7ZGMwu96X4wo8ld6J2o+mdza9k/jdXfsp2u1L09tgmIfnxcn/GaqP4m9Crp+4Bj3zEXtXLPEv/M8ivP+Fc1LDfVjV+3sa3r3tW2LvuaVhUN2I3KcVvc8W78//H7N0orz0v4L0qQwL4R0x/D/T+TCdYj35v1J1On333qVjrC/n/hbvigl+063595bwPlPyblNMrB/n29oR+XN48dD8fX/inqHZ+bri/00V//csvG19hv9zeleIvTvVnacj5/fSI9a/958EXQrvQf4PWfX/tcj/qJrG8Xe0fl/W/lj+XbQc/s/j/3c172cpbHiPTcP9jfeM0jnweHEVh7r/81TaiY//k1T8fyRyn1MJ/0/0TpuKd8F7SM09Tnwn2v1Myf1GKcTVPU3RvU3Bu0yT+Y3Me5V/aU/2vO8m+k+8pxZPyP/PqRTe3+5o1a93yPJ79M1nKbzjrur9q4v3rcO9K/X3Xub/Y9EL6Le9qz3gnarqPW0IvNO70XXe1x73/zLY9LT3NfqVjt7XvDuX26K9d8Xe2yrelRPva4Upxuvdq+aep74s/9Fp+L+c+6Ai/bq8LD2Tf7et3GddhHfWj8j5H1zif38xfs27cXqT+XO/VfdO2uR/m/En/Aj/k/R/uqr/9aXtfnOPYPybZnS8WYbVazNsPj/D+lEZtnTGj+nfQf6FDAvXwRt/U8cyLN+SYe0pep+TezbDpsfYfS7Dxgj4EP697L3+m30Wf+LfM7tXZFi+IMP0ogwrD2ZY+vV3+w/06nPdE821n5iX2X8qw/K189y7ZNjUBW6RYem5DFsGkjskw8ZxGVb6Z1h95I9snCtnWPlfhtFf+tsav0eGTRfqf2yGzUfME094qn6n8WcoetVMv7FbhsWDM2zZO8MabF4/w3gvfmxEb3nt6+K3ybC83B/Ol/xp0e+mxtWbPP3oenz6URjvUez3zDChV7yVnx/gVzKsX6b/Gv1v+b3Zn5mdv9hbPqNrfTOsPKV9ZobVYdqnZdi03PwMO2RY7ZRhebP57q/nixt6ywwLG2UYr0NvlQyT1TKMvs7st/ygn3//9L6Qtdc+zOi4H7lrMizP4ueMDNM//nTPSK6cYWN943jJfKxGbsof7sfk0ZPi1ks8zxK/u8VVHAufZVg6jt0qP/jXOIq/+2dYbya3HeyI3wPeRq87OoXzxOETOMr83G38DxnHFeJmvirPwRv4JV7Fwey8mmH0Iv6b/Ar9kiueo59d0a8ZVx/9nQLPY/do+ttmWDjxT/dK8HTzdLL2u8hfpp29xkfGuYG8ab8g01uAXiWjm9+WX9tA4y6O49dCcZAXjX3k5+fy8CT2LpWPh2ZYPAbdk91zM6ycjD59vvknf6x1cSr6bHZf1M+O5I/Q/it/Jpqfp8XlU/gA/uviT658vHiJYzJUnORHCRYW0/+11tcr/OZP85MZ1q/PsJFYxz/w90D6/YyrB71ztF/OXh/8D63Td8nPyjD9znjFu/QFuZHoVPs37I3Vbn6j1TKs7JBh7VJ5cA28P8P4iAyb5mfYsuzCTG8Keh30mhmmsOlf7f+wP5O9uxbIf/iQ9oEZ1tfll3g0nuH3KOP4F1bk0fPq0fvmdYT5HGseh/mODM+v30g9jMxr0xbmc5F5/ky+jLR+5UuFndK58uNZ/exj/W7Ij53hafzZWz+99fu6evkM/zbWHrE3X91cEr2AvS/1o75Xp1uXs+XvJLi0OLUXx87yEF39lh/qSkN9LZzNX/W3cKU4NBn/w8a9svZ1+Pe3uo5fXsx4/kd+KfPkO9mk7jXUs7p4lTYntyw7X/iejvVd/tq+wfei9JM4+Z40Fhefe7WH78+Df+Ti2mw+kt/Rvjv1CfY7o9l733eK3aaV2F/B+Nuj1Y/qHfLFdyGVN7XHjS/kp7pc9F1pVp/qBet+Xn7ey+ptdQo/1OGy+lvQ3vwn+m9++f43+563tIT5sa7sI1p2129H+TFHHfveOpsvj9STaLR8up+dX/h3rXE9ib4l//2NdtF+KJQnlR35+Zv5fcv8jbIPsy7Ssnm50zw1zN/qxiuPapPsJ/bV/4Zh/yMP2GusRd5+Lf1He+DDZuuwQr95e3z5XVgtfB/EV/6UOxjHJfQGyUfyTfInCnkkXs32F+Wb+VHBfyuPyb382tz8+K5Gvj8t+/te+I62bO87spt5vsI8+r6WH5cH7/tO/YE+JavLyYQMy6dnWDrA92HtDAv7qfNX+o6ci76MvvpffVDd70fvDvXfd6X5ZX6PV8fW913pnWH5dt+XA+nJ18r/8H9EH8bPHuxumuk3T1/g/2r8etR35xF0Wfv1vpdd2PH9qa6MP1FcnzWeY/hzIjzOd47d+kj2v2XvG/EUl8qT+BeyfxP5e+g/zN6QPN1SpS+OlfD9fozc8uL+pnhuJV/WQ/vOpl2Nb6Z5N85EXGvmub6WeYvM82uhDojHqvxYgdwU+5GD5MuRxhfi9oRxvIBvXgpf5MdbEJe0P7lb8VP6fxoHvwrz5HGL8fAvns7PL8VhsH3TTuQOZ2dDeRRrV2drvp/lP30f7MOT3fHFtzADWk+lO6BzWmR/XbJOa8571R/185v1rr62/J0/j5U/8F3x3anbBxUXhvrC3nvs9Sd3q/ps/xM7Z5Xsi+LIfNnvlAeH7yp/BvLH+SRybmncLg43sfeO9hfIa4+CvQH8IV/nR+1j6DvXcI6qOK/WfS+bx+bPpanvX813tuFcWC3R20u781eT/pNe7L+a/86mo/LntXDOahbHcjd27iT/EvT9S3z3W8K+0fk/+gKG85R5jL7xHTGuuK6fr/Dt/5I36L2X35cW7YfjC4zjUnGwXy3C0rH0j+RvT/KX5L/PsfFVDodz7Vvxi+wUYOk68bXvrQV7zlMp/yqP5ffV5UfR7kEKi8u/P/PnzWgt68b+qNRJu/Gml4uPc3sqz0vyrnRnnh/dyH/5mJ6PNv5EXEqJeByG716nJO+jpdFz7FPdm1UutV/5Yp77Fvdxe7mfOwtWM4xHZJg+5L4Ov9BD+znZvWD5mgxbPp7rfzL02rp3m6A9gcPJ3ZvdM0bN7hsf+d3/hbTfN9f3GD16rvtz95KPoZ/Vrp/CYvycl9HFFfmxBL+6ZVi3fy+E/dQD7oluzO/Tm+eLy6TMXrQceqB70UPE4ZIMq3tmWL9unv956G9r2Ms94Wz3hBX3pVPR7htr5q3lEDRs2Uqdv8f8/a6f3Yx7iH5eZtf9Z3qme1N+VObP9e7rnnWh+VmTnHmMYGFZ/EVz3SPR3z/DeEv4gvvlpcVhHfI9tV+btVf3zbCwtXk/NcMW99GN3zJs/jLDpoMy/ebd2Fve/G8o/p3N/++ZfLGT/k7TfjJ/Doax9o/lYcX9+Kf6/ZtfBfPelfwz4vQwu/K6Km8bt/HvTvGRv81DIH9r3dAHotvzq7987sNeL3ncW//WRfVqfsm/pAs7HeTlTHFcG39bfu+rn0P5f6G4WUe17/Wzo7xYYBy/k9deeYL/N/ATNt/Dv4uN4wryJ9G3bur8b7mF/GB2vDfUrqV3I7nz0NqjW8nxo/gpv+VlvKR83dg4drK++np3GIx/k/VzvDwvWh/raj8KXVY3r7KeupM/wHq7mp2L9bMN+U3J7cIf7xMF+o1d89jUCR6szjapX5+I5+ficLlxl8XhLnG8Hi2PojXFYwP6TfhbyJsDxH0/duVjUb5U25m39chNsT4i870qu8fJu43yerF1WCixb/7LX8qrt/Lz13iU3L3wEf6KZ0tHda2N/qyLgvpS5n+0DHv8TMO631G7+DVvQ68jefzaBbAvPeuwcoJxbY7eyTjkd9G6Lu1Nbmf2xaO5v+9dURz/yN7pKkd453vJe2J79XEVdelw9Sih10edvRp/M/IjvVN6D2wc+luun/Iw/X3rnVB9aDKewjx1eJr6sTDD+k7qZD/+nK4uv6KejyG3nDhsIg4D5Nmx+OpuSz/tIa5vis9I+SM/Yt/1hrqSPmA+1IOG725kHTSpyxGsva5f9aQZXZZnhW/xZ/NrMjvk6upXib8FWOzB7yvhS/m63/A9KNGPnsJ/SP+w8orxvgHZidS15ElyQ/Pjiu/n56v8GcU/WLeeWt5Hv6dfdaT8fNinoNkv67fxmXirb7F6Vd9dHbsCbT9VUD+ja9TBu9H2j4WdvE+G/ah7qTi171pkf4pfedu+J9y3ukcr2aeVrrI/u8c92bvk3JtWw33qx/i/uAdb1/54N+ehg9BF++c2zgH/C+dc/qyofTny64fznv7c59Zb9Gf/XSvYX052TzjDOPXXcP9bnqm9nX3/Ds6JGziPbA2D3x2ge8W6fWzDfWBjPeeRPZ0TnJdicW52v9hivEX9pc5JJee4ltvy5+7oZeh8VfCuFTvvp+g6/aZB5N1DNzmvpu4VE+2pc1qT83HLqewckj/vNHsnSJcO737GsXF4T5Uf4l1yf98s3pVV6JvP8s/mdw3j2Ub8HqTnHrQSzvHPOJ8+IW7uHxrh/cU7YHEP6D4lGQZfd5+9o3vAJdyzuR9sbOweaiP09u6T2rhH8k6WdnVf18n92jbuubbL37/V+7C3p/sz93jVM/ETds/Qfhq/LnevdTR7y/LHe1+6Dvpr4yy4H/NOV4ZF94ll9mvuSWuH45fYcV9b7KgdXXLP1+L+teo+Ld6F302wW368ZfGp6KflLOPpq599oXvj5r3pt4PinWzLvvimwT9+l9yz1t4lj58s5n74UP2a73pb8uJScL9Y+th95Ffk3QMXn0O/alxFdtfKsObdM1oiw/pS6PvcU1+XYfHDDKsH/JXprZ9h0zoZJltl2Nz2L/f1f+kvw9IyGRYe1M9d3llvWigv+XWee+0DtD+RYXy39nvg4QvdW2TYOJif22WYbETvUHaq5D4gN5kfo4x3IruPkX9VfO6k94b34Xe0/0xvrH6GsUs+uQ0fXdgcbiiuR+jvJP10Jz8Yf2P8uvX2gbz9KX+/H3vHKLwvb24w733y6yTk93/rxHtAxb1z6Ub55f08cj/dCO8jQe5peqP07z6/5D0gPVV/V+hHHSjwM35vQe6doSIvkxXFZ65+3yRn3PXXoHeFyivoB9Du1cuPi5f3/3gY/iDrY5L3oU/dny/HjnUa9RY344zOY/8Sft6f/19Buabd+kusvyZ0i3VdfNu4vAPUzWPzn/oZQ1974RP8w+SZ/G66Bs62TuRj8Wn8VN5Yv+lb8mqWfP+EvPyuPyW/P5V3N1tX16K7offPsGVdtPyM1ZEmedpysXwQnybzEb2D/xScapwvmi/vJjXz2xzm7RZxeUucxbOObnh/K35kvl9iN8T/O/ba5OtdeXf5pr7V17Bu99W+urh/rl/vf6UKf65lfwQ/5GFTeBccyv/u6HvlzXC072h6R/77WRogXsZdtk7Tr2GDnP+dFPYwbt+VJt+jZB94PDsHk/P+XfPOWFzMOJbMv3/Gm4f/VVkvw70f+X9Qi3ewuv/ppB94b9ohP1+p/8XUzVPJuq+a9xZ50zQN/3fjWsH3Zmt51s58dMXvKA+PMV9H4e8sv3eEna0D34MoJu8dth6+hztplx9pW/WenRZ6Lfqt7imftuUfueo28mhX8hdbX836wY985yoJOeurdBC/9rOu6NV8P5rFo74FvWXYkxdldbiuPiez5H97/XUif4v4WPfNt/Pfui8+i/8ev3wXq6Ppv8+/EWh1I/G9a+J/Kk6FEjyN373YPRXtO1jsy96Z4hq+j7Du3bykn/Rydp+k9xJ53/viIOM4C/bUX3/ou1u7hB3jqGmPxanJfqXZvJWvN69hX/EAtD8qb5Fh1f6nvnmG6QYZRjtnWKnZL3VdlOH1GZZfWuTcnWEBPxmfYe2FRd4lM2y8vcj7G727yL1I72nt5Fvq+N+gF2WYrvS3e/wM40v+9k6L/zj+PhkWDsywjE7u1u8V7N/B7qkZRmdkWEn1+4zxTqAX5fsvFjNs/CUOxp/+DL9kdzl6/K9tmGH1RH51gBv87X9KmV7zU+IoHunUDOMf+fkLOXGqfkXu43z/lTGLrCfjEc/kB+N6hJ0Z9NoaH7sF/RSvMn9PoqvmTT/V9TK9phUyjDY13kPwF8gH44jm8uNP8cavL5bJl34jN4vf8/mztnlehf3J7GypfTP+nY3uDK80zlf19yy9x8T5ff2ME+eGcX1mnOIVa0/G6ucPfq78t/XEP/lRWga9xN85+wXz1TQ6n+dF8s2/83e4eRzBz0/09y075qn5efxR/LyR/9ZpeTr75iHErThR/5ezL1613eitDTc17vbm6VHnrUfUjc/Uky8zjD/Avx7dR925wLnrNXXnbXY+V2/o16ZmWPwJLtT+Lztz1bPljGNJfq/Fv8n8Ga2/ZcVlsPPhSOfC79l7iT39JTDaVnzais+a+pnPn2X0d454X0buOXI1tLpTH4R/g/k7EV2WD5eY79PEm17tTvNLrzyAX/Ti2eTU0fgncVm81fqTl5WX5NmT8EzrXl1qXk1dUt8aS1rX6lj8Kz8OYG8n6/EIddk6aNqBfH/8a6yLBext+I9z5T/OU+zcoL5OEhd1sKoeNa2uzhf0j47Vs0JF3NXRuvVeHUkfP1bv07fQvkct6Bb1sz6FXf5E6kjRd6K2Bf025FdHm9/KKbCXeV2Bvnxq2pF/1k31Hnl7s3x9Wb6+ID/f0v6EPJ8if2E0Or+uqveTG0S/JxygXT/Vu9jpi+7Lz4uN8zr5sL347GU8mxjf0uKzLlSX09XoW6/lxdStmcZ3sfEYX6FiH2I/Ut9UHenNryXDOrU/GmMf6PxZ+sq+0r1KbRP15iD97aCuLKffrWEP/R2vf/ujlu7iKY6FIfy5kp0jzM8laPdMle/t/ybZ951vf3gGf8+1f7vQPvVScvZxJfvf5luNwz1MMtx+7wb7Rfu/ovb6UNiPnQPtA1/Kn6drsOg+K7VfLc0hP52c/Xi6inGtlGGj7V/x/wcDdKdqULsAAA==\"},\"shape\":[5994],\"dtype\":\"float64\",\"order\":\"little\"}],[\"Volume\",{\"type\":\"ndarray\",\"array\":{\"type\":\"bytes\",\"data\":\"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\"},\"shape\":[5994],\"dtype\":\"float64\",\"order\":\"little\"}],[\"datetime\",{\"type\":\"ndarray\",\"array\":{\"type\":\"bytes\",\"data\":\"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\"},\"shape\":[5994],\"dtype\":\"float64\",\"order\":\"little\"}],[\"inc\",{\"type\":\"ndarray\",\"array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shape\":[5994],\"dtype\":\"object\",\"order\":\"little\"}],[\"equity\",{\"type\":\"ndarray\",\"array\":{\"type\":\"bytes\",\"data\":\"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\"},\"shape\":[5994],\"dtype\":\"float64\",\"order\":\"little\"}],[\"EMA_71_0_0\",{\"type\":\"ndarray\",\"array\":{\"type\":\"bytes\",\"data\":\"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\"},\"shape\":[5994],\"dtype\":\"float64\",\"order\":\"little\"}],[\"SMA_473_1_0\",{\"type\":\"ndarray\",\"array\":{\"type\":\"bytes\",\"data\":\"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\"},\"shape\":[5994],\"dtype\":\"float64\",\"order\":\"little\"}],[\"ohlc_low\",{\"type\":\"ndarray\",\"array\":{\"type\":\"bytes\",\"data\":\"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\"},\"shape\":[5994],\"dtype\":\"float64\",\"order\":\"little\"}],[\"ohlc_high\",{\"type\":\"ndarray\",\"array\":{\"type\":\"bytes\",\"data\":\"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\"},\"shape\":[5994],\"dtype\":\"float64\",\"order\":\"little\"}]]}}},\"view\":{\"type\":\"object\",\"name\":\"CDSView\",\"id\":\"p1495\",\"attributes\":{\"filter\":{\"type\":\"object\",\"name\":\"AllIndices\",\"id\":\"p1496\"}}},\"glyph\":{\"type\":\"object\",\"name\":\"Line\",\"id\":\"p1491\",\"attributes\":{\"x\":{\"type\":\"field\",\"field\":\"index\"},\"y\":{\"type\":\"field\",\"field\":\"equity\"},\"line_color\":\"#1f77b4\",\"line_width\":1.5}},\"nonselection_glyph\":{\"type\":\"object\",\"name\":\"Line\",\"id\":\"p1492\",\"attributes\":{\"x\":{\"type\":\"field\",\"field\":\"index\"},\"y\":{\"type\":\"field\",\"field\":\"equity\"},\"line_color\":\"#1f77b4\",\"line_alpha\":0.1,\"line_width\":1.5}},\"muted_glyph\":{\"type\":\"object\",\"name\":\"Line\",\"id\":\"p1493\",\"attributes\":{\"x\":{\"type\":\"field\",\"field\":\"index\"},\"y\":{\"type\":\"field\",\"field\":\"equity\"},\"line_color\":\"#1f77b4\",\"line_alpha\":0.2,\"line_width\":1.5}}}}],\"tooltips\":[[\"Date\",\"@datetime{%c}\"],[\"Equity\",\"@equity{+0,0.[000]%}\"]],\"formatters\":{\"type\":\"map\",\"entries\":[[\"@datetime\",\"datetime\"]]},\"sort_by\":null,\"mode\":\"vline\",\"point_policy\":\"follow_mouse\"}}]}},{\"type\":\"object\",\"name\":\"ToolProxy\",\"id\":\"p1732\",\"attributes\":{\"tools\":[{\"type\":\"object\",\"name\":\"HoverTool\",\"id\":\"p1596\",\"attributes\":{\"renderers\":[{\"type\":\"object\",\"name\":\"GlyphRenderer\",\"id\":\"p1593\",\"attributes\":{\"data_source\":{\"type\":\"object\",\"name\":\"ColumnDataSource\",\"id\":\"p1432\",\"attributes\":{\"selected\":{\"type\":\"object\",\"name\":\"Selection\",\"id\":\"p1433\",\"attributes\":{\"indices\":[],\"line_indices\":[]}},\"selection_policy\":{\"type\":\"object\",\"name\":\"UnionRenderers\",\"id\":\"p1434\"},\"data\":{\"type\":\"map\",\"entries\":[[\"index\",{\"type\":\"ndarray\",\"array\":{\"type\":\"bytes\",\"data\":\"H4sIAAEAAAAC/y3OvW6BARjF8XcQo5AYDQYXoJuhwxvp4DIMHRCDTWIhYkANwhtSH4mQtkSpb5vVUIOpkTDRxC0Yqzn/Z/ktJ+c8hnG/TNL8x/CnZCctjax0FuS+KG84eZHhknSX5Q69FWmzpIkhDGMLTzWZr5NvyOemtPC3RU9berryCQ9o9ci/ycC7rOEGHR/S1yeHFfwZyMhQPn6yO5IlDI7p+ZJjjE3lFs9on8kEXvCK9Tl/omshH5YyjjmsYhu/8XUlj+hcy+ja/ANMW9m/AAIAAA==\"},\"shape\":[64],\"dtype\":\"float64\",\"order\":\"little\"}],[\"datetime\",{\"type\":\"ndarray\",\"array\":{\"type\":\"bytes\",\"data\":\"H4sIAAEAAAAC/x3PWyjDYRgG8H9aMylRitRcuRiRKcmVGGnNLCynJQ2RrKTJNjRbc2jDsnLaDRYuHKLNki0UrhxW1rA2N5baHJai5pAL6Xmvfj3v93xf78cwDEvaoREwzPnXeicsrRL3QP4huxfytvlDsCmQo4XyDyV54tkdgVZtUAeLcxsnYKjWZ4TMcpsZ2sQPs/DZbZ+j9wo8JF+UOg8twkdSU7ayROdrsRXqZ4s2oXGrcAdyVEHS667Zo32Gt51w42z0irJ5xgPtsjEv/YO7cEcmqcNQ7z94gsmKolcolEujpEPzRvedkRj1VP2f0BV3/w1/jieZQcy1DYnwJI+dAgO3rDTKkoQMaGOimbDU95sFhTcOHuVTcQnl5upy2Offr4DvxeuVkP8iFcMfm6EOyv+OSN6yrAW66hWtsJsTaYf2a4mSelHdAGm4UNEe+kU1TO/iaihPWYegNW11nHI43wRDx/HTNDddWgYF/8pcj3IAAgAA\"},\"shape\":[64],\"dtype\":\"float64\",\"order\":\"little\"}],[\"size\",{\"type\":\"ndarray\",\"array\":{\"type\":\"bytes\",\"data\":\"H4sIAAEAAAAC/wEAAv/9cVGxWi5VeD+HkVZjpkB4vzzVpW9nmXQ/tRPrdQeIdL8LVTkGx9lyPxzm9IrhyXK/1Ep8Sb5tcT/SFjojCF9xv8sy/ly4nHA/2siWYbOOcL/mwP4t+YZvP8iqEKhhbG+/hqJIEBGrbT93nZExDJJtvyw+T02TY2w/B/11PKBLbL+taSCOXNRqPwWT0be7vWq/zzVImNSWaz8vBuZTjX9rv2cHv4GHcXA/S6kRG6hjcL+YW3OqKYduP18bGuRobW6/gaFgKT9naj8nDLGX+VBqv0zML1qy8GY/CWulCFfdZr/ZjUZXTBlmPzOv+o6nBma/av4UngImYT+zlE01ihdhv/chsdXM918//xHArNTcX79jegQv4W1hP6ci9LctX2G/waYxzp1oYD933Rl1xlpgvz5ZlIbYaGI/KeRSrlNZYr/X5e85C9ZjPwGhFv9OxWO/GOCr64r4Yj9s1nSYiuhiv4xYmzGSXmA/WgBLlcVQYL+UiRnpXopfP3ZzK2PHb1+/3c+tAHTSWj+pQPvLzbtav1XNgyZPels/5X+wWx1jW7+cMcwJ2uRgP1/96VCX1mC/NsP0WlwlYD9lL8Kxuhdgv+WZ2d/AgVw/kHZxVbhpXL8rNuZ1xCFbP2UAh9TdClu/FrsBjz21WT8RVTpQjp9Zv4JbsZ7etVk/ffXpXy+gWb+4EuvUAAIAAA==\"},\"shape\":[64],\"dtype\":\"float64\",\"order\":\"little\"}],[\"returns_positive\",{\"type\":\"ndarray\",\"array\":[\"1\",\"0\",\"0\",\"0\",\"1\",\"0\",\"0\",\"0\",\"0\",\"0\",\"0\",\"0\",\"1\",\"0\",\"0\",\"0\",\"0\",\"1\",\"0\",\"1\",\"0\",\"0\",\"0\",\"0\",\"1\",\"0\",\"0\",\"0\",\"1\",\"0\",\"0\",\"0\",\"0\",\"1\",\"0\",\"0\",\"1\",\"1\",\"1\",\"1\",\"0\",\"0\",\"1\",\"0\",\"1\",\"0\",\"0\",\"0\",\"1\",\"1\",\"0\",\"1\",\"0\",\"0\",\"1\",\"0\",\"0\",\"0\",\"0\",\"0\",\"1\",\"1\",\"0\",\"1\"],\"shape\":[64],\"dtype\":\"object\",\"order\":\"little\"}],[\"returns\",{\"type\":\"ndarray\",\"array\":{\"type\":\"bytes\",\"data\":\"H4sIAAEAAAAC/wEAAv/901qzF5Sd1j+FTBDhTUa1v2/DhVKQLaq/cFbUUPexpr//kq/76qnDP4/Jlnb4EaS/dXD532oimb8mVmh8+o+Yv+gAU6CSDLC/pLY+ys3Wmr/Fl7Xhmx20v2fKtsT+G5+/iNYBKUgtwD+eScM8oZCWv+L+o7lgb5C/loTgb1HrnL91bhpJBWqfv/rsgwn6lYw/U/Xhq4j6l78whl/THmy2PzMrEawSwYu/fSM77yQMo79YaPdpNYWQv9v0+XCdjLK/ppnWVtn/3T+lm9fiFvixv8OBtMLk3ae/oXTZaqMhk7/z5AvNhCbcP/S/oFH8JcC/5TJ9R/iesb+DrMaMDP+hv0kcfzNXQJK/HWl32rokpj9kP6UM4WOWvwToRRtq4p6/qmrpU5sBoD+hoqUIdGutPyxGD0rXbng/efCDFZ4Yoz9UK5Ak4r2cv7CLpToi1Za/WGKyC62tRD8Qf8NGvtiyv0EcfkSRWd8/uZZa8DwXk78JKsE19sCxv97xifs0s7S/ztb7fzZYgj+kW4sx0bqIP8AMm5y6Y5y/OyTsYa1cuj98GQP+P1Gjv6utay8SL5e/VIiOoq0NzD+tOdMwmOCvvy8I1Uh6F6a/hYbC/qVOmb8cWbsN3pabvyLpOJpjmJu/yXLYGZTYuD+ABKEerc4IP6cWHCRlbp2/QlFgDHornD+G7//4AAIAAA==\"},\"shape\":[64],\"dtype\":\"float64\",\"order\":\"little\"}],[\"marker_size\",{\"type\":\"ndarray\",\"array\":{\"type\":\"bytes\",\"data\":\"H4sIAAEAAAAC/wEAAv/9AAAAAAAANEBSxCK9QfIzQJrSFcc3gDFAAnluX5Z0MUBU1A5rlVQwQNLMCF/xSTBAhYU9VM/BLkAYtZlTHa4uQCxF0Oz5qS1A8NHTGzWXLUBSkH6hJocsQOByJchZdSxAgpCKIJZIK0AOuszO1jcrQDpfdnJebSpA9wp0aFZdKkBeIlM2JGIpQLIy/JP+UilA1Met3VDkKUD2eYDTu9QpQOD1a1oncC1AcbVc2ZRdLUA4GnxR6tsrQMRE7TetyitAaJqeCRoZKUAi1jB/MQopQM5IY7eoxyZAUNg6tLO6JkDd60SFeTcmQCzS7rH+KiZAfjVHCiznIkCT2+VdfN0iQD2E2SyfHyJAuAs5aJgWIkB42kzARxcjQFtG+otwDSNAZ5CnEWVoIkB87B01IV8iQGaKhelFvyNAflZnjeK0I0AQEyseu7MkQI7DWlKHqCRA9YOTJXYfJEB0M5QhwBQkQKrYKqyrYSJAJYWe/25YIkDDUoki//ohQArE3LUY8iFAgH6dUbdmIECRsnK0Il8gQGnunmzlniBA4JeFFyKXIEB50JNSjrsiQI4IJZYCsiJAZnd6+l87IkB6ZeMNQDIiQNa9q6MR9yBATkOtbgbvIEB48LEPQ4EgQFYzj+KYeSBAVq9J9UEHIEAAAAAAAAAgQFWKNd13ByBA/9rr5zUAIECRbGeuAAIAAA==\"},\"shape\":[64],\"dtype\":\"float64\",\"order\":\"little\"}],[\"count\",{\"type\":\"ndarray\",\"array\":{\"type\":\"bytes\",\"data\":\"H4sIAAEAAAAC/2NkYGBgHMEYAJ3gnWEAAQAA\"},\"shape\":[64],\"dtype\":\"int32\",\"order\":\"little\"}],[\"lines\",[[165.0,376.0],[376.0,419.0],[419.0,506.0],[506.0,576.0],[576.0,802.0],[802.0,858.0],[858.0,863.0],[863.0,886.0],[886.0,908.0],[908.0,1029.0],[1029.0,1075.0],[1075.0,1160.0],[1160.0,1281.0],[1281.0,1296.0],[1296.0,1298.0],[1298.0,1304.0],[1304.0,1319.0],[1319.0,1463.0],[1463.0,1506.0],[1506.0,1680.0],[1680.0,1753.0],[1753.0,1765.0],[1765.0,1849.0],[1849.0,1874.0],[1874.0,2318.0],[2318.0,2338.0],[2338.0,2412.0],[2412.0,2506.0],[2506.0,2802.0],[2802.0,2844.0],[2844.0,2891.0],[2891.0,2911.0],[2911.0,2951.0],[2951.0,3090.0],[3090.0,3100.0],[3100.0,3145.0],[3145.0,3307.0],[3307.0,3508.0],[3508.0,3614.0],[3614.0,3726.0],[3726.0,3782.0],[3782.0,3873.0],[3873.0,3986.0],[3986.0,4055.0],[4055.0,4458.0],[4458.0,4551.0],[4551.0,4578.0],[4578.0,4614.0],[4614.0,4720.0],[4720.0,4835.0],[4835.0,4839.0],[4839.0,5015.0],[5015.0,5054.0],[5054.0,5137.0],[5137.0,5425.0],[5425.0,5484.0],[5484.0,5508.0],[5508.0,5523.0],[5523.0,5533.0],[5533.0,5579.0],[5579.0,5785.0],[5785.0,5851.0],[5851.0,5904.0],[5904.0,5993.0]]],[\"triangles\",{\"type\":\"ndarray\",\"array\":[\"triangle\",\"inverted_triangle\",\"triangle\",\"inverted_triangle\",\"triangle\",\"inverted_triangle\",\"triangle\",\"inverted_triangle\",\"triangle\",\"inverted_triangle\",\"triangle\",\"inverted_triangle\",\"triangle\",\"inverted_triangle\",\"triangle\",\"inverted_triangle\",\"triangle\",\"inverted_triangle\",\"triangle\",\"inverted_triangle\",\"triangle\",\"inverted_triangle\",\"triangle\",\"inverted_triangle\",\"triangle\",\"inverted_triangle\",\"triangle\",\"inverted_triangle\",\"triangle\",\"inverted_triangle\",\"triangle\",\"inverted_triangle\",\"triangle\",\"inverted_triangle\",\"triangle\",\"inverted_triangle\",\"triangle\",\"inverted_triangle\",\"triangle\",\"inverted_triangle\",\"triangle\",\"inverted_triangle\",\"triangle\",\"inverted_triangle\",\"triangle\",\"inverted_triangle\",\"triangle\",\"inverted_triangle\",\"triangle\",\"inverted_triangle\",\"triangle\",\"inverted_triangle\",\"triangle\",\"inverted_triangle\",\"triangle\",\"inverted_triangle\",\"triangle\",\"inverted_triangle\",\"triangle\",\"inverted_triangle\",\"triangle\",\"inverted_triangle\",\"triangle\",\"inverted_triangle\"],\"shape\":[64],\"dtype\":\"object\",\"order\":\"little\"}],[\"position_lines_xs\",[[165.0,376.0],[376.0,419.0],[419.0,506.0],[506.0,576.0],[576.0,802.0],[802.0,858.0],[858.0,863.0],[863.0,886.0],[886.0,908.0],[908.0,1029.0],[1029.0,1075.0],[1075.0,1160.0],[1160.0,1281.0],[1281.0,1296.0],[1296.0,1298.0],[1298.0,1304.0],[1304.0,1319.0],[1319.0,1463.0],[1463.0,1506.0],[1506.0,1680.0],[1680.0,1753.0],[1753.0,1765.0],[1765.0,1849.0],[1849.0,1874.0],[1874.0,2318.0],[2318.0,2338.0],[2338.0,2412.0],[2412.0,2506.0],[2506.0,2802.0],[2802.0,2844.0],[2844.0,2891.0],[2891.0,2911.0],[2911.0,2951.0],[2951.0,3090.0],[3090.0,3100.0],[3100.0,3145.0],[3145.0,3307.0],[3307.0,3508.0],[3508.0,3614.0],[3614.0,3726.0],[3726.0,3782.0],[3782.0,3873.0],[3873.0,3986.0],[3986.0,4055.0],[4055.0,4458.0],[4458.0,4551.0],[4551.0,4578.0],[4578.0,4614.0],[4614.0,4720.0],[4720.0,4835.0],[4835.0,4839.0],[4839.0,5015.0],[5015.0,5054.0],[5054.0,5137.0],[5137.0,5425.0],[5425.0,5484.0],[5484.0,5508.0],[5508.0,5523.0],[5523.0,5533.0],[5533.0,5579.0],[5579.0,5785.0],[5785.0,5851.0],[5851.0,5904.0],[5904.0,5993.0]]],[\"position_lines_ys\",[[16803.039399999998,22812.0],[22805.156400000003,24615.0],[24622.3845,23450.0],[23442.965,24396.0],[24403.3188,28247.0],[28238.5259,29242.0],[29250.772599999997,28636.999999999996],[28628.4089,29211.0],[29219.763299999995,27490.0],[27481.753,28102.0],[28110.430599999996,25998.999999999996],[25991.200299999997,26686.0],[26694.0058,30170.0],[30160.949000000004,30716.0],[30725.214799999998,30342.0],[30332.8974,31079.0],[31088.3237,30245.0],[30235.9265,29706.000000000004],[29714.9118,29125.0],[29116.2625,26466.0],[26473.939799999996,26210.000000000004],[26202.137000000002,27081.0],[27089.1243,26749.0],[26740.9753,28579.0],[28587.573699999997,42115.0],[42102.3655,44901.0],[44914.4703,42979.0],[42966.1063,43613.0],[43626.0839,63007.0],[62988.09790000001,70694.0],[70715.2082,66094.0],[66074.17180000001,68155.0],[68175.4465,67204.0],[67183.83880000001,64042.00000000001],[64061.212600000006,62889.0],[62870.1333,64537.0],[64556.361099999995,66811.0],[66790.9567,62720.00000000001],[62738.816,63340.0],[63320.998,60736.0],[60754.2208,59265.0],[59247.2205,60353.0],[60371.1059,60627.0],[60608.8119,64844.99999999999],[64864.45349999999,96929.0],[96899.9213,98354.99999999999],[98384.50649999999,91904.0],[91876.4288,98962.0],[98991.68860000001,100237.0],[100206.92890000001,98639.0],[98668.59169999999,96284.0],[96255.11480000001,86015.0],[86040.8045,83099.0],[83074.07029999999,84653.0],[84678.3959,103575.99999999999],[103544.92719999999,109607.99999999999],[109640.88239999999,105297.0],[105265.4109,107484.0],[107516.2452,105002.0],[104970.4994,107416.99999999999],[107449.22509999998,118284.00000000001],[118248.5148,117818.0],[117853.34539999999,114885.0],[114850.53450000001,111283.99999999999]]]]}}},\"view\":{\"type\":\"object\",\"name\":\"CDSView\",\"id\":\"p1594\",\"attributes\":{\"filter\":{\"type\":\"object\",\"name\":\"AllIndices\",\"id\":\"p1595\"}}},\"glyph\":{\"type\":\"object\",\"name\":\"Scatter\",\"id\":\"p1590\",\"attributes\":{\"x\":{\"type\":\"field\",\"field\":\"index\"},\"y\":{\"type\":\"field\",\"field\":\"returns\"},\"size\":{\"type\":\"field\",\"field\":\"marker_size\"},\"fill_color\":{\"type\":\"field\",\"field\":\"returns_positive\",\"transform\":{\"type\":\"object\",\"name\":\"CategoricalColorMapper\",\"id\":\"p1436\",\"attributes\":{\"palette\":[\"tomato\",\"lime\"],\"factors\":[\"0\",\"1\"]}}},\"marker\":{\"type\":\"field\",\"field\":\"triangles\"}}},\"nonselection_glyph\":{\"type\":\"object\",\"name\":\"Scatter\",\"id\":\"p1591\",\"attributes\":{\"x\":{\"type\":\"field\",\"field\":\"index\"},\"y\":{\"type\":\"field\",\"field\":\"returns\"},\"size\":{\"type\":\"field\",\"field\":\"marker_size\"},\"line_alpha\":{\"type\":\"value\",\"value\":0.1},\"fill_color\":{\"type\":\"field\",\"field\":\"returns_positive\",\"transform\":{\"id\":\"p1436\"}},\"fill_alpha\":{\"type\":\"value\",\"value\":0.1},\"hatch_alpha\":{\"type\":\"value\",\"value\":0.1},\"marker\":{\"type\":\"field\",\"field\":\"triangles\"}}},\"muted_glyph\":{\"type\":\"object\",\"name\":\"Scatter\",\"id\":\"p1592\",\"attributes\":{\"x\":{\"type\":\"field\",\"field\":\"index\"},\"y\":{\"type\":\"field\",\"field\":\"returns\"},\"size\":{\"type\":\"field\",\"field\":\"marker_size\"},\"line_alpha\":{\"type\":\"value\",\"value\":0.2},\"fill_color\":{\"type\":\"field\",\"field\":\"returns_positive\",\"transform\":{\"id\":\"p1436\"}},\"fill_alpha\":{\"type\":\"value\",\"value\":0.2},\"hatch_alpha\":{\"type\":\"value\",\"value\":0.2},\"marker\":{\"type\":\"field\",\"field\":\"triangles\"}}}}}],\"tooltips\":[[\"Date\",\"@datetime{%c}\"],[\"Size\",\"@size{0,0}\"],[\"Count\",\"@count{0,0}\"],[\"P/L\",\"@returns{+0.[000]%}\"]],\"formatters\":{\"type\":\"map\",\"entries\":[[\"@datetime\",\"datetime\"]]},\"sort_by\":null,\"point_policy\":\"follow_mouse\"}}]}},{\"type\":\"object\",\"name\":\"ToolProxy\",\"id\":\"p1733\",\"attributes\":{\"tools\":[{\"type\":\"object\",\"name\":\"HoverTool\",\"id\":\"p1718\",\"attributes\":{\"renderers\":[{\"type\":\"object\",\"name\":\"GlyphRenderer\",\"id\":\"p1684\",\"attributes\":{\"data_source\":{\"id\":\"p1429\"},\"view\":{\"type\":\"object\",\"name\":\"CDSView\",\"id\":\"p1685\",\"attributes\":{\"filter\":{\"type\":\"object\",\"name\":\"AllIndices\",\"id\":\"p1686\"}}},\"glyph\":{\"type\":\"object\",\"name\":\"VBar\",\"id\":\"p1681\",\"attributes\":{\"x\":{\"type\":\"field\",\"field\":\"index\"},\"width\":{\"type\":\"value\",\"value\":0.8},\"bottom\":{\"type\":\"field\",\"field\":\"Close\"},\"top\":{\"type\":\"field\",\"field\":\"Open\"},\"fill_color\":{\"type\":\"field\",\"field\":\"inc\",\"transform\":{\"type\":\"object\",\"name\":\"CategoricalColorMapper\",\"id\":\"p1435\",\"attributes\":{\"palette\":[\"tomato\",\"lime\"],\"factors\":[\"0\",\"1\"]}}}}},\"nonselection_glyph\":{\"type\":\"object\",\"name\":\"VBar\",\"id\":\"p1682\",\"attributes\":{\"x\":{\"type\":\"field\",\"field\":\"index\"},\"width\":{\"type\":\"value\",\"value\":0.8},\"bottom\":{\"type\":\"field\",\"field\":\"Close\"},\"top\":{\"type\":\"field\",\"field\":\"Open\"},\"line_alpha\":{\"type\":\"value\",\"value\":0.1},\"fill_color\":{\"type\":\"field\",\"field\":\"inc\",\"transform\":{\"id\":\"p1435\"}},\"fill_alpha\":{\"type\":\"value\",\"value\":0.1},\"hatch_alpha\":{\"type\":\"value\",\"value\":0.1}}},\"muted_glyph\":{\"type\":\"object\",\"name\":\"VBar\",\"id\":\"p1683\",\"attributes\":{\"x\":{\"type\":\"field\",\"field\":\"index\"},\"width\":{\"type\":\"value\",\"value\":0.8},\"bottom\":{\"type\":\"field\",\"field\":\"Close\"},\"top\":{\"type\":\"field\",\"field\":\"Open\"},\"line_alpha\":{\"type\":\"value\",\"value\":0.2},\"fill_color\":{\"type\":\"field\",\"field\":\"inc\",\"transform\":{\"id\":\"p1435\"}},\"fill_alpha\":{\"type\":\"value\",\"value\":0.2},\"hatch_alpha\":{\"type\":\"value\",\"value\":0.2}}}}}],\"tooltips\":[[\"Date\",\"@datetime{%c}\"],[\"x, y\",\"$index\\u00a0\\u00a0\\u00a0\\u00a0$y{0,0.0[0000]}\"],[\"OHLC\",\"@Open{0,0.0[0000]}\\u00a0\\u00a0\\u00a0\\u00a0@High{0,0.0[0000]}\\u00a0\\u00a0\\u00a0\\u00a0@Low{0,0.0[0000]}\\u00a0\\u00a0\\u00a0\\u00a0@Close{0,0.0[0000]}\"],[\"Volume\",\"@Volume{0,0}\"],[\"EMA_71\",\"@{EMA_71_0_0}{0,0.0[0000]}\"],[\"SMA_473\",\"@{SMA_473_1_0}{0,0.0[0000]}\"]],\"formatters\":{\"type\":\"map\",\"entries\":[[\"@datetime\",\"datetime\"]]},\"sort_by\":null,\"mode\":\"vline\",\"point_policy\":\"follow_mouse\"}}]}},{\"type\":\"object\",\"name\":\"ToolProxy\",\"id\":\"p1734\",\"attributes\":{\"tools\":[{\"type\":\"object\",\"name\":\"HoverTool\",\"id\":\"p1643\",\"attributes\":{\"renderers\":[{\"type\":\"object\",\"name\":\"GlyphRenderer\",\"id\":\"p1640\",\"attributes\":{\"data_source\":{\"id\":\"p1429\"},\"view\":{\"type\":\"object\",\"name\":\"CDSView\",\"id\":\"p1641\",\"attributes\":{\"filter\":{\"type\":\"object\",\"name\":\"AllIndices\",\"id\":\"p1642\"}}},\"glyph\":{\"type\":\"object\",\"name\":\"VBar\",\"id\":\"p1637\",\"attributes\":{\"x\":{\"type\":\"field\",\"field\":\"index\"},\"width\":{\"type\":\"value\",\"value\":0.8},\"top\":{\"type\":\"field\",\"field\":\"Volume\"},\"line_color\":{\"type\":\"field\",\"field\":\"inc\",\"transform\":{\"id\":\"p1435\"}},\"fill_color\":{\"type\":\"field\",\"field\":\"inc\",\"transform\":{\"id\":\"p1435\"}},\"hatch_color\":{\"type\":\"field\",\"field\":\"inc\",\"transform\":{\"id\":\"p1435\"}}}},\"nonselection_glyph\":{\"type\":\"object\",\"name\":\"VBar\",\"id\":\"p1638\",\"attributes\":{\"x\":{\"type\":\"field\",\"field\":\"index\"},\"width\":{\"type\":\"value\",\"value\":0.8},\"top\":{\"type\":\"field\",\"field\":\"Volume\"},\"line_color\":{\"type\":\"field\",\"field\":\"inc\",\"transform\":{\"id\":\"p1435\"}},\"line_alpha\":{\"type\":\"value\",\"value\":0.1},\"fill_color\":{\"type\":\"field\",\"field\":\"inc\",\"transform\":{\"id\":\"p1435\"}},\"fill_alpha\":{\"type\":\"value\",\"value\":0.1},\"hatch_color\":{\"type\":\"field\",\"field\":\"inc\",\"transform\":{\"id\":\"p1435\"}},\"hatch_alpha\":{\"type\":\"value\",\"value\":0.1}}},\"muted_glyph\":{\"type\":\"object\",\"name\":\"VBar\",\"id\":\"p1639\",\"attributes\":{\"x\":{\"type\":\"field\",\"field\":\"index\"},\"width\":{\"type\":\"value\",\"value\":0.8},\"top\":{\"type\":\"field\",\"field\":\"Volume\"},\"line_color\":{\"type\":\"field\",\"field\":\"inc\",\"transform\":{\"id\":\"p1435\"}},\"line_alpha\":{\"type\":\"value\",\"value\":0.2},\"fill_color\":{\"type\":\"field\",\"field\":\"inc\",\"transform\":{\"id\":\"p1435\"}},\"fill_alpha\":{\"type\":\"value\",\"value\":0.2},\"hatch_color\":{\"type\":\"field\",\"field\":\"inc\",\"transform\":{\"id\":\"p1435\"}},\"hatch_alpha\":{\"type\":\"value\",\"value\":0.2}}}}}],\"tooltips\":[[\"Date\",\"@datetime{%c}\"],[\"Volume\",\"@Volume{0.00 a}\"]],\"formatters\":{\"type\":\"map\",\"entries\":[[\"@datetime\",\"datetime\"]]},\"sort_by\":null,\"mode\":\"vline\",\"point_policy\":\"follow_mouse\"}}]}},{\"type\":\"object\",\"name\":\"ToolProxy\",\"id\":\"p1735\",\"attributes\":{\"tools\":[{\"type\":\"object\",\"name\":\"CrosshairTool\",\"id\":\"p1722\",\"attributes\":{\"overlay\":[{\"type\":\"object\",\"name\":\"Span\",\"id\":\"p1720\",\"attributes\":{\"line_dash\":[2,4]}},{\"type\":\"object\",\"name\":\"Span\",\"id\":\"p1721\",\"attributes\":{\"dimension\":\"height\",\"line_dash\":[2,4]}}],\"line_color\":\"lightgrey\"}},{\"id\":\"p1722\"},{\"id\":\"p1722\"},{\"id\":\"p1722\"}]}}],\"logo\":null,\"active_drag\":{\"id\":\"p1723\"},\"active_scroll\":{\"id\":\"p1724\"}}},\"toolbar_location\":\"right\",\"children\":[[{\"type\":\"object\",\"name\":\"Figure\",\"id\":\"p1440\",\"attributes\":{\"width\":null,\"height\":100,\"sizing_mode\":\"stretch_width\",\"x_range\":{\"type\":\"object\",\"name\":\"Range1d\",\"id\":\"p1392\",\"attributes\":{\"js_property_callbacks\":{\"type\":\"map\",\"entries\":[[\"change:end\",[{\"type\":\"object\",\"name\":\"CustomJS\",\"id\":\"p1719\",\"attributes\":{\"args\":{\"type\":\"map\",\"entries\":[[\"ohlc_range\",{\"type\":\"object\",\"name\":\"DataRange1d\",\"id\":\"p1395\"}],[\"source\",{\"id\":\"p1429\"}],[\"volume_range\",{\"type\":\"object\",\"name\":\"DataRange1d\",\"id\":\"p1600\"}]]},\"code\":\"if (!window._bt_scale_range) {\\n    window._bt_scale_range = function (range, min, max, pad) {\\n        \\\"use strict\\\";\\n        if (min !== Infinity && max !== -Infinity) {\\n            pad = pad ? (max - min) * .03 : 0;\\n            range.start = min - pad;\\n            range.end = max + pad;\\n        } else console.error('backtesting: scale range error:', min, max, range);\\n    };\\n}\\n\\nclearTimeout(window._bt_autoscale_timeout);\\n\\nwindow._bt_autoscale_timeout = setTimeout(function () {\\n    /**\\n     * @variable cb_obj `fig_ohlc.x_range`.\\n     * @variable source `ColumnDataSource`\\n     * @variable ohlc_range `fig_ohlc.y_range`.\\n     * @variable volume_range `fig_volume.y_range`.\\n     */\\n    \\\"use strict\\\";\\n\\n    let i = Math.max(Math.floor(cb_obj.start), 0),\\n        j = Math.min(Math.ceil(cb_obj.end), source.data['ohlc_high'].length);\\n\\n    let max = Math.max.apply(null, source.data['ohlc_high'].slice(i, j)),\\n        min = Math.min.apply(null, source.data['ohlc_low'].slice(i, j));\\n    _bt_scale_range(ohlc_range, min, max, true);\\n\\n    if (volume_range) {\\n        max = Math.max.apply(null, source.data['Volume'].slice(i, j));\\n        _bt_scale_range(volume_range, 0, max * 1.03, false);\\n    }\\n\\n}, 50);\\n\"}}]]]},\"end\":5993,\"bounds\":[-299.65,6292.65],\"min_interval\":10}},\"y_range\":{\"type\":\"object\",\"name\":\"DataRange1d\",\"id\":\"p1442\"},\"x_scale\":{\"type\":\"object\",\"name\":\"LinearScale\",\"id\":\"p1449\"},\"y_scale\":{\"type\":\"object\",\"name\":\"LinearScale\",\"id\":\"p1450\"},\"title\":{\"type\":\"object\",\"name\":\"Title\",\"id\":\"p1447\"},\"outline_line_color\":\"#666666\",\"renderers\":[{\"type\":\"object\",\"name\":\"GlyphRenderer\",\"id\":\"p1485\",\"attributes\":{\"data_source\":{\"type\":\"object\",\"name\":\"ColumnDataSource\",\"id\":\"p1476\",\"attributes\":{\"selected\":{\"type\":\"object\",\"name\":\"Selection\",\"id\":\"p1477\",\"attributes\":{\"indices\":[],\"line_indices\":[]}},\"selection_policy\":{\"type\":\"object\",\"name\":\"UnionRenderers\",\"id\":\"p1478\"},\"data\":{\"type\":\"map\",\"entries\":[[\"index\",{\"type\":\"ndarray\",\"array\":{\"type\":\"bytes\",\"data\":\"H4sIAAEAAAAC/yzdYbiO5bo14F2SJEmSJEmSJEmSJEmSJEmSJEmSJEmSJEmSJEmSJEmSJEmSJEmSJEmSJEmSJEmSJMt3Or7x4/yzj73WKuZ83+e57+sa4//+7//+7wAOpAAHUZCDKcQhFOZQinAYRTmcYhxBcY6kBEdRkqMpxTGU5ljKcBxlOZ5ynEB5TqQCJ1GRk6nEKVTmVKpwGlU5nWqcQXXOpAZnUZOzqcU51OZc6nAedTmfelxAfS6kARfRkItpxCU05lKacBlNuZxmXEFzrqQFV9GSq2nFNbTmWtpwHW25nnbcQHtupAM30ZGb6cQtdOZWunAbXbmdbtxBd+6kB3fRk7vpxT305l76cB99uZ9+PEB/HmQADzGQhxnEIwzmUYbwGEN5nGE8wXCeZARPMZKnGcUzjOZZxvAcY3mecbzAeF5kAi8xkZeZxCtM5lWm8BpTeZ1pvMF03mQGbzGTt5nFO8zmXebwHnN5n3l8wHw+ZAEfsZCPWcQnLOZTlvAZS/mcZXzBcr5kBV+xkq9ZxTes5lvW8B1r+Z51/MB6fmQDP7GRn9nEL2zmV7bwG1v5nW38wXb+ZAd/sZO/2cU/7OZf9vAfe/kf+/7v///yH8CBFOAgCnIwhTiEwhxKEQ6jKIdTjCMozpGU4ChKcjSlOIbSHEsZjqMsx1OOEyjPiVTgJCpyMpU4hcqcShVOoyqnU40zqM6Z1OAsanI2tTiH2pxLHc6jLudTjwuoz4U04CIacjGNuITGXEoTLqMpl9OMK2jOlbTgKlpyNa24htZcSxuuoy3X044baM+NdOAmOnIznbiFztxKF26jK7fTjTvozp304C56cje9uIfe3Esf7qMv99OPB+jPgwzgIQbyMIN4hME8yhAeYyiPM4wnGM6TjOApRvI0o3iG0TzLGJ5jLM8zjhcYz4tM4CUm8jKTeIXJvMoUXmMqrzONN5jOm8zgLWbyNrN4h9m8yxzeYy7vM48PmM+HLOAjFvIxi/iExXzKEj5jKZ+zjC9Yzpes4CtW8jWr+IbVfMsavmMt37OOH1jPj2zgJzbyM5v4hc38yhZ+Yyu/s40/2M6f7OAvdvI3u/iH3fzLHv5jL/9jX774D+BACnAQBTmYQhxCYQ6lCIdRlMMpxhEU50hKcBQlOZpSHENpjqUMx1GW4ynHCZTnRCpwEhU5mUqcQmVOpQqnUZXTqcYZVOdManAWNTmbWpxDbc6lDudRl/OpxwXU50IacBENuZhGXEJjLqUJl9GUy2nGFTTnSlpwFS25mlZcQ2uupQ3X0ZbraccNtOdGOnATHbmZTtxCZ26lC7fRldvpxh105056cBc9uZte3ENv7qUP99GX++nHA/TnQQbwEAN5mEE8wmAeZQiPMZTHGcYTDOdJRvAUI3maUTzDaJ5lDM8xlucZxwuM50Um8BITeZlJvMJkXmUKrzGV15nGG0znTWbwFjN5m1m8w2zeZQ7vMZf3mccHzOdDFvARC/mYRXzCYj5lCZ+xlM9Zxhcs50tW8BUr+ZpVfMNqvmUN37GW71nHD6znRzbwExv5mU38wmZ+ZQu/sZXf2cYfbOdPdvAXO/mbXfzDbv5lD/+xl/+xLw/9B3AgBTiIghxMIQ6hMIdShMMoyuEU4wiKcyQlOIqSHE0pjqE0x1KG4yjL8ZTjBMpzIhU4iYqcTCVOoTKnUoXTqMrpVOMMqnMmNTiLmpxNLc6hNudSh/Ooy/nU4wLqcyENuIiGXEwjLqExl9KEy2jK5TTjCppzJS24ipZcTSuuoTXX0obraMv1tOMG2nMjHbiJjtxMJ26hM7fShdvoyu104w66cyc9uIue3E0v7qE399KH++jL/fTjAfrzIAN4iIE8zCAeYTCPMoTHGMrjDOMJhvMkI3iKkTzNKJ5hNM8yhucYy/OM4wXG8yITeImJvMwkXmEyrzKF15jK60zjDabzJjN4i5m8zSzeYTbvMof3mMv7zOMD5vMhC/iIhXzMIj5hMZ+yhM9Yyucs4wuW8yUr+IqVfM0qvmE137KG71jL96zjB9bzIxv4iY38zCZ+YTO/soXf2MrvbOMPtvMnO/iLnfzNLv5hN/+yh//Yy//Ylxf+AziQAhxEQQ6mEIdQmEMpwmEU5XCKcQTFOZISHEVJjqYUx1CaYynDcZTleMpxAuU5kQqcREVOphKnUJlTqcJpVOV0qnEG1TmTGpxFTc6mFudQm3Opw3nU5XzqcQH1uZAGXERDLqYRl9CYS2nCZTTlcppxBc25khZcRUuuphXX0JpracN1tOV62nED7bmRDtxER26mE7fQmVvpwm105Xa6cQfduZMe3EVP7qYX99Cbe+nDffTlfvrxAP15kAE8xEAeZhCPMJhHGcJjDOVxhvEEw3mSETzFSJ5mFM8wmmcZw3OM5XnG8QLjeZEJvMREXmYSrzCZV5nCa0zldabxBtN5kxm8xUzeZhbvMJt3mcN7zOV95vEB8/mQBXzEQj5mEZ+wmE9Zwmcs5XOW8QXL+ZIVfMVKvmYV37Cab1nDd6zle9bxA+v5kQ38xEZ+ZhO/sJlf2cJvbOV3tvEH2/mTHfzFTv5mF/+wm3/Zw3/s5X/sy2HfARxIAQ6iIAdTiEMozKEU4TCKcjjFOILiHEkJjqIkR1OKYyjNsZThOMpyPOU4gfKcSAVOoiInU4lTqMypVOE0qnI61TiD6pxJDc6iJmdTi3OozbnU4Tzqcj71uID6XEgDLqIhF9OIS2jMpTThMppyOc24guZcSQuuoiVX04praM21tOE62nI97biB9txIB26iIzfTiVvozK104Ta6cjvduIPu3EkP7qInd9OLe+jNvfThPvpyP/14gP48yAAeYiAPM4hHGMyjDOExhvI4w3iC4TzJCJ5iJE8zimcYzbOM4TnG8jzjeIHxvMgEXmIiLzOJV5jMq0zhNabyOtN4g+m8yQzeYiZvM4t3mM27zOE95vI+8/iA+XzIAj5iIR+ziE9YzKcs4TOW8jnL+ILlfMkKvmIlX7OKb1jNt6zhO9byPev4gfX8yAZ+YiM/s4lf2MyvbOE3tvI72/iD7fzJDv5iJ3+zi3/Yzb/s4T/28j/25aD/AA6kAAdRkIMpxCEU5lCKcBhFOZxiHEFxjqQER1GSoynFMZTmWMpwHGU5nnKcQHlOpAInUZGTqcQpVOZUqnAaVTmdapxBdc6kBmdRk7OpxTnU5lzqcB51OZ96XEB9LqQBF9GQi2nEJTTmUppwGU25nGZcQXOupAVX0ZKracU1tOZa2nAdbbmedtxAe26kAzfRkZvpxC105la6cBtduZ1u3EF37qQHd9GTu+nFPfTmXvpwH325n348QH8eZAAPMZCHGcQjDOZRhvAYQ3mcYTzBcJ5kBE8xkqcZxTOM5lnG8BxjeZ5xvMB4XmQCLzGRl5nEK0zmVabwGlN5nWm8wXTeZAZvMZO3mcU7zOZd5vAec3mfeXzAfD5kAR+xkI9ZxCcs5lOW8BlL+ZxlfMFyvmQFX7GSr1nFN6zmW9bwHWv5nnX8wHp+ZAM/sZGf2cQvbOZXtvAbW/mdbfzBdv5kB3+xk7/ZxT/s5l/28B97+R/7csl3AAdSgIMoyMEU4hAKcyhFOIyiHE4xjqA4R1KCoyjJ0ZTiGEpzLGU4jrIcTzlOoDwnUoGTqMjJVOIUKnMqVTiNqpxONc6gOmdSg7OoydnU4hxqcy51OI+6nE89LqA+F9KAi2jIxTTiEhpzKU24jKZcTjOuoDlX0oKraMnVtOIaWnMtbbiOtlxPO26gPTfSgZvoyM104hY6cytduI2u3E437qA7d9KDu+jJ3fTiHnpzL324j77cTz8eoD8PMoCHGMjDDOIRBvMoQ3iMoTzOMJ5gOE8ygqcYydOM4hlG8yxjeI6xPM84XmA8LzKBl5jIy0ziFSbzKlN4jam8zjTeYDpvMoO3mMnbzOIdZvMuc3iPubzPPD5gPh+ygI9YyMcs4hMW8ylL+IylfM4yvmA5X7KCr1jJ16ziG1bzLWv4jrV8zzp+YD0/soGf2MjPbOIXNvMrW/iNrfzONv5gO3+yg7/Yyd/s4h928y97+I+9/I99ueA/gAMpwEEU5GAKcQiFOZQiHEZRDqcYR1CcIynBUZTkaEpxDKU5ljIcR1mOpxwnUJ4TqcBJVORkKnEKlTmVKpxGVU6nGmdQnTOpwVnU5GxqcQ61OZc6nEddzqceF1CfC2nARTTkYhpxCY25lCZcRlMupxlX0JwracFVtORqWnENrbmWNlxHW66nHTfQnhvpwE105GY6cQuduZUu3EZXbqcbd9CdO+nBXfTkbnpxD725lz7cR1/upx8P0J8HGcBDDORhBvEIg3mUITzGUB5nGE8wnCcZwVOM5GlG8QyjeZYxPMdYnmccLzCeF5nAS0zkZSbxCpN5lSm8xlReZxpvMJ03mcFbzORtZvEOs3mXObzHXN5nHh8wnw9ZwEcs5GMW8QmL+ZQlfMZSPmcZX7CcL1nBV6zka1bxDav5ljV8x1q+Zx0/sJ4f2cBPbORnNvELm/mVLfzGVn5nG3+wnT/ZwV/s5G928Q+7+Zc9/Mde/se+DPccwIEU4CAKcjCFOITCHEoRDqMoh1OMIyjOkZTgKEpyNKU4htIcSxmOoyzHU44TKM+JVOAkKnIylTiFypxKFU6jKqdTjTOozpnU4Cxqcja1OIfanEsdzqMu51OPC6jPhTTgIhpyMY24hMZcShMuoymX04wraM6VtOAqWnI1rbiG1lxLG66jLdfTjhtoz4104CY6cjOduIXO3EoXbqMrt9ONO+jOnfTgLnpyN724h97cSx/uoy/3048H6M+DDOAhBvIwg3iEwTzKEB5jKI8zjCcYzpOM4ClG8jSjeIbRPMsYnmMszzOOFxjPi0zgJSbyMpN4hcm8yhReYyqvM403mM6bzOAtZvI2s3iH2bzLHN5jLu8zjw+Yz4cs4CMW8jGL+ITFfMoSPmMpn7OML1jOl6zgK1byNav4htV8yxq+Yy3fs44fWM+PbOAnNvIzm/iFzfzKFn5jK7+zjT/Yzp/s4C928je7+Ifd/Mse/mMv/2NfBvsO4EAKcBAFOZhCHEJhDqUIh1GUwynGERTnSEpwFCU5mlIcQ2mOpQzHUZbjKccJlOdEKnASFTmZSpxCZU6lCqdRldOpxhlU50xqcBY1OZtanENtzqUO51GX86nHBdTnQhpwEQ25mEZcQmMupQmX0ZTLacYVNOdKWnAVLbmaVlxDa66lDdfRlutpxw2050Y6cBMduZlO3EJnbqULt9GV2+nGHXTnTnpwFz25m17cQ2/upQ/30Zf76ccD9OdBBvAQA3mYQTzCYB5lCI8xlMcZxhMM50lG8BQjeZpRPMNonmUMzzGW5xnHC4znRSbwEhN5mUm8wmReZQqvMZXXmcYbTOdNZvAWM3mbWbzDbN5lDu8xl/eZxwfM50MW8BEL+ZhFfMJiPmUJn7GUz1nGFyznS1bwFSv5mlV8w2q+ZQ3fsZbvWccPrOdHNvATG/mZTfzCZn5lC7+xld/Zxh9s50928Bc7+Ztd/MNu/mUP/7GX/7EvQ70HcCAFOIiCHEwhDqEwh1KEwyjK4RTjCIpzJCU4ipIcTSmOoTTHUobjKMvxlOMEynMiFTiJipxMJU6hMqdShdOoyulU4wyqcyY1OIuanE0tzqE251KH86jL+dTjAupzIQ24iIZcTCMuoTGX0oTLaMrlNOMKmnMlLbiKllxNK66hNdfShutoy/W04wbacyMduImO3EwnbqEzt9KF2+jK7XTjDrpzJz24i57cTS/uoTf30of76Mv99OMB+vMgA3iIgTzMIB5hMI8yhMcYyuMM4wmG8yQjeIqRPM0onmE0zzKG5xjL84zjBcbzIhN4iYm8zCReYTKvMoXXmMrrTOMNpvMmM3iLmbzNLN5hNu8yh/eYy/vM4wPm8yEL+IiFfMwiPmExn7KEz1jK5yzjC5bzJSv4ipV8zSq+YTXfsobvWMv3rOMH1vMjG/iJjfzMJn5hM7+yhd/Yyu9s4w+28yc7+Iud/M0u/mE3/7KH/9jL/9iXgf4DOJACHERBDqYQh1CYQynCYRTlcIpxBMU5khIcRUmOphTHUJpjKcNxlOV4ynEC5TmRCpxERU6mEqdQmVOpwmlU5XSqcQbVOZManEVNzqYW51Cbc6nDedTlfOpxAfW5kAZcREMuphGX0JhLacJlNOVymnEFzbmSFlxFS66mFdfQmmtpw3W05XracQPtuZEO3ERHbqYTt9CZW+nCbXTldrpxB925kx7cRU/uphf30Jt76cN99OV++vEA/XmQATzEQB5mEI8wmEcZwmMM5XGG8QTDeZIRPMVInmYUzzCaZxnDc4zlecbxAuN5kQm8xEReZhKvMJlXmcJrTOV1pvEG03mTGbzFTN5mFu8wm3eZw3vM5X3m8QHz+ZAFfMRCPmYRn7CYT1nCZyzlc5bxBcv5khV8xUq+ZhXfsJpvWcN3rOV71vED6/mRDfzERn5mE7+wmV/Zwm9s5Xe28Qfb+ZMd/MVO/mYX/7Cbf9nDf+zlf+zLMs8BHEgBDqIgB1OIQyjMoRThMIpyOMU4guIcSQmOoiRHU4pjKM2xlOE4ynI85TiB8pxIBU6iIidTiVOozKlU4TSqcjrVOIPqnEkNzqImZ1OLc6jNudThPOpyPvW4gPpcSAMuoiEX04hLaMylNOEymnI5zbiC5lxJC66iJVfTimtozbW04Tracj3tuIH23EgHbqIjN9OJW+jMrXThNrpyO924g+7cSQ/uoid304t76M299OE++nI//XiA/jzIAB5iIA8ziEcYzKMM4TGG8jjDeILhPMkInmIkTzOKZxjNs4zhOcbyPON4gfG8yAReYiIvM4lXmMyrTOE1pvI603iD6bzJDN5iJm8zi3eYzbvM4T3m8j7z+ID5fMgCPmIhH7OIT1jMpyzhM5byOcv4guV8yQq+YiVfs4pvWM23rOE71vI96/iB9fzIBn5iIz+ziV/YzK9s4Te28jvb+IPt/MkO/mInf7OLf9jNv+zhP/byP/Zlke8ADqQAB1GQgynEIRTmUIpwGEU5nGIcQXGOpARHUZKjKcUxlOZYynAcZTmecpxAeU6kAidRkZOpxClU5lSqcBpVOZ1qnEF1zqQGZ1GTs6nFOdTmXOpwHnU5n3pcQH0upAEX0ZCLacQlNOZSmnAZTbmcZlxBc66kBVfRkqtpxTW05lracB1tuZ523EB7bqQDN9GRm+nELXTmVrpwG125nW7cQXfupAd30ZO76cU99OZe+nAffbmffjxAfx5kAA8xkIcZxCMM5lGG8BhDeZxhPMFwnmQETzGSpxnFM4zmWcbwHGN5nnG8wHheZAIvMZGXmcQrTOZVpvAaU3mdabzBdN5kBm8xk7eZxTvM5l3m8B5zeZ95fMB8PmQBH7GQj1nEJyzmU5bwGUv5nGV8wXK+ZAVfsZKvWcU3rOZb1vAda/medfzAen5kAz+xkZ/ZxC9s5le28Btb+Z1t/MF2/mQHf7GTv9nFP+zmX/bwH3v5H/uyxHsAB1KAgyjIwRTiEApzKEU4jKIcTjGOoDhHUoKjKMnRlOIYSnMsZTiOshxPOU6gPCdSgZOoyMlU4hQqcypVOI2qnE41zqA6Z1KDs6jJ2dTiHGpzLnU4j7qcTz0uoD4X0oCLaMjFNOISGnMpTbiMplxOM66gOVfSgqtoydW04hpacy1tuI62XE87bqA9N9KBm+jIzXTiFjpzK124ja7cTjfuoDt30oO76Mnd9OIeenMvfbiPvtxPPx6gPw8ygIcYyMMM4hEG8yhDeIyhPM4wnmA4TzKCpxjJ04ziGUbzLGN4jrE8zzheYDwvMoGXmMjLTOIVJvMqU3iNqbzONN5gOm8yg7eYydvM4h1m8y5zeI+5vM88PmA+H7KAj1jIxyziExbzKUv4jKV8zjK+YDlfsoKvWMnXrOIbVvMta/iOtXzPOn5gPT+ygZ/YyM9s4hc28ytb+I2t/M42/mA7f7KDv9jJ3+ziH3bzL3v4j738j31Z4D+AAynAQRTkYApxCIU5lCIcRlEOpxhHUJwjKcFRlORoSnEMpTmWMhxHWY6nHCdQnhOpwElU5GQqcQqVOZUqnEZVTqcaZ1CdM6nBWdTkbGpxDrU5lzqcR13Opx4XUJ8LacBFNORiGnEJjbmUJlxGUy6nGVfQnCtpwVW05GpacQ2tuZY2XEdbrqcdN9CeG+nATXTkZjpxC525lS7cRldupxt30J076cFd9ORuenEPvbmXPtxHX+6nHw/QnwcZwEMM5GEG8QiDeZQhPMZQHmcYTzCcJxnBU4zkaUbxDKN5ljE8x1ieZxwvMJ4XmcBLTORlJvEKk3mVKbzGVF5nGm8wnTeZwVvM5G1m8Q6zeZc5vMdc3mceHzCfD1nARyzkYxbxCYv5lCV8xlI+ZxlfsJwvWcFXrORrVvENq/mWNXzHWr5nHT+wnh/ZwE9s5Gc28Qub+ZUt/MZWfmcbf7CdP9nBX+zkb3bxD7v5lz38x17+x76EdxzAgRTgIApyMIU4hMIcShEOoyiHU4wjKM6RlOAoSnI0pTiG0hxLGY6jLMdTjhMoz4lU4CQqcjKVOIXKnEoVTqMqp1ONM6jOmdTgLGpyNrU4h9qcSx3Ooy7nU48LqM+FNOAiGnIxjbiExlxKEy6jKZfTjCtozpW04CpacjWtuIbWXEsbrqMt19OOG2jPjXTgJjpyM524hc7cShduoyu304076M6d9OAuenI3vbiH3txLH+6jL/fTjwfoz4MM4CEG8jCDeITBPMoQHmMojzOMJxjOk4zgKUbyNKN4htE8yxieYyzPM44XGM+LTOAlJvIyk3iFybzKFF5jKq8zjTeYzpvM4C1m8jazeIfZvMsc3mMu7zOPD5jPhyzgIxbyMYv4hMV8yhI+Yymfs4wvWM6XrOArVvI1q/iG1XzLGr5jLd+zjh9Yz49s4Cc28jOb+IXN/MoWfmMrv7ONP9jOn+zgL3byN7v4h938yx7+Yy//Y1+Cew7gQApwEAU5mEIcQmEOpQiHUZTDKcYRFOdISnAUJTmaUhxDaY6lDMdRluMpxwmU50QqcBIVOZlKnEJlTqUKp1GV06nGGVTnTGpwFjU5m1qcQ23OpQ7nUZfzqccF1OdCGnARDbmYRlxCYy6lCZfRlMtpxhU050pacBUtuZpWXENrrqUN19GW62nHDbTnRjpwEx25mU7cQmdupQu30ZXb6cYddOdOenAXPbmbXtxDb+6lD/fRl/vpxwP050EG8BADeZhBPMJgHmUIjzGUxxnGEwznSUbwFCN5mlE8w2ieZQzPMZbnGccLjOdFJvASE3mZSbzCZF5lCq8xldeZxhtM501m8BYzeZtZvMNs3mUO7zGX95nHB8znQxbwEQv5mEV8wmI+ZQmfsZTPWcYXLOdLVvAVK/maVXzDar5lDd+xlu9Zxw+s50c28BMb+ZlN/MJmfmULv7GV39nGH2znT3bwFzv5m138w27+ZQ//sZf/sS+hXQdwIAU4iIIcTCEOoTCHUoTDKMrhFOMIinMkJTiKkhxNKY6hNMdShuMoy/GU4wTKcyIVOImKnEwlTqEyp1KF06jK6VTjDKpzJjU4i5qcTS3OoTbnUofzqMv51OMC6nMhDbiIhlxMIy6hMZfShMtoyuU04wqacyUtuIqWXE0rrqE119KG62jL9bTjBtpzIx24iY7cTCduoTO30oXb6MrtdOMOunMnPbiLntxNL+6hN/fSh/voy/304wH68yADeIiBPMwgHmEwjzKExxjK4wzjCYbzJCN4ipE8zSieYTTPMobnGMvzjOMFxvMiE3iJibzMJF5hMq8yhdeYyutM4w2m8yYzeIuZvM0s3mE27zKH95jL+8zjA+bzIQv4iIV8zCI+YTGfsoTPWMrnLOMLlvMlK/iKlXzNKr5hNd+yhu9Yy/es4wfW8yMb+ImN/MwmfmEzv7KF39jK72zjD7bzJzv4i538zS7+YTf/sof/2Mv/2JfAvgM4kAIcREEOphCHUJhDKcJhFOVwinEExTmSEhxFSY6mFMdQmmMpw3GU5XjKcQLlOZEKnERFTqYSp1CZU6nCaVTldKpxBtU5kxqcRU3OphbnUJtzqcN51OV86nEB9bmQBlxEQy6mEZfQmEtpwmU05XKacQXNuZIWXEVLrqYV19Caa2nDdbTletpxA+25kQ7cREduphO30Jlb6cJtdOV2unEH3bmTHtxFT+6mF/fQm3vpw3305X768QD9eZABPMRAHmYQjzCYRxnCYwzlcYbxBMN5khE8xUieZhTPMJpnGcNzjOV5xvEC43mRCbzERF5mEq8wmVeZwmtM5XWm8QbTeZMZvMVM3mYW7zCbd5nDe8zlfebxAfP5kAV8xEI+ZhGfsJhPWcJnLOVzlvEFy/mSFXzFSr5mFd+wmm9Zw3es5XvW8QPr+ZEN/MRGfmYTv7CZX9nCb2zld7bxB9v5kx38xU7+Zhf/sJt/2cN/7OV/7EtY5wEcSAEOoiAHU4hDKMyhFOEwinI4xTiC4hxJCY6iJEdTimMozbGU4TjKcjzlOIHynEgFTqIiJ1OJU6jMqVThNKpyOtU4g+qcSQ3OoiZnU4tzqM251OE86nI+9biA+lxIAy6iIRfTiEtozKU04TKacjnNuILmXEkLrqIlV9OKa2jNtbThOtpyPe24gfbcSAduoiM304lb6MytdOE2unI73biD7txJD+6iJ3fTi3vozb304T76cj/9eID+PMgAHmIgDzOIRxjMowzhMYbyOMN4guE8yQieYiRPM4pnGM2zjOE5xvI843iB8bzIBF5iIi8ziVeYzKtM4TWm8jrTeIPpvMkM3mImbzOLd5jNu8zhPebyPvP4gPl8yAI+YiEfs4hPWMynLOEzlvI5y/iC5XzJCr5iJV+zim9Yzbes4TvW8j3r+IH1/MgGfmIjP7OJX9jMr2zhN7byO9v4g+38yQ7+Yid/s4t/2M2/7OE/9vI/9iWo9wAOpAAHUZCDKcQhFOZQinAYRTmcYhxBcY6kBEdRkqMpxTGU5ljKcBxlOZ5ynEB5TqQCJ1GRk6nEKVTmVKpwGlU5nWqcQXXOpAZnUZOzqcU51OZc6nAedTmfelxAfS6kARfRkItpxCU05lKacBlNuZxmXEFzrqQFV9GSq2nFNbTmWtpwHW25nnbcQHtupAM30ZGb6cQtdOZWunAbXbmdbtxBd+6kB3fRk7vpxT305l76cB99uZ9+PEB/HmQADzGQhxnEIwzmUYbwGEN5nGE8wXCeZARPMZKnGcUzjOZZxvAcY3mecbzAeF5kAi8xkZeZxCtM5lWm8BpTeZ1pvMF03mQGbzGTt5nFO8zmXebwHnN5n3l8wHw+ZAEfsZCPWcQnLOZTlvAZS/mcZXzBcr5kBV+xkq9ZxTes5lvW8B1r+Z51/MB6fmQDP7GRn9nEL2zmV7bwG1v5nW38wXb+ZAd/sZO/2cU/7OZf9vAfe/kf+xLSfQAHUoCDKMjBFOIQCnMoRTiMohxOMY6gOEdSgqMoydGU4hhKcyxlOI6yHE85TqA8J1KBk6jIyVTiFCpzKlU4jaqcTjXOoDpnUoOzqMnZ1OIcanMudTiPupxPPS6gPhfSgItoyMU04hIacylNuIymXE4zrqA5V9KCq2jJ1bTiGlpzLW24jrZcTztuoD030oGb6MjNdOIWOsct+b/dnP+fm/KfuTH/HTfkv/P6/G9cl//Na/PPcE3+ma7OP+NV+We+Mv8OV+Tf6fL8O16Wf+dL82dwSf5MLs6f0UX5M7swf4YX5M/0/PwZn5c/83Pzd3BO/k7Ozt/RWfk7OzN/h2fk7/T0/B2flr/zU/MzcEp+Jk7Oz8hJ+Zk5MT9DJ+Rn6vj8jB2Xn7lj8zN4TH4mj87P6FH5mT0yP8NH5Gf68PyMH5af+UPzO3BIficOzu/IQfmdOTC/Q/t/l/bld2tvftf25Hdvd34Xd+V3c2d+V3fkd3d7fpe35Xd7a37Xt+R3f3M+Czbls2FjPis25LNjfT5L1uWzZW0+a9bks2d1PotW5bNpZT6rVuSza3k+y5bls21pPuuW5LNvcT4LF+WzcWE+Kxfks3N+Pkvn5bN1bj5r5+Szd3Y+i2fls3lmPqtn5LN7ej7Lp+WzfWo+66fks39yvgsm5bthYr4rJuS7Y3y+S8blu2VsvmvG5LtndL6LRuW7aWS+q0bku2t4vsuG5bttaL7rhuS7b3C+Cwflu3FgvisH5Luzf75L++W7tW++a/vku7d3vot75bu5Z76re+S7u3u+y7vlu71rvuu75Lu/c54FOuXZoGOeFTrk2aF9niXa5dmibZ412uTZo3WeRVrl2aRlnlVa5NmleZ5lmuXZpmmedZrk2adxnoUa5dmoYZ6VGuTZqX6eperl2apunrXq5Nmrdp7FauXZrGae1Wrk2a16nuWq5dmuap71quTZr3KeBSvl2bBinhUr5NmxfJ4ly+XZsmyeNcvk2bN0nkVL5dm0ZJ5VS+TZtXieZYvl2bZonnWL5Nm3cJ6FC+XZuGCelQvk2Xn/M/T+Z+l9ebbem2ftPXn23p1n8V15Nt+ZZ/UdeXbfnmf5bXm235pn/S159t+cd4FNeTfYmHeFDXl3WJ93iXV5t1ibd401efdYnXeRVXk3WZl3lRV5d1med5llebdZmnedJXn3WZx3oUV5N1qYd6UFeXean3epeXm3mpt3rTl595qdd7FZeTebmXe1GXl3m553uWl5t5uad70pefebnHfBSXk3nJh3xQl5dxyfd8lxebccm3fNMXn3HJ130VF5Nx2Zd9UReXcdnnfZYXm3HZp33SF59x2cd+FBeTcemHflAXl37p936X55t+6bd+0+effunXfxXnk375l39R55d++ed/luebfvmnf9Lnn375yzgE45G+iYs4IOOTton7OEdjlbaJuzhjY5e2ids4hWOZtombOKFjm7aJ6zjGY522ias44mOftonLOQRjkbaZizkgY5O6mfs5R6OVupm7OWOjl7qZ2zmFo5m6mZs5oaObupnrOcajnbqZqznio5+6mcs6BKORuqmLOiCjk7Kp+zpHI5Wyqbs6YyOXsqnbOoUjmbKpmzqhI5uyqes6xiOdsqmrOuIjn7KpyzsEI5GyuYs7ICOTvbf4a2/yxtX87W9uasbU/O3nbnLG5XzuZ25qxuR87utucsb1vO9rbmrG9Lzv425yxwU84GN+ascEPODtfnLHFdzhbX5qxxTc4eV+csclXOJlfmrHJFzi6X5yxzWc42l+asc0nOPhfnLHRRzkYX5qx0Qc5O5+csdV7OVufmrHVOzl5n5yx2Vs5mZ+asdkbObqfnLHdaznan5qx3Ss5+J+cseFLOhifmrHhCzo7H5yx5XM6Wx+aseUzOnkfnLHpUzqZH5qx6RM6uh+cse1jOtofmrHtIzr4H5yx8UM7GB+asfEDOzvvnLL1fztb75qy9T87ee+csvlfO5nvmrL5Hzu675yy/W872u+asv0vO/jvnLqBT7gY65q6gQ+4O2ucuoV3uFtrmrqFN7h5a5y6iVe4mWuauokXuLprnLqNZ7jaa5q6jSe4+GucupFHuRhrmrqRB7k7q5y6lXu5W6uaupU7uXmrnLqZW7mZq5q6mRu5uqucup1rudqrmrqdK7n4q5y6oUu6GKuauqELujsrnLqlc7pbK5q6pTO6eSucuqlTupkrmrqpE7q6K5y6rWO62iuauq0juvgrnLqxQ7sYK5q6sQO7O9t+h7b9L25e7tb25a9uTu7fduYvblbu5nbmr25G7u+25y9uWu72tuevbkru/zbkL3JS7wY25K9yQu8P1uUtcl7vFtblrXJO7x9W5i1yVu8mVuatckbvL5bnLXJa7zaW561ySu8/FuQtdlLvRhbkrXZC70/m5S52Xu9W5uWudk7vX2bmLnZW72Zm5q52Ru9vpucudlrvdqbnrnZK738m5C56Uu+GJuSuekLvj8blLHpe75bG5ax6Tu+fRuYselbvpkbmrHpG76+G5yx6Wu+2huesekrvvwbkLH5S78YG5Kx+Qu/P+uUvvl7v1vrlr75O79965i++Vu/meuavvkbv77rnL75a7/a656++Su//OmQXolNmAjpkV6JDZgfaZJWiX2YK2mTVok9mD1plFaJXZhJaZVWiR2YXmmWVoltmGppl1aJLZh8aZhWiU2YiGmZVokNmJ+pmlqJfZirqZtaiT2YvamcWoldmMmpnVqJHZjeqZ5aiW2Y6qmfWoktmPypkFqZTZkIqZFamQ2ZHymSUpl9mSspk1KZPZk9KZRSmV2ZSSmVUpkdmV4pllKZbZlqKZdSmS2ZfCmYUplNmYgpmVKZDZmf0zNPtnafZltmZvZm32ZPZmd2ZxdmU2Z2dmdXZkdmd7Znm2ZbZna2Z9tmT2Z3NmgTZlNmhjZoU2ZHZofWaJ1mW2aG1mjdZk9mh1ZpFWZTZpZWaVVmR2aXlmmZZltmlpZp2WZPZpcWahFmU2amFmpRZkdmp+ZqnmZbZqbmat5mT2anZmsWZlNmtmZrVmZHZrema5pmW2a2pmvaZk9mtyZsEmZTZsYmbFJmR2bHxmycZltmxsZs3GZPZsdGbRRmU2bWRm1UZkdm14ZtmGZbZtaGbdhmT2bXBm4QZlNm5gZuUGZHauf2bp+mW2rm9m7fpk9q53ZvF6ZTavZ2b1emR2r3tm+bpltq9rZv26ZPavc2YBO2U2sGNmBTtkdrB9ZgnbZbawbWYN22T2sHVmEVtlNrFlZhVbZHaxeWYZm2W2sWlmHZtk9rFxZiEbZTayYWYlG2R2sn5mKetltrJuZi3rZPaydmYxa2U2s2ZmNWtkdrN6ZjmrZbazamY9q2T2s3JmQStlNrRiZkUrZHa0fGZJy2W2tGxmTctk9rR0ZlFLZTa1ZGZVS2R2tXhmWYtltrVoZl2LZPa1cGZhC2U2tmBmZQtkdnb/DO3+Wdp9ma3dm1nbPZm93Z1Z3F2Zzd2ZWd0dmd3dnlnebZnt3ZpZ3y2Z/d2cWeBNmQ3emFnhDZkdXp9Z4nWZLV6bWeM1mT1enVnkVZlNXplZ5RWZXV6eWeZlmW1emlnnJZl9XpxZ6EWZjV6YWekFmZ2en1nqeZmtnptZ6zmZvZ6dWexZmc2emVntGZndnp5Z7mmZ7Z6aWe8pmf2enFnwSZkNn5hZ8QmZHR+fWfJxmS0fm1nzMZk9H51Z9FGZTR+ZWfURmV0fnln2YZltH5pZ9yGZfR+cWfhBmY0fmFn5AZmd759Z+n6Zre+bWfs+mb3vnVn8XpnN75lZ/R6Z3e+eWf5ume3vmln/Lpn975xdgE7ZDeiYXYEO2R1on12CdtktaJtdgzbZPWidXYRW2U1omV2FFtldaJ5dhmbZbWiaXYcm2X1onF2IRtmNaJhdiQbZnaifXYp62a2om12LOtm9qJ1djFrZzaiZXY0a2d2onl2OatntqJpdjyrZ/aicXZBK2Q2pmF2RCtkdKZ9dknLZLSmbXZMy2T0pnV2UUtlNKZldlRLZXSmeXZZi2W0pml2XItl9KZxdmELZjSmYXZkC2Z3Zv0Ozf5dmX3Zr9mbXZk92b3ZnF2dXdnN2ZldnR3Z3tmeXZ1t2e7Zm12dLdn82ZxdoU3aDNmZXaEN2h9Znl2hddovWZtdoTXaPVmcXaVV2k1ZmV2lFdpeWZ5dpWXablmbXaUl2nxZnF2pRdqMWZldqQXan5meXal52q+Zm12pOdq9mZxdrVnazZmZXa0Z2t6Znl2tadrumZtdrSna/JmcXbFJ2wyZmV2xCdsfGZ5dsXHbLxmbXbEx2z0ZnF21UdtNGZldtRHbXhmeXbVh224Zm121Idt8GZxduUHbjBmZXbkB25/pnl65fduv6ZteuT3bvemcXr1d283pmV69Hdve6Z5evW3b7umbXr0t2/zpnF7BTdgM7ZlewQ3YH22eXsF12C9tm17BNdg9bZxexVXYTW2ZXsUV2F5tnl7FZdhubZtexSXYfG2cXslF2IxtmV7JBdifrZ5eyXnYr62bXsk52L2tnF7NWdjNrZlezRnY3q2eXs1p2O6tm17NKdj8rZxe0UnZDK2ZXtEJ2R8tnl7RcdkvLZte0THZPS2cXtVR2U0tmV7VEdleLZ5e1WHZbi2bXtUh2XwtnF7ZQdmMLZle2QHZn9+/Q7t+l3Zfd2r3Ztd2T3dvd2cXdld3cndnV3ZHd3e3Z5d2W3d6t2fXdkt3fzdkF3pTd4I3ZFd6Q3eH12SVel93itdk1XpPd49XZRV6V3eSV2VVekd3l5dllXpbd5qXZdV6S3efF2YVelN3ohdmVXpDd6fnZpZ6X3eq52bWek93r2dnFnpXd7JnZ1Z6R3e3p2eWelt3uqdn1npLd78nZBZ+U3fCJ2RWfkN3x8dklH5fd8rHZNR+T3fPR2UUfld30kdlVH5Hd9eHZZR+W3fah2XUfkt33wdmFH5Td+IHZlR+Q3fn+2aXvl936vtm175Pd+97Zxe+V3fye2dXvkd397tnl75bd/q7Z9e+S3f/OyQLolGyAjskK6JDsgPbJEmiXbIG2yRpok+yB1skiaJVsgpbJKmiR7ILmyTJolmyDpsk6aJLsg8bJQmiUbISGyUpokOyE+slSqJdshbrJWqiT7IXayWKolWyGmslqqJHshurJcqiWbIeqyXqokuyHysmCqJRsiIrJiqiQ7IjyyZIol2yJssmaKJPsidLJoiiVbIqSyaookeyK4smyKJZsi6LJuiiS7IvCycIolGyMgsnKKJDsjP0ZGvuzNPYlW2Nvsjb2JHtjd7I4diWbY2eyOnYku2N7sjy2Jdtja7I+tiT7Y3OyQDYlG2RjskI2JDtkfbJE1iVbZG2yRtYke2R1skhWJZtkZbJKViS7ZHmyTJYl22Rpsk6WJPtkcbJQFiUbZWGyUhYkO2V+slTmJVtlbrJW5iR7ZXayWGYlm2VmslpmJLtlerJcpiXbZWqyXqYk+2VysmAmJRtmYrJiJiQ7ZnyyZMYlW2ZssmbGJHtmdLJoRiWbZmSyakYku2Z4smyGJdtmaLJuhiT7ZnCycAYlG2dgsnIGJDunf7J0+iVbp2+ydvoke6d3snh6JZunZ7J6eiS7p3uyfLol26drsn66JPunc7KAOiUbqGOygjokO6h9soTaJVuobbKG2iR7qHWyiFolm6hlsopaJLuoebKMmiXbqGmyjpok+6hxspAaJRupYbKSGiQ7qX6ylOolW6luspbqJHupdrKYaiWbqWaymmoku6l6spyqJduparKeqiT7qXKyoColG6pisqIqJDuqfLKkyiVbqmyypsoke6p0sqhKJZuqZLKqSiS7qniyrIol26posq6KJPuqcLKwCiUbq2CysgokO2t/htb+LK19ydbam6ytPcne2p0srl3J5tqZrK4dye7aniyvbcn22pqsry3J/tqcLLBNyQbbmKywDckOW58ssXXJFlubrLE1yR5bnSyyVckmW5msshXJLlueLLNlyTZbmqyzJck+W5wstEXJRluYrLQFyU6bnyy1eclWm5ustTnJXpudLLZZyWabmay2Gclum54st2nJdpuarLcpyX6bnCy4ScmGm5isuAnJjhufLLlxyZYbm6y5McmeG50sulHJphuZrLoRya4bniy7Ycm2G5qsuyHJvhucLLxBycYbmKy8AcnO658svX7J1uubrL0+yd7rnSy+Xsnm65msvh7J7uueLL9uyfbrmqy/Lsn+65wswE7JBuyYrMAOyQ5snyzBdskWbJuswTbJHmydLMJWySZsmazCFskubJ4sw2bJNmyarMMmyT5snCzERslGbJisxAbJTqyfLMV6yVasm6zFOslerJ0sxlrJZqyZrMYayW6snizHasl2rJqsxyrJfqycLMhKyYasmKzICsmOLJ8syXLJliybrMkyyZ4snSzKUsmmLJmsyhLJriyeLMtiybYsmqzLIsm+LJwszELJxiyYrMwCyc7cn6G5P0tzX7I19yZrc0+yN3cni3NXsjl3JqtzR7I7tyfLc1uyPbcm63NLsj83Jwt0U7JBNyYrdEOyQ9cnS3RdskXXJmt0TbJHVyeLdFWySVcmq3RFskuXJ8t0WbJNlybrdEmyTxcnC3VRslEXJit1QbJT5ydLdV6yVecma3VOsldnJ4t1VrJZZyardUayW6cny3Vasl2nJut1SrJfJycLdlKyYScmK3ZCsmPHJ0t2XLJlxyZrdkyyZ0cni3ZUsmlHJqt2RLJrhyfLdliybYcm63ZIsm8HJwt3ULJxByYrd0Cyc/snS7dfsnX7Jmu3T7J3eyeLt1eyeXsmq7dHsnu7J8u3W7J9uybrt0uyfzsnC7hTsoE7Jiu4Q7KD2ydLuF2yhdsma7hNsodbJ4u4VbKJWyaruEWyi5sny7hZso2bJuu4SbKPGycLuVGykRsmK7lBspPrJ0u5XrKV6yZruU6yl2sni7lWsplrJqu5RrKbqyfLuVqynasm67lKsp8rJwu6UrKhKyYrukKyo8snS7pcsqXLJmu6TLKnSyeLulSyqUsmq7pEsquLJ8u6WLKtiybrukiyrwsnC7tQsrELJiu7QLKz92do78/S3pds7b3J2t6T7O3dyeLelWzuncnq3pHs7u3J8t6WbO+tyfrekuzvzckC35Rs8I3JCt+Q7PD1yRJfl2zxtckaX5Ps8dXJIl+VbPKVySpfkezy5ckyX5Zs86XJOl+S7PPFyUJflGz0hclKX5Ds9PnJUp+XbPW5yVqfk+z12clin5Vs9pnJap+R7PbpyXKflmz3qcl6n5Ls98nJgp+UbPiJyYqfkOz48cmSH5ds+bHJmh+T7PnRyaIflWz6kcmqH5Hs+uHJsh+WbPuhybofkuz7wcnCH5Rs/IHJyh+Q7Pz+ydLvl2z9vsna75Ps/d7J4u+VbP6eyervkez+7sny75Zs/67J+u+S7P/O6QLolG6AjukK6JDugPbpEmiXboG26Rpok+6B1ukiaJVugpbpKmiR7oLm6TJolm6Dpuk6aJLug8bpQmiUboSG6UpokO6E+ulSqJduhbrpWqiT7oXa6WKolW6GmulqqJHuhurpcqiWboeq6Xqoku6HyumCqJRuiIrpiqiQ7ojy6ZIol26JsumaKJPuidLpoiiVboqS6aooke6K4umyKJZui6LpuiiS7ovC6cIolG6MgunKKJDujP0dGvu7NPalW2Nvujb2pHtjd7o4dqWbY2e6Onaku2N7ujy2pdtja7o+tqT7Y3O6QDalG2RjukI2pDtkfbpE1qVbZG26Rtake2R1ukhWpZtkZbpKVqS7ZHm6TJal22Rpuk6WpPtkcbpQFqUbZWG6UhakO2V+ulTmpVtlbrpW5qR7ZXa6WGalm2VmulpmpLtlerpcpqXbZWq6Xqak+2VyumAmpRtmYrpiJqQ7Zny6ZMalW2ZsumbGpHtmdLpoRqWbZmS6akaku2Z4umyGpdtmaLpuhqT7ZnC6cAalG2dgunIGpDunf7p0+qVbp2+6dvqke6d3unh6pZunZ7p6eqS7p3u6fLql26drun66pPunc7qAOqUbqGO6gjqkO6h9uoTapVuobbqG2qR7qHW6iFqlm6hluopapLuoebqMmqXbqGm6jpqk+6hxupAapRupYbqSGqQ7qX66lOqlW6luupbqpHupdrqYaqWbqWa6mmqku6l6upyqpduparqeqqT7qXK6oCqlG6piuqIqpDuqfLqkyqVbqmy6psqke6p0uqhKpZuqZLqqSqS7qni6rIql26pouq6KpPuqcLqwCqUbq2C6sgqkO2t/h9b+Lq196dbam66tPene2p0url3p5tqZrq4d6e7ani6vben22pqury3p/tqcLrBN6QbbmK6wDekOW58usXXpFlubrrE16R5bnS6yVekmW5mushXpLlueLrNl6TZbmq6zJek+W5wutEXpRluYrrQF6U6bny61eelWm5uutTnpXpudLrZZ6Wabma62Gelum54ut2npdpuarrcp6X6bnC64SemGm5iuuAnpjhufLrlx6ZYbm665MemeG50uulHpphuZrroR6a4bni67Yem2G5quuyHpvhucLrxB6cYbmK68AenO658uvX7p1uubrr0+6d7rnS6+Xunm65muvh7p7uueLr9u6fbrmq6/Lun+65wuwE7pBuyYrsAO6Q5sny7BdukWbJuuwTbpHmydLsJW6SZsma7CFukubJ4uw2bpNmyarsMm6T5snC7ERulGbJiuxAbpTqyfLsV66Vasm67FOulerJ0uxlrpZqyZrsYa6W6sni7Haul2rJquxyrpfqycLshK6YasmK7ICumOLJ8uyXLpliybrsky6Z4snS7KUummLJmuyhLpriyeLsti6bYsmq7LIum+LJwuzELpxiyYrswC6c7c36G5v0tzX7o196Zrc0+6N3eni3NXujl3pqtzR7o7t6fLc1u6Pbem63NLuj83pwt0U7pBN6YrdEO6Q9enS3RdukXXpmt0TbpHV6eLdFW6SVemq3RFukuXp8t0WbpNl6brdEm6TxenC3VRulEXpit1QbpT56dLdV66Veema3VOuldnp4t1VrpZZ6ardUa6W6eny3Vaul2nput1SrpfJ6cLdlK6YSemK3ZCumPHp0t2XLplx6Zrdky6Z0eni3ZUumlHpqt2RLprh6fLdli6bYem63ZIum8Hpwt3ULpxB6Yrd0C6c/unS7dfunX7pmu3T7p3e6eLt1e6eXumq7dHunu7p8u3W7p9u6brt0u6fzunC7hTuoE7piu4Q7qD26dLuF26hduma7hNuodbp4u4VbqJW6aruEW6i5uny7hZuo2bpuu4SbqPG6cLuVG6kRumK7lBupPrp0u5XrqV66ZruU66l2uni7lWuplrpqu5Rrqbq6fLuVq6naum67lKup8rpwu6UrqhK6YrukK6o8unS7pcuqXLpmu6TLqnS6eLulS6qUumq7pEuquLp8u6WLqti6bruki6rwunC7tQurELpiu7QLqz93do7+/S3pdu7b3p2t6T7u3d6eLelW7unenq3pHu7u3p8t6Wbu+t6freku7vzekC35Ru8I3pCt+Q7vD16RJfl27xtekaX5Pu8dXpIl+VbvKV6Spfke7y5ekyX5Zu86XpOl+S7vPF6UJflG70helKX5Du9PnpUp+XbvW56Vqfk+712elin5Vu9pnpap+R7vbp6XKflm73qel6n5Lu98npgp+UbviJ6YqfkO748emSH5du+bHpmh+T7vnR6aIflW76kemqH5Hu+uHpsh+Wbvuh6brf33n/KIN5hEE8zEAeYgAP0p8H6Mf99OU++nAvvbmHXtxNT+6iB3fSnTvoxu105Ta6cCuduYVO3ExHbqIDN9KeG2jH9bTlOtpwLa25hlZcTUuuogVX0pwraMblNOUymnApjbmERlxMQy6iARdSnwuox/nU5TzqcC61OYdanE1NzqIGZ1KdM6jG6VTlNKpwKpU5hUqcTEVOogInUp4TKMfxlOU4ynAspTmGUhxNSY6iBEdSnCMoxuEU5TCKcCiFOYRCHExBDqIAB3IA/8e+g/3+s5f/2MO/7OYfdvE3O/mLHfzJdv5gG7+zld/Ywq9s5hc28TMb+YkN/Mh6fmAd37OW71jDt6zmG1bxNSv5ihV8yXK+YBn/r4R7YBpci7IA+tq2bdu2bdu2bdu2bdu2+V7btqZnfTOpWpVfsCvJzTn7POc4yxlOc4qTnOA4xzjKEQ5ziIMcYD/72MsedrOLnexgO9vYyhY2s4mNbGA961jLGlazipWsYDnLWMoSFrOIhSxgPvOYyxxmM4uZzGA605jKFCYziYlMYDzjGMsYRjOKkYxgOMMYyhAGM4iBDKA//ehLH3rTi570oDvd6EoXOtOJjnSgPe1oSxta04qWtKA5zWhKExrTiIY0oD71qEsdalOLmtSgOtWoShUqU4mKVKA85ShLGUpTipKUoDjFKEoRClOIghQgP/nISx5yk4uc5CA72chKFjKTiYxkID3pSEsaUpOKlKQgOclIShISk4iEJCA+8YhLHGITi5jEIDrRiEoUIhOJiEQgPOEISxhCE4qQhCA4wQhKEAITiH/4G0z++cNvfvGTH3znG1/5wmc+8ZEPvOcdb3nDa17xkhc85xlPecJjHvGQB/zHv9znHne5w21ucZMbXOcaV7nCZS5xkQuc5xxnOcNpTnGSExznGEc5wmEOcZAD7Gcfe9nDbnaxkx1sZxtb2cJmNrGRDaxnHWtZw2pWsZIVLGcZS1nCYhaxkAXMZx5zmcNsZjGTGUxnGlOZwmQmMZEJjGccYxnDaEYxkhEMZxhDGcJgBjGQAfSnH33pQ2960ZMedKcbXelCZzrRkQ60px1taUNrWtGSFjSnGU1pQmMa0ZAG1KcedalDbWpRkxpUpxpVqUJlKlGRCpSnHGUpQ2lKUZISFKcYRSlCYQpRkALkJx95yUNucpGTHGQnG1nJQmYykZEMpCcdaUlDalKRkhQkJxlJSUJiEpGQBMQnHnGJQ2xiEZMYRCcaUYlCZCIRkQiEJxxhCUNoQhGSEAQnGEEJQmAC8Q9/g8o/f/jNL37yg+984ytf+MwnPvKB97zjLW94zSte8oLnPOMpT3jMIx7ygP/4l/vc4y53uM0tbnKD61zjKle4zCUucoHznOMsZzjNKU5yguMc4yhHOMwhDnKA/exjL3vYzS52soPtbGMrW9jMJjaygfWsYy1rWM0qVrKC5SxjKUtYzCIWsoD5zGMuc5jNLGYyg+lMYypTmMwkJjKB8YxjLGMYzShGMoLhDGMoQxjMIAYygP70oy996E0vetKD7nSjK13oTCc60oH2tKMtbWhNK1rSguY0oylNaEwjGtKA+tSjLnWoTS1qUoPqVKMqVahMJSpSgfKUoyxlKE0pSlKC4hSjKEUoTCEKUoD85CMvechNLnKSg+xkIytZyEwmMpKB9KQjLWlITSpSkoLkJCMpSUhMIhKSgPjEIy5xiE0sYhKD6EQjKlGITCQiEoHwhCMsYQhNKEISguAEIyhBCEwg/uFvEPnnD7/5xU9+8J1vfOULn/nERz7wnne85Q2vecVLXvCcZzzlCY95xEMe8B//cp973OUOt7nFTW5wnWtc5QqXucRFLnCec5zlDKc5xUlOcJxjHOUIhznEQQ6wn33sZQ+72cVOdrCdbWxlC5vZxEY2sJ51rGUNq1nFSlawnGUsZQmLWcRCFjCfecxlDrOZxUxmMJ1pTGUKk5nERCYwnnGMZQyjGcVIRjCcYQxlCIMZxEAG0J9+9KUPvelFT3rQnW50pQud6URHOtCedrSlDa1pRUta0JxmNKUJjWlEQxpQn3rUpQ61qUVNalCdalSlCpWpREUqUJ5ylKUMpSlFSUpQnGIUpQiFKURBCpCffOQlD7nJRU5ykJ1sZCULmclERjKQnnSkJQ2pSUVKUpCcZCQlCYlJREISEJ94xCUOsYlFTGIQnWhEJQqRiUREIhCecIQlDKEJRUhCEJxgBCUIgQnEP/wNLP/84Te/+MkPvvONr3zhM5/4yAfe8463vOE1r3jJC57zjKc84TGPeMgD/uNf7nOPu9zhNre4yQ2uc42rXOEyl7jIBc5zjrOc4TSnOMkJjnOMoxzhMIc4yAH2s4+97GE3u9jJDrazja1sYTOb2MgG1rOOtaxhNatYyQqWs4ylLGExi1jIAuYzj7nMYTazmMkMpjONqUxhMpOYyATGM46xjGE0oxjJCIYzjKEMYTCDGMgA+tOPvvShN73oSQ+6042udKEznehIB9rTjra0oTWtaEkLmtOMpjShMY1oSAPqU4+61KE2tahJDapTjapUoTKVqEgFylOOspShNKUoSQmKU4yiFKEwhShIAfKTj7zkITe5yEkOspONrGQhM5nISAbSk460pCE1qUhJCpKTjKQkITGJSEgC4hOPuMQhNrGISQyiE42oRCEykYhIBMITjrCEITShCEkIghOMoAQhMIH4h7+B5J8//OYXP/nBd77xlS985hMf+cB73vGWN7zmFS95wXOe8ZQnPOYRD3nAf/zLfe5xlzvc5hY3ucF1rnGVK1zmEhe5wHnOcZYznOYUJznBcY5xlCMc5hAHOcB+9rGXPexmFzvZwXa2sZUtbGYTG9nAetaxljWsZhUrWcFylrGUJSxmEQtZwHzmMZc5zGYWM5nBdKYxlSlMZhITmcB4xjGWMYxmFCMZwXCGMZQhDGYQAxlAf/rRlz70phc96UF3utGVLnSmEx3pQHva0ZY2tKYVLWlBc5rRlCY0phENaUB96lGXOtSmFjWpQXWqUZUqVKYSFalAecpRljKUphQlKUFxilGUIhSmEAUpQH7ykZc85CYXOclBdrKRlSxkJhMZyUB60pGWNKQmFSlJQXKSkZQkJCYRCUlAfOIRlzjEJhYxiUF0ohGVKEQmEhGJQHjCEZYwhCYUIQlBcIIRlCAEJhD/8Nftf/jDb37xkx985xtf+cJnPvGRD7znHW95w2te8ZIXPOcZT3nCYx7xkAf8x7/c5x53ucNtbnGTG1znGle5wmUucZELnOccZznDaU5xkhMc5xhHOcJhDnGQA+xnH3vZw252sZMdbGcbW9nCZjaxkQ2sZx1rWcNqVrGSFSxnGUtZwmIWsZAFzGcec5nDbGYxkxlMZxpTmcJkJjGRCYxnHGMZw2hGMZIRDGcYQxnCYAYxkAH0px996UNvetGTHnSnG13pQmc60ZEOtKcdbWlDa1rRkhY0pxlNaUJjGtGQBtSnHnWpQ21qUZMaVKcaValCZSpRkQqUpxxlKUNpSlGSEhSnGEUpQmEKUZAC5CcfeclDbnKRkxxkJxtZyUJmMpGRDKQnHWlJQ2pSkZIUJCcZSUlCYhKRkATEJx5xiUNsYhHz/yu6A2p6A6o6A+r6Aiq7Amp7Aqo7Atb3A1Z4A9b4AlZ5Asb5A0Z6A8b6AkZ7An7vB/ziCzjmDzjqC/jcD3jlD3jsB0T//67/BS0jZwZQuwAA\"},\"shape\":[11988],\"dtype\":\"int32\",\"order\":\"little\"}],[\"equity_dd\",{\"type\":\"ndarray\",\"array\":{\"type\":\"bytes\",\"data\":\"H4sIAAEAAAAC/+x76T/WX9B/pFKJSGVrIUmiFCLSkEgKWbJlzZqoRJZKSJQtRChL1lKULBUhhCQiJUpUEsl2fZbrukTKb74P7tuT359w92Re53zOmTNnZs7M+43mzfvvHwHz/k/+n/w/+X/y/+T/Vxp75Hn4zDAgZvTipd5ZBth8fnEinc0A83iu1ZemGZCgpN49+YcB80X8OZw4iP9dZ7hf54XLPwZcmF/1fMlPBvAbNv080suA9MOCVWEfGKD5/FHdJ04CeMovnBZZS4Agp1qjkggBFsT2nperCUj/Is0wX0lAUqL7rd3CBOwMeGL4T2hurJqxcnopriMja1Q9RQkwbXm3rQLni+s2vf2F4/OuD5xiVxGwOGHNS571BNhVr6lYYk5AVvjjDdfMUH9UwMI2NwL2nG6sjEX5pHp6bWUgAT0LYnexLQnYF2cfamOK54hrXVa0IuCWi4h1rTsBChz5VS4nCeCrWJG95ToBY5opqx0TCMjhWtfie4WAJYllk2sS52SA1uDo9WgClIL4nQxvE3DtnMzPmlICRjL/SsceIuESv9vMTyCBHKkMvK9LwpJbfDynREiInw3rXPKVBLVLXb8v/SFBM9ur9vBPEsobQ5O2jpGQuUqe212EgpP9gvvXrKDAHQakVCwoGCrhdbn0lYKOz40Prg/S4Ch7o2LNOA3K7g350hdpyMkaWrywlYYsv/oL5ZU0dMnoDo7TNHCXCsQ23KUh6cslQrOYhvEi/yGnxzSc9mjRrWigQacg/viHZho+zNtokTlAA+MRn5DvZiZIL3yZGSfGBP9vhTISHTRse2N2IvQDDW2OT0X+qDJB+MyBSUtJJgyMF/wr5mVCcXmcuvMiJiTEJY9MrmIC0bMjr34XE9pjeu7qHmSCS6f4hMlWJuQ39Q5K7mHCb0ly6osSE9K4AlrtNzAhdsL5tYA1E7ZPBvx+i/eTvdipIN1EA0eCXxO7cu5+1wd03ofU0xD7/Ke0TyMNlX8jizRI+n/Pf1U78YqLhwlj3KEDMExD/f4DXNbop2idTzd6RZhQ1fnPhOsIE/SP3l0ZFMCCmm3KZRynWfC1wFd8SQgLSoQlS0rzWZAeu61tppMFt8b/PlgtwoZVVsp3Z++wwGyq4LJSEguusyc0w1+zIL9zs8bH5yyYWOV6iquPBZUxCxLFHrPAwa051DaOBXUPMo+OZLLgyZ5Q6zrc//R6s691EwuC4l50tQSzIPxKx16bt3P6ng3xxU/+ZMHtgbPDyay59XLR5TVjlSzQ3yH6bC+eU31Vs7g3mwXzptrWhp1iAVWeEvsrmQXrzvJGx6BeWunEgjpTFsiqnMkzSmWB03Kz8sQOFqzeXnCwfgkbGoMOrzlJsYDPqcYjqIUFWV+KF1gMsKDXJkq0dogF2779+3SllwXbrzB7C++xILLL5Fz5FxYMZYfFpKK91i+THQM+sMD3kF0Sx1I2SCdphHl8Y8F8yYi+AXruHt28i384fUT9Zdf8l7xnwUP9dq4QtL8sOcYy7RMLmtvemTbPY8NJzizNIV42rPmXJLNIjw2GNh/8sxzYMHGaO4MIZcPCnIgnfSlsGOhu4j8XwAY9V5s94uFsmJHjz3EUYoPHImdJKXE2MNwfRNz+y4J7eXvf6qWh/cWr3acrWNA4I5GgXYR+K3HaI1PKggQfi18n/6D/NuvXbljIhqPrsu1Nudkw+2+zQhf6vWPCUyx5jAXtDXqxB9AP8Kou3RLnYzd2Fa8YZ0FwXfe981Fs2FG++JF1GRt6+w27p9LZEDI6vbM5lQ3F2YWH5c6wQdzEx7f0Cxt+TR77tN+ZDYWbF0VfNmFDn62EfocVG35crBa8rcOGQK2TnAk4Hnt1/vizvWzY7Fm2WX4fG0SKBOkCNTYYfD3RUS7PBn41BX6tbWzwbY9eL2OA+4QPntVGf9ECqs8/7GGDU/Wd9iUb2dBZu+aLCI7NTfRLxdXZ0N8l/81tARtKtfYDB/qD79r3qdbPLNBOXHUwuhbve0Lj+kmMc+ezF83NT+fy2Ek1QPt7Pwtcll7/YFrDgjCbh4/5cL2RnHk3J+aNYKlmbg/G0SJLpeJENwtI/pzoBszj0MHbEv4r2SAaLBe6VpgNZOLbVePL2FB/WXDeQy42sCN1jTx/4fvrvdLiV49+vrWJcwb17XOnq/c8YgHH4ALH+oc4dl6q+BnjdedZRvT7MhZoCgj5eaM9fC/jAkYT2fD+pNum66fY0LDvrJPPeTbY3Lp98HUwG2QbFeEs5o1KmqL2ljw2+OveNt/ZgPGiihqaitkwTQrtdH/Ahiwx5jpZlCTBSS25ifHb75JyEL+XiVzKMrvChpcidlItV9kQ2RjWXRnJhmcNCyWenWPDZeESE97TGL+UoyNFjmwQEH2/K/0aG3a+1AvtTGbDMuLO00Tc39B04rjjE7STtJUNuc+GxP1aa2pLMI/TpggtlIkvU0VFb7Nh6HRi0WHM7xDt1Tc48ByblVZa8WsxfmMXGt5hHLeu+vT7+lY8d7Xj4QZdtENz+ZoWYEPmDTvBexvYUP7sPL/uExZ8djhiOor1bOE/96btpkywmiznV8P6Pas/tZsYoYH97OPN+Lc0HDo19doW+0LuPvHDPEJMeJJx8+QDIxoivvlJDIjTMOY74Ki6lAaLqr7EtWI08KnArXtKNKR8FKvlTKVh6rZNYm0fDSJ/N61uxXqsszgkwgnP6XHPPuFaRMOvSDPHXd9oqOnu76vAvpJkvjlA+R0NZ1b2/Jn5QkPLIidBgU4almoueG/TTcOq5KIPHVinw+MsT14swT5EtOUqPKFhRc8upSMpNPgwirf1l9MgaRv0LXIZE6rNJpImsJ7/aJlSlJqi4di896/P9tPwPUVdcDP2o21lmwf+YV9pGxvm1cT5Dv8IMXO090mP6CtbPH/nr9b465k0eEetvxDoQ8OWbfGfn2nTMDovfaDiLA0jLIbYqb3YP08q5R0UpcEssU3Vw4kGL0d+iZYqGqq9D8uY3aYhdGrprTWh9P/6T8dHROuWAg3Gf4NdlqK/Iq9rzAjuo6HzVP1AthoNa/R1WuTxu5tMc8lzGRpUzfQ/2SZSYEcGa5WkUPDmuPKNBBw7BIobvUJZne0a2eNDAX9Xok/vJQrGVB2WRFykQFQW/A7fpODxYgXpgVIK7qTuX6KVR0GI5e9o7hIKEqZvt+QVULB91V/H4B8UpHOuyD+IMuPoZKITi4LpYPU23w8UWJ+OmRlqp6Apxv+90GYafmTJ5sdXUxA7vtSvYYiCmvK61ac/U7A4ad/s33cUzLt58Vf2GwpMWgve5+L8/aiAlqrBufO3fky4oPKSAt27XY7JazEftq4XeCJBg2m3xS0GL94/NZD8t5yGwcJPJ3sJCsyK5dveD1MgFvdWpqyPAsUDFZcD0R7LKG7O8hcUJC7Qv058ocBirX/D8SYKBqtclQru0ZAocGPdVB4N0pljaTWFNKzfG6kQkUuD/D+DhewyPE/ySm8p5hG7xEXI6SENH1nCV5bhvnXchzeoP6Ih/fTk1W04/9CFfWIY19VYswyyntJQ2t7/yLCABoN5dqHNGZj3h6IOv8U4t7ot/FWZhvm6pkf0MeZ/TVa56locn7s89aIaz824v/3m+Wwa7Ng2LpdyMN8PtW/TvoXxr6mMp2NocLI7UPAL9x1aOmw7fY0G4tqemgD8Luml5pabT8MrZvyrDWj3+/0nzDYjzhFa7/qd5yu+25YFSWvw3SjlBDiuJvB8S2HFU5i/NSmKrken8X4TefJrEf9IMPf6HFjLBI6/le/uIC67Wt+Y1S7DhJif49MViLcGFYec121jwqELP+uF65hQ23D629/9LFA/bm57/yoLDEUSjgwh7mn/XTrwBftzTKKsfwLW3Q3WzxfcwTpco+39QxFxhsrV8eG2JSzwGB27Ia+B6yzG7T5hvUn8I/A42oYFfS+DbTq2s4An7MgDflnEJfJMe4l1LLhmNmx+QgLxxdJ9BwxW4Tn72LcerWRBf2Cpg/8jJmyg1D0+t9OQ8NGK7wHiVElCxckzBOuLVRZl8Z4Gbd/aTEKXguIzjOkNSyk41/1M+8c2CkY4Uzt3sEn4O76899kSCt7VZd4+YUjhO4vyiduI79dCYHN7MAVGQS/KY3ZRsGUzT+Th/RRY8VhLjLtS0K5e0iFsQAEjstrpAOLtqrZ6k4uzJBjkXtCIIklYt/qJsdI4Cfy2Jo0ZWxGHf1L2NjOnQGR0bOs/awris2YLhk5ScHjLh2WiZyhoHdsqNbiAhnuiSo2OQMPaYHbSA4yXequCjHcADSGvhm84YXx9E/d2RSA+lnIULjBBvN0RlHatdgcTvCpTbI7qMCEVyopy1jCBOZO/r307E94Hzosdw/rlICVhYbGSCbZZzpFpvzBv0vefuyzABJjneWga8fO1ZfcZaV+ZcH0wzM0hnwnxtnKpHZuY0PXNo3P4LROMTm9+PfuBCRd0dzQ982GC4AWj6eIwJkT39rSanMe6SQYLrrnEhMf27LVpxkwwSCo2ci1nguN8rrdbS5ggWcVz5GMD4n1FuT9OL5iQ0/5USLOFCXfyHeJPPUdcX6Ko1In5Na1Swzm9mgV6fZUOkvju6jSKFLgwPyM4bpgaKTDBTvq5uaw73p9Pdl6/AxO01R4vqRRiQdtW4YGoESZoLS37+fkLEyK/+LZuQrtXXByfCuthAv3Xd98uvOf8X77MS/eYcJ72FfuC9hIbZlsyMc9vjb7k2m7GhM9PCvU/7WOCSvbChctxPllgTTSnI/o18ZRVMB8THDYR5i+ACYrN1jH9esgLqq85i+1nwjy+2fMjUUzwHr0ZrBrMhHqvi2b6qH/4FWcYM4MJlYJDfG9i5vzkk/Tlg801JohbZvL1Yv9b7S/8Z3EvDWU9J4x8Z+bir8raWCz0Gd/z9jVcggzsO7zl3E7YF4X/5bzahnHfvXFT56Qgvt9jazfR0hiXwHXTovguPvJlTtp8YwK3boFqN8WEIqU/021jTPi7PPX8c5zXclC/LvGHCSdPDBTHSf/HM+4k9QqzIOfcjKfTJyZ47tKJ7buJcbEuiIzJY8J92cN2dTXY758ENX8/yYSJjaktPglM+PNdyaIU9Zi3xS4fYTIhtNtVfmIS+Vro3cVnFrLAW6tG5giJ8d6oWX/lJxOOP6Vr7caZ0HpfZqXqLyYEmwQcS2Mz4Z3NoYUc00xIrG355kgwYYGw/+pjA0xISblrKV3BhDWlDhWvk5mgsX33KS3Mk0Etnacq3kzo260sOnsLv9v58FpgvL3HXINz76P+f6trC9EP62w+8l7G/LwzY7D7O+araM9TjbRcxAGMLVfbMZ+Lv+QcXnuHCT0Vq/RXN8zdE64mCDMXYT3y+2JziJMF77jjj0pyIy/5mtF5Eddftbr670MbyiKteyW1TDAWyVxXgXbWpHT2rY1lQpjMlc/sRDx/8agjfxm+w6OPFsqhH3scY7Lf3mUiD7m4lcqfy8P/kb+LXZTc8Z5+Im9yilDPsnUVpdvj0W/2aauK8Nx3C1lHD5fO2S3+PbEX7s6d161oFXQ0ZU5/yJ2UZXkYp/tbLtmZ32DCt5X9CXKYd9Z3TkQ8rMZ3ElEpfhDfyw9Cike+iwmNk9yS3h+ZcO/Sp8XcvUzgO3y16xwL/XrWWp8b+WF1wIRpOvK3iJUiE2M72CAksPlYy3Y2rDtVl39Qig0uWsYxHMhDulP/1c8qIt9qk/BO0mbDksLBIPXlbNjYasloQV5sZrm+T3wdGzrUUwJXrmJDdbvf7ADJgtyI89wTiPPlgs5/u76FDT5/L4lwojQrunfFDfnMUwNa/i3idop/pq/zKBuMZSMqgp3YsGLIbk9iFhvOzBsX1kC83JnhVq+O/MrUaqI36gDKBQo7isyRv9o+cFt9FvF3YfifR7hPXG+RuMFJnC91W8F0QRzNu9S4FPmUuiA1eMOaDSmzBzNaj7DhjXMVl5E+G6JvdVXm2+K5XbO8qoinBWO5Ewdwfd+U05IR5Gfe/w6LeOD6GK0g/t+r2fCXGKLezSDv6/XcNq+VBUd7cguUsjCf4p5Kr8U++Ypr7Lk08svd0S1CacUsWF//0OQ58sQNt1+0yNizwUoh5ciz3WyIfaX2tVQL75/z8HMh8ls2OHB802DDE+8H5W82IW+sFn/1Cnl8o4yPTlw8C5yX/3T/gf25dv2f+0KqLBB9erP8jCYL4vcECAxpscAqf1HEJQEWnHRfWSL1jwlH/0gpRhVhvA2fdS3Huvx6drBm1WesX0WvHzq8wrqsnXXvKI5tcg3V9mD98OvZI37vJPL2Fd6KqWeQ32lZX+h0ZoHuGbnTFp4sqGu6HH33BOKDny0JiYgXpvdoWoZjX/+auS7hPb6jNHGhP2rKyItvL0tcivW7QTfXnyk9t978rHn9hwMsUK4/ftxyBwtovRfiyXws4DXsZkzqs+AhF4v8spsFM5d/clkhjiiv2VU3YcWC43mqT8T3suBQ+NR8CQcWnMviqmhG/BFhLr08w5IFv5dIH/+O85cfFXWab2OBRvTJTyseYj1XXiNQgnUj+uUzjcp0JjjFZC16j/VVeXplrH4cDVZagQUtU0y4zU5XWJSE9XWR62/l3VhX5fp9pdWZMKKsNxqqyIQ0d6NeO+QRqwT5tOUQJ85esnxxEvGJb8MPPeYnGl5HV/X3ttDQZ3joQh7isJScqH2AvITzkcAx9VEaihQ1m/6iXH23cuzeDxogRPPkfzyoPVhNuHWYhr1/5i3ZTtHQVVd7yOk3DcqW93SkZv7jE8OPzy9kwtphjfV7mTScWuswmI/7D/9rmTqFfTMmMTOCn4MJDyKNpXV+Ih6oKXUf9Kbh6OkAX6uLiJseDkdpBCFu+ndz9HQ16gtfsdUO+VHu6bCuGMQdI+8Ukt50Yd/581z/Id5naKuRJzfOh2f3b2g6T4OWFi+nnh0NYSYH5TYh3xkZPnj4USANtULDbk+daQg011Q850/Dz+83BLcg3tX8YmfUhDzK/2Xqpg9SyIs+lRI+wjS8PcVs511PgyFbWaMXcf/47RM3bmjSEG8s35CkTsP2R/m1Z3QQF/c3GKVyI77d5HXQ+CvylMvNTWdGKeAJPXspkJ8Gfnmpc/070G/740dcZGnYM/Fm9pwg4vsh056cVTToGdkeUeBCvmjXmFiJfOmixYh3bR0FqhdK0muQP6TX2NqIViJf+fNtalkLBcuic4c9n1Ng8/ed1lfkGRec9supNlMgl3pP9l0ABfm5vskZRsh3Xgj3VyLe62wX/p6yEfnYBdkP68VQj6cPTXwiIdHfyKU1h4SNx3dc1LxPgpuJeH5GHgkRr4TU9XF++ybn+x/ekiAy3J95JIOEiwba/SdwnUho4hXJbNwvEtKW94yE38vSqbO5JKR7DWQbm5KwTdeENrlNQuZUllZ5EQlvjpYdvvaKhBcF5zfxofQpXFjJgXrrGT2TdSwSVqjKPolGOytKfo1cXU2Bv7+krIglBVo/RVauv4o8big2RA7xb3H82EBAGAXDDRsd9T2Rd7F2JJopUdBhqB69TYGCn3oOjTPKFMRs+5WoKI/3XVLRtXAHBc9MhU2Oof6/99+t/qOC4woXjwQZxNeGJb93b6EAbtRpWihSkLzzbGf7QuSfBw5mrJZGnJy/3WaDOAXli9U58hA/S/nJhpih3boWE480+khgZNXfvNcxJ3tG/snHTpOQ/UhXvhjxd1vbH4/OERJmXLz36yLeX1hia57Eh/bVr53+vR71Xri8ZhTHC1cXnm5aOmenpqeZX7sxrnM2OPYO7yP1IN6A2U0CX4nnyk3vSXB/M6jN6EG/yrZy/cFx/YWEz+f/m+fXXpXNTcHb9Uc00vag/UUPv8jhvQ7e33+Zezve087a55ksBSn7TnX/kJ27Z26s1c8d+L394saPLzahFP74PH7L3Pr/WffZRkf/A+ZPiNcTt8zF6K/UF+Pz5lPQY3hIrxb5S7Q4I34d8heyQVH8C/o/2rbjW5Mkfk8oEPFGeS21dNtpwPNcGWL3kd/I3ErnjkL+w73xjncvnu+r2HjUFc8tyv22eUBuTiZRK7nWYL5uuniP02EAeUxoWHPCFxLUtdxOxn2by6PpzfG/bxMk5DbWlL3FOP8tNry54BAFjUvb/45qUvCLg7uEdYWCLxI/dw9cp8DRWuB+G+ZT/HPJp7kZmG81RXrJdyh4v/uAzstIXO/57tD2ZApmJZMfH0R+tEWvyTvAg4Ilpy813kSeVHU8rjvEde67w+e3kd7q6Celz5cOqaH9OsuvV+3DuNYOjKfjvIdU1a06tENm95vTTjq4vnB4zzfkg3+/KQ+maMzlo++zec9XoT/Lcxk/vcm5vNrRnChQ9JOEgZFljHXPSZjMfykke4AEnVD52aPKOL530ojeRoLRcgXpndsxXwQsWwQWkKC4gD0TuJCEG1wxAZqrSHi7/ErDTUkSlp1wUbYRJIF+vKft5j4S2vm3/bVfSsL5dD2VX5tI8LaVUz7HR4KY9h3Dz9wk1PV/kpioJKC9UljN4xEBdRE+DPcEAsZX/nhplkPA9yu7nB+/IIBje7zRu0AC8gJjo0ZDCCgz23QiO5aANeq+j41QniP8zqtEETDh2DxRd5mAhKJ1xIpsAvROyQ9vuUdA0p+yO8RjAjxXxsnQRQRYZH1QkHtJwAHxg7W1TajvYXTGxnIChjp9TS2rCdj4IVNi6VMCfq3nWbqzg4B4bjlr22IC7L7vvSNTSIAaI8+n5j4BRtzzrxXiupedDp7BtQT0JRaLbHhOAF9l6luzegK0Pzxe/KOUABv1zND5EQSo6M03Tvnv92ZeZlHceJ8LsapnnThRxs+cUZBDO+50S+mJElCu8X3vCrG58eflyhusJQiQLZLINHzDAHMu6acqURPA9ano1xb7Ccghj+0NejUBMgnJ2TUjE/BtZuWYw+sJYC48Odzlx4Bgj0vCGYYMiLTYsWCn35wsy+VwX2rJAKqobMWEFQPaeA+MX5idgNuDazb+U2EA/+bD6wz2MeCV3nEx9gEGlH/fU9ihwwCbH9fDDDcw4InW+qgJ1NvguazikDMDTnFZ3As4xIBDD+1VT19kwObLguqOmwgoOPNi4ul/v9c0Vox/vpmAk6582h9WExC6zG+yhpuAVeL/OixECNjbEL50Na7rKTt+wJKPgNm1zdonVhHAVnFZJtbFgHuBG+6KTDLg56WI9DJ+AqD51vLtuG6Ve1pryCADdt4I+5ixjIDd2+KYrrwEUMzPq5dxECCU/4lX9z0DHMJr+TPRf4l59e0jdxn/e960NGl4G+MgZu/zQn+KASqqZOHrUQbEn3vs8Q/3v4l63LwZx059AUNXR9AvW6R6oxei/oFLLK/zBKT8M3YQwLh6GWWvWZ9GwDeVRXs8EwlwWxMzGHML41hjUuGhh3H04Pprq4TnZRvUfVElwN+kRt4TCCiM2hPSo0sAffgeySdIgPqg6ejWMwzIY3o9GDvPgDfPMkI5khiwLXtU5qHcXDyO1nR8KHDCePzlFTpjzICih5t9QJsBg5JDC713M2D+7DGSsZUBzHHySJkuA+pN46VkdjIgwcpQKFSEATsExK9XBDAALnvzCBxngM/0ttva9gyo/rgqOx3zYWula/VbawYcNxucvSvAAF+RBa3XRBnw0nqrg5AMA+x6z0aIrsY8uBrwdf0mBoxoDwYF2aFMmX7Vs4uA4Rfnlx9wI0Cxd/W89lwCHmQpmvx6RsBAXlvebAMBTWZnFP4eJCE/bb+t4Fnsg+HH9yc4kqDyPHGeWSziAa4PrMteJCyZNtmkb0FCp8vxNmsDrEuedVN+oST8jJFVf2lEgmFQIu8vJxJW30x9FW5FwvMrr0pXBpCgsFuoO1OEAvHFZ+UCh0m4kjrR5d2K9TzoFv0a+6swl/sWz3ISzg72OMg3k3C9+o7WG8QZBo9ZcfwvSJg90/rnSikJhf6Nz9ZjP0wPPyV7Fvt15NujT7e/wf6dU9x6B/HKPeHu60zENw2iklWz+STsPBG+4sc1EmKv7nLkQ30HB81P1Vwn4damEK4DWVhHCw/vHr1CwvrgBc+/R5LglRujU35zbn3sguZkBurv3vtT5ngh4iidhFr2SxJ8m3YduYB2Pi5fq7j1Dgkf7z751RlIgqb0qbqOuDn7Yy9YSh85TUKIx7EYlicJL8lsn/hzJOiruFhvTyDB5u7BddUNiJ/MXT64or1irzYJLKgg4X5keLQI4q6kmH3O69pxvGhV3fQ7EsTPSW7KQf/5FQV8XeRBgse/0x6dKejnhPyJ9rskBC9KaItII+HJ5jY5U7Rr5Pj9m+8QpwksBafVT0lQHl6p21BNgsRXepAX/TVwOujdhYck9FmW/jvzgAQ2N6XKU0LC+2Xn9AoKSFgaWp/08zEJSn4uBhnVc3a40JffX0Y/7J7tF23DfpWl4qG5Yh4FGp/t/HsQR0w86WZw8VLAZ6dJ0yso2OxtOPH7F+7P1uGM5aDAYEdYI4n9PHiF9+J9LSSUfr99Pq0Tzxd8d/Yl9v1SLyLEF8dRDecv+CE+dSxRLudJJuHOEeFCa4zvx9IkyViMR1eH8nYtlB0vD6bQiCOYdfVXTXF/7NSwtRL6H57WNBVgPKbLGAXbjmC8CvdMefuRcEhv09YtmKd3nw27v/IhIdQqq/IP+o17r+/5U+EkWMtUjfTeQPyc3BE/FkXCD51/kbzBKD8YxA8HkTBxXRm6QvDeOzzTU7wRFw8s0SmLIWHrmaOHrqFcx2fWUIX5JCklkfIS9zsv0Mm7iPYv9Rs4Kof51ryv2GH+eRL+tm/xFcU4Hl6f5r/gDOpt+F39x46EQMu66/qItwvy+IemsL/3VM6XGsc+Ls1bojushnjMZ2bURhHfm3yuMFsb+36VdVuqDAlW2jf3rpPDuMi8Ez6KfX4BtSC/DufPnZQZe7ES72XiWP8P+75J5BOZlBECLo9zrW1rxnq3LFXdrwr7ZptWnOUr7NfKNTLzawjIGbnjp5WHfXKQZ8DyNNbl3Mbvi7Ge8jww3NiIfbO9rWOL7EUCtDwNjivpE5BmsMZK2BrxgaGK+Q4HAqyXSwilxTOgWfTg74fNDODVkkvnaWDAn0dOOqFtDOCuhuCIJgasf630NL8R+8KQ+TrhVqxv/ut9s+sYECZ4jWfeHQaYldzx8ItkgFGPm/LuIAao1ZTYnTnBgMkb7B3zYxmQ9SPY5Xsc9guhIy8msd95XBXdvzaMASLc4QLP8xgQfp7PdEMu6nlZ4DCfwYA1TMkHRwsY0L4w+tGK5wyIIOV/LezFfpRVaBJIMWDj3st+5yYY0N//2aAb+1pQi3JAF/a7iELG6MAL7AN2W1fc7MC+nS6SYYrSW7SK174f+4Cga9pvvE/ael0phZG5+Y8aQ2F30rBv3KxgaF5hQEGY77YVXATof11Z77mUgKcu89yVcNwex1tgSTDggdfK148WEzB/Q1RSxyL0b+8H8WnshyN76p6psRlw3098q+T4nOTO3/Fm+jvjf/dff7ys4usYAwT36b/jnWXAVQtp/fPYJ7nHvV+vmUH7c08tr0L7OFbuvPGdmPOL2e7NrtVVDHi6z1+tvZoByouzhl8ux/6/c+yPAvbl+19GLB8cImC/aN+l504EyA0EaBRgnN9bvtxjaEHAjK2xmQSOg9dmwl/Mg7Olzu/u2WEefcgwfWmO+CFcUPznEQISuX2DFhoTEF6c5rfSEHElZXBN1QRxZCZHhpglAYwXyka82jj/YFn8auzPVrVejbkaiOeuJbfswrGZbaiNigoB6znX7vGRJUDH/lB5K/btqmWcyZ+sCOjw3JRbjPoTrkuVKKP+Lm3nT2M2BGTZGV6ZNCVgxP7Ar6zdBCwKO/jSGM9Zv99OLRmlF89OT5E9BIhXP+R2QX0eAbuUOPG+3H9uJYjjeAURpnBnLwH853a6dMPcflsJezn+A4hDW8I3rtdBHLJxw4ihJgFfGuYVZuN9yYddowWIO5YJ6f5zVyZA8ypvaLw64k2/0z2eahj3ye6u72jnq4mojj9o/57+R4OrjAg47Xw/uSycgNTUfUEKAQRkel8qO4m4ep9P0KCWP75bSamKc/ju/ghD/IgAAczldNT8tQRERnAPqm0kYCzevEJfioAYeRW9FrTrtdPnjNfoB++ml8o8eE6Ku9PPMyhPrz9+K96TgLvKMVU77OfO7zkmsG8n6v+qejjAC+N781tpmSbut4x1ZP02I8BHfdWCzxhn+cjuvo0GBPzWzBv96EVA+t5ssYfOBPSuyeGVPo5+WLz3XuNJ9H9u3GURlC/3b1UMQXnFQ27vohNo99cnoR64rqPELasTxw4mGo0drmiHFPV9lzvay8OttM17Tp/eogtrrHH+R9qe/j77uXWOzbHXM1GylyeLyl1Fv5nNv7Tcfi7//ue+AkpN8s1HCWC1hJqxEB8FJ67RfiqD++792RRLM+CZ8W2u9/j+bvETVR8R3zoIUVd/YB2QoHVvSCBObbU59FwB3+XW2cHV1EN8dx4mTs+xfghYP6na24PvdOO+9HisZ5p5QUnW9QyIEbjRo/mM8b/rpUIUZOMf4zsstPlKYn1bZvOzrhFxMEfmUfuyYqxvVV4B87FuIf0W0UMpcmqZXwHuEx+vOcaTj7hvawEd94ABl0E3lecRA4yzfniufTI3Dp53aqN16dy+0r6CV9P35vSaRG2Im85Ce0mrKD20o1o7vUs5du77modDY//Vx8jq6XDPe3P3o1RSzadvMmCML7TGs3jOvv+x32px1/mjqQxweenQ54F1P1/vONcU4tmY3V/8jE4zoFfdNazShwGx55+Oc3gyYF/FIjNd5Cv0PDrunREDUi/IO8weZkDdq8LA++XYL6LHouOQJ6TefnvN8RPi45/v3ohhnfJcqes1/yDGM7JHcjnmac76Vac8JxHvH+spOSCE/V4+qfwX8uGMsZ6+qWUktC6UN31ngjhxY9whO+TVCjwnDYt0SViVKxhyBHHBDPeSZAtrxEOqBvHlNiRssWzpe7eDBOLGyXN2exDX1d7aab2XhPC3yp3OmiTYi2a0nNUiQctKZXYl8nOra2a7ZzRI2BvzS6RiNwnbhwQ8Dymh3qK/Kca4rueZtVqQPuKTq0Ka6w6RsGa79fJ2cxJWXqzIoFCfKQffg0t4TrIf76V3aFeHpxjHLzyvvoIhvBvtbdnVf+qsJQnvxkL7jU4hjnnHv3oM5y/0zk/5YDh3n8nzLxZ9xXUOw2NF79RJ6O8Su5k5he8rx2DzaUESdpWNvgxYQQLrdPqyN7wkcETJytbieLBz1PKM8ZydMZNisjdVSCgWEPZoR/vGHBR+jSIeSdln47IN7+PapqFujOdoDbGEatB/dgaGP4XQnoyOXFY+4pF+QfrhET0SnD4n+V4/OGevbEn35484nl5p/zYF+YNNyLz5VQZz604oyY244T2qp9gn1+G5agomd7/DnB+FvBydS/C+I4k/uGKRX5htco8dRN7BeLUuiRPx0dlLnpKzeI8RtY8LI3D/6xXhMQI6JPBEhh07dhjx0pv3onxob5U5w944moConBnxWsyfGud2PsdjBIxLCV1ViiUgMGt457pIrNtDyxWMk7Gu2I3oSd8n4Op+pVOVDwgghF8YsJBfLvu8SfTIPcQH00zFjTkEKMnYjf1LJWDSQqLnXAfW99DJm+07Sbg9Odu9FP3lkj9oxUD/rPl3n7nFeM5PoS/MNx45QUIc516pAuRTQ3K/zf1xnLgz8Ola5A3uzNR1jxEnqmz0/t1xHPnNV72ZDMzXFerSnXtcSGif+iRy3QHz+2KanvMxEmSEVFesw/zS9VbPV0G+xr3h5uOD+N3olsQ8D8O599AUMNxggf57l+A3cNAM+QVpWjmK+HPeTKmNkDsJ8VrvCVscP7Ztl7/hhnj7q1w+P/KccqOASVNfEsj9V3xPIL8xtIxXKkcczLt4fG/LBRJq/W0Nr6LdJ0MGHm7FfOXrUtskjbg7mi/FbhT55TO/zk9PI5B3BQp8SLyIvGqTvpoF4t/+zEev/uE5ISxuzd+oVzPPyWAp8qWKta8+F5+es+fy/V6ScysJr54FxPIg3mXOWG3yRdkmG7VTyXXOL6yH3hsu2c297z9qlSV/0A/+Z1ePPrcnQST5+f6VjnN6/+d7UPsD2xtYB757zhYexe+qVF3vVuQLejdTIlMxLqn1DTopeK8eHZEj0h5z5y05wEx+iHzC0dU0Tg39J2QmF+iAeL/P79b29Nck7Ov6IRP8kYSaX4PB3+pJxJG7jT/ifiN66z8vvHe0TZDjV8xzehuPlrDCXL4w+yVhozP645DF4QVon8e1XcMnUV51/5C2buecHyR3DIXdRn4wnt1Qelse64fcjnkJiP8PXPOOi1iPfLnAxfU9Pwn7HdV0RjeSUHdAIPSWJMbvYK/WwSVYdwhFbg9hEr6ey4kpxnVD2nFRYVg/RrsEIzWHEa+JnbOqZhEgzfWgZO1qtKs+4ZabCL7j8qRmLuQpKbwGbm+5MZ6jw4Z3UB69uPX1GA/yXX6ffQqoz2etWtf+pch33OK0unH9mR/vurYJkMB14sk6VeQlK1iSeUGL5tbdTnAlNqPdZb3mf79Jk7DhqHFTegDWjxUbdnohT2tq27KUifeV9RBQG9uO/rrq0PPf/Tf91txdhXXjrnlT5DHMr+ucHosOII9843RNzM+fhHyf85ETmFciQWIamej/rMdTnIEYL9G0tyCL7+tJv9LyfMxv/3NKwyVYnw5mh1i8xnUpn+rPB2FeuBMvj3nieyF28KUVbkGe/nT7cVmsowqmpSqHsO80TeqFfMf7mC+xbalC/0g+iCs9J07CqZgn3VFi+H4OS88sFyUhVzNzwgvvqejlqvIR/fDBacGiNBy/l0lfdBnHOYtUGJYCc+OD3Uu1RYXmzvufOEVd/vo9cjm+42W/Fv1Gnuec2HqYE7+3Xm0PyviH+Pf+xwuregmQ/C6S2dJKwOqz9iICWJ+cm83UTZ4TYNP/GOhPBGSvyHGu+kWAjKui9MYfBHCqVyRdHidgoE9mfvkX5CGSLAWerwRUhJUMO7zE/qv27uzGWgI+9cwXcGokQGHkV9L3SgLccr6Ina3DujhhHV/hgTzgswr/ymeICx8SwX+QV3rc3Pn0cCEBLlJChedQirsMfrfMRHx5TKdOIJ2AENeJZ7cQZ3/b/y1rVpoAkUOnWvasQb2lP/qMVxDgVDnsdFMR661nrbOTIAFC4fMS7iK/sX17JPUFD+L+VedWFCOv+sXRzPdgGfKCXp1BK8RvML6a5x7Kh393DXkijnNkBchyIl4usWbsWYV6OCPfR9StRzzd4vbx9BbE48PnZ94gXn/6Q88jS54A9wCTVSObCZjgEd27qZiA6y9T5KXw3umnkgr0v6PeBxbzB94RcCZ4w4I65NMtrkS18EP8bti9974LAc92Jq909UFcSoiPcKBfQreG518+RcBSZRPdaMTPf+O7l3PjvcX/nn5TiPg0fez2HVuUFael+9oRdyfHe8RbIr6+6zF5KAfx91nDgHvJyAv0COenvfEYt/0VjC3Ix43vG2yM9MX48j814oyYO8cnYonXPEf0r9vq0+OI53Wbar5P4fz7o+70tguIo1TdeUKuEXDy6Kx3SAHyvgeCO7mx3/VxjxRPY58bvzeQ9zkP+YDr7SU5uQTIvk+yt8J1jwZcr+SjHPnJfvTzNgENOganA3Ffe7SgoSXGe9uOQxWcd5B/ZIWEXcJ++lHnb9XC3Dk9nMteX3t0lwB1nzhTNZT6JcaFb3Hdgt51CleQZ/75HUew8f5pJpbh+n6I29NtPpPIB3RlJi9qn8d8eBj0+Ekg8jeZI0IWbgSc239WwgjvtyXwlTeJfuotEW2MRx5mWqoU3yyG5/7IX1CG+aT98f6HIIzvj55byfOQB//9M7pd6ifiYmdb7aWYT7dZ4QIZHASUmjkKLkT+z8t1ewH7H+JZ2eQTpV+R/1dy5195j/x7XSnv/AYGzJhx695G3iz0adHb3dkMCHpf8jIRcfiO6SS1mk7k1WU2eWdq5r6f3xsw/CmGAR8rNBZmIR4/d0BydAJlaKN1nXvU3Hx0YknkAOJs6a9tIbbpDDgkL/neJ40BfGaSkwW5DJhubDv+I5kBMtHF1xw8GOCRLmHyfh/apyJBj2xFvbHNXulnJ2BS+DWrKmECuiVUnxfumACHHW6Eov048Ly9se/J8XGQsa9bfH/LODT/bHlxwmgcDslt229iOg5pffVD4Q7jcG3l1Kt0j3FgCj0WKjg0DmrR2jkN7uPQIalq4OQ2Dn0rLpxq1hiHZZPZHSYb56SG83RJlPI45MQmX6AlxqHn6mOXadVxEJ/RJldYjoP/iw6hhpvjsNU3+uLAw3HgSPiTdy57HIzaEouF5CZAldh9KV52AsyqhyW6WifgtrlYw8OLE6DjHsrncGkC1EztfbIyJmBQaEFrRtQEOBbK7FPLm4CqM4dYPM8nQHbPXcPa7xPwjWzZ8nwdA/SDfyyr6psA6dJvOmTvBCxOEYn2apwAhezoL4o4n1P5Ab69moDdX+NoAzyv8apWYAQ5ARp3u7tPIr+6b92h0BTAgG6hUe4yjOPR5fbhOV8Y0LAlUvraVnxvS3e/NEZ8fd5y0ffSqyT8zXB3Sf3v54g3F9z3bSchtnDr9ZijiJ/tf00WIq6JEH83m4a4SmibUp814qL272Gt6dh/Xl5cUrYol4QFrt4/1/1GXKRblZUzhrj/h0faYcQTt4t7Pk1R/8m8jP/+35bMpT97uFKQR7zYKLIkFvGB+CK16HgSdEaF/ayw/61LMLxbm0yCb5vGpx+XsG+8D7j08hriY40IbWE8d8eyDUkLED++upipvhlxnDB3RAaJ+/lbDA2GcZ2y3p/k3sw5u6z2FKQL/PfzcluNqBuJiPOoP9Em4XPjNQmXvxcVIF5xn/6j3oB4YYW/XsQH7J/xn8+moB/YK3g77z8g4ZDvt6DNqM+6eblFUQ/iH1XLhoFveK+PYtnhL0gY/TuiMtqM49mEPM47JKRLafzwTEd8c9FHZqgF8b7ksd2uqEdLwNk1oeO/+XvOH9AfCb9OL9HC/au2dV6TaSRB+pLz4+81JByJ9oxvKiKh0fzV6LlOPL+07l6hDgXLzKTv8llT0P6bQeUqUVAnv/FDpQYFp1gsmOlDnOKaL8HHQ4HUUQtpbS4K/vhdFxwfIEFumezzYtQ/3tUZmnUfZVETez4DcbfrYi/Nt4gbDd9TUcMk7LHfdFQXZbajvrgiQUKv0hEzEsfnloYa3fqFfnF3OiOG8RXx6G8hVlPAG6ik+ABlpuPTZAEhCiJsSzevXz93/r701+LyKygInU6xq+KngC9w3lT1/P9+Tx0Z/20G8ynhhfbBDRRojEavHNxMwYZ7g9+WLKKguG+zysa1FNyZWCEzn418d2jtdsElFFRqnl7Z2ot4tHS8ioHzzIz957mAgrDCs2s+7JyTVa1LllrsoOD5xZKYEC3UeylH6KIyBebZ2Re+WlFwVC6jNt2HAkX7k0Ox9ehHTzXVrZMUnNix8o3IbwoGGv3zjSNoiExNNMn57+9gmh76fv1EQVqT0Hg1B419+Y6mRD8F81oW+z9jUaDtfP7C1nU0iCg2OXxRpsFb/IaRqC4NDm03yy5vpKG4NbzjmjgNiqPcvaLCNBSKHGjUUqFhg1eL728pGr4WPVAQXkjD5ReCQS2LabjZdMkxbTMNmVvcqOWSNFQnhsu4ytAwQ5q60dI0WLmXbVy+hYaklcvFjsnSsCxhD88lARrUDCfc41bQEGQ7Xeb6hwLRo50T52kK6j076g3bKbAuV3my+TUFTb9bF/H+Qj+LaKQnd1Igf+Vy6qfvFBg5zz6e3EYB2Wgjb2BLQYtOyZDlIQo4XC/wtR6l4IJ4KEd9MPphZXpgdyYFD1uJ/Z4H8FwO9x5fHxp2+p5MKreiIVy/yMfcjgaZh7s4SXUajlvWLQ1nUPBSp5J34SMK/WonVPYQ9b1vVnr2hoKxRheL6ToKtDhiGpehPOTM/SUngYIl3J+MBt9SoBN9dXFrDwUqo4oM22YK4qSkxEPL0I4Jq8d6HRRYfRWWv/yBAoNmdmIDSUFg4ZpJgy4Keg5uprvw3rrOva/tByhQS+/1uop6TE1NNj3G+SX9SREWGM+SvDxzxVU08K09FbVNg4Yn8lmp1DYaHuXxtQnsoaFGx3E4yJAGKL07VGdDwwTniv3XDtNwVaptesaEhn7VFROP99NwT1MGMrRouNundjVwkILhsaFQCYxnVsDYJRnMsyp5RxXzcgrKzQPGM7txvFj89OthCsJ/ifMcb6TgfJh2XuZWGnKepHg9N6KhTL6rqx/1rbpkKpKrSsP7M7pvW41p8Hv/zsZl+1y+rXjb/+44+lmx4eWKWIxH0HLNX7aYfy9DO7z9XWiQ23W7KiaIhmalAHaWH+pdnMh7BOPFyf3ExeAyDW4/pku+BtPgeSo6uOYMDXtKe8WLvWhw2nH1RF4o5vO0ccQ1fxoe5j0M+hZAw2KPVNaLizToECvPPEM914rtXvVqoz/0tf/5oz3Tr/d/PuJJwzeHGllxoOFfzsyImOpcPhtm65lZTlPQ13XtgTc/nr8jSGsK34/0THxQE+bzmN/3pm8SNDgH88w8R3krc6n9eh0aUrfcOVKYivlUbeDjg+/zlrFx4uoEGvgvXQ+EEryvdWzBaBINFlq97x3Qbn9bTxMqnAa7u3XHugLn9uWLrCmZd5WG0c2bZ7pP0SCu9/yX1Yk5/7y9aRu2Cv1wZbbW0y6FhvrQPHulJzQYlK+l9/TT4FI9vnFvIw0P5EtH9SZp0FvYP0SjLPMcUzOdpuF86o+FyRxM2Jf9xzzoL76HyLiMHhzrmOb05PMywTx4k0+9PhO2cRQ7PzdkgoXleSULMyZ8bKxRuOXEBLGHpudYbkzo55wKzXFlws7VAk7CBUzwLx7/cmKGCSpy+w23m7EgR+fmx6t5LNhK+J1deJ4FH2Pymq9cZoHK15hQ6RwWCO7iqP0UxgK1cr+2L6EsuDDhdH25HwtuexbFvGtgga+xvO2tq2xwcbQoXfGRDTqnFs/w5bKB5nnzqSSMDW/AreFxLRtUg6/frnzKBn5DH96YfDb0X4/1iU1gw27L4o0OhWwYZt/bQ2exIeu+lKYfsEFGTi5ax5MN3PbMiGgLNpzczZW6VZMN5Q67871Os+E8165tbBs2JCXOv/P0KBvspB6PbXnAhtaYqIXpqWyoPUy6OnSyQba8KeTdCzYY2a5bsqOVDVYvbkm8ymBD3zcjt3332TBh1cBt/ogNMxKxUhp5bNA91Vm7Po4NoSLOlEPef+udf36MnNO7qmdBr8ctNggYwvv0RDYEBdzgf57LgsCA14celLMgtE/YeN5nFiz02plNxLHguqZE61IJFgxfKCn6q8sCU12/4NgbLMjV2XbsfiALelymIsViWGCwI/i3wDEWSPUEj0fsR7/b8+r7abJg98IZ29+4X9XUtLeNnwW9MR29rxVZwDtjM0VasYDP/tAjgQoWJFdqn9y3hQ0WYRMKisvZwGiPdPi7lg2Cvt9/WUuzISyWzSc8jw29OXkBj0TZYBZmcV9AhQ1b5SxvR6xhg1MqfztNs0AzeKRRU4gNrzNSBvhrWRCyRT3x52MWqGvl60cXs+DkxwLPbZUsWKDH/ORYx4LLfT9W8TexwCrM8JJLJ95vuros/DsLFOTCSlrfYL40jV9LTGDB0cJ4PRrziStltdjBNBb8tfI54ujFggdK5woq0X5NMRsbk4ssGDviWtOwkgWyzgKVx3exoF7ywNakhSyQ7BlxdDvFgj4h5WRXXxaYvef3FR1FfzXnH+RSxvg93zmlsQ7jPuY4e0aVDebve1Vlu1mgwTJ8+/gFC7hnUq1j3rHwnr0JXN9YMLKvwWKrMOZTV1bJoAgbHGbfn+nA/Hs21pX+txHjzBH4dTiQDfY+J8sV7dmgsZSxvfAGG4r+sl6/LmaDnu7zpd2Yhy837+bQC2DDsnSOJuMCzBu6vJSNeagWbOPUmoN2LKdvZ8SwQSRaa/hpKBtSO5YPBD5kg3bSY9XzmE/VY5zFGr5s2OGeuhou43n6k2XlF9hwNY9do5n83z7/DXdRToSo8bzH9yJl6n8hKBPfke+TLmF/NiwR6Nifh3YO7uOsasa8/XNgoUwVvsfgJ5rzjBXYwDt6WCxwJxvEV5+ACn02yMnVr3TTnjvPQf9FQLMbG1ZI21pqRbCh8OZuw5uubEhcfPzRloVsUGdNhIT+Y0FsnsFQ0yQLpPfkfr2J8frDs3HeriEWHNgRsb6mcS7uOaHnOHl02fCg9kDvzg1siM6TeH95PxtOrYxJLsH36m/88mcl+jMmbzz5Btp37aKmpcxuNsRfzL5rjfkpKv0kqPkXCz6/FguUnWUBhxe8TmOyIO++sekzBgsaG4X4VBexwafphhsv7s/0PGc88IgFoLL3dE47C9YstrimXI3v7fKyTZ8KWNCZJbpJpgXf5xfxiy7xLHCZsF/OjXWO6+n49LUM1H/tT7IL1j+GdFfJOXyvYr3/7G8cZYFW0uUWb8y3z0Z7dQ/asOCcSTiLjmVBSkZC60dnfH+X839ZXGCByeHLbtNYR1dJe52dtmeBnP6lz/PWsoDJXNcsOMSEUBOx4bcWTEiUcriuocUEq0uaUodOMcF3yu/A4UNMeHDzBsmrzoQD27tCCzczoXPn0IFlB5nw6sUF3+bDTFAX0qm33c2EHynEorYRCtxylBf2IA46lJ7uYol4bnr653dDcxrinj8047bEPn5SbO9a7Puq1Wtm3t3AvpEy8CGnjgaVb+79PD+wv5j/HXmLfa1sg3eIXj7iRa9EWcU4GrbrPxlrwH78QPp+BSuKhsDQI5+intLwRemYOGcxDUuWwt0q7H8JGt0CJ5Np0LRZVrw9D3FEcybj+DMaOguU+uQLEb9ViKqkYx+FtnuKj6to2P1ve8+CxzToSh7imzeEenJkOoteYr/7uYvFeR/t8HqxLhFxwsx4ocSuBzTi/rMfhl7QQDb1Z3WuZEJpXMG9ej6Mx61qBStBFghlJ7xynmIC/FjCe3KaCd5tZ+M0OphgIjsxm/SVCbzVMV4ZP5lQOLA9uLyKCee6AoQKk5nwW4pHLuk2E7h8pMzdsS+mCWYODouif3PY29Q+M2FIJ/oF31IW/Lif0TH0hQnVb9XsRhOZYO/x5rjpPyaUWZ9mvsN6FuYp37H5G36/NFab1YL6Qh61rCpkAnN3e/qG+0wo97K/WpOLcRQTX6lnwwQXfyX914hvyI/tXlGI476uOzzzhQf7u9LT8EJTxFWRAcayiOvPFkUv5FegocvhpsEVxC/lsRFCMXsRT936t3gK8XpP9EilrCYNsUuyvCXU0L8n6td64Dhw/7KZvF00FNV2RmxD/KX+Xayqy5uGv39GXnseQf/3Se+oscd4KRjrWEfSsPWA9ZpYxIdciZ4tB6xp8DrfzuuCOFQ/9dU6ScSnH0+3G9kg3ko82vX3LubR4nrFrUnIEzLWyHaXC87tv7KlY4ahNWfHltrHz6bwHGkfn2dRiG9F9p2qeI/6dkw5bT9rRsP82ADNHYgr2eJ8X4wx3ks2zWjy4rncJz7GBX+hoW5xxm6bceQjhpX287gxLm7Gk1e+oj9WBMnIozT99p2HU4wJQpKXmW8qEE/PPpbe2oTnbPa/ONhKw7nBV3oOmFdXKycOvv2AeE4vf1EpyrJzjcX72mj4UPR0VTnmqd/NK3o05pfs2FK2A85ffLez7mQ5DQfP91mtRb3+kK93v4EG68kN1vteI66/frDRgEFD+lX37vOIw4QWx1R83ckEaal52/NQ7ov6VyXrzIS+qcaYB7eYEL/32MbxIMzL6b6dV8IQh+WH31nIyQLHJlfeUexrnd8v7zkxhnWgTmnItQHz5mHlAsMszGdrZatvN5jQGKLkr2DLhNtCV6WsY5kQU9akooF521kpESNynQkr9sS4L41mQkgL38MvIUyo4tgV5eDPhDOm1TvfhjKhOY5/1TnMd7f21pqhSCaE22ZI5pxlQv6kefq1cCbYbDiXXKjMhDVnKy6avEWcanmNUzSeBtETHe6S+B4ZBdNcj/C9m1YEHy3GunFdbVQluxLry43XKqPoH91taVaP8D1v0H5gDtdo+C4mcS75Og0LbjoccUAc7F9xhm/KgoaANaobvLBefPvQOV8zm4Y3XoKrNmJd2CIZ2OYVRgPH0ia3Mtxvpq6guO0C5vGbvcrmWE+EVK/k5SJvXee9U2w94vnED5kv2MiDjPfzT7xFvlZ3Ma5WtoGC0K9CW9yQV7eHzRO2Qj7k+2mJwAX87v+5Le4f8subo+95eSMpkHuqXRN+gIJ79OkTMThfH1TdcPElBW3hrW0BLhSIb3+ndV2OAk/zdYnR25GPTtbL5ShR4Pd5fuu4EwWLNlwVswykwOLgtrOTYRQY6ghvPJlEQcLw6ibp2xR8XFK88PNNCpg3LSyDfClYJsW32fAyBf28zqs35FDgZX7wbnsWBV2LL3NGJFOgrz22XiyRAqmSxt9rr1OQQ5RtyL9BwcF9NWKv4ynYXf3LITGWgrKp0hq3MxSMJu5dzA6n4HGAsIQX2t+xyE6pE8/ZsWuBjII1BY2cpUc3G1Lw4Kwz/2Y/tLvHw6j6FgWcmduVLyC/Thr5rF1wAvmtPk0HGFPAd7frdYo/Bdp7bxmu9KJgv1aTiav3nN38mxZRxdkUeFv4F4jnztn5lfeWscAVCt6EuceqoB2za2+/FY+joHepT6IB8v+oY6kbrvJhfVuaeTd+H+aBxanQs/I0pB33eP0T+9OnRZfWn8C6FNM/mxiC/UWr6qvuJ+RRq3KPh8Qg3xHauH1D9wSu47p6dkSeCaJ5k+/5jbDuEtNTH64xgc2fdnrjCaynr7//eH2SCXY6/4+o747nsv/+RxIllVSirJBEZYSMjlJCRigUJaEQmSE7qwhlhMJNGRlRSiIpikIIIRlJIhUpXNf77T1/pz++v89fr8e1XuOc8xxH902a2jXfBXAwsHmyUhdxtNrT/QPyeivd8j9NrwXwOyIp01W0AD/i7WAN4quB8M5M7lmAbqYAsboV9QJiFG58WADjOrWwIwP4/XXejc9bFuDO5C2xXuT1q59Ey5/hexO8LrcuIq+nj740a0Edeh/04PuVwH//3/2Y++QtAgyqv7ZtR18xynnkXGc6+iH1UveL2C+ZaaeV1HETwH97e7IU+vXfcc+zVR3Rr4vGPU9En5Aw8PBgB/oL4U16Use2ksBxvSHb+Tz6n5y+qw/Qz9b9SiNt0CeJbirwuhKMPl3mQreNHwn7KlyO66Ef9NCrMiVqsb+R3tfB40PCe39LZrMZCV+YL/Ztxn5lZ9Fu37vo60IOx046Yp/i2KBk1edOQuHp/tlfXv+bTzR7r0A49lk1bh1HV+HzL6xjz02OkrAq89TPf/2Aa1O08C9JEkye7Jczs8R+QuTHxkopEux0gqTeaKH/9dYp18Z9am6vlFE9i31Gd+ZaWTvs71i/DnomkMBMUDreE4m+1/aak28O+lhu2ilb7J82b+72+4S+1eNgOe85NxKC3h17aYTjHfvPsnEWJOScNBsnXElQ2yb1NQ/fY69cpIkGkFDg4OG2CdcdYSTrvLuCPtVmT6p7EAl6u95erD+GfvimxzlxGfTh5j1nfi0i7+6nTSniOSq/r5PkwO+EbpuG1O7CeUvFXn7C91eu+y9JA+N29YNdSjH2ScHtT1nXjpCQMqBzb78qCYaqIhoflv/v3P7vFryE12O/tL+5fO8q9OebCx3SV5LAk1b6qewnASfBd1h9GvuWv/4MTta//AaePLAC19t+5COnIPaXjzfb3lbG/GxVPjKkS0Lch63WtQcwLjHbA6KsSCh1WvAX3I99xuTjsReYh/fkzO167HuVi5uqd5tjX80baXcafe83jgn2F/TNWSd/p71e9y+/Z5ObcN+lX5i/bbZSwOIRHJPKoQA7xtuk0owKZhXCRWY21H//DqF6z40KGpLpEqezqWCvKlXmfJ8KzCVrldSTqUCGN0VSblIht/fNgZCHVKj4WBhAzViEC7tV1R9b0kD3P+nXYU40WB55K7smgAYnth0QFiumQYmprbaIGh1WcZH9QoJ0qLGiZt5SoMPozIPJQ1o0WBIueOOVFw1WLf1z+eZRGjgoKjodu0kDi8KGHbMtNAiuraDufkmDn3+o1+/+pMHjXg/XYSYNJPmtH63vowF3mP7g3Vc0SG1mOzNf0ODDxN6cFU9oEPPi+squNhq0fDl51buEBrEv/xqvqaTBUvbKkOlqGrgrC1yazaOBXs6WHs8eGqgIHTvZIk6Hs4rS2iWSdPBVPpt78TIdnlsd//4ugg5bltH6D4owgJNIlpvMZIBZ1qq8xTcMEOfQm+86wQQNfnuZEn8myC59XashyASVBK5fxsMMGBoeYbIqmRDzTGWLwF06cAYdPfvSgQ4/Zx3W+UjQwbt8/1o3JwZ8+yalSn3LgARN2e/X/Bgw8a2mfiMHE/gurRNcF8gATwV9NaUEBvgoFl/08WFAx6fW66mTDOg8vnMua4EBKZqPDTj3MGFyYqLxPBcTZl1VvcqYDLATj3cIUWbCt3GrsIGNuA/lAM2qdCasCvAL21bMBH5yveWLYCYYp9dN94Yz4cJWy+69t5jww8lIxTmMCUMjfoE7Q5jw14WlV36FCYnVzVPzyUxwkhza5/eaCb73NkZeojNhZvySq+d6Fmxb0vhR5DcTAkvzkjy5WLAjdkM9pY0Jm8O+9VtlM0GG5S5NFrHAIjXqc80ECwKkJ6+oiLKhQMv2lJcwG2RCCpJzJNgQWx7e+OsHCwqepT6XlWZDRImDZjM+Z7qY7L+ywILAogMF5Z9YkK2xt8UGx4khNiV2Exsuy9EnywPZYJ16MHhzEhtmTkX+KXJlg1Pm36MtT9jQYmT/y+s6Gzo6Dp/wLGCDHu8Vv4f/sSFr9yWbt0H43n/6i/QkFpy9s8I1cQbjccfx+tpOFijxDQg/9mSCxa39i22xTFBYNhU7g3H13+5t4+zGhBYLY/p4ExOWz8eKbeJkQbBCmydtmAki9C3BWRQmqK1QlrT2w/FaRpR9JBMkojTig8cZkN0keTpmGwPIC1Vqa58wIOm5Wct6MwZYizEEqEMM+Gi3waTJjAkdx3TCalKZsMSnpSAsggmSl5ffFMH7A3Zf1/SdZ8LwKW2RS15MOJqdMxe6mQlaN6rpaRMMmD6rN9O/gwnv7V7K7vVkAKzXfjs2RQfeMJ+ZCWU65H2fDPxSSgNbDzLnbygNKvhCXfmT6SCRd+ihVz4dmm23nSkSpcNQ8cIA3x8atG8ZHNNH3LlEh+Rs+LYIIVfLs5ayqeAY/3WLfewiWCRMK1w+tQhJFkMCY8cXoemR3tzJ1EUwanlVoiNGg2e7ts9PLqXBxAlTe9nuRbgaMpbk/2wR6rxOzrRcRz5YbXBo9CkNPO5lpBxFnPKnf9//GHEtuaS9etkA8kEIv0CFKw1eyje75zrSgP79cNf5nTQYzVp6auMh5J9wtaZjiPdHQUZeHmU0UDKoejzlQoP7n3wWP6+jAdOZ16J+bhH0ox4oynxehDXTIZ3HjRZB4GF3V++eRVB8xvPyhOciMF+X9W/2XoSZ9ou/TstRwYKdWd9+hwKPEsv4JsWpoCo2YfTuCwVW7jY9dWiYAs84g3lT31LAZOPJke9xFIjaxKJa6VFA5OvB+VpvCmTpbGwuSqGAB63m+RtbCqQ0G2+DaAoI3xjWcVhFAavdsbSoRRL6B67WWOlSQLrtcfUxVQrwXTsdKJ+KvH21N22okAJFI4JrRMfwus45LOsZBSKillb2VVNgqse2NvMWBXp8D7f1nabAnG/4RZMICshHXLy4S4ECDdV6IW9sKMArs7ew1JUCa9wuWVs4UuCyk+KENl4Lx578cR/3k955Z+Vjf/z+/bnwEx4UyIj1kew4QoFs4sdAgzt+t09Kfek1CtbB/c9BeB79OSHBQdxfYvHerQVtGJ/3z3K2YVwY2l1jAvco4CvJebXXnALuGhWjew5SYHqIkDMdJGF9cqPU6eMUcBtu7lPAfW3gLO7rsyXhdaTgHkMDEpocNT0e0ggI9JaPf/ScgNlv1zOXiJLgnOcqFjJDwECB9cVPO1GX145r0rlJiG10tEnnJ0HRd1VCJ+pxvfFCXbM0CQIOws2CqMt/RxcTR1FfhbIMriYKkCDY0vYmlyRgWF2yMPsKAbk8N18kAwFTr//cldUmwNdLz0XNj4AN3lK05GYCPARKpUNRx/0/Eq6vjxLwwFNaNjaLABmR+OPH/QnY7JTW8QH93/3JBu6pcwRo+V9Lu45+b36rtYSPPQH5k5QDc0cIqLmRRR2MIqBJo+dlXTkBOx7dPFJcgn6gLJA8XUwA5x1h0a9PcZ1ATteOGwQsKbDN3niPgEGY3bjkAQGKlDHFKPQL3RtV87rR7zGjv9NeoJ+bu1yrYeZMQuaz6hZzjGOnzDGnAPQRLTtU7k2g3+GF5qtVG0kwe7nld3oOAdPE4+TkeAL2rTknfegmnmd37fO16FOfqTl/eFxAwNnWqNZ1SQToNAjsT0I/GuN9Q/DcFwKMrO2FX2Gc66Rf8OduRr9xVf76E/QZLmtvfqAMEqBaXuf06RPu9yqYhnLivtLzI7KGCEh+eaNKYjsJZ6tuXW7dQMJ4bPH4hAQJrt7vzV7kox/2+vJny+gCaPc84c0nF0A1aL3pWir67ttO13XRX4ub/fWjox8fLkuWnaxfgKd6gRkP/yOAJ6+6ncR9Jc/oWXeg73K4yCrehvVirjB6f0svAQt5jE+ncdSOV1cdwlFCuUpz7jgB8QIrro9Fo+82LBVrk8dzbfxbufswAcFifqvEqtCHP2pQE8d4qe24b86L8V4PtqMV6Pue3mKWn0HfZ9boPZakQILGSO03Bvpo2hxl7t/vx9xRSM3tnCOgREdpX/gfAqIOCY5dEvn3c9VqPiX0yRJS9jur+SmQNGB79+cH9Ita0aobXpCw1KO1LjyaBIr34JGlzSQkEZnD8+h318p8iZDB9TbdSOpv4yXBM2Sl5CT6Rrp8YLnMTRKOFnn+isd6ucOnFe2O9bj5T351cSOeZ5dr6Y42AkSWmG+NRZ/r9HqH5pNvBDDbc9aYTBJgUdHkVYn4MqyImszD+LdPiK9exLpQDOzqOod1kPvw0TJ5jE91tebU+TgCvnHavC2OQB9rG2WUh33N7IPPr6Rq0UdfqwjPwH7H/qEuvLUlwHPRXqtDj4C4jNDq5Sb/u65qEVd/sZGAIo3/MgY4MT9u0iXm4gQsXXZ8tZcW9kkncmsHdQkwdrSqK5T93/NCqd8NbtIEDOlK25qvx/yltIp0CRIQcTnhWIIw+nclixcmeH7YcHFcHPGZHhrtfreLgDnec+CMY1T2+748PPf/5WUJr6QyfRjjYXzH4fN9AvLm48tZ9Yi74PHI6rcEtFLbI/rfY5xWlO3k+UBAls3cfR/kCwO99aL8DALYiTfmUxFPFseXhcRjv0BvvV32XJMECxHayW49Eia3ziv7YT8RNOx4rRf5SjKB+9NLrJ9AJckI+gQBzUZXVnn8Rry9+TZXg/XK90xpewTm0/uKM3/OP77rXpG3WRFx0b9pd77Hv9+PeStwwQlxvJh218GbhIqHqpsOI48Vj4g63MF+0N1a82Mhnkt9qdnyei7s2ypSle23IX+SydrdWEf8bZsaRqYQn+4B126dQ162zgtJ+It1Ghd15cg6CuTRym/XzVLA9mVNZWkXBbqP/p5uk0K/r3rS/4woFQxUGld1VVBg9ECMe9I8BTap9TaKIb/Px5iNe2RSIO2XYc6AHQUKt62p2GpFAePt7vEl5ylwYKyZlNtDgY4zvFWcZymgcfpc27qTFFjLNLJ1zkYcrAcpvxASErJXn67EeGl4R1OGD5PAmfP47NndJDwfHah9O0tAy8emF5VLkM9+/MwQ+oW8LG+ZYob8z3/Ic7AJ+aNdn7nmDBX76BOSnXSMq/KpdMbvVwRI9rt+3YnXgvm05xnjmHdmi/4BvKZNfpxoxrqN0+R7GYt1cNvK4+rRUgIC+pJYPMjLxcLpSyOwztPSB/3PoC5o2q+9wkSetr88X38B8VGzaPb9UiXWRV02Fz/yPft62/icGvKId3TzNPJ+qLTde0XkTQObS75miQTo3zXXnUb8+HKJL12RSgClR+Na0nfUk0Elr8IXuC/i4rHKrwRUBC7p7ECcvladT7JJQz3oV123LAjXkdZ8vQLxU6InLpdojvEo6Y8l9uM6jXk0nZ0ESAfFPi3mwD439dDjT8irTousNfv5kEe03GyfrcY6MOlPL0Ods9VbUzEhhHXw6MAQIE4cJWX9K7AfjfojULh/GQn2H68ECrMJMBu0DHmL31sZNgbKYbxyBf/jNO8jYNtdX2MBHG25lu2XRXxMuD6RC8B8BHJN7OZGnkg/v7C48gwBchL2ftcNCbArbHTx0USctHHzHDYjQJ4YLb18iYBU3QdsnjuYh6T+WsUnBBS8G28zrSagIfDY6do3BIzJJMpubkFe7/8aKXrvHw9PsdejDo7zWdTKXfrHU9c1f7xcgMqy72fZO5DvHJ5/fIbrPIiM3XxqKwEu5Y/ql2og779zrlWyIKCbKZ79A3nHXZYrkhhbgHrzW22XfyyA4Oaqr3d4sF7uD7trG2F8k+Xfcu7BfRy1/j2bgPzWYur5LBx5VCDf+kAo8lLDmMg86vy+nVwEly/WSWFtz2rUz8b5P5V87qjnmyzopXg/Xz6dVMDxMrO+ai4W62dQTtgQ+fJC3tftVpj/Tnuvb4beBNgI9+yT3k5Ar9Cbv546GPerw1srTv77OdCVggI3XCf0tdJRPO+Sh39DPyOvd8+M3qr1RX/YZvmCOUYCu7/9zKUBxHdt9CrlJ6gLR7O/zLaRMHRepEHoJAk8GxTlSpEnlNR3D6gGkWDISNKRcCPhAveyhFJrEvye6RcanSBh9FDBwGfUr8zVEbtkTUmId6FVPZAlwfFDfrrsXsTlXpPAnGMk5HxyMrQ9j/qnFX3CvQPr+nLTlYORBGhw+G7wxbytnTjWaon1XL+dLDBF3xPyIk/yYAoB5fWGqmuQf5f+fveZF/VfO0lr/heFgL8jb2P1sO6+fHON5sbRMDqy7LEM8uea9i0ZWMdfJLw6NJHHMpmDu5JVSGj8MnftPPq6lJt2R/cj78mmvCnaje+Pr3zXUYj8HFRaM6uAPHtnfUWTEOKIHGsZ/vfv3Ya0ZzIKTPQxczWXDLFe8+8anrlxlQTe1vO/bFC/JWa3J8rrkFBwLvbwyDv0Rc3qMnqI98bkQ3p5yNcKXYuKrsgfaXYex6IQt5KJQwfa8L5z+fEMBuoxI+rSz2bUW7n9ShZ/kBf8rKQOkuinrj5mdqQg7plevT93YR0PKOra/8S4iV798/VUEdb93btXb6FuxQ4qfVIjCDB9SNvbjvh77BtnUon6nP7h+tBFvK+0akPj+gHEYe61vVK4bqf00XuJGF9OYz9KBPpF5RgzrevoCwXclGc87/1vpPBaCXxFXhPtrxR/iDpHVXpqHfUIeYfT0EUb/Y3n8JRfAuKPtNpwWAX33VrGPZ6DPk06PyOpvwf381PBSwCfO76QD89BfD413XaCc4oARgYv2YtxXjMud80K8xGtHSmZYUyC9bs7P/UwnnYHh56Voz98v1XwHV2OhC1JzUcObCJBXYhrSyTmVdw8pC8e6y3RrbM9PxX9/vEf2yxyUP9qNp4zQR/k9rZ+9d/3JGwe0rMVrMf67Dnm9mUe/dYnrjNOWO8vrXpGB7HOowcHHim+IUH+0OtEi1ck5ItYLTDaSdD5UmAvg++FG6/+WIXrMLydu+5UoI/KlPHxfUlC84sjz7e9RV5M/xTGRZLw6KdF+W3USV235hXV2E88viJ8vAHra/39lQXXgITsnFMcMoYkFLqecOzWIKHq4aW7Dng/5OTYi2P7SZh9csRwkxriaVe4+Gulf79v3EIzEX2iyJ5p33j0BeTXR1MV+qhT0vSIaCuMS+WnI1HmJNgsK1YJQrwN8DxW1MH6vu3HrI7aR8L0NruYDNR5cZ2Z1mD0EzLzCuOi+P36zLDMEOTjmsrnvd/Qn1eIz98NQp6omHtmew75d8jLMPrlFgJkqXu230JemQ/jGrqBvkl874OJDgkCOCYD+F2XYh3HPi6YclyAo/rx0YPIizlmYRK0zwvgJH+/pxj91mmd+bmg5QT0LFP1t1+GeqRsceoj8pU2b+qpOdS3R7mFh/xOoN7u98sLt0Pcn1P8W4/8nvG6LXufPvKVyuRxA+StuLDhxssNqJs7pq/VoJ/cERl7xwTrdjg87tlS1LdcxV23nFFnr4oH7E9Dns0OJ16kIe9qywUNRKLu8kjk7vFHHV0+45W7Fs83t1Mxohz3IUiR2BGL/ZSgS+joZQ/E4/OyP1cc0T8qNqX143f9325yLLuGuhlxsNwG63+z2XVqVjt+n7tHb8KBAJMVxhqJ2M+kLd3j8RP3d4dxZyge69/Y2E3EB99rjlh9Owj9RiDNc8wJ/X/VSS99M/QJMpdkOXPRH6b63xSb7ETf/N9O3TuIS/W6k1/S0ednzO/TGkbe2Ub2bL6JumpU/+adB/ZDd64dlL+O/hrOFs+K4r5Ot79fvQT9I+VZ6zeZH6gT3BJeHxeQJ8cfLxQgX82k9NSUIu9paJZ+EsI6kYmrlilB/jVKvMqwwvt3svpMb2GdxW9q0G9H/I2I1SsKoa67ffP8TkHe5pDZOWa4BfEgfyknB8cljiepX/H+9PihP+v+/fc7CaeXXsR+pCJlb/0e/N7tWHvmPNar7Y19/X/Rz97/YJcrFk6CnKzR8523EZ9cJqcOIA4d5MW8HwqjPzzkx3sVKDBZrVzX+ZwCVzu21Lm7U2DstsX2tg0U6Kzpqo0yoUDEh7bLEVIUkGj3+7buNwnpB/7se/cZ+7+PvCfr8ZrMOi83Mo7jdnvnQsR3ap+KhzX2RWkLbdQtAhR4c8FC/Y8y+lJYemE5rje8d8RfbhcFegv2lM0coEDUnMNKE2kKyAw0ma1eSoFnxQGx8mso8Hq/qIUzg4T5mV2m/H9IUFXUMxvEfQv1rfC/yMTz+mXP66lQwH44kzs5igIvF25OHERfnLqOyyHwMAVu3xC4M6lKgaZd0hLWOynAr12TycJR2pU3OBv3M/6pa9dW9LXsA2byp3Bfc78jtLtWUqD68KPxphUUOHuOcSuGhboVKXbc6Sv2Zxd/LtldhPxT9K35P/TzDdFHLONRjxUWzq9OLsf9bX4s3xWPevQg2JqFfvjx5iHJR7fQx3e/e+4ci3lqdPZY/QjznW23Q+AO8uz8pMAs+vnczYJrHX+REBvuHN46SILgxzILpgYF/NyPHSneRwEVJnfEazxXQ75ExWAgBbZoitw2zKXAdZcNF89fpIBL/1+d0A4K0N4ODf9aT4WaPQsRmlpUWK9yol9qMxUKBmTW+6+mgg5BlpX5UNHXPrKe51uEKW75N4TRIgQKn5mmzlGhKP2PkHkKFWaUAtsa7lLBqK7bzjuNCtW/LgiJFlHhwpHvp8puUkF+PrGh9yoVFC+PSaw7SYWTM4Eb7HdSIcO81W0lruP0aYy3VRbHYsvDv62p4K/50DfRnAoxD9bNfI+mwuRkyXFXNyrQi0b0RPup0Gw6YnuOH/dBDfJx+UAFifNjssX4/OTmP08Wh6lQuMzkjXEeXpvsiFmdRIXcoXVjja5USJCXUrS6QIVeS+Z+Hksq9Kx7v93DjAorg8TDRXfh/ehrHGOSVMjpkLkFG6gQ+Kl0g3Af9i9xf3vYDAqE91pCizYVBNc7bv1sRYW87VryrppU2Hd3LKPGgApLd91hXFlHBQfbCabANwoUX6y9zzhKhdTCHR5NeC71tlVPvh2ngqacjL5AKJ4/5bvxnDue8/oOX2tnKmRXJK30xe9VRqz6qg/gOc0Wgu4pUoFSkgbjylRI0W+d6cd8DSj5T89QsD6vvXnlPIqj6DO2IvZxEb6m4xYNFDCNezZmWkaBxldP99wLokDbiskO/wAKxIr/+JKF9eARmaD1JoYC7+VGQup0KNBy6pXgZAH2mUWLPbaox/O/8gyy/EmorPkicR3rlH048Gd4Bwm+S/13DRlS4MF35dtjiBcFbc9n2ndJEAbF1H0zqHNbRl/0YR8YcVksotqbAkqF1zVTsf/rzwhuH7mLeH6Wl15ziQJ2p4/SdA9S4KN0Z4cJzpfFKSs/pU6BgC+2BT6II94bYZ89LCmgeL5R5bru/96zdhsLDMJ6f6ka5+XWh/3jFhlGIxvx8cZFyF0c8SmnKFfw/Z9/lJzswnl6zhg+77xPgQvv2eHcClRwb3OMW4V5VK9yFPMhKZDo5dcpiX1teMaqjD8/sc/V2FssyUcF5qtQ0MH6VM1M8QqWwWvj00TnNirIbfopkcekADli/7luJRUe2PEfuIr3dZalXknah3Vw4Ypd52UqhG8Ro2ZivY2a5y7X3EGFhfLWpjuHqFBi5rSiAfE1PlFb/gTxkPO3RmjOiAp+LV+NS/ZT4Wx93ZFDfyjA4aqU30zDPvpOYuMb3F+W3we5wGTknfsJckuqKbC+5V3xCsyz6A8NEwqOthvjtsl8psDMMZbTjXYKbA7eetAugwKq81Llzy5j/D7r5yzyIb/53At1QL66H7G3+c6K/8X1evzGbk6M8+zJ5fcci7EuEth7Ff71/7MSqr8FqDBcZPbwOdZfT3LWbsnDVIhYdTzhoh8VpPXz8pnnqTAYH8b1xoEKhk2ya1oD/3e+9VY8T9peYR3/pL6SSKSCskqbvgXGpfnQk1J/DyoclepZloHz7ay/zxh3pMKQYWrLWQsqrLm0cHMT4mP5LZ/tN65RQSugS1N3lgp1BnP669iIuwv/cbhzL8LvyeLnisFU+OB08dwE4nfl/vRBkosKjautZ49g3Hoalcy01lDhm0JMWDfi48KkqjoP8l5ynzbV6AEFNlTx6Ey1oZ4ZWCm0NPzvedQ2VtKxRgpYfKz4YjJMgfJjB+6GIG8GTVBun9OigH/Ykjdb6ej/JhoqP4tR4E7mQ+H9eykgsj/nszjy9/I9dxN70afqzHEX+zDQJ3H/p3tBl4QxeQkJgXPI62s7Q85ooR50XdOxRn9qYcnJtYRKwr59t79X2COPX70xn4U68yhlmcwXY+Rrs7iVwbtRB6tVNedvUCD34En5re9R7yY+OJ0toECNyEG3njwKyPVsemHZRIG4iOQ0AuslZ42y9Vvk9So/kX1vt1JhdoNSWlQCFfjP9RlaCdJAQN/6tVUEDVKInTVKDBqEyu8fUZ5YBIUmWue8Ot5/PnBOexkN7N5wH77hsQh/JQf1PA8vQuxTxtHg9EWI0Z9/s2zbImwOq03n4F2EnKogue3Gi2DeKKfxnkGF293eB/gXqTBhpqLdT2AepnpOmh5ahLPyKueyX+F7Dl/OGuctwvs/3c8XfiPOJNLWOH5FnXjZaX4Kef79zwcBW5EP/ZIeabiuxXq06fxPUZ8CRbTy3X5OGI+ZPw/24DlFdkpbN2EcqgQeygf8pcAavrb6Jcg34xfWT8mmUsDm3lq/mzWI99S9Y8fwOpApMa2YQIHpt4UJqyrRD7zqvKkcjbgZGJWqjqfA/MbN0vMhFPAsSD508ALGX/SUpijOZ1e9x+pjL+LEd472fQkV5q3on3mQ16+OhQXOov7c/zWpkmNLBTOxL2fPT1Mg73HfuirM00/meU2xPahjT+O+3txEhet3LtDt1f+Xl/dHRJICEAdC4rzlRqiHE2sPG9Jwn3K53x9tL0GfkvuX//MVCgTfPWbCmYj5rhq0jHTDc7jlr4oSooKzSU7oioNUMLdRDM9EfTlgYVuQ64V5pj49bIH6m/F6nzzXMYxr7X3+ZOS/Xk2t8Kw/VOyvk/bvRHxqzKg12OZTAaDCGjypcMcy8YCSL55H5GZvUTIVYj/P9PGykG94MulXUOf8qfm1H5HXymNCNpsgP8qc232xHPE3csL3Q9JGKrxpOvb5rCAVNjRpC4gh/nSLBNTeIu/ZBHiuOLqcCtt826p4v1DAqr9RKPc36oNGXsE0nQLZAdkeG3z+t9/BDVJiM8gX9MDOlSX/+MZ+a57XWdzXZeLRDl0qNPD77VLBeHk/2PXSpZACklVdi++vIU7Tz3RM+lFAlhad2ok4LDlXF5K2HHk/PidzaJgE2VeOsjWLJCgK+Knd30IBHoXSGX6uf/VxO/LCagoI52XqPR/BeEtlO7djfQivCnpWjvq58Kysyy0f9aLkD39cM/rEdhq7BfOQJJk+1nYS+VldLb0P6xK2b1UfRN0NkdTiSsb8+fVfOzaA+TNqKn7G7KeAnkzF365yjNfoQ0WOXuTJK8kvVjcgf/EeVN6JOBgStZLjfkMFx8iJ4/LtyG+3D/WVjeP5rXymPqC/8THjrvcfoIJnvMFRwPy95vXgk2vEeuJq74sbwrzuKBtyHKNCnKMpJE1QwaLmh8QNfN/niox8YgkVBHTP5h58ifpVtcgSu4M8PB3LUYt87Vf3iq8a62eN711RlXPIy3x2Rz+fQn9YVHZ9FH3IoE/TBflJCiwdlMhctQL18XpkHDcP8k3PmXvSohgnhaUd+tUkLCV+jCshf5kMJqyjDJGw0Oe3KbGbhAfSnm1/sA8Q9Hr0VeYnCdoDnp762DeY7ijUfXMI4/Io+HN6Es63YiLAfwH79EoPu52o889tw0vDsV9X3/lMdQrnqy8Z5L6C82UYJk2Io0+I+jJilLcecfZCPFsY+wvqRV/qNPrvisPH6TtmsV+XLTJh//MnlTLEGAXXfaPkFLEM8VURePIK9gtURsia79soMHHaarvvDgpw6z05WIY8c0L9olUx7ut5XLUXUx77HMto06PIszOCj13F/NFPsU6lKsehz1m2xLBaCf20uM7orCzytvD4A03sV/b15waJTZNgxhdLCcB+xDFyetU47o9z8/G9W7DvsStTqFHHeX5QOk6sOIF8bZe5WwfPP+9fZfLqK8bhULDL608UOCiz8Kr8BwUer+b9e8CMAmbOC1G+x5Hn7pcfCjyN/PSm1Z5ZhfddbtTPoa5lBDlMbEI/4Dz89Mj3LVSwKun+kCiOOq7/yHs34pJme+WjA85n8XzLNSrykF2l03Y1fG+D2c2TKydxDG3fck1kEYT41r2i/0Kf0jh4oZqGfjhsfelxrEcw7yq4/Bb9ze2DoHWbCv2SGS8jX1Dhx5OvkxyfqFC5sy3pPtajipPb6z31qNcnk7c0P8S63D2onsqzCBZtavXTzVQISbcPn0F+WfMr9ZLrJSocfHBr3dYrVGjr+p5iiHwqa1486GqPdXyz/1Ubni+z5TlI16J+v8v78gf5ddVqSoprKQW0FDf8+HMP4x92qNAN6zOlPrGCcQr7suiXFr2hmLeC4K+D3Rgvh9+yf4Yo4Prid94y5HEtW9MHF1Df1XxHf5mFY971zcPlc7BvXb7TvGs/BU5uMvhyyBTxa91YZYi+FnRi2EmoG26qhqZJahToqGrc4YDPwUUiIRF5YIdg0L7trhQwJoPvnXhCwmh+5ILFAxKKBefz406T0KrZc/yDDwk7ZSUzVQ9jHTaXB9+QJKF7YtjVDPt67R9Lpl7LY5/MWRnqok3CqvjTRm/wPYPybF4HM/QHh48ECupgf+lv1vrEloS/l3Oe1mPfnnHPaMvLKQJGdc+EDVcRoGTRuCHzAwHbui8Rdc8JCFKXP1blTUD6wMHQlosExJLnssqSCRi/YhO7O5KA5M9WciEvCeD/xv+reJIAx5SXbD3sWw/oEznuGiRsEU3x3HucBOb9kf1m7iSEC8fknnFGfMlLxlsqkuBzcvrMkqUknJ4+nye7D/vsfPsPM2MkfNDSHOnjRh4M0elu50TfuXf8vSz2qRFSybt+Yl8Qe/rK0aVeGHfnK/rSFtj/n1l/qx7jXxr58z8CdVhNqsdtAPt0I7Ej3CPYz4q/NvcKMMD+5dOKbwPnkbdPK7iHmVCgXmuD5h4H9Hv5GcIDiAdJU7NDuS7IKzqH093cET/GdjJ2yMeJ5v7Na8+g/gVNdrNwvQ3x1bJcB7CfsYm6IoD7So9fsyoO96UgOHVOG3VW9FtNvsRH9AFOfHUcmPdQz8xxEutJmnk3noa+I/GW1H9BqDNCeg1iJYjjlPPrQ+m4j9Prt6UZ4vsKv5PpvOgr1nB4SkzhfrJ9q93PIZ7b93BePI6+oO1yuUnDGAXMVQ8/UkDfHa2R8HkP1nEK/cKO1ljkM/m1cdzOqP8nBNvf4DiZ5VV8APs2v59lTyPxPUXzNDtnrGfO5tsXSNRj8aRK/n7U0RmNpi3S2E/n0AQ0Keg7bNr1LM9iP6m1XW67Beqm2o8E5n8BVHg6pbROGHXWI++Nfy7i7M7q5VP6QehPbCOtstCPC01KH9RGX2+76qb5VvTlRhPLM/LR3wRQ7SzuumA/M3J3WhLfcxGRDtqM828mBQwG0A+J0l2lwuzQF7mlTiR4o25N26QmmKKf/xx9rAt55+xTyY2NiN/HUoqW9kXY36guD9yLui18uXp/U/j/4podYOvPzsTzKtvc+IG4bzZ+unI8G/V996FWX1WMo4/+1xTUgyUqEdB9hYTB5svjs6MkOLg1xQWOIF7oxxOCy0iY1F5rHoH8z6EdsWWVMQmpLZVWLgEkrtt8s08Q8VQ3WROHdeu5K1zP5ygJfFP/eaU7kFC0u+LNBcThFGfBV5VjJKi07Wmb1CNhZsWAVpwQCfm9GV2ja3F9g82h16YJkBPVEh6qI6DfNnfNRD8BU6WNB2m/CDBI/HsxG6+PSre9/9FBgGz8RFY3jr+N0iK4ZwiQUXn0NHOAgN42w5tDiOP7y0+o/vcV3zvyeglnHwFbIrjig28ToD2utU37LgE9X9eEZCJ+W+/n2X8yJWBpgdaxCyYEMJru9035ElDyprDbfz/uI5Cz0NiegKqLBVGRbQTMJf30li8koOW+mfDgKwJsHGOFnIsIMBQ7NFfYRIDdWLmV3TsC9i3fdYXWTcCOupWWE8gfdcpXlxNvCVjeFSg80EWAquQLQqyZgLzANmDsJeG3ovJMthMJ9w9sj/FEnrL1EB6tMyFBIlPu657tyE8rI/5ssMY4rZ3nOldHwvTBkoQTlzFfu0r+rEMeyfHdlWpuT0KM2WMNfuQz2THhiOWvCdDMVQtf509A+A/Lke7HBOgZTr+7WErAZGHgF9NMAk7zztM3XiFgNnrZ6V7kt4yQdq6VlzGO3PV+ZR4EzLfwL6fn4Khtrpl9nYCILf4X797H8/soRvBhPDye7ieks3Cezi5HwyTMg8uwUj0fAQn7BC/f/bkAkpmiNervFyCcx3X8Jz8BxX8Wtp1ZS4C8zO0NJeIEBK8n5Zu+LsCD0Y6zpbQFSBk7cJSYWAB6EqNJfyMB5qsbPrFcCBDVVLJv9vr390mdZSZ9CDhQk90o50pAW9iEThXydUBpx8PmewQ8PhO2bQHzsXJfwPSD/5Cfvef/q8f92cpsagzAc3WSUhPapwk4qxlY/OfWv58fK1rpnSDApdO6afga1sf5hROsdMzLhPfXdzV4/ZxfP/EO1sOWraF0CgHVBzXz3/7BffM4mHB8IeBL4s21klhn1i2Tgn6fCNjwav6pNuZ1ed1UPPGeAO6FzpiYdoz3kgxFriECqFllHg/weuZB8Z6ZQQJKz/4utxklQOdZV83Eb5x/QbJGA/Xj2bc0L/t/f4/o7Svr4WUkXGg9uOPBOAFuwUuMizoJyCmY3Ls+GuP4YVTEHOsx++Vv9SzMo17ZRGTfVZyP/cH/J44dP84X/QgnQIOrNNwrjID8O6vVbmCe8mN5dVbgeT8IHOvTukCAisGhWktbxE2p9Z8wNTy3/aiinywB3R2tSrF7MG5H5wTEDyM+1v4Q0ghEfTNa+uff360xy5iqzggi4IfGygLFXAIKTZ/XH8e6LxK+/84M68Og20WR5xmOxauCzFIJYJMFSSsQN6YN+9xMMa6pPeZXaRaIo9ar0jqGiMedfF/a7XB+IYL5EvOukR6XZYd5Ny/IJX5inlSWRlwlEZ9+KsqiPO5Yf/O68ztw/Z8LZZS/flh3rIgD6rivlQFXPtdiXAT33hnfVkLAox9FPIk1/1s3U6EkIxH5wo8RvkGFwPWsRDYfxXzu+5At/RpIyD1PLc86QYI3386GrGIS+svOh++rIKHQT70nF/20s8Cehs/Y9+yz/n7mF/pd1djprRW66GPTL3leQR8dzfISPrMO/bC6I+MS9kW8/iNqPHwUUM7fVTGIPjyQ4vxLRAL1MD+AshTHtpsesWwZChjqN+Sq4PcDNVIv0pIQ33srxc1OkmAlfHJ6jx8JoZ1CnaayJIz4bk0PQt+TG8txT+IUCdsuy4gtou8x1QgInhYnIW1p9FCqOglR6vYlw8gv7EFaVL0pCQGjWsk8eD7LIyXnf6Hv2JeToFyL/sQk7vrZYPz+NV1hIhzr1NjrNS0H61nO5fgjUazTJOVjJbeQT6BvoNJtjgAhaw+zZTQCeO8ErTRbRULLWvu+sB8E8LEN1ZXw/qBJwS9DxEn3wqT1zXICQhNmK55VIG7CNbzOYf36uuTR9ZeQYBQm9OQ9A/lXdLosTZcE8buf5OI3os5MVb5avZOEq9nbendhn6jjG/fR9CL6m08H5i83UoAafPnR1rfoP46s4jiJfXucz45VlajfnLk7jvZwUYEvaVmyyE/0RW9nrpWin+31uWgzjLpaBf7v6WFUmMlKLZvF796f0HMZMaRC9bndy3rPUCFxTdywAepsabpmezr2yyfEqoe+5uJ8ic7h5qjr1TUmc2c8qJCyiTtpIRj7uTVdMn7oA/4eI735sc92/Lbb2e80FQxPGkyFoQ+Pk/ATPF6Fev8ghPpMbREYb0bs+xIWoYO2U9Q1fBH+br5r5xW5COJrS46mVi9Cc232WMtmGkgWGo9/JBZhk+IqbTMjGhw8t8Yu4RcNfgrkOuXdpMNMdOZUugMD1NSW9A4qM8Al7ei9a+EMOKjtF6M3QYffLZzb62vokGlRqfTGlQHiItkvRWQYUM3R5PZknA4XUiQedi7SIfBeSMYhQQbw8PI8sShmgn+CO+/AGAMUp2psv/9hQFJ4kOtYCwNierk+9a5gAnXVb0sefSZ82z509KsYA9oHGrXNbjPgpNS7e4u/6DCszSV8W50BB4ya4SIvA6b+WhjEPWKAzZecuaBDDOAel970a5IBZ9k9l/o3M6GGj07tVGLC2SO/nJzlmBDKoXxzDY6y1g8MLi/ge7vHz3+Rxmufp/t4qAwo7P7rWTbCgImP39q+/mWA0UOlkBQWA3boX41pHWKAgWfRwHArA+LOGVz6+owBGe4bNkYyGeA97bktwAL3v+eHcOwwA8yWx12TiWbCQW4Jr3v4veOCdYs8npf/s2Bs/V6MQ+gl7RFTJuhrLPTyWTLh52+/EuEbTMgd1Uyb+4Dn32pbUJzABNGUVs1OfyZwtAglBlfjfB5nnhj9ZIJT7kuFM5YsEG9yEIwTZkF8WFejogILeNde6lpbwgJJwexT9zjY4FSqbLDlKBsuKJjLXPrJAvtxYb3HR9hQoG4aMX+JDc+2k3ZD+Wywn1X00mlkwxLttpnRu2zgzXgtoJ3JhqZkt53jb9iQnBLJOX+PDRHLZDhupeNz/bIt5Yls0OFULnSIZIOi8NIgmVg2CJrNjWTtZsPpAOqp3P1ssKs7vmLInQ0utws5jMLYwONVNKUgzYajSz3tVz5gwZZM+QaH9yygJi9cyD7GhkIBol3bkg2XfcpcOh1w/+fOb3iD31tKBNikPGJB3i+zxpADLCi/qdhf+gLz+jbMSVOdBY5HxjuD6EyoSq43149lQrdSgObGh0xY7qzlaHWECRd8M3lWOzHhBPfIpY23ME8PQ4RtfzHhaXNydfEgExgqikMFGSxIfFFrKfKXBUpM7g3XcH8u621fSV5nwaBlZBstmAVG0XOpEVdZcPmchslKBxZMSocu1XBjQTLHd95bN/Ecbh8NEsdYYNi3PHxVKgsyTuwVVhBlw1Bs1ea002ygK19rHdrKhlAliWZhRTZMGzRJNU6xIFbxoW7VAgt+Hwt2EGplQeaX9kuTP1jw7Tr9YyQvG9w+C+h59bFAdyGSQe1kgfXqn6trh1lgtmienbmGDcwTRpxVK9iQAWri9zaw4c4jh11cuO76+1sTckdYEJXF/8jzCQtyhUr8VM6zQGjfnS1ugmww4z3oklrAAnJe63FHIdZHRekZn1oWKJwqNZzHc/e+30l+t2cBw3R377YsFqRcerGdI5oFzr+z4g3LWBDq0tPyK58FTrUyQmLfWdCmzCex8g0Lxmd5rvMXsSC9zGpJnQwbZAfWWpimYR11KdgZBHLo8rmaxISe4NDl7fNwTXbh0E0wCTSN282hG8956XdCGRuE/lzVGFrGhjjCsZFLiw2aoaNdpmfZkOL/JeE61oVbqEPQ5hY2KHmGX+vQ4dCljrkZnPnDhmVHLm/M4+PQ7eVsUK/pZcNY8xLVu1/Z8PrZ66+3ZtgwkyrpvcDFoau78lDPrzk2qPxSuS9OY0Npr3vD+CQbJA92VupOsOFg7+mPtiQbDMNU7j/g5NBtK5S0zVfk0N3gu4cuXYV1aRN4+N0nNtyeHivyOoHvf63dGqjPhrpCz+QVXGyIfrVtIGwbntsiMTZsjgUxEoucDkJs8E7fHTJxkA3pbzkE+G6xQFtTQm0Y43i7uSnCYZIFK9UbZrKxPnivVYxV4liacuiOmScbtifRLRVWc+jqj2Sbe+3k0P2wVXsmCveTn/zfbcmtHLqVh5KHP63B+KkIbLJZwaEr/vyMRZYBh27ReamJY51s4C6qOGDMYkPw8Y9neb6xYU32tVp/jMPZ7QUf+vD9VeW13qnzbPDgl1sRsIdDVyROznWDOofuaW+dV3oWHLqepuYXIw5x6NqYzB0/iPGeUa2KeLGXQ/ecPM/KSGUO3ZqPDLlpVQ7d+78WF7bpceiGO1wUeYvjPG3ny0HMbwz/D/tTbhi/hp5+dgSHrqH++NjVSozrBU/rrmoOXcnld37seMuhe73YQ9orDecRbxPYwMmpmygUXy/Az6m7Bdaum1jg0E1ZU1V1dT2nropaMs1CiFNXvsrfxQfHU2HTbveXcuq69q+KisTx/d8tztcXcb909ZMzrzh0vX8ffEGWcOhennid79TKoRtU5LV/7CGH7pjCisQtXhy63Adc7uRhPNriN54Rk+fQXXlund5hPB//iVPc1JMcutUCZWOG67BOg+ek6vnYUKF7U/OrJPLbxNGuE0vYIC+yb1mHBhs6xlVtVmcxQZKS6izFRBy9NIg994EFVlvX7X1yG3m6p2ttVxXm+7NqObGbBXFFwcwEXxasD1ycEkN+27Y1x08U8eMnvj047C0LspVH2mVHWRBxaJhMQd4cvVSgwoc88DNyHcdqRzbEe/BPMxBXzyz01372ZcP1pnsDxkpsUAvO5/F1YkOAgu7Xx3vYQI683HsA87y5aLgtSxDP4xpZvO8GG4KifwpoPke83fvcvB95nidg267oajbMiqrYdPmzYI2+JAyXsiDos4hVpBVePyQfa8Yj/w0QqiUxLPjL8t3pkcaCHUpS67yckWdSx7lstFhw4VZp5fINLKgSMHgyqMmCuXTxfbV3WLDJZE2MhjEbHMY9XzRsZ0M4rbk0A+tcdSIwuFuPDc0XJ/edQz5L7Xth/DEEdWOzcWT5BAsoiydN20rYMBWS4r46B3H53HP185d4XvUb967h/TetSQ6Zz/A8v19GZWbhdx5zaXFP2OArrd3CdwV54pBRf4wX4vHQtKN9MBssbgS652K8bO4J+m2LwfVcXcw7H7KhhRgPGKLjPlZLiaT9xf1lRPJ5LmBet+kUt8yyofqLe3TfGBsM3GSjlLSwTo2dV9bUsEHYJ+p2hRjiwewDywbrxy5GYrm6KIfu/8U1+J7Cu2zMx1iySXBrO/KagWHJLJsNKz9+9K/6xYaPW0XSDlDZoDHgdXw7N+IgUsZjuJYNzld3qe9HPkyrDstpLUf9fX7QOCQOz3WQyWxEfY2eWJ79mYJ58LZjlfHjueImM12xbsJdchQOf2GB2nLtF58HWJB1yStGaj0b2ssaqCzUt6rLu6I3PmZBmu2B0jM2LKCdlb1xKIT1//P+w2zH+oyLLBi57ezaeIMFz82qjZl5LEgYsLz3PogFNb2tjkL4Xsnd1ENll1jw6FJb8BM9fO5uyR+8BvWMrn+nfydeW/9ydVXF/JXeCtc0ZEHPqZ9y78JZ8GHd7ojDWDcdtTee1qDOVK/oWV13kQ2bX2eu3W+P59O+GzATgTyZZOx12Qr1Urp69gT6lqDuqJgbq9mw43nMRL0c8ue91SLvUeeTqK/qjg0zYfgVMZ1fy4SJ+Rcrk/3QX4mm7dtwmAl8FUvWcp5jgkjY9iXDS5mgOWnAyW3AhJD4nLnt8ww4faTHxuQxA95c3LG8r5kByabjFJMQOlBl3K7mKDEgRfTwKzcOBqx34LweUkgH3ovdn5Sd6ZAyqbydS4MOL4dH3lrfpcO2QNvmfFk6zO7qaCi2osP7pnVHLofRQWJ6tmMQ51vuM7C85jQdNDIKj63wooP9GSlZgXA6bFg88mqXAx2Sn6SdXcDnIteLolcF0qFRJyeTF7/P8SqoJLTpoMpteObeSTqoqDvqNJ+lQ6Jk3TMZnJdRc6D/TTUdzAN9egyvoV9+132ELcUAW5d0173rGLAl6pWBNL5vGD4yompMh+5Xt/Z44+gu8pRxvJUGAQVyUSadNOAD7Xj7Nho8E3LVufaWBkaho5I/E/43+gl8aLjwlAa6IYwL/jOLkNW63L9TjgaznqZiQ5Y0EPq6PprGTwMl+sYd2lI0uFAfciKGsgibuym5xuxF0GS/jvp7mAb5Jyu/D+ykQbT7eZ4oPxponjJ4G5pKA9Eth4ZZuO43y1XOxvvocPa2tfZCPR0GzJfb1R6kg/J4lZyoBB30nDJcj2G/IlcqvCRvMx3GVizeO2hPh+hvXJufmtFhwW0lD/0EHQTq7rVLB9Bhx34+gdkIOtxuusXebUiH19qXS/x86WC87l0hdysdaKXXbwRG06B619rXoaU0+PGu/5PGEgaUXwpIvn2EAdnnVTlafXC+3wtmLZJ0EJ1+8HJ9Iw3eH66rHZuhgXvz6kSBhzQ4aVCs172VDg7qxznPq2B/NGouzrGCAdbyC1kDHXToT/i1ZrKYDkKxEyc2xNDBznhueF00HWLiqF1bD9OhWO3utO85Ougfm/FdI0MHrdLiza3dNGhm04pkvtJgm93a08qVNNDWH2+0S6ZDzdNoxQplOsjEXryou4cOPh3cIbxqeL5Y7cc5UXRoGhctXZZDh8djk/ufP6ODWtVYth/2bQn8EnfXYlwa6z+8j4mnQ7qVlkv5UTrIOt1LqXPF+77Cb+yC6KAklv75EM5jY7RZWcvzf9dGg7XJ4li3ow9fMJkYR+rg6p+FoXTQrdp3fALP5ehWFC3wmQaKHikc5lg3vQ07hWT+LIK1oadT1cgiCDy4dfe/YBpY1u7/WbSRBiNbi/XL6mmgknG05/0YDUxyVK53YVxPD/TWf8Y8K5i4uv3+iXWxLfRvTA/2q9uqH8tdpYGGSausfQ0NlksKXnw8QYPrmVxRw7huVlmsQtITGtxevPaejvnyfvYl6a0Cxpn/j57tDcSNskvIzTjEKcuyLi2NDnc4I14Q9+iwZO6zQvbD/52X+3daqjXG5YRtds9xIzrE912N2Y64jbEqM4nOowM7Pt2mE/GTUGLevP8Dnmfn7qqaNzSoqnT+kYT1IamWtZWKeDHXjSbF6jB/gjZWfHcwn0fXrzS1o0GEpVyfFG0R1Iyke0PNafC7ZoX79Ss0uP/0jOI5Rxo4NIrJXazA+TZW7wjGcw/qLh06/poO9BUds4NYJ8lbpwbCL9HhZ8WfB4MBeO7bRp5C5Yugpa7H/bRvEX7vWtaTv4wGG75dsePIpIH67Nr5Hf40KNTN0xHD9cNfXeeaDaFB/eIYz+p3NCD77fLKq2kg/y0/6eMrGjz22fqzEPEQ900s8tgjGjj7tMixMc5OFab2Thuxjl9K7CudRD5Yuz+zFvdZV+6YHxdGA1pUy7HZ7ziPe7Hc6/1YX09qhiU30YHvY2BPNObXI2FoTZ8A4ig1Rf1sO+a5/suwQjEN5iuJaOuldDgNvDz3xegwcSbKcrkgHTaFbTFUUsX+X6bYj0uLDs9Wc0qJm9Bhi8VNmMF9jFxVnR6TosMHJ55D1lgn4QaEf/UixjE0YcswPi8S0G/bIk6HiKR01y7k0dgzvKcT8H11oYR1WrgPASOmfwziS61H7oIr4o1/dMFl3W88x+Vtu959o4G0YHc9fKEBp11gxjzmuaM8vO90Cb6Xk9yoh3g06h1vdmLToISiXt2G+GB4URM+W9DhTdZiXDfiQ9XUVzZkL+LkTG7MGK7/N35Wb+QIHXrdxp++nsf5jFOiCptwndXKmaIjyCdvXkmtBzoEPOR7an8I+ensSNc2PTp0eC8vqrSjg+m3obkYYTpMvvYqbCZx/f7IX1e56JDPMsnh4sF4fI8UvsRNB53SgQceiKsDLwTkPg7TwG4+7q7MP/w0/crUw7z1typ9O9FHgy/lWcs0emnYz56iRAzRgLc7y0F4gAbdJ37F3x2kgbXk0+7EWcyzJY/IuSkalH992jCK86/87sUupOH7Nb+3ZiH/GKx2Y7QiH5nFvVujrkOH32G7z3Djuc3kPr8MtkGeut1nvR317XrE8bRSc+Tx3OjQGcxrougOShHqk+qsNO0bnq/zosHfxTPIIxeyvrm/oYP/4c8b7fD+jiDOXQ04T5HpcuNuHJvMgmUPI9/mdLv9EjWgQ3tbsMMwzmfobW0aswH19bbwdxrWQbF3z74ly+gwrfyUFfoXdeqMt6Y6Lx0q3cos1/2H8S/78kC7iAY1P358+o35bN27J6QY65l/rn+9+CUazL0Q6vh0FOtZPezansRF4O9RWVL2bhHSfjTeVexfBO/OdpvsukXIqY8ory5eBBF64sLvokWoWjGz+kXB/+4bnbwhrlq5CGbs0/bFZYug3mci4fh2EVQt/8gJEIsQr32f+/XoInS23zP6U78Ia5pbJBvnF+FvmJw/G9fhID58Oj+4CBuWPnjE1kOevFXX2II4jjkTs8mQA3XPxtX1FOaNf9mJ1OcZ6CuGVJ9WIU/5uDOqDqswIM0xpLGMTYcHrmrDO9rpQL60jU15jj6l2EVpbQvynKzSpuR36C82i/i1CzPAl280uWgdE6pXr4q/w8EEMiLjyoNqBqjW7WxOv8AAztQlaqIWDLBbPxtLucsAgXw+xj0eJtgFFDXWf2LA2RHN0Dg2EwQ1DgtUH2XBA2PnjTspTEhcv2zJsiVMiHg0p8meYIDzqycZUbMMEDlzexNvOQMaTPY/vt/LAMksQWvXYQYUTnaddOxmQKeC/iaFfAZEPEtdahzEgEmr47beVxhgkXT5tiLux+6M3QuZANyXsjH9qCh+n7gptzUQcTujvEpcH/0LfeoTD/JYefNEMdlCg8YoYZffqNsVYgxhr/N07Otmj1pmM8CBW5F1yxvHoB3a1OVMaFM7N6iti3GoV2HcXMGE0oLjFGMzJsS2BuwJ/Yb64feEfm8rAzStUioUDRjwYanmDbVV6B/eSVxz8qeDZ+ek4+UROjinTFZMoF+z/uvb9UkX9VQ8wq4MeWNNos+lOuQhZunkTc5VWNcrKvdV7qJDiEFg/o0u9D9KfCnGqDtXzyXGH9JkAMfv8CTfITpYHuJ6I/wI56Wt0I3rpUPWlIOKFvqWTVG6n9JxH/OP2e1ZUQzQ9l9KMfZiwE/qtqyJywx4TXlc7+GIvuZLg8tvjBtdKEHE1ZMBt/2+TOX54PffKGtPhjNgZ699QXcDA57ndxX/OsgEWe2HUhf+X3tnHo1V3Pb7bSwSiUpKKUMolIRC15ahKEMUClGGNFCiIpkqokEpRMiQiMiYNCgkSSUqMlSIBhUyJN33vfd9rs5ava11nvWc9znrvO+7zrD757P2+Buv6/p+Y9muSHvPwz0fKfhYc6vhyCkKXliPmtzyp+A63O3qUaJg5IueyAz0f2Pic65JuNDgNv1dZg/6BPvutSYK6Af99jZdb/9FwZDY48w1GRQ4V+VPmfyIgnQ9Z5uMVRQsWuL4vd+agtj+2GiNSApOZYSX795HgcUb74dzUc+H/PIRk8Tnnnv63Ku0oKBy5dJzR+ZS0BA8sKxOnoK5h3ZfbMf1enFpa/CndRT4Rlgovn+OfmCt6sVEUfRDobb5h59RcE6tLbQtHp+3CYqTPkJBrcy2zywdCvcJ74evLznw5lk5S7uTA33vhjQ1J+C699m3pvBScMLq7aXG7xzo4Va/u9PPgT0lgVEuuH+Njx5dlYp+wr/y16ti7G/Bty7r1qU4vis/yi4YUmC65WeOlycF3zJnJe6cSaEuOyVrL4fvK4pti19AwZdZVmt1FClwGGj3PfmRAz99Ij3CeSjId50mkIXjkS103MwDFHR729bqeVDAmRkbuT0H/c2D7CWVARSsKXqhHeCE8bd8mrbZagoEJNhGMfo4T/JX1neKYrzNvxU/iHHUY1R9XySdA1dtetfLGnDQX7BE6CMcsNWuXBwSxYHn27TeWOP104uOHRLFOF70WMvZjM2B1+FLUvNYHDBp2dKY+xn7Nye/NUCEgln19/Ov8VMAzhsntWD/+UxcTwRh3IQ7LGmywv6fSX1htXwMfVVz9RSXUQ5UzKk0df3JAVc+VpQKje0sHW78+osDYlZq3sniFCgYre+/jddZi4383g1zIF7GbPfXVg40De8J3fb777BMXGi7rooDo3pPpBsOcCAs6771UDQHwgW/jXzM5YD2wrbxPlyPijrhd2exPya2N74GylIgV2inN6eLA5LZ3+Knnca8k5OWnRWO+ex9bdxTzDcDXr4Z3diPzLkbr0hi3ntzsaa+GMdfun2fjMIDDhge/tKdOJ2Ci4Red85ECsrTqKsROE8Vzl+esGM4qH+FLMIxfz1bJRv4cYADirM6vtVgv5/OCnG3LvpLlQ0e/oo3Mc+1j9psecSBy7EPjMcwfzom+2wSkubAZ75Pe1tkOOC1f7X/O/R1HZv0zM1TUW/a8O0JeM0G8QdVHBnUgcOHzw7cuIT5YRJrnoI81ruJ3yLXqrNB4nKJeRb6nFhelc4u9FE+k8+H30ddr73riNlp1I2HPw/WaqD+4Hc5w5bxYYNn3ZTuVajn7cOLOjZEow94er0isIUNgi/h9TvMLz4Cb/aMJ+F5BXGBzegvltJpAhOi/j53+81Dvhlb2BB2IKasZwkb+u+9uakojPrNdyBLJZEFgcO+MpVYV4fcFEKvof7t8xnTCkUd4nCl9+KkTtSdl7JeGqH+kJ18p2veLNS95IbZHugjNVdIPzY7gvpsgsoZSdTvpTdy3p7AvBjfJfLeCft//VdR3pscNpw/oP92Nvbz7rDfbhJ1ofHEpiPPdqJekCItwlFPHvQq4T+DOsy5P3LvV/TtgZb7z9qhfnl5wqTt5hSsfy3t0d9w/izkJbepq6FfmtHP/oz+LSy/rsEFfVCutlxXPc4fj17FlOuqbLhSpfS4H/WNd7dQeCTqkLk9fE/eerIhWu9u1FGcj8+Cx4qX4L6khA5JHsf9lrRAVGcxxrv/7bVjNT8o6LCedTpmDwUiLitXH2nBemGYBW243+uyzvDuvcQB5xvXW12cOSDVkGO9HuOSNaVUfdyOA8Vse8+vzRxQrn18Lns7BY9z1dSUYyjYuX5+/F0W9W/t6JZba188T8HW55zdhgYUJPB3Pn12HnWXsp3jARwPv8geZ8Fq7Oe6sKe8TTgv7GvDS9AfiknmxphXY1wt1bQc+11HpwqydwRyIJf/5IigJAeGotY5lPdjPVuYVT81iw1EnlyRNfo9/+W1C9Sm4f5o0ZAU0sF9I8k27kO9ljJfenY7+vOrkb/IWpxXdj3/lQtYf+v0RE+noj+7z11F96EvEXU51TJ8kgWff/EVjv/eD8IHMy1Qj3kusz/V6s2CL+U7V+Sjb/FsaXs7yQP1bmzzFT/U37tTbl/RQrbWljg9f4T+Me4uuSycBdJtQU42eFypODPbMQ/fL2IpdeAbC+QU5Q8tFcJ5GOj0m0GxoCNq+kQVvE+1f9p5e/QtSxovHh9G3zX1hJTGyd/MXXG43pQFuXVh561CWFA8TalwMfq6yNRDppa4rx9ErozlDWPBc7tFnx8Foa72iuaeLMH3WdhYTcZ+NZTvuHIYfc1VoRTB2gcsUJPYL2RVj36womOzMb7HImBmzhjqjzWLh3I+4rwY1Zun7r34d1x87W7jEpdZ8CEuvSgW/UHn4K2paTg/sEbQ8ySy/ka1x2XU9YrKT8pFUMd/c1YuT0B/Im5hfecN6vZQe/FNC1D/CxsWGLiir+QP/Gi6Gt+fJ8q34TjGo/vrwru86JfrU5Lt+IPZEEJk3xA6x4bM0+fYCd5sOMfa9Ow46sJ5uyqEA2JQf+wqnGyQgMfmm5/Pe4bxJh4VnvwJ428OS/PCMBt2NBlonCrkQMJgnIkZ1s09rmGdRYcoyIl6HyKMusFQ9Fm6YBEF0Tl8y2YGUlBlmhp6142CeMnJp63CKKjxgs9PorG+SyybqayL8bEqrqQE8/BPIafpqZoUSMW7LNLHff9hRtbyqnAKvGvuJXtcoWB2YKb6fW+sz89dSYM4rPvbThVHvsb67rdNWpKXhg/BsnJq02mQvKA9SbMT+xHz9eb7HgpaPq+fsLIF62VDVEZ5MQUbBKtykx+iDiipvMpbRYFSgfkWoXYKtKHT3KCUAlvFntGOa3i/uUpSTToFx1K1L8anUhCmPzX/ez0FM36m9A1hPGo78ySEXkTd++qVSxu25xn28rHoZBqKDgoPyCTjOA4HipahfopvNZmeMY7P3/Mp7e2gYDDyW0XhEOqG2717ArHfEQ/jp0R/pYCazakvF6OB/eoOO/EO6tDuhdPd8LlF+wonurVRkPl1bFaZAA0qgzHDx7Ow7speSD9RiHX57v0MzRIKUl33lUt9oEAzlFVZhs9JOPjEhtvSEPjuSL7yWRqCqiZkPNhPw5npd8xW+tDgnxwi/CAd9VoRZWzvQcOa0C/8/bE0lHwMnbqwlAaF0ozNjXE0tPrutr+Nz5OllwcJNxo8DC2M/LfRUGak9J4wpqE+9F3yhx00OLMUjD3x+u5HG04YAw3UnDttaUtosKlnLR3QoyFFTk3+ohQNQ3mnFCpn0eCd2xbcKU+D9bygbOl7qM9O3B5Zgjon/0d1mU43BUYFFiPLr1KgQxztK8H5PrHgLrW0koIDg0dd5uJ8m/jtzTv8GMdLdeS243o2JF374hRLgVpLLP8w6sDrB+bfWzSMdfxhxIaa4zjOl+8uhXjTYKBdLfA2ngaHn8GCZxJoGB07yfcohoYXa7JjeexoWP91xFE+iQbxnt4sJWMuLHp4hOC15AI78knhNwcuzAta0vW5jgvhd0NXrxzmgvK5vUkyawhSXvibdugCgtT9NfIz1Z4gVTLCSH1dgryftzzu5XKC5H49Y/zWhCCHF5XEa+sTpNf2FGMOHk/pPWrh60CQGlTAyAYLguwrSkjsMiTIoZNLjPnxOr0lpSwxgiCLV0bR1dsJ0k/MaKTVnCCNPO5uuR+Kz3nXbVTeTZAv654JBPgT5Id7vMSCXQSZKKafK78T2xO1cujC82vzFSw/ORKk/Qn35b0qBNm0RFY1X5Qg05pNztsvI8ieiJfNC4QJMi67/WytOkGOurhd9thMkPzHFCwuItesJbYZRBJkzQ0Zwh3fv+m6QPrIBoI0jh80n4PX37fd42S6EmTjPt20+TbYr91Cqw3MCNLlp2oaHx7XpEfr79ckyKyT8Hr3ZJynA83dDxSw3y1zkwtNCfKgr9KghxFBSt2bzYp3+jtenqrqy4DzkzWge1kI29EJp22HvQlytmZTzqIdBCm5xtOMx5ogRbiwdgjbiTTVTW22Ikhz7vILXisJ0iac+3U+zrd84IqLG4wJ8pDWycQqnF/L4pPJV7F/85QVrRuw33IOUlbTnAlyyf1Rr3uXCbIoX8q6AM+rCHGUc58Q5OSzhT/5cV2TG7uML6wmSKvqZIM6fG98hdK2SzgvE70+eX+7QpASwj01O7MJ8uT3X7Or8gky6u6aKefOEuQk0uGeRwJBbjYc3fk6mSDFEvI0rnQSpKJWZLt6G0Fu5Sp3XG7HcfZuV8l4SpCLZTUW+jYQpOqLJKJiMQ/ZuO4Ba60cD7lzZfDWdWt5yOsJkYsHL/GQX753NEQf4SH9tiQ8ywrhIa2OQPDO0zzk6Jw1TbKRPGRlcF54EN6XFtf3nHWMh5z8THPOEz8eciRxZ57jUh6ybtvM3IlqPKRkicv6lYo8JNet/f36bwSpPy3kh/oMHlLU/8Rn918E2ZC0mP+XDg95QDWaa4X3d89vyb2tzkMmGD2MM+PivvFZb9IowkPapp/oK2YT5Kt7v06JfyXIbrUdGsI4TvWpXbG6FEF+Wi6Sd1SDh1QZnC4ih+OQW2AhOWELD2nCl+1qaMVDnqir9uR15CFrqy7YN2vxkLlq2yfmrOIhVQ0WbshZxEOS9WeEbIx5SIXWLuHNa3hIvU/C024585CXPS5NOb0R52Hnwo1j2L+3Dbwb1uH9NaImNhdVeMjgA2W0Cx7P4Cs78eYDQWousDs++x1B2mqw42qx/7ujX178IoztrgxY9YuPhzw9cQIVqoTz1WwaadZFkOKt32vl8nD9MvbNzMR1Xhq74KlsOUG2D728bYrruzpPf+5YMe6TkbwH6ZkEafotrMQvBPe9fL7N+u1/4+SAtWjES8wLN3dtFQGMbwmSjzUqTZBBCi6PuiUJMoL0XXpkJsZlge8C/fkYT3wVFAvj5Izt5jYvNYKsP2SQT0wjSIfkSCUjfoJ8ahywp+EtF6RcVi0yE8N2+3QzdX5woSW6sHHvYoyv82/iFWQxHlYaSlYik44+Ki17xgX3b2u1pn3lwqGFdRYbeHB9Pl+OfT3OhcxDa1TFo7mgy3WF4/lcmOwoVUxgnjtT6u6f+gk571yS7k8uBJcvzTQWIMh82WKleSwujL84FHljEkFWGGyPicD+vbo5qcFnAuax+bMrlsngPB82HRvA/lEOY60Fswmyy27yKrHjBBkmra5VGofzkmCn9sUL36d24eszjGPejdZnQ5ZiPLt65Ez5/fNS+xcOfZhf1Qv4BgrkCNLM6FqSBuaRFUHKO4SQ7c0vgtbyEqShS6XNyl4utIr6yvu+5oLvDeOvt/BYZMtZzcM43kHHcflZgzjOJMW3Mm+4YDxt7Yd91VxIe7Rsjn0OFy4O79rc0MKFF9+v+SXidX6jW1GJPVyoeBav7afDhZsFz49f1OfCAPdh8vYhrKMi3ANHd9Ggyh4o416m4bW94KuZeKzUHOTUEoq6pE/J5fJmGpa4R2fb4vHb7pdndbC+6i+c0jdyigb4Mna/zp+Gm/e1ku7tpMH32aUpKtE0ZD2nmmetQX2QtH+ehgENkSeMHrkJYf3WeDwu8RP1hf1Ubc8a1FNTWNvuP6HA3Pnze7H7qCP8iwcWou/wbnoXKi1GQevKdPGj2hSk9X2IOIM+4e5Nyf30FgqEjp/9uNGEAskthkcqT1AwvvnGO30rrKcrrlb3rqRgt15cWoE+vld5rG8tnncfXj9Q70TBKeVVmgsXUNAnEbb89HwKbhdtXtOI/js0QzKlZDUFY5nmD51ksF8pAoHXl/zWTRd4zGdTcLBzmkeZAAUx5871XyhF36G+bFkD+ns3/YePFyVyQIC76oDjUw7YOpVnaligPxmIiBA6yoH0RKu00nUccPmu3r+K4MBS42Uma9LYUKb7cO/Be2zobJ8W8fUGG9JuyWdmdLKhapvYaseb6AfnGP2qqmSDpRrrrlMVG2wKCjSeCnLAQkJL5ccdNkwMlz7/+job+pJznhqizvUu5xt1Q799atzrfswQG/xudbGCUfdOLygRfvSEDdbpggfLGtmQXu+4AdD/TXTMN9qEfjNHRf351T42VDqm3/WU58CJXtuASCUOSEzIF3OR4kB9toy602wOPJY1XW/NwwHZM/nT36DPOmW4rv+1Nwf9qx7vLH8O6KgutlzpzgHvK4fOzdnKgUNv1LpdzDmg9LzDPs8c59V//YyvuA62LiGGUjUcEHvhmscq48DE0BX9Wegfyw4+EpYr4AB5o3upayYHiFP+FZ2qHODsN75udQH73SowZSPOU3HKiWv2ZTi+/QUzE9Dffa6J1OKmo188uZztewznzZv3mQ766hIxobAB9PtyTeLrY43ZYM7PjZo9F+cheELJQiX0g5vyah78RL8UZ3lISwLnQUejcJcUG9yuxso7S+J8jwXx3fyBvuXA3R75ERZMPnhw/lECffarF/3Kb9EHxufdtqFZ4JOp8KWqDX2iUXm6AfoU/ayk7cGjLJgXG3tvCfqd6c16Xht70FdFFIkl4HvGFeMizLgsCFQ0ejRjHH3ZWEN1H4cFfe5Tx5MGWaBke+uJMd738Icxf1A/C8Kna3Vcw/smL3xBjumyQaJcUPy6GBuOZWlvT8LzmRc9lnUsQ398ckvdTZINvgs+GgcJsiFVO2eInojnV/PO2SiAfvfzjGm/RNng5V6ls+P3z0ceeoTKod8MM77iEtPHAgE5xXX56N8MzorUJCWx4GlK+IjQQfSXcFt5MAp9p/idjCD0e0seTqv63suCroib0V3oT52Tf+w7a4m+K3T6RrfTbGh4aqclasuGAXasLq8pG+4Ep73O3oe+vbFyaFsEcmWsUronGybzOJRKx7FhVlpB/4zj+PxA38mMPbhOyaJLoyzYMDZ73lQLezZs+CQeX8jPhqaWJ7nC2N5coZML1+E6NgnF5MYq43oqG/IZzMf1Xn7Hu3UBrp+yiuEaOdzPAVffpeA6C1xcPfb774XbbdJdfR7vc9mx2FcQr/uaSiapybNhRE9eRRXb8esg3b4bsGG9qE7vrt04z6mK6tcOsiHBSze/cisbXgbedji4Gtur71gutIQNWo936cbJsmGFCm2Qqo77U0n/2PgMHM+u+4V39DBuRSZnJ+I4NHfy73PC626Og6te4DxJ9I+ZC2/GfVS/JUBViw2iedudO83YkFyhJTSM7eRXyJj+/rmS/uOG8RJRzBc3r5/x/o79E6xYZPWBDcp29ybUD7KB/Mi/0eE9G4irp7dZc9iwO+16rk0AB+6svT11wzz0G5YOz95vwnz3YpbypQg89i119kDfGajus59jj77VOD6xBH2i97nVAU3HKNjqOlTSe44Cux5KYisyU+KcXWM8+tO9ny6r7UC/e07tViv62QEDtpNXEAVOEmN2JXjf1g3hJu/QZz40YiXGZ+P77JavkkH/kjAxTn57FwXKm+pCXnymAM7WL59oTcNtqVfmRCMNdq5eSzgh6LtOrYJ96KtK9Ornu8vQ4PJGP+kyHqeQLak92O7PaGXaYz3mDXJFWq07+kmqaPS2FubzCpdjU1dQQJbMOTsB/ZW09T2hwRD02c3B7rl5FBRd6PAZf/G3/bc5jzevG6Fg8yebaIEGCviXpXuROP4PAm6e68op8OH3USnNQN9WN+nGMfS5yfZnQxOw/zWJ/QNN6HeN1OJLEzRpOGrWuf47B/2v6SSbxO8UcEfEQ6ahX24fkqrWPEyBvdt5DTOcDyFBjc+bb1PgEj5XKB597vANy3Xzb1FQNUrru+M8nZNfVZ2eSUEP3/KFhy7+bT+9VCU64QoF7MvT5XqTcJyvjTMSsb82xhqJjQUUuMXcu+22nwKtsaFA6i4FBsL686f9oqAik+/9Unzvl2WOeZdwPOKpAju7rSlo8lGYXxRIAZFuuj0P66qHZMh0WWwnWnnFnWsDWCelms/WvMX768M0DMYoGE3es3PuPBoWzbgwdRXWZeGPao2BOI7ntVIHv6FPnby6qiUcfetkW1WjU3j+4cH7ibKvKCjxMCggsZ7b1D66eQv9sMzrnIzD9RToL8/LZvVRUBy5h38YfXFl3AU/1TLsz/JYldpxDhQp8XGXjXLgRcqjr1tICoJUAg4Pi6IOUJMte4zrXjn8kjgfRYGe9akoKoyCYwYx7wwOUhDvmuXLwv3MelX4ISkX5y9c0DSlCPWA/BDvnhSs+9NWbAzG+Ro7diNqJ15vMepuS0E/PprV825WHa5vXfToVVzfpEP3mk1pCrqiald54f5Q9NTsb22joPN4kkBS89/3R2paXZ+M6+Uv6WG74PLffS53dYXMBby/Zkw5UBvnJ3PIlXduAAU8xV3i4cEYL67KJXNwHTtrXgXMy8H1zvMoCkrF6821AbMeUCBmaatYheumuFi+Tv4rBYNupWxHHEdYW3Z2EuqaFqt9X07j+i2ts9gcehb3w9rP0xfE4rp2r0ws+4Hracc1eqNFQ2/3tpEyfRrydpyweLeNBrfdluUxtjRYPq6r345xJ1euNsu8hYZuMDL1e01DTKxZjXohDT08EddW5NJgeHTogGQZDRcFztCvRmgI9XqsFCDFhZyZ999fFuBCjM4QSVaj7stYrV50m4aRNSpcv+s09N0y65yJz4ufUcivO0fD8xhf1cMJNAi8fr2tD/WivZGE2eghGmqXTQw6FUFDyMeAq9o+NJhtWn825wC2M3NgxmVX1JcmNp5V8TTMrr5mqplDg0G9z16LfTSQN2VveXyjgZ0ZV+BWSUOQvI6JzyUayrN71KVqaehy6lRTwfZ6b1XVzUQe3KWufA115+jT/Ac8G2hYetrRn+1GQ/G5sDPbjtCgaGKgW4XvTc7acX8xP/Yj7rjDtHEKnu49ul8c9++Ou5dXPMV17HPf02CI86twzVG6aJACgVE153Jcn7717ar7Z9LwMX9pkdsEzAeNH9YmsSk46neq7tpkGgZlNHnl8Ln7YyN1uzox73D9qnd/w3imPVwieLFfMhVScvicU+0F6xLMy0Hk2k2bSlBXFjT77rpBwZmR22KLcN8JiQlOYj/5HQfN1U9GKSiviim9i7q69N7itypHaYhXaHy53RDnp+1JSiPmpbG6PS+aPlAQrlr81gHzxcRCVXGiFff1m9uLHHCfi+zJWdeE+22rSVtMIObZDUF7ImdOoqGD//18QSUaal4eThzBOIhudzK4OhH7pzLrm7sxDd/8lnWfdaIhVz6wct9LGu4OdyyW+UWD9ZZrGlkcGqjeyNRZ53GfrY56mon77m2c362JOI5503pqGzEPenZcWP0V894AP6Ve/hHzn5qyX1gP6vk5W75If8K4nb5/51XMZ05fBNe8c8Z5o3OAg3nUY0S54fwRCrzsaw4Un6ag1yfgfT2ef2NV07wb832CWoJGH8ZD2QrtlPdYj/bdqTsjjefzNgtuLMmiQL1zhpQo5kHVd+saNUop4DjXzBjHPKJ9Z7ZBI9YJvUkLJTIx/xw7zfpJfUedmVXgOr2LA0KbrNWuqVJwZ+qUbG2sM2J3bVdLoA8w6x/6EvUadXzY9K8JxRwINJgXeCeGAzOiV34U48P6Q2bwyqhhnXRssSrXwzxlt67x/VTMi74Kes3TKDBNtj/tJIxx++H8Z35ZCj5uPSku1cOBkJJs/0PIrtM9fNt/ol7Wybnygs0B15L7j4UWUmD53dhpnyHWMxWJtps7KfjWvKhE25aCPYEPyg5gO01Pj+kuxv5NrtKlYrdRoOugHMx24IB4E9dxkhkH7GZpis7R5YCIM3+vxHkO+Oza8jjnGAcK/OV1elBnS2m/Xx6BPqbMMet6Yj4Hdk+x26SYhPd1PJ4/8QYH2pePLbW+h/lZz33Ko1oOOESk7fJ+w4GmjVwDV9TzPnfSmmtwfPb9LaEU1mMf+eHoUszLCgkPpUd+/9w3xHDFx+0UbKjxH/yCdeM2uVKtE+NISXidVDHGzbl5Yx8O4v6c+oMb4oF11fno6oRI9Il9p6StpLE+yyx8nCKE+6CCd0hNJRHr3ZC8tAXGp8vIAq+5mEd7dVRDBfZRYJ2RExDiTUFUx6P2CZif2bUzy4J98Xn2CtdfKhiHvVD4XYeCK4FzEueuoaBDN9nx0CGMi625InqWFBz60v66EvVNb3rw8h9Y76cfL6j37KdA1FEr7gf6X8FWY7EEd/S1iiOJ4RgPdSriMTftaXi2W2iDhw3625NJrwNX09DKNq0e0cX4vOv+a8pK9Ne+XdvuAA2ntDY/t15Aw0+vcm85Exraj9XUKTrQ8Kb/BGVB0mDiXnvHS4cG0xkqrYcwH47p3yhvj8Lrqp6zUzDfkN3Ny6ZgvC8hHiQ1rEJfzrew4boiDXzmhW78CjS4B1fMKMF8c3C9eL9lL44zqKZqNeY31SuLs49iPfZt2XitqhLrR+1zMhjX58//vzFkyJAhQ4YMGTJkyJAhQ4YMGTJkyPA/nn9+D+7P78f94Z+/H8KQIUOGDBkyZMiQIUOGDBkyZMiQIUOGDBkyZMiQIUOG/6/xz/cV/vDPdxf+fI/hD/98p+HPdxv+fMfhz/c8GP7/yT/fB2LI8D+Cf75D9T/SLWFoQ90NhgwZMmTIkCFDhgwZMmTIkCFDhgwZMmTIkCFDhgwZMmTIkCFDhgwZMmTIkCFDhgwZMmTIkOH/jHbnjQNlov8yTIn9Md+fC5m3z99VlP/XqXA4MyZF9i8Pyn88vnTWX1qfP/qu/AMNCvRu+bEsGvp7Anbsmf7v0zd75pEANgVu8zoM/B5Q0PHmLUUX/b9HHRFnhZwD/8i5hOFI42YKLJPE0n7VcoDnR4zSxwQOyE1gtRhLc8BXwyN1fxj735hj4aAnrfV/HzcrG0nNucoC4SOJyeUHWUBekn8Q7MYC72Wa2iU2LLj++srB8Qu/IPVVrdHhwnFw1px/zT3vH6kzL17WJXkc/KubNLN3joPldaksS/tx4Ib7mBdZjoN1MWycn/ITcruoAfsFP2Gejd+BkndjDBkyZMiQIUOGDBkyZMiQIUOGDBkyZMiQIUOGDBkyZMiQIUOGDBkyZMiQIUOGDBkyZMiQIUOGDBkyZMiQIUOGDBkyZMiQIUOGDBkyZMiQIUOG/2nUKBcqdCz95xS8HFX2NuH/PA7snXjp+9ExsHRq9k/fOgYydLzKBLMxuNhP5c+QZvhfxZQz6g2cVz+geKZ8ccnVH9B57cA84bAfYO6QPS0k4C/PDLjXT3Uc/S/j89Pt2WvW/vtscL0pzV7xr3OwUEzqgPI/Z4vKmg/9IyP/y3RdFHdLpv+fs6njYf65DyPwsVjU40jnMOyEHkUd+2FIm7544k7pv9Q90jJ+hD30D4zhhr8S7hyCL2mU0pl1/5zRh1Q+3S/5DstCxN0sU7+DcGzpT5nYf+Q3g4QZruf/UuyWRMbCc9+hrII1507Qv86UkwGCDZ5/6Vwhc0vY7i+FzsvUish+B5Hyw3ul5/zn0eBeYVUb73fgk/bnceP510n8938MGTJkyPB/l/8NuUKPjqB2AQA=\"},\"shape\":[11988],\"dtype\":\"float64\",\"order\":\"little\"}]]}}},\"view\":{\"type\":\"object\",\"name\":\"CDSView\",\"id\":\"p1486\",\"attributes\":{\"filter\":{\"type\":\"object\",\"name\":\"AllIndices\",\"id\":\"p1487\"}}},\"glyph\":{\"type\":\"object\",\"name\":\"Patch\",\"id\":\"p1482\",\"attributes\":{\"x\":{\"type\":\"field\",\"field\":\"index\"},\"y\":{\"type\":\"field\",\"field\":\"equity_dd\"},\"line_color\":\"#ffcb66\",\"fill_color\":\"#ffffea\"}},\"nonselection_glyph\":{\"type\":\"object\",\"name\":\"Patch\",\"id\":\"p1483\",\"attributes\":{\"x\":{\"type\":\"field\",\"field\":\"index\"},\"y\":{\"type\":\"field\",\"field\":\"equity_dd\"},\"line_color\":\"#ffcb66\",\"line_alpha\":0.1,\"fill_color\":\"#ffffea\",\"fill_alpha\":0.1,\"hatch_alpha\":0.1}},\"muted_glyph\":{\"type\":\"object\",\"name\":\"Patch\",\"id\":\"p1484\",\"attributes\":{\"x\":{\"type\":\"field\",\"field\":\"index\"},\"y\":{\"type\":\"field\",\"field\":\"equity_dd\"},\"line_color\":\"#ffcb66\",\"line_alpha\":0.2,\"fill_color\":\"#ffffea\",\"fill_alpha\":0.2,\"hatch_alpha\":0.2}}}},{\"id\":\"p1494\"},{\"type\":\"object\",\"name\":\"GlyphRenderer\",\"id\":\"p1505\",\"attributes\":{\"data_source\":{\"type\":\"object\",\"name\":\"ColumnDataSource\",\"id\":\"p1499\",\"attributes\":{\"selected\":{\"type\":\"object\",\"name\":\"Selection\",\"id\":\"p1500\",\"attributes\":{\"indices\":[],\"line_indices\":[]}},\"selection_policy\":{\"type\":\"object\",\"name\":\"UnionRenderers\",\"id\":\"p1501\"},\"data\":{\"type\":\"map\"}}},\"view\":{\"type\":\"object\",\"name\":\"CDSView\",\"id\":\"p1506\",\"attributes\":{\"filter\":{\"type\":\"object\",\"name\":\"AllIndices\",\"id\":\"p1507\"}}},\"glyph\":{\"type\":\"object\",\"name\":\"Scatter\",\"id\":\"p1502\",\"attributes\":{\"x\":{\"type\":\"value\",\"value\":5370},\"y\":{\"type\":\"value\",\"value\":2.2026046554265895},\"size\":{\"type\":\"value\",\"value\":8},\"line_color\":{\"type\":\"value\",\"value\":\"cyan\"},\"fill_color\":{\"type\":\"value\",\"value\":\"cyan\"},\"hatch_color\":{\"type\":\"value\",\"value\":\"cyan\"}}},\"nonselection_glyph\":{\"type\":\"object\",\"name\":\"Scatter\",\"id\":\"p1503\",\"attributes\":{\"x\":{\"type\":\"value\",\"value\":5370},\"y\":{\"type\":\"value\",\"value\":2.2026046554265895},\"size\":{\"type\":\"value\",\"value\":8},\"line_color\":{\"type\":\"value\",\"value\":\"cyan\"},\"line_alpha\":{\"type\":\"value\",\"value\":0.1},\"fill_color\":{\"type\":\"value\",\"value\":\"cyan\"},\"fill_alpha\":{\"type\":\"value\",\"value\":0.1},\"hatch_color\":{\"type\":\"value\",\"value\":\"cyan\"},\"hatch_alpha\":{\"type\":\"value\",\"value\":0.1}}},\"muted_glyph\":{\"type\":\"object\",\"name\":\"Scatter\",\"id\":\"p1504\",\"attributes\":{\"x\":{\"type\":\"value\",\"value\":5370},\"y\":{\"type\":\"value\",\"value\":2.2026046554265895},\"size\":{\"type\":\"value\",\"value\":8},\"line_color\":{\"type\":\"value\",\"value\":\"cyan\"},\"line_alpha\":{\"type\":\"value\",\"value\":0.2},\"fill_color\":{\"type\":\"value\",\"value\":\"cyan\"},\"fill_alpha\":{\"type\":\"value\",\"value\":0.2},\"hatch_color\":{\"type\":\"value\",\"value\":\"cyan\"},\"hatch_alpha\":{\"type\":\"value\",\"value\":0.2}}}}},{\"type\":\"object\",\"name\":\"GlyphRenderer\",\"id\":\"p1516\",\"attributes\":{\"data_source\":{\"type\":\"object\",\"name\":\"ColumnDataSource\",\"id\":\"p1510\",\"attributes\":{\"selected\":{\"type\":\"object\",\"name\":\"Selection\",\"id\":\"p1511\",\"attributes\":{\"indices\":[],\"line_indices\":[]}},\"selection_policy\":{\"type\":\"object\",\"name\":\"UnionRenderers\",\"id\":\"p1512\"},\"data\":{\"type\":\"map\"}}},\"view\":{\"type\":\"object\",\"name\":\"CDSView\",\"id\":\"p1517\",\"attributes\":{\"filter\":{\"type\":\"object\",\"name\":\"AllIndices\",\"id\":\"p1518\"}}},\"glyph\":{\"type\":\"object\",\"name\":\"Scatter\",\"id\":\"p1513\",\"attributes\":{\"x\":{\"type\":\"value\",\"value\":5993},\"y\":{\"type\":\"value\",\"value\":1.8489973575309702},\"size\":{\"type\":\"value\",\"value\":8},\"line_color\":{\"type\":\"value\",\"value\":\"blue\"},\"fill_color\":{\"type\":\"value\",\"value\":\"blue\"},\"hatch_color\":{\"type\":\"value\",\"value\":\"blue\"}}},\"nonselection_glyph\":{\"type\":\"object\",\"name\":\"Scatter\",\"id\":\"p1514\",\"attributes\":{\"x\":{\"type\":\"value\",\"value\":5993},\"y\":{\"type\":\"value\",\"value\":1.8489973575309702},\"size\":{\"type\":\"value\",\"value\":8},\"line_color\":{\"type\":\"value\",\"value\":\"blue\"},\"line_alpha\":{\"type\":\"value\",\"value\":0.1},\"fill_color\":{\"type\":\"value\",\"value\":\"blue\"},\"fill_alpha\":{\"type\":\"value\",\"value\":0.1},\"hatch_color\":{\"type\":\"value\",\"value\":\"blue\"},\"hatch_alpha\":{\"type\":\"value\",\"value\":0.1}}},\"muted_glyph\":{\"type\":\"object\",\"name\":\"Scatter\",\"id\":\"p1515\",\"attributes\":{\"x\":{\"type\":\"value\",\"value\":5993},\"y\":{\"type\":\"value\",\"value\":1.8489973575309702},\"size\":{\"type\":\"value\",\"value\":8},\"line_color\":{\"type\":\"value\",\"value\":\"blue\"},\"line_alpha\":{\"type\":\"value\",\"value\":0.2},\"fill_color\":{\"type\":\"value\",\"value\":\"blue\"},\"fill_alpha\":{\"type\":\"value\",\"value\":0.2},\"hatch_color\":{\"type\":\"value\",\"value\":\"blue\"},\"hatch_alpha\":{\"type\":\"value\",\"value\":0.2}}}}},{\"type\":\"object\",\"name\":\"GlyphRenderer\",\"id\":\"p1526\",\"attributes\":{\"data_source\":{\"type\":\"object\",\"name\":\"ColumnDataSource\",\"id\":\"p1520\",\"attributes\":{\"selected\":{\"type\":\"object\",\"name\":\"Selection\",\"id\":\"p1521\",\"attributes\":{\"indices\":[],\"line_indices\":[]}},\"selection_policy\":{\"type\":\"object\",\"name\":\"UnionRenderers\",\"id\":\"p1522\"},\"data\":{\"type\":\"map\"}}},\"view\":{\"type\":\"object\",\"name\":\"CDSView\",\"id\":\"p1527\",\"attributes\":{\"filter\":{\"type\":\"object\",\"name\":\"AllIndices\",\"id\":\"p1528\"}}},\"glyph\":{\"type\":\"object\",\"name\":\"Scatter\",\"id\":\"p1523\",\"attributes\":{\"x\":{\"type\":\"value\",\"value\":1877},\"y\":{\"type\":\"value\",\"value\":0.9161890797251938},\"size\":{\"type\":\"value\",\"value\":8},\"line_color\":{\"type\":\"value\",\"value\":\"red\"},\"fill_color\":{\"type\":\"value\",\"value\":\"red\"},\"hatch_color\":{\"type\":\"value\",\"value\":\"red\"}}},\"nonselection_glyph\":{\"type\":\"object\",\"name\":\"Scatter\",\"id\":\"p1524\",\"attributes\":{\"x\":{\"type\":\"value\",\"value\":1877},\"y\":{\"type\":\"value\",\"value\":0.9161890797251938},\"size\":{\"type\":\"value\",\"value\":8},\"line_color\":{\"type\":\"value\",\"value\":\"red\"},\"line_alpha\":{\"type\":\"value\",\"value\":0.1},\"fill_color\":{\"type\":\"value\",\"value\":\"red\"},\"fill_alpha\":{\"type\":\"value\",\"value\":0.1},\"hatch_color\":{\"type\":\"value\",\"value\":\"red\"},\"hatch_alpha\":{\"type\":\"value\",\"value\":0.1}}},\"muted_glyph\":{\"type\":\"object\",\"name\":\"Scatter\",\"id\":\"p1525\",\"attributes\":{\"x\":{\"type\":\"value\",\"value\":1877},\"y\":{\"type\":\"value\",\"value\":0.9161890797251938},\"size\":{\"type\":\"value\",\"value\":8},\"line_color\":{\"type\":\"value\",\"value\":\"red\"},\"line_alpha\":{\"type\":\"value\",\"value\":0.2},\"fill_color\":{\"type\":\"value\",\"value\":\"red\"},\"fill_alpha\":{\"type\":\"value\",\"value\":0.2},\"hatch_color\":{\"type\":\"value\",\"value\":\"red\"},\"hatch_alpha\":{\"type\":\"value\",\"value\":0.2}}}}},{\"type\":\"object\",\"name\":\"GlyphRenderer\",\"id\":\"p1536\",\"attributes\":{\"data_source\":{\"type\":\"object\",\"name\":\"ColumnDataSource\",\"id\":\"p1530\",\"attributes\":{\"selected\":{\"type\":\"object\",\"name\":\"Selection\",\"id\":\"p1531\",\"attributes\":{\"indices\":[],\"line_indices\":[]}},\"selection_policy\":{\"type\":\"object\",\"name\":\"UnionRenderers\",\"id\":\"p1532\"},\"data\":{\"type\":\"map\",\"entries\":[[\"x\",[338,2671.661447843178]]]}}},\"view\":{\"type\":\"object\",\"name\":\"CDSView\",\"id\":\"p1537\",\"attributes\":{\"filter\":{\"type\":\"object\",\"name\":\"AllIndices\",\"id\":\"p1538\"}}},\"glyph\":{\"type\":\"object\",\"name\":\"Line\",\"id\":\"p1533\",\"attributes\":{\"x\":{\"type\":\"field\",\"field\":\"x\"},\"y\":{\"type\":\"value\",\"value\":1.4293703677296394},\"line_color\":\"red\",\"line_width\":2}},\"nonselection_glyph\":{\"type\":\"object\",\"name\":\"Line\",\"id\":\"p1534\",\"attributes\":{\"x\":{\"type\":\"field\",\"field\":\"x\"},\"y\":{\"type\":\"value\",\"value\":1.4293703677296394},\"line_color\":\"red\",\"line_alpha\":0.1,\"line_width\":2}},\"muted_glyph\":{\"type\":\"object\",\"name\":\"Line\",\"id\":\"p1535\",\"attributes\":{\"x\":{\"type\":\"field\",\"field\":\"x\"},\"y\":{\"type\":\"value\",\"value\":1.4293703677296394},\"line_color\":\"red\",\"line_alpha\":0.2,\"line_width\":2}}}}],\"toolbar\":{\"type\":\"object\",\"name\":\"Toolbar\",\"id\":\"p1448\",\"attributes\":{\"tools\":[{\"id\":\"p1461\"},{\"id\":\"p1462\"},{\"id\":\"p1463\"},{\"id\":\"p1464\"},{\"id\":\"p1472\"},{\"id\":\"p1473\"},{\"id\":\"p1474\"},{\"type\":\"object\",\"name\":\"SaveTool\",\"id\":\"p1475\"},{\"id\":\"p1497\"},{\"id\":\"p1722\"}],\"active_drag\":{\"id\":\"p1461\"},\"active_scroll\":{\"id\":\"p1462\"}}},\"toolbar_location\":null,\"left\":[{\"type\":\"object\",\"name\":\"LinearAxis\",\"id\":\"p1456\",\"attributes\":{\"ticker\":{\"type\":\"object\",\"name\":\"BasicTicker\",\"id\":\"p1457\",\"attributes\":{\"desired_num_ticks\":3,\"mantissas\":[1,2,5]}},\"formatter\":{\"type\":\"object\",\"name\":\"NumeralTickFormatter\",\"id\":\"p1498\",\"attributes\":{\"format\":\"0,0.[00]%\"}},\"axis_label\":\"Equity\",\"major_label_policy\":{\"type\":\"object\",\"name\":\"AllLabels\",\"id\":\"p1459\"},\"minor_tick_line_color\":null}}],\"below\":[{\"type\":\"object\",\"name\":\"LinearAxis\",\"id\":\"p1451\",\"attributes\":{\"visible\":false,\"ticker\":{\"type\":\"object\",\"name\":\"BasicTicker\",\"id\":\"p1452\",\"attributes\":{\"mantissas\":[1,2,5]}},\"formatter\":{\"type\":\"object\",\"name\":\"BasicTickFormatter\",\"id\":\"p1453\"},\"major_label_policy\":{\"type\":\"object\",\"name\":\"AllLabels\",\"id\":\"p1454\"}}}],\"center\":[{\"type\":\"object\",\"name\":\"Grid\",\"id\":\"p1455\",\"attributes\":{\"axis\":{\"id\":\"p1451\"}}},{\"type\":\"object\",\"name\":\"Grid\",\"id\":\"p1460\",\"attributes\":{\"dimension\":1,\"axis\":{\"id\":\"p1456\"}}},{\"type\":\"object\",\"name\":\"Legend\",\"id\":\"p1508\",\"attributes\":{\"location\":\"top_left\",\"border_line_color\":\"#333333\",\"background_fill_alpha\":0.9,\"click_policy\":\"hide\",\"label_text_font_size\":\"8pt\",\"margin\":0,\"padding\":5,\"spacing\":0,\"items\":[{\"type\":\"object\",\"name\":\"LegendItem\",\"id\":\"p1509\",\"attributes\":{\"label\":{\"type\":\"value\",\"value\":\"Peak (220%)\"},\"renderers\":[{\"id\":\"p1505\"}]}},{\"type\":\"object\",\"name\":\"LegendItem\",\"id\":\"p1519\",\"attributes\":{\"label\":{\"type\":\"value\",\"value\":\"Final (185%)\"},\"renderers\":[{\"id\":\"p1516\"}]}},{\"type\":\"object\",\"name\":\"LegendItem\",\"id\":\"p1529\",\"attributes\":{\"label\":{\"type\":\"value\",\"value\":\"Max Drawdown (-36.8%)\"},\"renderers\":[{\"id\":\"p1526\"}]}},{\"type\":\"object\",\"name\":\"LegendItem\",\"id\":\"p1539\",\"attributes\":{\"label\":{\"type\":\"value\",\"value\":\"Max Dd Dur. (389 days)\"},\"renderers\":[{\"id\":\"p1536\"}]}}]}}],\"min_border_top\":3,\"min_border_bottom\":6,\"min_border_left\":0,\"min_border_right\":10}},0,0],[{\"type\":\"object\",\"name\":\"Figure\",\"id\":\"p1540\",\"attributes\":{\"width\":null,\"height\":80,\"sizing_mode\":\"stretch_width\",\"x_range\":{\"id\":\"p1392\"},\"y_range\":{\"type\":\"object\",\"name\":\"DataRange1d\",\"id\":\"p1542\"},\"x_scale\":{\"type\":\"object\",\"name\":\"LinearScale\",\"id\":\"p1549\"},\"y_scale\":{\"type\":\"object\",\"name\":\"LinearScale\",\"id\":\"p1550\"},\"title\":{\"type\":\"object\",\"name\":\"Title\",\"id\":\"p1547\"},\"outline_line_color\":\"#666666\",\"renderers\":[{\"type\":\"object\",\"name\":\"GlyphRenderer\",\"id\":\"p1584\",\"attributes\":{\"data_source\":{\"id\":\"p1432\"},\"view\":{\"type\":\"object\",\"name\":\"CDSView\",\"id\":\"p1585\",\"attributes\":{\"filter\":{\"type\":\"object\",\"name\":\"AllIndices\",\"id\":\"p1586\"}}},\"glyph\":{\"type\":\"object\",\"name\":\"MultiLine\",\"id\":\"p1581\",\"attributes\":{\"xs\":{\"type\":\"field\",\"field\":\"lines\"},\"ys\":{\"type\":\"field\",\"field\":\"returns\",\"transform\":{\"type\":\"object\",\"name\":\"CustomJSTransform\",\"id\":\"p1577\",\"attributes\":{\"v_func\":\"return [...xs].map(i => [0, i]);\"}}},\"line_color\":{\"type\":\"value\",\"value\":\"#999\"}}},\"nonselection_glyph\":{\"type\":\"object\",\"name\":\"MultiLine\",\"id\":\"p1582\",\"attributes\":{\"xs\":{\"type\":\"field\",\"field\":\"lines\"},\"ys\":{\"type\":\"field\",\"field\":\"returns\",\"transform\":{\"id\":\"p1577\"}},\"line_color\":{\"type\":\"value\",\"value\":\"#999\"},\"line_alpha\":{\"type\":\"value\",\"value\":0.1}}},\"muted_glyph\":{\"type\":\"object\",\"name\":\"MultiLine\",\"id\":\"p1583\",\"attributes\":{\"xs\":{\"type\":\"field\",\"field\":\"lines\"},\"ys\":{\"type\":\"field\",\"field\":\"returns\",\"transform\":{\"id\":\"p1577\"}},\"line_color\":{\"type\":\"value\",\"value\":\"#999\"},\"line_alpha\":{\"type\":\"value\",\"value\":0.2}}}}},{\"id\":\"p1593\"}],\"toolbar\":{\"type\":\"object\",\"name\":\"Toolbar\",\"id\":\"p1548\",\"attributes\":{\"tools\":[{\"id\":\"p1561\"},{\"id\":\"p1562\"},{\"id\":\"p1563\"},{\"id\":\"p1564\"},{\"id\":\"p1572\"},{\"id\":\"p1573\"},{\"id\":\"p1574\"},{\"type\":\"object\",\"name\":\"SaveTool\",\"id\":\"p1575\"},{\"id\":\"p1596\"},{\"id\":\"p1722\"}],\"active_drag\":{\"id\":\"p1561\"},\"active_scroll\":{\"id\":\"p1562\"}}},\"toolbar_location\":null,\"left\":[{\"type\":\"object\",\"name\":\"LinearAxis\",\"id\":\"p1556\",\"attributes\":{\"ticker\":{\"type\":\"object\",\"name\":\"BasicTicker\",\"id\":\"p1557\",\"attributes\":{\"desired_num_ticks\":3,\"mantissas\":[1,2,5]}},\"formatter\":{\"type\":\"object\",\"name\":\"NumeralTickFormatter\",\"id\":\"p1597\",\"attributes\":{\"format\":\"0.[00]%\"}},\"axis_label\":\"Profit / Loss\",\"major_label_policy\":{\"type\":\"object\",\"name\":\"AllLabels\",\"id\":\"p1559\"},\"minor_tick_line_color\":null}}],\"below\":[{\"type\":\"object\",\"name\":\"LinearAxis\",\"id\":\"p1551\",\"attributes\":{\"visible\":false,\"ticker\":{\"type\":\"object\",\"name\":\"BasicTicker\",\"id\":\"p1552\",\"attributes\":{\"mantissas\":[1,2,5]}},\"formatter\":{\"type\":\"object\",\"name\":\"BasicTickFormatter\",\"id\":\"p1553\"},\"major_label_policy\":{\"type\":\"object\",\"name\":\"AllLabels\",\"id\":\"p1554\"}}}],\"center\":[{\"type\":\"object\",\"name\":\"Grid\",\"id\":\"p1555\",\"attributes\":{\"axis\":{\"id\":\"p1551\"}}},{\"type\":\"object\",\"name\":\"Grid\",\"id\":\"p1560\",\"attributes\":{\"dimension\":1,\"axis\":{\"id\":\"p1556\"}}},{\"type\":\"object\",\"name\":\"Span\",\"id\":\"p1576\",\"attributes\":{\"level\":\"underlay\",\"location\":0,\"line_color\":\"#666666\",\"line_dash\":[6]}}],\"min_border_top\":3,\"min_border_bottom\":6,\"min_border_left\":0,\"min_border_right\":10}},1,0],[{\"type\":\"object\",\"name\":\"Figure\",\"id\":\"p1393\",\"attributes\":{\"width\":null,\"height\":400,\"sizing_mode\":\"stretch_width\",\"x_range\":{\"id\":\"p1392\"},\"y_range\":{\"id\":\"p1395\"},\"x_scale\":{\"type\":\"object\",\"name\":\"LinearScale\",\"id\":\"p1402\"},\"y_scale\":{\"type\":\"object\",\"name\":\"LinearScale\",\"id\":\"p1403\"},\"title\":{\"type\":\"object\",\"name\":\"Title\",\"id\":\"p1400\"},\"outline_line_color\":\"#666666\",\"renderers\":[{\"type\":\"object\",\"name\":\"GlyphRenderer\",\"id\":\"p1654\",\"attributes\":{\"data_source\":{\"type\":\"object\",\"name\":\"ColumnDataSource\",\"id\":\"p1645\",\"attributes\":{\"selected\":{\"type\":\"object\",\"name\":\"Selection\",\"id\":\"p1646\",\"attributes\":{\"indices\":[],\"line_indices\":[]}},\"selection_policy\":{\"type\":\"object\",\"name\":\"UnionRenderers\",\"id\":\"p1647\"},\"data\":{\"type\":\"map\",\"entries\":[[\"index\",{\"type\":\"ndarray\",\"array\":{\"type\":\"bytes\",\"data\":\"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\"},\"shape\":[1001],\"dtype\":\"float64\",\"order\":\"little\"}],[\"Open\",{\"type\":\"ndarray\",\"array\":{\"type\":\"bytes\",\"data\":\"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\"},\"shape\":[1001],\"dtype\":\"float64\",\"order\":\"little\"}],[\"High\",{\"type\":\"ndarray\",\"array\":{\"type\":\"bytes\",\"data\":\"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\"},\"shape\":[1001],\"dtype\":\"float64\",\"order\":\"little\"}],[\"Low\",{\"type\":\"ndarray\",\"array\":{\"type\":\"bytes\",\"data\":\"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\"},\"shape\":[1001],\"dtype\":\"float64\",\"order\":\"little\"}],[\"Close\",{\"type\":\"ndarray\",\"array\":{\"type\":\"bytes\",\"data\":\"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\"},\"shape\":[1001],\"dtype\":\"float64\",\"order\":\"little\"}],[\"Volume\",{\"type\":\"ndarray\",\"array\":{\"type\":\"bytes\",\"data\":\"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\"},\"shape\":[1001],\"dtype\":\"float64\",\"order\":\"little\"}],[\"_width\",{\"type\":\"ndarray\",\"array\":{\"type\":\"bytes\",\"data\":\"H4sIAAEAAAAC/+3QMRGAMBAAwTISEBIBj5r3lGgKTtDAMI8GihR7zfaXWT0xR3WcJEmSJEmSJEmS3Nv+1fwgyZ+9VnXHC13ZBOVIHwAA\"},\"shape\":[1001],\"dtype\":\"float64\",\"order\":\"little\"}],[\"inc\",{\"type\":\"ndarray\",\"array\":[\"1\",\"1\",\"1\",\"0\",\"0\",\"1\",\"1\",\"0\",\"0\",\"0\",\"1\",\"1\",\"1\",\"0\",\"0\",\"1\",\"1\",\"0\",\"1\",\"0\",\"0\",\"0\",\"0\",\"1\",\"0\",\"1\",\"0\",\"1\",\"1\",\"0\",\"1\",\"1\",\"1\",\"1\",\"1\",\"1\",\"1\",\"1\",\"0\",\"1\",\"1\",\"1\",\"0\",\"1\",\"1\",\"1\",\"0\",\"1\",\"0\",\"1\",\"0\",\"0\",\"1\",\"0\",\"0\",\"0\",\"1\",\"0\",\"0\",\"0\",\"0\",\"1\",\"1\",\"0\",\"0\",\"0\",\"1\",\"0\",\"1\",\"1\",\"1\",\"0\",\"1\",\"1\",\"1\",\"0\",\"0\",\"1\",\"0\",\"0\",\"1\",\"1\",\"0\",\"1\",\"0\",\"0\",\"0\",\"1\",\"1\",\"0\",\"0\",\"0\",\"0\",\"1\",\"1\",\"1\",\"1\",\"0\",\"1\",\"1\",\"1\",\"1\",\"1\",\"1\",\"1\",\"0\",\"0\",\"0\",\"1\",\"0\",\"1\",\"1\",\"0\",\"1\",\"0\",\"0\",\"0\",\"0\",\"1\",\"1\",\"0\",\"1\",\"0\",\"1\",\"1\",\"0\",\"1\",\"0\",\"1\",\"0\",\"0\",\"1\",\"0\",\"0\",\"0\",\"0\",\"0\",\"0\",\"1\",\"1\",\"0\",\"1\",\"1\",\"1\",\"0\",\"1\",\"0\",\"1\",\"1\",\"0\",\"1\",\"0\",\"0\",\"1\",\"0\",\"0\",\"1\",\"1\",\"1\",\"0\",\"0\",\"1\",\"0\",\"1\",\"0\",\"0\",\"1\",\"0\",\"0\",\"1\",\"0\",\"1\",\"1\",\"1\",\"0\",\"0\",\"1\",\"1\",\"0\",\"0\",\"1\",\"1\",\"1\",\"0\",\"0\",\"1\",\"1\",\"0\",\"1\",\"0\",\"1\",\"1\",\"1\",\"0\",\"1\",\"1\",\"1\",\"1\",\"0\",\"1\",\"0\",\"1\",\"0\",\"1\",\"0\",\"1\",\"0\",\"1\",\"0\",\"0\",\"1\",\"0\",\"0\",\"1\",\"0\",\"1\",\"0\",\"1\",\"1\",\"0\",\"1\",\"0\",\"0\",\"1\",\"0\",\"1\",\"1\",\"0\",\"0\",\"1\",\"1\",\"0\",\"1\",\"0\",\"1\",\"0\",\"0\",\"1\",\"0\",\"1\",\"0\",\"0\",\"0\",\"1\",\"1\",\"0\",\"0\",\"1\",\"0\",\"1\",\"0\",\"0\",\"0\",\"0\",\"1\",\"0\",\"0\",\"0\",\"1\",\"0\",\"0\",\"1\",\"1\",\"0\",\"1\",\"0\",\"0\",\"0\",\"1\",\"0\",\"0\",\"0\",\"0\",\"1\",\"1\",\"1\",\"0\",\"0\",\"1\",\"1\",\"1\",\"0\",\"1\",\"1\",\"1\",\"1\",\"0\",\"0\",\"1\",\"0\",\"1\",\"0\",\"0\",\"1\",\"1\",\"0\",\"1\",\"1\",\"1\",\"0\",\"1\",\"1\",\"1\",\"0\",\"0\",\"0\",\"0\",\"0\",\"0\",\"1\",\"1\",\"0\",\"1\",\"1\",\"0\",\"1\",\"1\",\"1\",\"0\",\"1\",\"1\",\"1\",\"0\",\"0\",\"1\",\"1\",\"1\",\"0\",\"1\",\"1\",\"1\",\"0\",\"1\",\"1\",\"0\",\"1\",\"1\",\"0\",\"1\",\"0\",\"0\",\"0\",\"0\",\"1\",\"0\",\"1\",\"0\",\"1\",\"0\",\"0\",\"1\",\"1\",\"0\",\"0\",\"0\",\"1\",\"1\",\"0\",\"1\",\"1\",\"1\",\"1\",\"1\",\"1\",\"0\",\"1\",\"0\",\"0\",\"0\",\"0\",\"0\",\"1\",\"0\",\"1\",\"0\",\"0\",\"1\",\"1\",\"0\",\"1\",\"1\",\"0\",\"0\",\"0\",\"1\",\"0\",\"1\",\"0\",\"1\",\"1\",\"1\",\"0\",\"1\",\"0\",\"1\",\"1\",\"1\",\"1\",\"0\",\"1\",\"0\",\"0\",\"0\",\"0\",\"1\",\"0\",\"1\",\"0\",\"1\",\"1\",\"0\",\"0\",\"1\",\"1\",\"1\",\"1\",\"1\",\"0\",\"1\",\"0\",\"0\",\"1\",\"1\",\"0\",\"1\",\"0\",\"1\",\"1\",\"1\",\"1\",\"1\",\"1\",\"0\",\"1\",\"1\",\"0\",\"0\",\"1\",\"1\",\"0\",\"0\",\"1\",\"0\",\"1\",\"1\",\"0\",\"1\",\"1\",\"1\",\"0\",\"0\",\"1\",\"1\",\"1\",\"0\",\"1\",\"1\",\"0\",\"1\",\"1\",\"0\",\"1\",\"0\",\"0\",\"1\",\"0\",\"0\",\"0\",\"0\",\"1\",\"0\",\"1\",\"1\",\"1\",\"1\",\"0\",\"1\",\"0\",\"1\",\"1\",\"0\",\"0\",\"1\",\"1\",\"1\",\"0\",\"1\",\"1\",\"0\",\"0\",\"1\",\"0\",\"0\",\"0\",\"1\",\"0\",\"0\",\"1\",\"1\",\"1\",\"1\",\"1\",\"1\",\"0\",\"0\",\"0\",\"0\",\"1\",\"0\",\"0\",\"0\",\"1\",\"1\",\"1\",\"1\",\"0\",\"1\",\"0\",\"0\",\"0\",\"1\",\"1\",\"1\",\"0\",\"1\",\"1\",\"1\",\"0\",\"1\",\"1\",\"1\",\"1\",\"0\",\"1\",\"1\",\"0\",\"1\",\"0\",\"0\",\"1\",\"0\",\"1\",\"1\",\"1\",\"1\",\"1\",\"0\",\"0\",\"0\",\"1\",\"1\",\"0\",\"1\",\"0\",\"0\",\"0\",\"1\",\"0\",\"0\",\"1\",\"0\",\"0\",\"1\",\"0\",\"0\",\"1\",\"0\",\"1\",\"0\",\"1\",\"1\",\"1\",\"0\",\"0\",\"0\",\"0\",\"1\",\"0\",\"0\",\"1\",\"1\",\"0\",\"1\",\"1\",\"1\",\"1\",\"1\",\"0\",\"0\",\"1\",\"1\",\"1\",\"0\",\"0\",\"0\",\"0\",\"1\",\"1\",\"0\",\"1\",\"0\",\"1\",\"0\",\"1\",\"0\",\"0\",\"0\",\"1\",\"0\",\"1\",\"1\",\"1\",\"0\",\"1\",\"0\",\"0\",\"1\",\"0\",\"1\",\"1\",\"0\",\"1\",\"1\",\"1\",\"1\",\"1\",\"1\",\"0\",\"0\",\"0\",\"1\",\"0\",\"1\",\"0\",\"1\",\"0\",\"1\",\"0\",\"0\",\"1\",\"0\",\"1\",\"1\",\"1\",\"1\",\"1\",\"1\",\"1\",\"0\",\"1\",\"1\",\"1\",\"0\",\"1\",\"0\",\"1\",\"1\",\"0\",\"1\",\"1\",\"1\",\"1\",\"0\",\"0\",\"0\",\"1\",\"1\",\"0\",\"1\",\"1\",\"0\",\"0\",\"0\",\"1\",\"0\",\"0\",\"1\",\"1\",\"1\",\"0\",\"1\",\"0\",\"1\",\"0\",\"0\",\"0\",\"1\",\"0\",\"1\",\"1\",\"1\",\"1\",\"0\",\"0\",\"0\",\"1\",\"0\",\"0\",\"1\",\"1\",\"1\",\"1\",\"0\",\"1\",\"1\",\"1\",\"1\",\"0\",\"1\",\"1\",\"0\",\"1\",\"1\",\"1\",\"1\",\"1\",\"0\",\"0\",\"0\",\"0\",\"1\",\"0\",\"1\",\"0\",\"1\",\"0\",\"0\",\"1\",\"1\",\"1\",\"0\",\"0\",\"0\",\"0\",\"1\",\"0\",\"1\",\"0\",\"1\",\"1\",\"0\",\"0\",\"0\",\"0\",\"1\",\"0\",\"0\",\"1\",\"1\",\"0\",\"0\",\"1\",\"0\",\"1\",\"0\",\"1\",\"1\",\"1\",\"0\",\"0\",\"1\",\"0\",\"0\",\"0\",\"1\",\"0\",\"1\",\"0\",\"1\",\"1\",\"1\",\"1\",\"0\",\"1\",\"0\",\"1\",\"0\",\"0\",\"1\",\"0\",\"1\",\"0\",\"1\",\"1\",\"1\",\"0\",\"0\",\"0\",\"1\",\"0\",\"0\",\"0\",\"1\",\"0\",\"0\",\"1\",\"0\",\"1\",\"0\",\"1\",\"0\",\"0\",\"0\",\"0\",\"1\",\"1\",\"0\",\"1\",\"0\",\"0\",\"0\",\"0\",\"1\",\"1\",\"1\",\"1\",\"0\",\"1\",\"1\",\"0\",\"0\",\"0\",\"0\",\"0\",\"1\",\"0\",\"0\",\"1\",\"0\",\"0\",\"1\",\"0\",\"1\",\"0\",\"0\",\"1\",\"1\",\"1\",\"0\",\"0\",\"1\",\"0\",\"0\",\"0\",\"0\",\"1\",\"1\",\"0\",\"1\",\"0\",\"0\",\"0\",\"0\",\"1\",\"0\",\"1\",\"1\",\"0\",\"1\",\"0\",\"1\",\"1\",\"0\",\"1\",\"0\",\"1\",\"1\",\"1\",\"1\",\"1\",\"0\",\"1\",\"1\",\"1\",\"0\",\"1\",\"1\",\"0\",\"0\",\"0\",\"1\",\"1\",\"1\",\"1\",\"0\",\"1\",\"0\",\"1\",\"0\",\"0\",\"1\",\"0\",\"1\",\"1\",\"1\",\"1\",\"1\",\"0\",\"1\",\"0\",\"1\",\"1\",\"0\",\"0\",\"0\",\"1\",\"1\",\"0\",\"1\",\"0\",\"0\",\"1\",\"1\",\"1\",\"1\",\"1\",\"0\",\"0\",\"0\",\"0\",\"1\",\"1\",\"0\",\"0\",\"1\",\"0\",\"0\",\"0\",\"1\",\"1\",\"1\",\"0\",\"0\",\"1\",\"1\",\"1\",\"0\",\"1\",\"1\",\"0\",\"1\",\"1\",\"0\",\"1\",\"1\",\"1\",\"1\",\"0\",\"1\",\"1\",\"0\",\"1\",\"0\",\"0\",\"1\",\"1\",\"0\",\"1\",\"0\",\"1\",\"0\",\"1\",\"1\",\"0\",\"0\",\"0\",\"0\",\"0\",\"0\",\"1\",\"1\",\"0\",\"1\",\"1\",\"0\",\"1\",\"1\",\"1\",\"1\",\"1\",\"0\",\"0\",\"1\",\"0\",\"0\",\"0\",\"1\",\"0\",\"1\",\"0\",\"0\",\"0\",\"1\",\"1\",\"0\",\"0\",\"1\",\"1\",\"1\",\"1\",\"1\"],\"shape\":[1001],\"dtype\":\"object\",\"order\":\"little\"}]]}}},\"view\":{\"type\":\"object\",\"name\":\"CDSView\",\"id\":\"p1655\",\"attributes\":{\"filter\":{\"type\":\"object\",\"name\":\"AllIndices\",\"id\":\"p1656\"}}},\"glyph\":{\"type\":\"object\",\"name\":\"Segment\",\"id\":\"p1651\",\"attributes\":{\"x0\":{\"type\":\"field\",\"field\":\"index\"},\"y0\":{\"type\":\"field\",\"field\":\"High\"},\"x1\":{\"type\":\"field\",\"field\":\"index\"},\"y1\":{\"type\":\"field\",\"field\":\"Low\"},\"line_color\":{\"type\":\"value\",\"value\":\"#bbbbbb\"}}},\"nonselection_glyph\":{\"type\":\"object\",\"name\":\"Segment\",\"id\":\"p1652\",\"attributes\":{\"x0\":{\"type\":\"field\",\"field\":\"index\"},\"y0\":{\"type\":\"field\",\"field\":\"High\"},\"x1\":{\"type\":\"field\",\"field\":\"index\"},\"y1\":{\"type\":\"field\",\"field\":\"Low\"},\"line_color\":{\"type\":\"value\",\"value\":\"#bbbbbb\"},\"line_alpha\":{\"type\":\"value\",\"value\":0.1}}},\"muted_glyph\":{\"type\":\"object\",\"name\":\"Segment\",\"id\":\"p1653\",\"attributes\":{\"x0\":{\"type\":\"field\",\"field\":\"index\"},\"y0\":{\"type\":\"field\",\"field\":\"High\"},\"x1\":{\"type\":\"field\",\"field\":\"index\"},\"y1\":{\"type\":\"field\",\"field\":\"Low\"},\"line_color\":{\"type\":\"value\",\"value\":\"#bbbbbb\"},\"line_alpha\":{\"type\":\"value\",\"value\":0.2}}}}},{\"type\":\"object\",\"name\":\"GlyphRenderer\",\"id\":\"p1664\",\"attributes\":{\"data_source\":{\"id\":\"p1645\"},\"view\":{\"type\":\"object\",\"name\":\"CDSView\",\"id\":\"p1665\",\"attributes\":{\"filter\":{\"type\":\"object\",\"name\":\"AllIndices\",\"id\":\"p1666\"}}},\"glyph\":{\"type\":\"object\",\"name\":\"VBar\",\"id\":\"p1661\",\"attributes\":{\"x\":{\"type\":\"field\",\"field\":\"index\"},\"width\":{\"type\":\"field\",\"field\":\"_width\"},\"bottom\":{\"type\":\"field\",\"field\":\"Close\"},\"top\":{\"type\":\"field\",\"field\":\"Open\"},\"line_color\":{\"type\":\"value\",\"value\":null},\"fill_color\":{\"type\":\"field\",\"field\":\"inc\",\"transform\":{\"type\":\"object\",\"name\":\"CategoricalColorMapper\",\"id\":\"p1657\",\"attributes\":{\"palette\":[\"rgb(254, 220, 214)\",\"rgb(214, 254, 214)\"],\"factors\":[\"0\",\"1\"]}}}}},\"nonselection_glyph\":{\"type\":\"object\",\"name\":\"VBar\",\"id\":\"p1662\",\"attributes\":{\"x\":{\"type\":\"field\",\"field\":\"index\"},\"width\":{\"type\":\"field\",\"field\":\"_width\"},\"bottom\":{\"type\":\"field\",\"field\":\"Close\"},\"top\":{\"type\":\"field\",\"field\":\"Open\"},\"line_color\":{\"type\":\"value\",\"value\":null},\"line_alpha\":{\"type\":\"value\",\"value\":0.1},\"fill_color\":{\"type\":\"field\",\"field\":\"inc\",\"transform\":{\"id\":\"p1657\"}},\"fill_alpha\":{\"type\":\"value\",\"value\":0.1},\"hatch_alpha\":{\"type\":\"value\",\"value\":0.1}}},\"muted_glyph\":{\"type\":\"object\",\"name\":\"VBar\",\"id\":\"p1663\",\"attributes\":{\"x\":{\"type\":\"field\",\"field\":\"index\"},\"width\":{\"type\":\"field\",\"field\":\"_width\"},\"bottom\":{\"type\":\"field\",\"field\":\"Close\"},\"top\":{\"type\":\"field\",\"field\":\"Open\"},\"line_color\":{\"type\":\"value\",\"value\":null},\"line_alpha\":{\"type\":\"value\",\"value\":0.2},\"fill_color\":{\"type\":\"field\",\"field\":\"inc\",\"transform\":{\"id\":\"p1657\"}},\"fill_alpha\":{\"type\":\"value\",\"value\":0.2},\"hatch_alpha\":{\"type\":\"value\",\"value\":0.2}}}}},{\"type\":\"object\",\"name\":\"GlyphRenderer\",\"id\":\"p1673\",\"attributes\":{\"data_source\":{\"id\":\"p1429\"},\"view\":{\"type\":\"object\",\"name\":\"CDSView\",\"id\":\"p1674\",\"attributes\":{\"filter\":{\"type\":\"object\",\"name\":\"AllIndices\",\"id\":\"p1675\"}}},\"glyph\":{\"type\":\"object\",\"name\":\"Segment\",\"id\":\"p1670\",\"attributes\":{\"x0\":{\"type\":\"field\",\"field\":\"index\"},\"y0\":{\"type\":\"field\",\"field\":\"High\"},\"x1\":{\"type\":\"field\",\"field\":\"index\"},\"y1\":{\"type\":\"field\",\"field\":\"Low\"}}},\"nonselection_glyph\":{\"type\":\"object\",\"name\":\"Segment\",\"id\":\"p1671\",\"attributes\":{\"x0\":{\"type\":\"field\",\"field\":\"index\"},\"y0\":{\"type\":\"field\",\"field\":\"High\"},\"x1\":{\"type\":\"field\",\"field\":\"index\"},\"y1\":{\"type\":\"field\",\"field\":\"Low\"},\"line_alpha\":{\"type\":\"value\",\"value\":0.1}}},\"muted_glyph\":{\"type\":\"object\",\"name\":\"Segment\",\"id\":\"p1672\",\"attributes\":{\"x0\":{\"type\":\"field\",\"field\":\"index\"},\"y0\":{\"type\":\"field\",\"field\":\"High\"},\"x1\":{\"type\":\"field\",\"field\":\"index\"},\"y1\":{\"type\":\"field\",\"field\":\"Low\"},\"line_alpha\":{\"type\":\"value\",\"value\":0.2}}}}},{\"id\":\"p1684\"},{\"type\":\"object\",\"name\":\"GlyphRenderer\",\"id\":\"p1693\",\"attributes\":{\"data_source\":{\"id\":\"p1432\"},\"view\":{\"type\":\"object\",\"name\":\"CDSView\",\"id\":\"p1694\",\"attributes\":{\"filter\":{\"type\":\"object\",\"name\":\"AllIndices\",\"id\":\"p1695\"}}},\"glyph\":{\"type\":\"object\",\"name\":\"MultiLine\",\"id\":\"p1690\",\"attributes\":{\"xs\":{\"type\":\"field\",\"field\":\"position_lines_xs\"},\"ys\":{\"type\":\"field\",\"field\":\"position_lines_ys\"},\"line_color\":{\"type\":\"field\",\"field\":\"returns_positive\",\"transform\":{\"type\":\"object\",\"name\":\"CategoricalColorMapper\",\"id\":\"p1437\",\"attributes\":{\"palette\":[\"rgb(178, 27, 0)\",\"rgb(0, 178, 0)\"],\"factors\":[\"0\",\"1\"]}}},\"line_width\":{\"type\":\"value\",\"value\":8},\"line_dash\":{\"type\":\"value\",\"value\":\"dotted\"}}},\"nonselection_glyph\":{\"type\":\"object\",\"name\":\"MultiLine\",\"id\":\"p1691\",\"attributes\":{\"xs\":{\"type\":\"field\",\"field\":\"position_lines_xs\"},\"ys\":{\"type\":\"field\",\"field\":\"position_lines_ys\"},\"line_color\":{\"type\":\"field\",\"field\":\"returns_positive\",\"transform\":{\"id\":\"p1437\"}},\"line_alpha\":{\"type\":\"value\",\"value\":0.1},\"line_width\":{\"type\":\"value\",\"value\":8},\"line_dash\":{\"type\":\"value\",\"value\":\"dotted\"}}},\"muted_glyph\":{\"type\":\"object\",\"name\":\"MultiLine\",\"id\":\"p1692\",\"attributes\":{\"xs\":{\"type\":\"field\",\"field\":\"position_lines_xs\"},\"ys\":{\"type\":\"field\",\"field\":\"position_lines_ys\"},\"line_color\":{\"type\":\"field\",\"field\":\"returns_positive\",\"transform\":{\"id\":\"p1437\"}},\"line_alpha\":{\"type\":\"value\",\"value\":0.2},\"line_width\":{\"type\":\"value\",\"value\":8},\"line_dash\":{\"type\":\"value\",\"value\":\"dotted\"}}}}},{\"type\":\"object\",\"name\":\"GlyphRenderer\",\"id\":\"p1703\",\"attributes\":{\"data_source\":{\"id\":\"p1429\"},\"view\":{\"type\":\"object\",\"name\":\"CDSView\",\"id\":\"p1704\",\"attributes\":{\"filter\":{\"type\":\"object\",\"name\":\"AllIndices\",\"id\":\"p1705\"}}},\"glyph\":{\"type\":\"object\",\"name\":\"Line\",\"id\":\"p1700\",\"attributes\":{\"x\":{\"type\":\"field\",\"field\":\"index\"},\"y\":{\"type\":\"field\",\"field\":\"EMA_71_0_0\"},\"line_color\":\"#1f77b4\",\"line_width\":1.5}},\"nonselection_glyph\":{\"type\":\"object\",\"name\":\"Line\",\"id\":\"p1701\",\"attributes\":{\"x\":{\"type\":\"field\",\"field\":\"index\"},\"y\":{\"type\":\"field\",\"field\":\"EMA_71_0_0\"},\"line_color\":\"#1f77b4\",\"line_alpha\":0.1,\"line_width\":1.5}},\"muted_glyph\":{\"type\":\"object\",\"name\":\"Line\",\"id\":\"p1702\",\"attributes\":{\"x\":{\"type\":\"field\",\"field\":\"index\"},\"y\":{\"type\":\"field\",\"field\":\"EMA_71_0_0\"},\"line_color\":\"#1f77b4\",\"line_alpha\":0.2,\"line_width\":1.5}}}},{\"type\":\"object\",\"name\":\"GlyphRenderer\",\"id\":\"p1713\",\"attributes\":{\"data_source\":{\"id\":\"p1429\"},\"view\":{\"type\":\"object\",\"name\":\"CDSView\",\"id\":\"p1714\",\"attributes\":{\"filter\":{\"type\":\"object\",\"name\":\"AllIndices\",\"id\":\"p1715\"}}},\"glyph\":{\"type\":\"object\",\"name\":\"Line\",\"id\":\"p1710\",\"attributes\":{\"x\":{\"type\":\"field\",\"field\":\"index\"},\"y\":{\"type\":\"field\",\"field\":\"SMA_473_1_0\"},\"line_color\":\"#ff7f0e\",\"line_width\":1.5}},\"nonselection_glyph\":{\"type\":\"object\",\"name\":\"Line\",\"id\":\"p1711\",\"attributes\":{\"x\":{\"type\":\"field\",\"field\":\"index\"},\"y\":{\"type\":\"field\",\"field\":\"SMA_473_1_0\"},\"line_color\":\"#ff7f0e\",\"line_alpha\":0.1,\"line_width\":1.5}},\"muted_glyph\":{\"type\":\"object\",\"name\":\"Line\",\"id\":\"p1712\",\"attributes\":{\"x\":{\"type\":\"field\",\"field\":\"index\"},\"y\":{\"type\":\"field\",\"field\":\"SMA_473_1_0\"},\"line_color\":\"#ff7f0e\",\"line_alpha\":0.2,\"line_width\":1.5}}}}],\"toolbar\":{\"type\":\"object\",\"name\":\"Toolbar\",\"id\":\"p1401\",\"attributes\":{\"tools\":[{\"id\":\"p1414\"},{\"id\":\"p1415\"},{\"id\":\"p1416\"},{\"id\":\"p1417\"},{\"id\":\"p1425\"},{\"id\":\"p1426\"},{\"id\":\"p1427\"},{\"type\":\"object\",\"name\":\"SaveTool\",\"id\":\"p1428\"},{\"id\":\"p1718\"},{\"id\":\"p1722\"}],\"active_drag\":{\"id\":\"p1414\"},\"active_scroll\":{\"id\":\"p1415\"}}},\"toolbar_location\":null,\"left\":[{\"type\":\"object\",\"name\":\"LinearAxis\",\"id\":\"p1409\",\"attributes\":{\"ticker\":{\"type\":\"object\",\"name\":\"BasicTicker\",\"id\":\"p1410\",\"attributes\":{\"mantissas\":[1,2,5]}},\"formatter\":{\"type\":\"object\",\"name\":\"BasicTickFormatter\",\"id\":\"p1411\"},\"major_label_policy\":{\"type\":\"object\",\"name\":\"AllLabels\",\"id\":\"p1412\"}}}],\"below\":[{\"type\":\"object\",\"name\":\"LinearAxis\",\"id\":\"p1404\",\"attributes\":{\"visible\":false,\"ticker\":{\"type\":\"object\",\"name\":\"BasicTicker\",\"id\":\"p1405\",\"attributes\":{\"mantissas\":[1,2,5]}},\"formatter\":{\"type\":\"object\",\"name\":\"CustomJSTickFormatter\",\"id\":\"p1439\",\"attributes\":{\"args\":{\"type\":\"map\",\"entries\":[[\"axis\",{\"id\":\"p1404\"}],[\"formatter\",{\"type\":\"object\",\"name\":\"DatetimeTickFormatter\",\"id\":\"p1438\",\"attributes\":{\"days\":\"%a, %d %b\"}}],[\"source\",{\"id\":\"p1429\"}]]},\"code\":\"\\nthis.labels = this.labels || formatter.doFormat(ticks\\n                                                .map(i => source.data.datetime[i])\\n                                                .filter(t => t !== undefined));\\nreturn this.labels[index] || \\\"\\\";\\n        \"}},\"major_label_policy\":{\"type\":\"object\",\"name\":\"AllLabels\",\"id\":\"p1407\"}}}],\"center\":[{\"type\":\"object\",\"name\":\"Grid\",\"id\":\"p1408\",\"attributes\":{\"axis\":{\"id\":\"p1404\"}}},{\"type\":\"object\",\"name\":\"Grid\",\"id\":\"p1413\",\"attributes\":{\"dimension\":1,\"axis\":{\"id\":\"p1409\"}}},{\"type\":\"object\",\"name\":\"Legend\",\"id\":\"p1676\",\"attributes\":{\"location\":\"top_left\",\"border_line_color\":\"#333333\",\"background_fill_alpha\":0.9,\"click_policy\":\"hide\",\"label_text_font_size\":\"8pt\",\"margin\":0,\"padding\":5,\"spacing\":0,\"items\":[{\"type\":\"object\",\"name\":\"LegendItem\",\"id\":\"p1677\",\"attributes\":{\"label\":{\"type\":\"value\",\"value\":\"OHLC\"},\"renderers\":[{\"id\":\"p1673\"},{\"id\":\"p1684\"}]}},{\"type\":\"object\",\"name\":\"LegendItem\",\"id\":\"p1696\",\"attributes\":{\"label\":{\"type\":\"value\",\"value\":\"Trades (64)\"},\"renderers\":[{\"id\":\"p1693\"}]}},{\"type\":\"object\",\"name\":\"LegendItem\",\"id\":\"p1706\",\"attributes\":{\"label\":{\"type\":\"value\",\"value\":\"EMA_71\"},\"renderers\":[{\"id\":\"p1703\"}]}},{\"type\":\"object\",\"name\":\"LegendItem\",\"id\":\"p1716\",\"attributes\":{\"label\":{\"type\":\"value\",\"value\":\"SMA_473\"},\"renderers\":[{\"id\":\"p1713\"}]}}]}},{\"type\":\"object\",\"name\":\"Label\",\"id\":\"p1717\",\"attributes\":{\"text\":\"Created with Backtesting.py: http://kernc.github.io/backtesting.py\",\"text_color\":\"silver\",\"text_alpha\":0.09,\"x\":10,\"y\":15,\"x_units\":\"screen\",\"y_units\":\"screen\"}}],\"min_border_top\":3,\"min_border_bottom\":6,\"min_border_left\":0,\"min_border_right\":10}},2,0],[{\"type\":\"object\",\"name\":\"Figure\",\"id\":\"p1598\",\"attributes\":{\"width\":null,\"height\":70,\"sizing_mode\":\"stretch_width\",\"x_range\":{\"id\":\"p1392\"},\"y_range\":{\"id\":\"p1600\"},\"x_scale\":{\"type\":\"object\",\"name\":\"LinearScale\",\"id\":\"p1607\"},\"y_scale\":{\"type\":\"object\",\"name\":\"LinearScale\",\"id\":\"p1608\"},\"title\":{\"type\":\"object\",\"name\":\"Title\",\"id\":\"p1605\"},\"outline_line_color\":\"#666666\",\"renderers\":[{\"id\":\"p1640\"}],\"toolbar\":{\"type\":\"object\",\"name\":\"Toolbar\",\"id\":\"p1606\",\"attributes\":{\"tools\":[{\"id\":\"p1619\"},{\"id\":\"p1620\"},{\"id\":\"p1621\"},{\"id\":\"p1622\"},{\"id\":\"p1630\"},{\"id\":\"p1631\"},{\"id\":\"p1632\"},{\"type\":\"object\",\"name\":\"SaveTool\",\"id\":\"p1633\"},{\"id\":\"p1643\"},{\"id\":\"p1722\"}],\"active_drag\":{\"id\":\"p1619\"},\"active_scroll\":{\"id\":\"p1620\"}}},\"toolbar_location\":null,\"left\":[{\"type\":\"object\",\"name\":\"LinearAxis\",\"id\":\"p1614\",\"attributes\":{\"ticker\":{\"type\":\"object\",\"name\":\"BasicTicker\",\"id\":\"p1615\",\"attributes\":{\"desired_num_ticks\":3,\"mantissas\":[1,2,5]}},\"formatter\":{\"type\":\"object\",\"name\":\"NumeralTickFormatter\",\"id\":\"p1644\",\"attributes\":{\"format\":\"0 a\"}},\"axis_label\":\"Volume\",\"major_label_policy\":{\"type\":\"object\",\"name\":\"AllLabels\",\"id\":\"p1617\"},\"minor_tick_line_color\":null}}],\"below\":[{\"type\":\"object\",\"name\":\"LinearAxis\",\"id\":\"p1609\",\"attributes\":{\"visible\":true,\"ticker\":{\"type\":\"object\",\"name\":\"BasicTicker\",\"id\":\"p1610\",\"attributes\":{\"mantissas\":[1,2,5]}},\"formatter\":{\"id\":\"p1439\"},\"major_label_policy\":{\"type\":\"object\",\"name\":\"AllLabels\",\"id\":\"p1612\"}}}],\"center\":[{\"type\":\"object\",\"name\":\"Grid\",\"id\":\"p1613\",\"attributes\":{\"axis\":{\"id\":\"p1609\"}}},{\"type\":\"object\",\"name\":\"Grid\",\"id\":\"p1618\",\"attributes\":{\"dimension\":1,\"axis\":{\"id\":\"p1614\"}}}],\"min_border_top\":3,\"min_border_bottom\":6,\"min_border_left\":0,\"min_border_right\":10}},3,0]]}}],\"callbacks\":{\"type\":\"map\",\"entries\":[[\"document_ready\",[{\"type\":\"object\",\"name\":\"CustomJS\",\"id\":\"p1391\",\"attributes\":{\"code\":\"(function() { var i = document.createElement('iframe'); i.style.display='none';i.width=i.height=1;i.loading='eager';i.src='https://kernc.github.io/backtesting.py/plx.gif.html?utm_source='+location.origin;document.body.appendChild(i);})();\"}}]]]}}};\n",
       "  const render_items = [{\"docid\":\"bfcf192c-7476-424d-94dd-c6fefeb3f7b6\",\"roots\":{\"p1737\":\"fa3a47fb-4149-4c10-a58d-674f37da25db\"},\"root_ids\":[\"p1737\"]}];\n",
       "  void root.Bokeh.embed.embed_items_notebook(docs_json, render_items);\n",
       "  }\n",
       "  if (root.Bokeh !== undefined) {\n",
       "    embed_document(root);\n",
       "  } else {\n",
       "    let attempts = 0;\n",
       "    const timer = setInterval(function(root) {\n",
       "      if (root.Bokeh !== undefined) {\n",
       "        clearInterval(timer);\n",
       "        embed_document(root);\n",
       "      } else {\n",
       "        attempts++;\n",
       "        if (attempts > 100) {\n",
       "          clearInterval(timer);\n",
       "          console.log(\"Bokeh: ERROR: Unable to run BokehJS code because BokehJS library is missing\");\n",
       "        }\n",
       "      }\n",
       "    }, 10, root)\n",
       "  }\n",
       "})(window);"
      ],
      "application/vnd.bokehjs_exec.v0+json": ""
     },
     "metadata": {
      "application/vnd.bokehjs_exec.v0+json": {
       "id": "p1737"
      }
     },
     "output_type": "display_data"
    },
    {
     "data": {
      "text/html": [
       "<div style=\"display: table;\"><div style=\"display: table-row;\"><div style=\"display: table-cell;\"><b title=\"bokeh.models.plots.GridPlot\">GridPlot</b>(</div><div style=\"display: table-cell;\">id&nbsp;=&nbsp;'p1737', <span id=\"p1769\" style=\"cursor: pointer;\">&hellip;)</span></div></div><div class=\"p1768\" style=\"display: none;\"><div style=\"display: table-cell;\"></div><div style=\"display: table-cell;\">align&nbsp;=&nbsp;'auto',</div></div><div class=\"p1768\" style=\"display: none;\"><div style=\"display: table-cell;\"></div><div style=\"display: table-cell;\">aspect_ratio&nbsp;=&nbsp;None,</div></div><div class=\"p1768\" style=\"display: none;\"><div style=\"display: table-cell;\"></div><div style=\"display: table-cell;\">children&nbsp;=&nbsp;[(figure(id='p1440', ...), 0, 0), (figure(id='p1540', ...), 1, 0), (figure(id='p1393', ...), 2, 0), (figure(id='p1598', ...), 3, 0)],</div></div><div class=\"p1768\" style=\"display: none;\"><div style=\"display: table-cell;\"></div><div style=\"display: table-cell;\">cols&nbsp;=&nbsp;None,</div></div><div class=\"p1768\" style=\"display: none;\"><div style=\"display: table-cell;\"></div><div style=\"display: table-cell;\">context_menu&nbsp;=&nbsp;None,</div></div><div class=\"p1768\" style=\"display: none;\"><div style=\"display: table-cell;\"></div><div style=\"display: table-cell;\">css_classes&nbsp;=&nbsp;[],</div></div><div class=\"p1768\" style=\"display: none;\"><div style=\"display: table-cell;\"></div><div style=\"display: table-cell;\">css_variables&nbsp;=&nbsp;{},</div></div><div class=\"p1768\" style=\"display: none;\"><div style=\"display: table-cell;\"></div><div style=\"display: table-cell;\">disabled&nbsp;=&nbsp;False,</div></div><div class=\"p1768\" style=\"display: none;\"><div style=\"display: table-cell;\"></div><div style=\"display: table-cell;\">elements&nbsp;=&nbsp;[],</div></div><div class=\"p1768\" style=\"display: none;\"><div style=\"display: table-cell;\"></div><div style=\"display: table-cell;\">flow_mode&nbsp;=&nbsp;'block',</div></div><div class=\"p1768\" style=\"display: none;\"><div style=\"display: table-cell;\"></div><div style=\"display: table-cell;\">height&nbsp;=&nbsp;None,</div></div><div class=\"p1768\" style=\"display: none;\"><div style=\"display: table-cell;\"></div><div style=\"display: table-cell;\">height_policy&nbsp;=&nbsp;'auto',</div></div><div class=\"p1768\" style=\"display: none;\"><div style=\"display: table-cell;\"></div><div style=\"display: table-cell;\">html_attributes&nbsp;=&nbsp;{},</div></div><div class=\"p1768\" style=\"display: none;\"><div style=\"display: table-cell;\"></div><div style=\"display: table-cell;\">html_id&nbsp;=&nbsp;None,</div></div><div class=\"p1768\" style=\"display: none;\"><div style=\"display: table-cell;\"></div><div style=\"display: table-cell;\">js_event_callbacks&nbsp;=&nbsp;{},</div></div><div class=\"p1768\" style=\"display: none;\"><div style=\"display: table-cell;\"></div><div style=\"display: table-cell;\">js_property_callbacks&nbsp;=&nbsp;{},</div></div><div class=\"p1768\" style=\"display: none;\"><div style=\"display: table-cell;\"></div><div style=\"display: table-cell;\">margin&nbsp;=&nbsp;None,</div></div><div class=\"p1768\" style=\"display: none;\"><div style=\"display: table-cell;\"></div><div style=\"display: table-cell;\">max_height&nbsp;=&nbsp;None,</div></div><div class=\"p1768\" style=\"display: none;\"><div style=\"display: table-cell;\"></div><div style=\"display: table-cell;\">max_width&nbsp;=&nbsp;None,</div></div><div class=\"p1768\" style=\"display: none;\"><div style=\"display: table-cell;\"></div><div style=\"display: table-cell;\">min_height&nbsp;=&nbsp;None,</div></div><div class=\"p1768\" style=\"display: none;\"><div style=\"display: table-cell;\"></div><div style=\"display: table-cell;\">min_width&nbsp;=&nbsp;None,</div></div><div class=\"p1768\" style=\"display: none;\"><div style=\"display: table-cell;\"></div><div style=\"display: table-cell;\">name&nbsp;=&nbsp;None,</div></div><div class=\"p1768\" style=\"display: none;\"><div style=\"display: table-cell;\"></div><div style=\"display: table-cell;\">resizable&nbsp;=&nbsp;False,</div></div><div class=\"p1768\" style=\"display: none;\"><div style=\"display: table-cell;\"></div><div style=\"display: table-cell;\">rows&nbsp;=&nbsp;None,</div></div><div class=\"p1768\" style=\"display: none;\"><div style=\"display: table-cell;\"></div><div style=\"display: table-cell;\">sizing_mode&nbsp;=&nbsp;'stretch_width',</div></div><div class=\"p1768\" style=\"display: none;\"><div style=\"display: table-cell;\"></div><div style=\"display: table-cell;\">spacing&nbsp;=&nbsp;0,</div></div><div class=\"p1768\" style=\"display: none;\"><div style=\"display: table-cell;\"></div><div style=\"display: table-cell;\">styles&nbsp;=&nbsp;{},</div></div><div class=\"p1768\" style=\"display: none;\"><div style=\"display: table-cell;\"></div><div style=\"display: table-cell;\">stylesheets&nbsp;=&nbsp;[],</div></div><div class=\"p1768\" style=\"display: none;\"><div style=\"display: table-cell;\"></div><div style=\"display: table-cell;\">subscribed_events&nbsp;=&nbsp;PropertyValueSet(),</div></div><div class=\"p1768\" style=\"display: none;\"><div style=\"display: table-cell;\"></div><div style=\"display: table-cell;\">syncable&nbsp;=&nbsp;True,</div></div><div class=\"p1768\" style=\"display: none;\"><div style=\"display: table-cell;\"></div><div style=\"display: table-cell;\">tags&nbsp;=&nbsp;[],</div></div><div class=\"p1768\" style=\"display: none;\"><div style=\"display: table-cell;\"></div><div style=\"display: table-cell;\">toolbar&nbsp;=&nbsp;Toolbar(id='p1736', ...),</div></div><div class=\"p1768\" style=\"display: none;\"><div style=\"display: table-cell;\"></div><div style=\"display: table-cell;\">toolbar_location&nbsp;=&nbsp;'right',</div></div><div class=\"p1768\" style=\"display: none;\"><div style=\"display: table-cell;\"></div><div style=\"display: table-cell;\">visible&nbsp;=&nbsp;True,</div></div><div class=\"p1768\" style=\"display: none;\"><div style=\"display: table-cell;\"></div><div style=\"display: table-cell;\">width&nbsp;=&nbsp;None,</div></div><div class=\"p1768\" style=\"display: none;\"><div style=\"display: table-cell;\"></div><div style=\"display: table-cell;\">width_policy&nbsp;=&nbsp;'auto')</div></div></div>\n",
       "<script>\n",
       "(function() {\n",
       "  let expanded = false;\n",
       "  const ellipsis = document.getElementById(\"p1769\");\n",
       "  ellipsis.addEventListener(\"click\", function() {\n",
       "    const rows = document.getElementsByClassName(\"p1768\");\n",
       "    for (let i = 0; i < rows.length; i++) {\n",
       "      const el = rows[i];\n",
       "      el.style.display = expanded ? \"none\" : \"table-row\";\n",
       "    }\n",
       "    ellipsis.innerHTML = expanded ? \"&hellip;)\" : \"&lsaquo;&lsaquo;&lsaquo;\";\n",
       "    expanded = !expanded;\n",
       "  });\n",
       "})();\n",
       "</script>\n"
      ],
      "text/plain": [
       "GridPlot(id='p1737', ...)"
      ]
     },
     "execution_count": 27,
     "metadata": {},
     "output_type": "execute_result"
    }
   ],
   "source": [
    "bt_oot_fin2.plot()"
   ]
  },
  {
   "cell_type": "code",
   "execution_count": null,
   "id": "5a553f1b-eaa5-413a-a779-c154abfe956a",
   "metadata": {},
   "outputs": [],
   "source": []
  }
 ],
 "metadata": {
  "kernelspec": {
   "display_name": "Python 3 (ipykernel)",
   "language": "python",
   "name": "python3"
  },
  "language_info": {
   "codemirror_mode": {
    "name": "ipython",
    "version": 3
   },
   "file_extension": ".py",
   "mimetype": "text/x-python",
   "name": "python",
   "nbconvert_exporter": "python",
   "pygments_lexer": "ipython3",
   "version": "3.13.7"
  }
 },
 "nbformat": 4,
 "nbformat_minor": 5
}
